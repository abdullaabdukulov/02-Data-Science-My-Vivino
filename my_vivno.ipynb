{
 "cells": [
  {
   "cell_type": "code",
   "execution_count": 1,
   "metadata": {
    "collapsed": false,
    "pycharm": {
     "name": "#%%\n"
    },
    "ExecuteTime": {
     "end_time": "2024-03-01T12:19:48.163155Z",
     "start_time": "2024-03-01T12:19:46.225900Z"
    }
   },
   "outputs": [],
   "source": [
    "import pandas as pd\n",
    "import numpy as np\n",
    "from sklearn.feature_extraction.text import TfidfVectorizer\n",
    "from sklearn.metrics.pairwise import cosine_similarity\n",
    "import warnings\n",
    "import plotly.express as px\n",
    "from PIL import Image\n",
    "import requests\n",
    "from io import BytesIO\n",
    "import matplotlib.pyplot as plt\n",
    "warnings.filterwarnings(\"ignore\")"
   ]
  },
  {
   "cell_type": "code",
   "execution_count": 2,
   "metadata": {
    "collapsed": false,
    "pycharm": {
     "name": "#%%\n"
    },
    "ExecuteTime": {
     "end_time": "2024-03-01T12:19:48.226849Z",
     "start_time": "2024-03-01T12:19:48.164608Z"
    }
   },
   "outputs": [],
   "source": [
    "df = pd.read_csv('wine.csv', index_col=0)"
   ]
  },
  {
   "cell_type": "code",
   "execution_count": 3,
   "metadata": {
    "collapsed": false,
    "pycharm": {
     "name": "#%%\n"
    },
    "ExecuteTime": {
     "end_time": "2024-03-01T12:19:48.244937Z",
     "start_time": "2024-03-01T12:19:48.229406Z"
    }
   },
   "outputs": [
    {
     "name": "stdout",
     "output_type": "stream",
     "text": [
      "Dataset's shape:) (3466, 28)\n",
      "Summary of dataset:\n",
      "<class 'pandas.core.frame.DataFrame'>\n",
      "Index: 3466 entries, https://resources.vino.com/data/offertaFileFile/offertaFileFile-249057.jpg to https://resources.vino.com/data/offertaFileFile/offertaFileFile-254786.jpg\n",
      "Data columns (total 28 columns):\n",
      " #   Column                    Non-Null Count  Dtype  \n",
      "---  ------                    --------------  -----  \n",
      " 0   Price                     3466 non-null   object \n",
      " 1   Vino type                 3466 non-null   object \n",
      " 2   Ageing in barrel          3334 non-null   object \n",
      " 3   Body                      3463 non-null   object \n",
      " 4   Ideal with                3466 non-null   object \n",
      " 5   Aroma                     3466 non-null   object \n",
      " 6   Description               3466 non-null   object \n",
      " 7   full name                 3466 non-null   object \n",
      " 8   appellation               3466 non-null   object \n",
      " 9   vintage                   3466 non-null   float64\n",
      " 10  country                   3466 non-null   object \n",
      " 11  region                    3466 non-null   object \n",
      " 12  grape                     3466 non-null   object \n",
      " 13  format                    3466 non-null   object \n",
      " 14  aromas                    3466 non-null   object \n",
      " 15  alcohol content           3466 non-null   object \n",
      " 16  temperature               3466 non-null   object \n",
      " 17  Sulfites                  3466 non-null   object \n",
      " 18  dosage                    3466 non-null   object \n",
      " 19  ageing                    3466 non-null   object \n",
      " 20  Producer                  3466 non-null   object \n",
      " 21  Municipality of Producer  3466 non-null   object \n",
      " 22  taste                     3466 non-null   object \n",
      " 23  ingredients               3466 non-null   object \n",
      " 24  Allergens                 3466 non-null   object \n",
      " 25  Beer type                 3466 non-null   object \n",
      " 26  fruity                    3466 non-null   object \n",
      " 27  set                       3466 non-null   object \n",
      "dtypes: float64(1), object(27)\n",
      "memory usage: 785.3+ KB\n"
     ]
    }
   ],
   "source": [
    "def summarize(df):\n",
    "    print(\"Dataset's shape:)\", df.shape)\n",
    "    print(\"Summary of dataset:\")\n",
    "    return df.info()\n",
    "summarize(df)"
   ]
  },
  {
   "cell_type": "code",
   "execution_count": 4,
   "metadata": {
    "collapsed": false,
    "ExecuteTime": {
     "end_time": "2024-03-01T12:19:48.249961Z",
     "start_time": "2024-03-01T12:19:48.246366Z"
    }
   },
   "outputs": [],
   "source": [
    "def aroma_filter(ser):\n",
    "    if len(ser) > 8 or ser in ['France', 'Scotland', 'England', 'Italy', 'Peru', 'Haiti', 'Brazil', 'Barbados', 'Mexico', 'Russia', 'Poland', 'Sweden', 'Malty', 'Hoppy' '0']:\n",
    "        return None\n",
    "    else:\n",
    "        return ser"
   ]
  },
  {
   "cell_type": "code",
   "execution_count": 5,
   "metadata": {
    "pycharm": {
     "name": "#%%\n"
    },
    "ExecuteTime": {
     "end_time": "2024-03-01T12:19:49.270464Z",
     "start_time": "2024-03-01T12:19:48.251791Z"
    }
   },
   "outputs": [
    {
     "data": {
      "text/plain": "                                          Vino photo  Price Vino type  \\\n0  https://resources.vino.com/data/offertaFileFil...   35.6       Red   \n1  https://resources.vino.com/data/offertaFileFil...   17.0       Red   \n2  https://resources.vino.com/data/offertaFileFil...   30.8       Red   \n3  https://resources.vino.com/data/offertaFileFil...   13.5       Red   \n4  https://resources.vino.com/data/offertaFileFil...    7.9       Red   \n5  https://resources.vino.com/data/offertaFileFil...    9.9       Red   \n6  https://resources.vino.com/data/offertaFileFil...   24.9       Red   \n7  https://resources.vino.com/data/offertaFileFil...    8.9       Red   \n8  https://resources.vino.com/data/offertaFileFil...    9.5       Red   \n9  https://resources.vino.com/data/offertaFileFil...   16.9       Red   \n\n                                          Ideal with   Aroma  \\\n0                       Aged cheeses. Red meat. Game  Fruity   \n1                 Roasts. Grilled red meat. Red meat  Fruity   \n2               Game. Roasts. Red meat. Aged cheeses  Fruity   \n3                       Red meat. Aged cheeses. Game  Fruity   \n4                    Red meat. Roasts. First courses  Fruity   \n5             Aged cheeses. Roasts. Grilled red meat  Fruity   \n6  First courses. Stews. Meat ragout. Grilled red...   Spicy   \n7      Aged cheeses. Grilled red meat. First courses  Fruity   \n8                  Meat ragout. First courses. Pizza  Fruity   \n9         Roasts. Aged cheeses. First courses. Stews  Floral   \n\n                                         Description  \\\n0  Amarone Costasera Masi hails from the vineyard...   \n1   Biondi Santi's Toscana Rosso Sassoalloro was ...   \n2   The Brunello di Montalcino of Fattoria dei Ba...   \n3  Pinot Noir from Blumenfeld is a typical red wi...   \n4  Nero d'Avola Inessa is produced with 100 Nero ...   \n5  The Toscana IGT La Lallera pays homage to the ...   \n6   Antinori is one of the most illustrious and f...   \n7   A riot of colours that are enhanced in a colo...   \n8  A wine that comes from 100 Barbera grapes. in ...   \n9  The Bolgheri Rosso Campo al Faro was born in t...   \n\n                                           Full name Vintage Country  \\\n0  Amarone della Valpolicella Classico DOCG Costa...    2018   Italy   \n1   Toscana IGT Sassoalloro 2022 Jacopo Biondi Santi    2022   Italy   \n2  Brunello di Montalcino DOCG 2018 Fattoria dei ...    2018   Italy   \n3  Südtirol - Alto Adige DOC Pinot Nero 2022 Blum...    2022   Italy   \n4               Sicilia DOC Nero d'Avola 2022 Inessa    2022   Italy   \n5     Toscana IGT La Lallera 2020 Borgo San Frediano    2020   Italy   \n6  Bolgheri DOC Guado al Tasso Il Bruciato 2022 M...    2022   Italy   \n7  Terre Siciliane IGT Syrah con Leggero Appassim...    2021   Italy   \n8                    Barbera d'Alba DOC 2021 Sabaudo    2021   Italy   \n9              Bolgheri DOC Rosso 2021 Campo al Faro    2021   Italy   \n\n        Region                                       Grape  Format  \\\n0       Veneto      Corvina Veronese. Molinara. Rondinella    0.75   \n1      Tuscany                                  Sangiovese    0.75   \n2      Tuscany                              Sangiovese 100    0.75   \n3  South Tyrol                              Pinot Noir 100    0.75   \n4       Sicily                            Nero d'Avola 100    0.75   \n5      Tuscany    Cabernet Sauvignon. Merlot. Petit Verdot    0.75   \n6      Tuscany  Cabernet Sauvignon 65. Merlot 20. Syrah 15    0.75   \n7       Sicily                                   Syrah 100    0.75   \n8     Piedmont                                 Barbera 100    0.75   \n9      Tuscany  Cabernet Franc. Cabernet Sauvignon. Merlot    0.75   \n\n   Alcohol content  \n0             15.0  \n1             14.0  \n2             14.5  \n3             13.0  \n4             14.5  \n5             14.0  \n6             14.0  \n7             14.0  \n8             14.5  \n9             14.0  ",
      "text/html": "<div>\n<style scoped>\n    .dataframe tbody tr th:only-of-type {\n        vertical-align: middle;\n    }\n\n    .dataframe tbody tr th {\n        vertical-align: top;\n    }\n\n    .dataframe thead th {\n        text-align: right;\n    }\n</style>\n<table border=\"1\" class=\"dataframe\">\n  <thead>\n    <tr style=\"text-align: right;\">\n      <th></th>\n      <th>Vino photo</th>\n      <th>Price</th>\n      <th>Vino type</th>\n      <th>Ideal with</th>\n      <th>Aroma</th>\n      <th>Description</th>\n      <th>Full name</th>\n      <th>Vintage</th>\n      <th>Country</th>\n      <th>Region</th>\n      <th>Grape</th>\n      <th>Format</th>\n      <th>Alcohol content</th>\n    </tr>\n  </thead>\n  <tbody>\n    <tr>\n      <th>0</th>\n      <td>https://resources.vino.com/data/offertaFileFil...</td>\n      <td>35.6</td>\n      <td>Red</td>\n      <td>Aged cheeses. Red meat. Game</td>\n      <td>Fruity</td>\n      <td>Amarone Costasera Masi hails from the vineyard...</td>\n      <td>Amarone della Valpolicella Classico DOCG Costa...</td>\n      <td>2018</td>\n      <td>Italy</td>\n      <td>Veneto</td>\n      <td>Corvina Veronese. Molinara. Rondinella</td>\n      <td>0.75</td>\n      <td>15.0</td>\n    </tr>\n    <tr>\n      <th>1</th>\n      <td>https://resources.vino.com/data/offertaFileFil...</td>\n      <td>17.0</td>\n      <td>Red</td>\n      <td>Roasts. Grilled red meat. Red meat</td>\n      <td>Fruity</td>\n      <td>Biondi Santi's Toscana Rosso Sassoalloro was ...</td>\n      <td>Toscana IGT Sassoalloro 2022 Jacopo Biondi Santi</td>\n      <td>2022</td>\n      <td>Italy</td>\n      <td>Tuscany</td>\n      <td>Sangiovese</td>\n      <td>0.75</td>\n      <td>14.0</td>\n    </tr>\n    <tr>\n      <th>2</th>\n      <td>https://resources.vino.com/data/offertaFileFil...</td>\n      <td>30.8</td>\n      <td>Red</td>\n      <td>Game. Roasts. Red meat. Aged cheeses</td>\n      <td>Fruity</td>\n      <td>The Brunello di Montalcino of Fattoria dei Ba...</td>\n      <td>Brunello di Montalcino DOCG 2018 Fattoria dei ...</td>\n      <td>2018</td>\n      <td>Italy</td>\n      <td>Tuscany</td>\n      <td>Sangiovese 100</td>\n      <td>0.75</td>\n      <td>14.5</td>\n    </tr>\n    <tr>\n      <th>3</th>\n      <td>https://resources.vino.com/data/offertaFileFil...</td>\n      <td>13.5</td>\n      <td>Red</td>\n      <td>Red meat. Aged cheeses. Game</td>\n      <td>Fruity</td>\n      <td>Pinot Noir from Blumenfeld is a typical red wi...</td>\n      <td>Südtirol - Alto Adige DOC Pinot Nero 2022 Blum...</td>\n      <td>2022</td>\n      <td>Italy</td>\n      <td>South Tyrol</td>\n      <td>Pinot Noir 100</td>\n      <td>0.75</td>\n      <td>13.0</td>\n    </tr>\n    <tr>\n      <th>4</th>\n      <td>https://resources.vino.com/data/offertaFileFil...</td>\n      <td>7.9</td>\n      <td>Red</td>\n      <td>Red meat. Roasts. First courses</td>\n      <td>Fruity</td>\n      <td>Nero d'Avola Inessa is produced with 100 Nero ...</td>\n      <td>Sicilia DOC Nero d'Avola 2022 Inessa</td>\n      <td>2022</td>\n      <td>Italy</td>\n      <td>Sicily</td>\n      <td>Nero d'Avola 100</td>\n      <td>0.75</td>\n      <td>14.5</td>\n    </tr>\n    <tr>\n      <th>5</th>\n      <td>https://resources.vino.com/data/offertaFileFil...</td>\n      <td>9.9</td>\n      <td>Red</td>\n      <td>Aged cheeses. Roasts. Grilled red meat</td>\n      <td>Fruity</td>\n      <td>The Toscana IGT La Lallera pays homage to the ...</td>\n      <td>Toscana IGT La Lallera 2020 Borgo San Frediano</td>\n      <td>2020</td>\n      <td>Italy</td>\n      <td>Tuscany</td>\n      <td>Cabernet Sauvignon. Merlot. Petit Verdot</td>\n      <td>0.75</td>\n      <td>14.0</td>\n    </tr>\n    <tr>\n      <th>6</th>\n      <td>https://resources.vino.com/data/offertaFileFil...</td>\n      <td>24.9</td>\n      <td>Red</td>\n      <td>First courses. Stews. Meat ragout. Grilled red...</td>\n      <td>Spicy</td>\n      <td>Antinori is one of the most illustrious and f...</td>\n      <td>Bolgheri DOC Guado al Tasso Il Bruciato 2022 M...</td>\n      <td>2022</td>\n      <td>Italy</td>\n      <td>Tuscany</td>\n      <td>Cabernet Sauvignon 65. Merlot 20. Syrah 15</td>\n      <td>0.75</td>\n      <td>14.0</td>\n    </tr>\n    <tr>\n      <th>7</th>\n      <td>https://resources.vino.com/data/offertaFileFil...</td>\n      <td>8.9</td>\n      <td>Red</td>\n      <td>Aged cheeses. Grilled red meat. First courses</td>\n      <td>Fruity</td>\n      <td>A riot of colours that are enhanced in a colo...</td>\n      <td>Terre Siciliane IGT Syrah con Leggero Appassim...</td>\n      <td>2021</td>\n      <td>Italy</td>\n      <td>Sicily</td>\n      <td>Syrah 100</td>\n      <td>0.75</td>\n      <td>14.0</td>\n    </tr>\n    <tr>\n      <th>8</th>\n      <td>https://resources.vino.com/data/offertaFileFil...</td>\n      <td>9.5</td>\n      <td>Red</td>\n      <td>Meat ragout. First courses. Pizza</td>\n      <td>Fruity</td>\n      <td>A wine that comes from 100 Barbera grapes. in ...</td>\n      <td>Barbera d'Alba DOC 2021 Sabaudo</td>\n      <td>2021</td>\n      <td>Italy</td>\n      <td>Piedmont</td>\n      <td>Barbera 100</td>\n      <td>0.75</td>\n      <td>14.5</td>\n    </tr>\n    <tr>\n      <th>9</th>\n      <td>https://resources.vino.com/data/offertaFileFil...</td>\n      <td>16.9</td>\n      <td>Red</td>\n      <td>Roasts. Aged cheeses. First courses. Stews</td>\n      <td>Floral</td>\n      <td>The Bolgheri Rosso Campo al Faro was born in t...</td>\n      <td>Bolgheri DOC Rosso 2021 Campo al Faro</td>\n      <td>2021</td>\n      <td>Italy</td>\n      <td>Tuscany</td>\n      <td>Cabernet Franc. Cabernet Sauvignon. Merlot</td>\n      <td>0.75</td>\n      <td>14.0</td>\n    </tr>\n  </tbody>\n</table>\n</div>"
     },
     "execution_count": 5,
     "metadata": {},
     "output_type": "execute_result"
    }
   ],
   "source": [
    "def data_cleaning(df=df):\n",
    "    df.drop_duplicates(inplace=True)\n",
    "    filter = {'\\n': '', 'None': np.NAN, '%': '', '℃': '', '()': '', ',': '.'}\n",
    "    df.replace(filter, regex=True, inplace=True)\n",
    "    df['Price'].replace(to_replace='€', value='', regex=True, inplace=True)\n",
    "    df['Price'] = df['Price']\n",
    "    df.drop(['aromas', 'temperature', 'Ageing in barrel', 'Body', 'appellation', 'Sulfites', 'dosage ', 'Producer', 'Municipality of Producer', 'ageing',\n",
    "       'taste', 'ingredients', 'Allergens', 'Beer type', 'fruity', 'set'], axis=1, inplace=True)\n",
    "  \n",
    "    df['Price'] = df['Price'].astype(float)\n",
    "    df['vintage'] = df['vintage'].astype(int).replace(0, None)\n",
    "    df['format'] = df['format'].replace({'L': ''}, regex=True).astype(float)\n",
    "    df['alcohol content'] = df['alcohol content'].astype(float)\n",
    "    df['Aroma'] = df['Aroma'].apply(aroma_filter).replace('0', None)\n",
    "    df.rename(str.capitalize, axis='columns', inplace=True)\n",
    "    df.dropna(inplace=True)\n",
    "\n",
    "    return df.reset_index()\n",
    "\n",
    "df = data_cleaning()\n",
    "df.head(10)"
   ]
  },
  {
   "cell_type": "markdown",
   "metadata": {
    "collapsed": false
   },
   "source": [
    "# Visualising"
   ]
  },
  {
   "cell_type": "code",
   "execution_count": 15,
   "metadata": {
    "ExecuteTime": {
     "end_time": "2024-03-01T11:04:55.974665Z",
     "start_time": "2024-03-01T11:04:55.594109Z"
    },
    "collapsed": false
   },
   "outputs": [
    {
     "data": {
      "application/vnd.plotly.v1+json": {
       "config": {
        "plotlyServerURL": "https://plot.ly"
       },
       "data": [
        {
         "alignmentgroup": "True",
         "hovertemplate": "x=%{x}<br>Full name=%{y}<extra></extra>",
         "legendgroup": "",
         "marker": {
          "color": "#636efa",
          "pattern": {
           "shape": ""
          }
         },
         "name": "",
         "offsetgroup": "",
         "orientation": "h",
         "showlegend": false,
         "textposition": "auto",
         "texttemplate": "%{x}",
         "type": "bar",
         "x": [
          300,
          314,
          318,
          320,
          323,
          326,
          340,
          376,
          426,
          444
         ],
         "xaxis": "x",
         "y": [
          "Champagne AOC Brut Millesimé Cristal 2015 Louis Roederer",
          "Sauternes AOC 1er Grand Cru 2016 Château d'Yquem",
          "Barolo DOCG Rocche dell'Annunziata 2018 Roberto Voerzio",
          "Bolgheri DOC Sassicaia 2020 Tenuta San Guido",
          "Grands Echézeaux  AOC Grand Cru 2018 Louis Jadot",
          "Champagne AOC Brut Rosé Dom 2009 Ruinart",
          "Corton-Charlemagne AOC Grand Cru 2021 Vincent Girardin",
          "Saint-Émilion AOC 1er Grand Cru Classé B 2016 Château Figeac",
          "Champagne Brut Rosé AOC Vintage 2008 Dom Pérignon",
          "Sauternes AOC 1er Cru Classé Supérieur 2018 Château d'Yquem"
         ],
         "yaxis": "y"
        }
       ],
       "layout": {
        "barmode": "relative",
        "height": 600,
        "legend": {
         "tracegroupgap": 0
        },
        "margin": {
         "t": 60
        },
        "template": {
         "data": {
          "bar": [
           {
            "error_x": {
             "color": "#2a3f5f"
            },
            "error_y": {
             "color": "#2a3f5f"
            },
            "marker": {
             "line": {
              "color": "#E5ECF6",
              "width": 0.5
             },
             "pattern": {
              "fillmode": "overlay",
              "size": 10,
              "solidity": 0.2
             }
            },
            "type": "bar"
           }
          ],
          "barpolar": [
           {
            "marker": {
             "line": {
              "color": "#E5ECF6",
              "width": 0.5
             },
             "pattern": {
              "fillmode": "overlay",
              "size": 10,
              "solidity": 0.2
             }
            },
            "type": "barpolar"
           }
          ],
          "carpet": [
           {
            "aaxis": {
             "endlinecolor": "#2a3f5f",
             "gridcolor": "white",
             "linecolor": "white",
             "minorgridcolor": "white",
             "startlinecolor": "#2a3f5f"
            },
            "baxis": {
             "endlinecolor": "#2a3f5f",
             "gridcolor": "white",
             "linecolor": "white",
             "minorgridcolor": "white",
             "startlinecolor": "#2a3f5f"
            },
            "type": "carpet"
           }
          ],
          "choropleth": [
           {
            "colorbar": {
             "outlinewidth": 0,
             "ticks": ""
            },
            "type": "choropleth"
           }
          ],
          "contour": [
           {
            "colorbar": {
             "outlinewidth": 0,
             "ticks": ""
            },
            "colorscale": [
             [
              0,
              "#0d0887"
             ],
             [
              0.1111111111111111,
              "#46039f"
             ],
             [
              0.2222222222222222,
              "#7201a8"
             ],
             [
              0.3333333333333333,
              "#9c179e"
             ],
             [
              0.4444444444444444,
              "#bd3786"
             ],
             [
              0.5555555555555556,
              "#d8576b"
             ],
             [
              0.6666666666666666,
              "#ed7953"
             ],
             [
              0.7777777777777778,
              "#fb9f3a"
             ],
             [
              0.8888888888888888,
              "#fdca26"
             ],
             [
              1,
              "#f0f921"
             ]
            ],
            "type": "contour"
           }
          ],
          "contourcarpet": [
           {
            "colorbar": {
             "outlinewidth": 0,
             "ticks": ""
            },
            "type": "contourcarpet"
           }
          ],
          "heatmap": [
           {
            "colorbar": {
             "outlinewidth": 0,
             "ticks": ""
            },
            "colorscale": [
             [
              0,
              "#0d0887"
             ],
             [
              0.1111111111111111,
              "#46039f"
             ],
             [
              0.2222222222222222,
              "#7201a8"
             ],
             [
              0.3333333333333333,
              "#9c179e"
             ],
             [
              0.4444444444444444,
              "#bd3786"
             ],
             [
              0.5555555555555556,
              "#d8576b"
             ],
             [
              0.6666666666666666,
              "#ed7953"
             ],
             [
              0.7777777777777778,
              "#fb9f3a"
             ],
             [
              0.8888888888888888,
              "#fdca26"
             ],
             [
              1,
              "#f0f921"
             ]
            ],
            "type": "heatmap"
           }
          ],
          "heatmapgl": [
           {
            "colorbar": {
             "outlinewidth": 0,
             "ticks": ""
            },
            "colorscale": [
             [
              0,
              "#0d0887"
             ],
             [
              0.1111111111111111,
              "#46039f"
             ],
             [
              0.2222222222222222,
              "#7201a8"
             ],
             [
              0.3333333333333333,
              "#9c179e"
             ],
             [
              0.4444444444444444,
              "#bd3786"
             ],
             [
              0.5555555555555556,
              "#d8576b"
             ],
             [
              0.6666666666666666,
              "#ed7953"
             ],
             [
              0.7777777777777778,
              "#fb9f3a"
             ],
             [
              0.8888888888888888,
              "#fdca26"
             ],
             [
              1,
              "#f0f921"
             ]
            ],
            "type": "heatmapgl"
           }
          ],
          "histogram": [
           {
            "marker": {
             "pattern": {
              "fillmode": "overlay",
              "size": 10,
              "solidity": 0.2
             }
            },
            "type": "histogram"
           }
          ],
          "histogram2d": [
           {
            "colorbar": {
             "outlinewidth": 0,
             "ticks": ""
            },
            "colorscale": [
             [
              0,
              "#0d0887"
             ],
             [
              0.1111111111111111,
              "#46039f"
             ],
             [
              0.2222222222222222,
              "#7201a8"
             ],
             [
              0.3333333333333333,
              "#9c179e"
             ],
             [
              0.4444444444444444,
              "#bd3786"
             ],
             [
              0.5555555555555556,
              "#d8576b"
             ],
             [
              0.6666666666666666,
              "#ed7953"
             ],
             [
              0.7777777777777778,
              "#fb9f3a"
             ],
             [
              0.8888888888888888,
              "#fdca26"
             ],
             [
              1,
              "#f0f921"
             ]
            ],
            "type": "histogram2d"
           }
          ],
          "histogram2dcontour": [
           {
            "colorbar": {
             "outlinewidth": 0,
             "ticks": ""
            },
            "colorscale": [
             [
              0,
              "#0d0887"
             ],
             [
              0.1111111111111111,
              "#46039f"
             ],
             [
              0.2222222222222222,
              "#7201a8"
             ],
             [
              0.3333333333333333,
              "#9c179e"
             ],
             [
              0.4444444444444444,
              "#bd3786"
             ],
             [
              0.5555555555555556,
              "#d8576b"
             ],
             [
              0.6666666666666666,
              "#ed7953"
             ],
             [
              0.7777777777777778,
              "#fb9f3a"
             ],
             [
              0.8888888888888888,
              "#fdca26"
             ],
             [
              1,
              "#f0f921"
             ]
            ],
            "type": "histogram2dcontour"
           }
          ],
          "mesh3d": [
           {
            "colorbar": {
             "outlinewidth": 0,
             "ticks": ""
            },
            "type": "mesh3d"
           }
          ],
          "parcoords": [
           {
            "line": {
             "colorbar": {
              "outlinewidth": 0,
              "ticks": ""
             }
            },
            "type": "parcoords"
           }
          ],
          "pie": [
           {
            "automargin": true,
            "type": "pie"
           }
          ],
          "scatter": [
           {
            "fillpattern": {
             "fillmode": "overlay",
             "size": 10,
             "solidity": 0.2
            },
            "type": "scatter"
           }
          ],
          "scatter3d": [
           {
            "line": {
             "colorbar": {
              "outlinewidth": 0,
              "ticks": ""
             }
            },
            "marker": {
             "colorbar": {
              "outlinewidth": 0,
              "ticks": ""
             }
            },
            "type": "scatter3d"
           }
          ],
          "scattercarpet": [
           {
            "marker": {
             "colorbar": {
              "outlinewidth": 0,
              "ticks": ""
             }
            },
            "type": "scattercarpet"
           }
          ],
          "scattergeo": [
           {
            "marker": {
             "colorbar": {
              "outlinewidth": 0,
              "ticks": ""
             }
            },
            "type": "scattergeo"
           }
          ],
          "scattergl": [
           {
            "marker": {
             "colorbar": {
              "outlinewidth": 0,
              "ticks": ""
             }
            },
            "type": "scattergl"
           }
          ],
          "scattermapbox": [
           {
            "marker": {
             "colorbar": {
              "outlinewidth": 0,
              "ticks": ""
             }
            },
            "type": "scattermapbox"
           }
          ],
          "scatterpolar": [
           {
            "marker": {
             "colorbar": {
              "outlinewidth": 0,
              "ticks": ""
             }
            },
            "type": "scatterpolar"
           }
          ],
          "scatterpolargl": [
           {
            "marker": {
             "colorbar": {
              "outlinewidth": 0,
              "ticks": ""
             }
            },
            "type": "scatterpolargl"
           }
          ],
          "scatterternary": [
           {
            "marker": {
             "colorbar": {
              "outlinewidth": 0,
              "ticks": ""
             }
            },
            "type": "scatterternary"
           }
          ],
          "surface": [
           {
            "colorbar": {
             "outlinewidth": 0,
             "ticks": ""
            },
            "colorscale": [
             [
              0,
              "#0d0887"
             ],
             [
              0.1111111111111111,
              "#46039f"
             ],
             [
              0.2222222222222222,
              "#7201a8"
             ],
             [
              0.3333333333333333,
              "#9c179e"
             ],
             [
              0.4444444444444444,
              "#bd3786"
             ],
             [
              0.5555555555555556,
              "#d8576b"
             ],
             [
              0.6666666666666666,
              "#ed7953"
             ],
             [
              0.7777777777777778,
              "#fb9f3a"
             ],
             [
              0.8888888888888888,
              "#fdca26"
             ],
             [
              1,
              "#f0f921"
             ]
            ],
            "type": "surface"
           }
          ],
          "table": [
           {
            "cells": {
             "fill": {
              "color": "#EBF0F8"
             },
             "line": {
              "color": "white"
             }
            },
            "header": {
             "fill": {
              "color": "#C8D4E3"
             },
             "line": {
              "color": "white"
             }
            },
            "type": "table"
           }
          ]
         },
         "layout": {
          "annotationdefaults": {
           "arrowcolor": "#2a3f5f",
           "arrowhead": 0,
           "arrowwidth": 1
          },
          "autotypenumbers": "strict",
          "coloraxis": {
           "colorbar": {
            "outlinewidth": 0,
            "ticks": ""
           }
          },
          "colorscale": {
           "diverging": [
            [
             0,
             "#8e0152"
            ],
            [
             0.1,
             "#c51b7d"
            ],
            [
             0.2,
             "#de77ae"
            ],
            [
             0.3,
             "#f1b6da"
            ],
            [
             0.4,
             "#fde0ef"
            ],
            [
             0.5,
             "#f7f7f7"
            ],
            [
             0.6,
             "#e6f5d0"
            ],
            [
             0.7,
             "#b8e186"
            ],
            [
             0.8,
             "#7fbc41"
            ],
            [
             0.9,
             "#4d9221"
            ],
            [
             1,
             "#276419"
            ]
           ],
           "sequential": [
            [
             0,
             "#0d0887"
            ],
            [
             0.1111111111111111,
             "#46039f"
            ],
            [
             0.2222222222222222,
             "#7201a8"
            ],
            [
             0.3333333333333333,
             "#9c179e"
            ],
            [
             0.4444444444444444,
             "#bd3786"
            ],
            [
             0.5555555555555556,
             "#d8576b"
            ],
            [
             0.6666666666666666,
             "#ed7953"
            ],
            [
             0.7777777777777778,
             "#fb9f3a"
            ],
            [
             0.8888888888888888,
             "#fdca26"
            ],
            [
             1,
             "#f0f921"
            ]
           ],
           "sequentialminus": [
            [
             0,
             "#0d0887"
            ],
            [
             0.1111111111111111,
             "#46039f"
            ],
            [
             0.2222222222222222,
             "#7201a8"
            ],
            [
             0.3333333333333333,
             "#9c179e"
            ],
            [
             0.4444444444444444,
             "#bd3786"
            ],
            [
             0.5555555555555556,
             "#d8576b"
            ],
            [
             0.6666666666666666,
             "#ed7953"
            ],
            [
             0.7777777777777778,
             "#fb9f3a"
            ],
            [
             0.8888888888888888,
             "#fdca26"
            ],
            [
             1,
             "#f0f921"
            ]
           ]
          },
          "colorway": [
           "#636efa",
           "#EF553B",
           "#00cc96",
           "#ab63fa",
           "#FFA15A",
           "#19d3f3",
           "#FF6692",
           "#B6E880",
           "#FF97FF",
           "#FECB52"
          ],
          "font": {
           "color": "#2a3f5f"
          },
          "geo": {
           "bgcolor": "white",
           "lakecolor": "white",
           "landcolor": "#E5ECF6",
           "showlakes": true,
           "showland": true,
           "subunitcolor": "white"
          },
          "hoverlabel": {
           "align": "left"
          },
          "hovermode": "closest",
          "mapbox": {
           "style": "light"
          },
          "paper_bgcolor": "white",
          "plot_bgcolor": "#E5ECF6",
          "polar": {
           "angularaxis": {
            "gridcolor": "white",
            "linecolor": "white",
            "ticks": ""
           },
           "bgcolor": "#E5ECF6",
           "radialaxis": {
            "gridcolor": "white",
            "linecolor": "white",
            "ticks": ""
           }
          },
          "scene": {
           "xaxis": {
            "backgroundcolor": "#E5ECF6",
            "gridcolor": "white",
            "gridwidth": 2,
            "linecolor": "white",
            "showbackground": true,
            "ticks": "",
            "zerolinecolor": "white"
           },
           "yaxis": {
            "backgroundcolor": "#E5ECF6",
            "gridcolor": "white",
            "gridwidth": 2,
            "linecolor": "white",
            "showbackground": true,
            "ticks": "",
            "zerolinecolor": "white"
           },
           "zaxis": {
            "backgroundcolor": "#E5ECF6",
            "gridcolor": "white",
            "gridwidth": 2,
            "linecolor": "white",
            "showbackground": true,
            "ticks": "",
            "zerolinecolor": "white"
           }
          },
          "shapedefaults": {
           "line": {
            "color": "#2a3f5f"
           }
          },
          "ternary": {
           "aaxis": {
            "gridcolor": "white",
            "linecolor": "white",
            "ticks": ""
           },
           "baxis": {
            "gridcolor": "white",
            "linecolor": "white",
            "ticks": ""
           },
           "bgcolor": "#E5ECF6",
           "caxis": {
            "gridcolor": "white",
            "linecolor": "white",
            "ticks": ""
           }
          },
          "title": {
           "x": 0.05
          },
          "xaxis": {
           "automargin": true,
           "gridcolor": "white",
           "linecolor": "white",
           "ticks": "",
           "title": {
            "standoff": 15
           },
           "zerolinecolor": "white",
           "zerolinewidth": 2
          },
          "yaxis": {
           "automargin": true,
           "gridcolor": "white",
           "linecolor": "white",
           "ticks": "",
           "title": {
            "standoff": 15
           },
           "zerolinecolor": "white",
           "zerolinewidth": 2
          }
         }
        },
        "width": 600,
        "xaxis": {
         "anchor": "y",
         "autorange": true,
         "domain": [
          0,
          1
         ],
         "range": [
          0,
          467.36842105263156
         ],
         "title": {
          "text": "x"
         },
         "type": "linear"
        },
        "yaxis": {
         "anchor": "x",
         "autorange": true,
         "domain": [
          0,
          1
         ],
         "range": [
          -0.5,
          9.5
         ],
         "title": {
          "text": "Full name"
         },
         "type": "category"
        }
       }
      },
      "image/png": "[encoded data removed]",
      "text/html": [
       "<div>                            <div id=\"9bcffdb5-3711-4e73-8556-632f0db45ee5\" class=\"plotly-graph-div\" style=\"height:600px; width:600px;\"></div>            <script type=\"text/javascript\">                require([\"plotly\"], function(Plotly) {                    window.PLOTLYENV=window.PLOTLYENV || {};                                    if (document.getElementById(\"9bcffdb5-3711-4e73-8556-632f0db45ee5\")) {                    Plotly.newPlot(                        \"9bcffdb5-3711-4e73-8556-632f0db45ee5\",                        [{\"alignmentgroup\":\"True\",\"hovertemplate\":\"x=%{x}\\u003cbr\\u003eFull name=%{y}\\u003cextra\\u003e\\u003c\\u002fextra\\u003e\",\"legendgroup\":\"\",\"marker\":{\"color\":\"#636efa\",\"pattern\":{\"shape\":\"\"}},\"name\":\"\",\"offsetgroup\":\"\",\"orientation\":\"h\",\"showlegend\":false,\"textposition\":\"auto\",\"texttemplate\":\"%{x}\",\"x\":[300.0,314.0,318.0,320.0,323.0,326.0,340.0,376.0,426.0,444.0],\"xaxis\":\"x\",\"y\":[\"Champagne AOC Brut Millesim\\u00e9 Cristal 2015 Louis Roederer\",\"Sauternes AOC 1er Grand Cru 2016 Ch\\u00e2teau d'Yquem\",\"Barolo DOCG Rocche dell'Annunziata 2018 Roberto Voerzio\",\"Bolgheri DOC Sassicaia 2020 Tenuta San Guido\",\"Grands Ech\\u00e9zeaux  AOC Grand Cru 2018 Louis Jadot\",\"Champagne AOC Brut Ros\\u00e9 Dom 2009 Ruinart\",\"Corton-Charlemagne AOC Grand Cru 2021 Vincent Girardin\",\"Saint-\\u00c9milion AOC 1er Grand Cru Class\\u00e9 B 2016 Ch\\u00e2teau Figeac\",\"Champagne Brut Ros\\u00e9 AOC Vintage 2008 Dom P\\u00e9rignon\",\"Sauternes AOC 1er Cru Class\\u00e9 Sup\\u00e9rieur 2018 Ch\\u00e2teau d'Yquem\"],\"yaxis\":\"y\",\"type\":\"bar\"}],                        {\"template\":{\"data\":{\"histogram2dcontour\":[{\"type\":\"histogram2dcontour\",\"colorbar\":{\"outlinewidth\":0,\"ticks\":\"\"},\"colorscale\":[[0.0,\"#0d0887\"],[0.1111111111111111,\"#46039f\"],[0.2222222222222222,\"#7201a8\"],[0.3333333333333333,\"#9c179e\"],[0.4444444444444444,\"#bd3786\"],[0.5555555555555556,\"#d8576b\"],[0.6666666666666666,\"#ed7953\"],[0.7777777777777778,\"#fb9f3a\"],[0.8888888888888888,\"#fdca26\"],[1.0,\"#f0f921\"]]}],\"choropleth\":[{\"type\":\"choropleth\",\"colorbar\":{\"outlinewidth\":0,\"ticks\":\"\"}}],\"histogram2d\":[{\"type\":\"histogram2d\",\"colorbar\":{\"outlinewidth\":0,\"ticks\":\"\"},\"colorscale\":[[0.0,\"#0d0887\"],[0.1111111111111111,\"#46039f\"],[0.2222222222222222,\"#7201a8\"],[0.3333333333333333,\"#9c179e\"],[0.4444444444444444,\"#bd3786\"],[0.5555555555555556,\"#d8576b\"],[0.6666666666666666,\"#ed7953\"],[0.7777777777777778,\"#fb9f3a\"],[0.8888888888888888,\"#fdca26\"],[1.0,\"#f0f921\"]]}],\"heatmap\":[{\"type\":\"heatmap\",\"colorbar\":{\"outlinewidth\":0,\"ticks\":\"\"},\"colorscale\":[[0.0,\"#0d0887\"],[0.1111111111111111,\"#46039f\"],[0.2222222222222222,\"#7201a8\"],[0.3333333333333333,\"#9c179e\"],[0.4444444444444444,\"#bd3786\"],[0.5555555555555556,\"#d8576b\"],[0.6666666666666666,\"#ed7953\"],[0.7777777777777778,\"#fb9f3a\"],[0.8888888888888888,\"#fdca26\"],[1.0,\"#f0f921\"]]}],\"heatmapgl\":[{\"type\":\"heatmapgl\",\"colorbar\":{\"outlinewidth\":0,\"ticks\":\"\"},\"colorscale\":[[0.0,\"#0d0887\"],[0.1111111111111111,\"#46039f\"],[0.2222222222222222,\"#7201a8\"],[0.3333333333333333,\"#9c179e\"],[0.4444444444444444,\"#bd3786\"],[0.5555555555555556,\"#d8576b\"],[0.6666666666666666,\"#ed7953\"],[0.7777777777777778,\"#fb9f3a\"],[0.8888888888888888,\"#fdca26\"],[1.0,\"#f0f921\"]]}],\"contourcarpet\":[{\"type\":\"contourcarpet\",\"colorbar\":{\"outlinewidth\":0,\"ticks\":\"\"}}],\"contour\":[{\"type\":\"contour\",\"colorbar\":{\"outlinewidth\":0,\"ticks\":\"\"},\"colorscale\":[[0.0,\"#0d0887\"],[0.1111111111111111,\"#46039f\"],[0.2222222222222222,\"#7201a8\"],[0.3333333333333333,\"#9c179e\"],[0.4444444444444444,\"#bd3786\"],[0.5555555555555556,\"#d8576b\"],[0.6666666666666666,\"#ed7953\"],[0.7777777777777778,\"#fb9f3a\"],[0.8888888888888888,\"#fdca26\"],[1.0,\"#f0f921\"]]}],\"surface\":[{\"type\":\"surface\",\"colorbar\":{\"outlinewidth\":0,\"ticks\":\"\"},\"colorscale\":[[0.0,\"#0d0887\"],[0.1111111111111111,\"#46039f\"],[0.2222222222222222,\"#7201a8\"],[0.3333333333333333,\"#9c179e\"],[0.4444444444444444,\"#bd3786\"],[0.5555555555555556,\"#d8576b\"],[0.6666666666666666,\"#ed7953\"],[0.7777777777777778,\"#fb9f3a\"],[0.8888888888888888,\"#fdca26\"],[1.0,\"#f0f921\"]]}],\"mesh3d\":[{\"type\":\"mesh3d\",\"colorbar\":{\"outlinewidth\":0,\"ticks\":\"\"}}],\"scatter\":[{\"fillpattern\":{\"fillmode\":\"overlay\",\"size\":10,\"solidity\":0.2},\"type\":\"scatter\"}],\"parcoords\":[{\"type\":\"parcoords\",\"line\":{\"colorbar\":{\"outlinewidth\":0,\"ticks\":\"\"}}}],\"scatterpolargl\":[{\"type\":\"scatterpolargl\",\"marker\":{\"colorbar\":{\"outlinewidth\":0,\"ticks\":\"\"}}}],\"bar\":[{\"error_x\":{\"color\":\"#2a3f5f\"},\"error_y\":{\"color\":\"#2a3f5f\"},\"marker\":{\"line\":{\"color\":\"#E5ECF6\",\"width\":0.5},\"pattern\":{\"fillmode\":\"overlay\",\"size\":10,\"solidity\":0.2}},\"type\":\"bar\"}],\"scattergeo\":[{\"type\":\"scattergeo\",\"marker\":{\"colorbar\":{\"outlinewidth\":0,\"ticks\":\"\"}}}],\"scatterpolar\":[{\"type\":\"scatterpolar\",\"marker\":{\"colorbar\":{\"outlinewidth\":0,\"ticks\":\"\"}}}],\"histogram\":[{\"marker\":{\"pattern\":{\"fillmode\":\"overlay\",\"size\":10,\"solidity\":0.2}},\"type\":\"histogram\"}],\"scattergl\":[{\"type\":\"scattergl\",\"marker\":{\"colorbar\":{\"outlinewidth\":0,\"ticks\":\"\"}}}],\"scatter3d\":[{\"type\":\"scatter3d\",\"line\":{\"colorbar\":{\"outlinewidth\":0,\"ticks\":\"\"}},\"marker\":{\"colorbar\":{\"outlinewidth\":0,\"ticks\":\"\"}}}],\"scattermapbox\":[{\"type\":\"scattermapbox\",\"marker\":{\"colorbar\":{\"outlinewidth\":0,\"ticks\":\"\"}}}],\"scatterternary\":[{\"type\":\"scatterternary\",\"marker\":{\"colorbar\":{\"outlinewidth\":0,\"ticks\":\"\"}}}],\"scattercarpet\":[{\"type\":\"scattercarpet\",\"marker\":{\"colorbar\":{\"outlinewidth\":0,\"ticks\":\"\"}}}],\"carpet\":[{\"aaxis\":{\"endlinecolor\":\"#2a3f5f\",\"gridcolor\":\"white\",\"linecolor\":\"white\",\"minorgridcolor\":\"white\",\"startlinecolor\":\"#2a3f5f\"},\"baxis\":{\"endlinecolor\":\"#2a3f5f\",\"gridcolor\":\"white\",\"linecolor\":\"white\",\"minorgridcolor\":\"white\",\"startlinecolor\":\"#2a3f5f\"},\"type\":\"carpet\"}],\"table\":[{\"cells\":{\"fill\":{\"color\":\"#EBF0F8\"},\"line\":{\"color\":\"white\"}},\"header\":{\"fill\":{\"color\":\"#C8D4E3\"},\"line\":{\"color\":\"white\"}},\"type\":\"table\"}],\"barpolar\":[{\"marker\":{\"line\":{\"color\":\"#E5ECF6\",\"width\":0.5},\"pattern\":{\"fillmode\":\"overlay\",\"size\":10,\"solidity\":0.2}},\"type\":\"barpolar\"}],\"pie\":[{\"automargin\":true,\"type\":\"pie\"}]},\"layout\":{\"autotypenumbers\":\"strict\",\"colorway\":[\"#636efa\",\"#EF553B\",\"#00cc96\",\"#ab63fa\",\"#FFA15A\",\"#19d3f3\",\"#FF6692\",\"#B6E880\",\"#FF97FF\",\"#FECB52\"],\"font\":{\"color\":\"#2a3f5f\"},\"hovermode\":\"closest\",\"hoverlabel\":{\"align\":\"left\"},\"paper_bgcolor\":\"white\",\"plot_bgcolor\":\"#E5ECF6\",\"polar\":{\"bgcolor\":\"#E5ECF6\",\"angularaxis\":{\"gridcolor\":\"white\",\"linecolor\":\"white\",\"ticks\":\"\"},\"radialaxis\":{\"gridcolor\":\"white\",\"linecolor\":\"white\",\"ticks\":\"\"}},\"ternary\":{\"bgcolor\":\"#E5ECF6\",\"aaxis\":{\"gridcolor\":\"white\",\"linecolor\":\"white\",\"ticks\":\"\"},\"baxis\":{\"gridcolor\":\"white\",\"linecolor\":\"white\",\"ticks\":\"\"},\"caxis\":{\"gridcolor\":\"white\",\"linecolor\":\"white\",\"ticks\":\"\"}},\"coloraxis\":{\"colorbar\":{\"outlinewidth\":0,\"ticks\":\"\"}},\"colorscale\":{\"sequential\":[[0.0,\"#0d0887\"],[0.1111111111111111,\"#46039f\"],[0.2222222222222222,\"#7201a8\"],[0.3333333333333333,\"#9c179e\"],[0.4444444444444444,\"#bd3786\"],[0.5555555555555556,\"#d8576b\"],[0.6666666666666666,\"#ed7953\"],[0.7777777777777778,\"#fb9f3a\"],[0.8888888888888888,\"#fdca26\"],[1.0,\"#f0f921\"]],\"sequentialminus\":[[0.0,\"#0d0887\"],[0.1111111111111111,\"#46039f\"],[0.2222222222222222,\"#7201a8\"],[0.3333333333333333,\"#9c179e\"],[0.4444444444444444,\"#bd3786\"],[0.5555555555555556,\"#d8576b\"],[0.6666666666666666,\"#ed7953\"],[0.7777777777777778,\"#fb9f3a\"],[0.8888888888888888,\"#fdca26\"],[1.0,\"#f0f921\"]],\"diverging\":[[0,\"#8e0152\"],[0.1,\"#c51b7d\"],[0.2,\"#de77ae\"],[0.3,\"#f1b6da\"],[0.4,\"#fde0ef\"],[0.5,\"#f7f7f7\"],[0.6,\"#e6f5d0\"],[0.7,\"#b8e186\"],[0.8,\"#7fbc41\"],[0.9,\"#4d9221\"],[1,\"#276419\"]]},\"xaxis\":{\"gridcolor\":\"white\",\"linecolor\":\"white\",\"ticks\":\"\",\"title\":{\"standoff\":15},\"zerolinecolor\":\"white\",\"automargin\":true,\"zerolinewidth\":2},\"yaxis\":{\"gridcolor\":\"white\",\"linecolor\":\"white\",\"ticks\":\"\",\"title\":{\"standoff\":15},\"zerolinecolor\":\"white\",\"automargin\":true,\"zerolinewidth\":2},\"scene\":{\"xaxis\":{\"backgroundcolor\":\"#E5ECF6\",\"gridcolor\":\"white\",\"linecolor\":\"white\",\"showbackground\":true,\"ticks\":\"\",\"zerolinecolor\":\"white\",\"gridwidth\":2},\"yaxis\":{\"backgroundcolor\":\"#E5ECF6\",\"gridcolor\":\"white\",\"linecolor\":\"white\",\"showbackground\":true,\"ticks\":\"\",\"zerolinecolor\":\"white\",\"gridwidth\":2},\"zaxis\":{\"backgroundcolor\":\"#E5ECF6\",\"gridcolor\":\"white\",\"linecolor\":\"white\",\"showbackground\":true,\"ticks\":\"\",\"zerolinecolor\":\"white\",\"gridwidth\":2}},\"shapedefaults\":{\"line\":{\"color\":\"#2a3f5f\"}},\"annotationdefaults\":{\"arrowcolor\":\"#2a3f5f\",\"arrowhead\":0,\"arrowwidth\":1},\"geo\":{\"bgcolor\":\"white\",\"landcolor\":\"#E5ECF6\",\"subunitcolor\":\"white\",\"showland\":true,\"showlakes\":true,\"lakecolor\":\"white\"},\"title\":{\"x\":0.05},\"mapbox\":{\"style\":\"light\"}}},\"xaxis\":{\"anchor\":\"y\",\"domain\":[0.0,1.0],\"title\":{\"text\":\"x\"}},\"yaxis\":{\"anchor\":\"x\",\"domain\":[0.0,1.0],\"title\":{\"text\":\"Full name\"}},\"legend\":{\"tracegroupgap\":0},\"margin\":{\"t\":60},\"barmode\":\"relative\",\"width\":600,\"height\":600},                        {\"responsive\": true}                    ).then(function(){\n",
       "                            \n",
       "var gd = document.getElementById('9bcffdb5-3711-4e73-8556-632f0db45ee5');\n",
       "var x = new MutationObserver(function (mutations, observer) {{\n",
       "        var display = window.getComputedStyle(gd).display;\n",
       "        if (!display || display === 'none') {{\n",
       "            console.log([gd, 'removed!']);\n",
       "            Plotly.purge(gd);\n",
       "            observer.disconnect();\n",
       "        }}\n",
       "}});\n",
       "\n",
       "// Listen for the removal of the full notebook cells\n",
       "var notebookContainer = gd.closest('#notebook-container');\n",
       "if (notebookContainer) {{\n",
       "    x.observe(notebookContainer, {childList: true});\n",
       "}}\n",
       "\n",
       "// Listen for the clearing of the current output cell\n",
       "var outputEl = gd.closest('.output');\n",
       "if (outputEl) {{\n",
       "    x.observe(outputEl, {childList: true});\n",
       "}}\n",
       "\n",
       "                        })                };                });            </script>        </div>"
      ]
     },
     "metadata": {},
     "output_type": "display_data"
    }
   ],
   "source": [
    "def most_exp(df=df, n=10):\n",
    "    '''The most expensive wines'''\n",
    "    df2 = df.groupby('Full name')['Price'].max().sort_values(ascending=False).head(n).sort_values()\n",
    "    fig = px.bar(df2, y=df2.index, x=df2.values, text_auto=True)\n",
    "    fig.update_layout(width=600, height=600).show()\n",
    "most_exp()"
   ]
  },
  {
   "cell_type": "code",
   "execution_count": 9,
   "metadata": {
    "collapsed": false
   },
   "outputs": [
    {
     "data": {
      "application/vnd.plotly.v1+json": {
       "config": {
        "plotlyServerURL": "https://plot.ly"
       },
       "data": [
        {
         "alignmentgroup": "True",
         "bingroup": "x",
         "hovertemplate": "Alcohol content=Between 10% and 15%<br>x=%{x}<br>count=%{y}<extra></extra>",
         "legendgroup": "Between 10% and 15%",
         "marker": {
          "color": "#636efa",
          "pattern": {
           "shape": ""
          }
         },
         "name": "Between 10% and 15%",
         "offsetgroup": "Between 10% and 15%",
         "orientation": "v",
         "showlegend": true,
         "texttemplate": "%{value}",
         "type": "histogram",
         "x": [
          "0.75",
          "0.75",
          "0.75",
          "0.75",
          "0.75",
          "0.75",
          "0.75",
          "0.75",
          "0.75",
          "0.75",
          "0.75",
          "0.75",
          "0.75",
          "0.75",
          "0.75",
          "0.75",
          "0.75",
          "0.75",
          "0.75",
          "0.75",
          "0.75",
          "0.75",
          "0.75",
          "0.75",
          "0.75",
          "0.75",
          "0.75",
          "0.75",
          "0.75",
          "0.75",
          "0.75",
          "0.75",
          "0.75",
          "0.75",
          "0.75",
          "0.75",
          "0.75",
          "0.75",
          "0.75",
          "0.75",
          "0.75",
          "0.75",
          "0.75",
          "0.75",
          "0.75",
          "0.75",
          "0.75",
          "0.75",
          "0.75",
          "0.75",
          "0.75",
          "0.75",
          "0.75",
          "0.75",
          "0.75",
          "0.75",
          "0.75",
          "0.75",
          "0.75",
          "0.75",
          "0.75",
          "0.75",
          "0.75",
          "0.75",
          "0.75",
          "0.75",
          "0.75",
          "0.75",
          "0.75",
          "0.75",
          "0.75",
          "0.75",
          "0.75",
          "0.75",
          "0.75",
          "0.75",
          "0.75",
          "0.75",
          "0.75",
          "0.75",
          "0.75",
          "0.75",
          "0.75",
          "0.75",
          "0.75",
          "0.75",
          "0.75",
          "0.75",
          "0.75",
          "0.75",
          "0.75",
          "0.75",
          "0.75",
          "0.75",
          "0.75",
          "0.75",
          "0.75",
          "0.75",
          "0.75",
          "0.75",
          "0.75",
          "0.75",
          "0.75",
          "0.75",
          "0.75",
          "0.75",
          "0.75",
          "0.75",
          "0.75",
          "0.75",
          "0.75",
          "0.75",
          "0.75",
          "0.75",
          "0.75",
          "0.75",
          "0.75",
          "0.75",
          "0.75",
          "0.75",
          "0.75",
          "0.75",
          "0.75",
          "0.75",
          "0.75",
          "0.75",
          "0.75",
          "0.75",
          "0.75",
          "0.75",
          "0.75",
          "0.75",
          "0.75",
          "0.75",
          "0.75",
          "0.75",
          "0.75",
          "0.75",
          "0.75",
          "0.75",
          "0.75",
          "0.75",
          "0.75",
          "0.75",
          "0.75",
          "0.75",
          "0.75",
          "0.75",
          "0.75",
          "0.75",
          "0.75",
          "0.75",
          "0.75",
          "0.75",
          "0.75",
          "0.75",
          "0.75",
          "0.75",
          "0.75",
          "0.75",
          "0.75",
          "0.75",
          "0.75",
          "0.75",
          "0.75",
          "0.75",
          "0.75",
          "0.75",
          "0.75",
          "0.75",
          "0.75",
          "0.75",
          "0.75",
          "0.75",
          "0.75",
          "0.75",
          "0.75",
          "0.75",
          "0.75",
          "0.75",
          "0.75",
          "0.75",
          "0.75",
          "0.75",
          "0.75",
          "0.75",
          "0.75",
          "0.75",
          "0.75",
          "0.75",
          "0.75",
          "0.75",
          "0.75",
          "0.75",
          "0.75",
          "0.75",
          "0.75",
          "0.75",
          "0.75",
          "0.75",
          "0.75",
          "0.75",
          "0.75",
          "0.75",
          "0.75",
          "0.75",
          "0.75",
          "0.75",
          "0.75",
          "0.75",
          "0.75",
          "0.75",
          "0.75",
          "0.75",
          "0.75",
          "0.75",
          "0.75",
          "0.75",
          "0.75",
          "0.75",
          "0.75",
          "0.75",
          "0.75",
          "0.75",
          "0.75",
          "0.75",
          "0.75",
          "0.75",
          "0.75",
          "0.75",
          "0.75",
          "0.75",
          "0.75",
          "0.75",
          "0.75",
          "0.75",
          "0.75",
          "0.75",
          "0.75",
          "0.75",
          "0.75",
          "0.75",
          "0.75",
          "0.75",
          "0.75",
          "0.75",
          "0.75",
          "0.75",
          "0.75",
          "0.75",
          "0.75",
          "0.75",
          "0.75",
          "0.75",
          "0.75",
          "0.75",
          "0.75",
          "0.75",
          "0.75",
          "0.75",
          "0.75",
          "0.75",
          "0.75",
          "0.75",
          "0.75",
          "0.75",
          "0.75",
          "0.75",
          "0.75",
          "0.75",
          "0.75",
          "0.75",
          "0.75",
          "0.75",
          "0.75",
          "0.75",
          "0.75",
          "0.75",
          "0.75",
          "0.75",
          "0.75",
          "0.75",
          "0.75",
          "0.75",
          "0.75",
          "0.75",
          "0.75",
          "0.75",
          "0.75",
          "0.75",
          "0.75",
          "0.75",
          "0.75",
          "0.75",
          "0.75",
          "0.75",
          "0.75",
          "0.75",
          "0.75",
          "0.75",
          "0.75",
          "0.75",
          "0.75",
          "0.75",
          "0.75",
          "0.75",
          "0.75",
          "0.75",
          "0.75",
          "0.75",
          "0.75",
          "0.75",
          "0.75",
          "0.75",
          "0.75",
          "0.75",
          "0.75",
          "0.75",
          "0.75",
          "0.75",
          "0.75",
          "0.75",
          "0.75",
          "0.75",
          "0.75",
          "0.75",
          "0.75",
          "0.75",
          "0.75",
          "0.75",
          "0.75",
          "0.75",
          "0.75",
          "0.75",
          "0.75",
          "0.75",
          "0.75",
          "0.75",
          "0.75",
          "0.75",
          "0.75",
          "0.75",
          "0.75",
          "0.75",
          "0.75",
          "0.75",
          "0.75",
          "0.75",
          "0.75",
          "0.75",
          "0.75",
          "0.75",
          "0.75",
          "0.75",
          "0.75",
          "0.75",
          "0.75",
          "0.75",
          "0.75",
          "0.75",
          "0.75",
          "0.75",
          "0.75",
          "0.75",
          "0.75",
          "0.75",
          "0.75",
          "0.75",
          "0.75",
          "0.75",
          "0.75",
          "0.75",
          "0.75",
          "0.75",
          "0.75",
          "0.75",
          "0.75",
          "0.75",
          "0.75",
          "0.75",
          "0.75",
          "0.75",
          "0.75",
          "0.75",
          "0.75",
          "0.75",
          "0.75",
          "0.75",
          "0.75",
          "0.75",
          "0.75",
          "0.75",
          "0.75",
          "0.75",
          "0.75",
          "0.75",
          "0.75",
          "0.75",
          "0.75",
          "0.75",
          "0.75",
          "0.75",
          "0.75",
          "0.75",
          "0.75",
          "0.75",
          "0.75",
          "0.75",
          "0.75",
          "0.75",
          "0.75",
          "0.75",
          "0.75",
          "0.75",
          "0.75",
          "0.75",
          "0.75",
          "0.75",
          "0.75",
          "0.75",
          "0.75",
          "0.75",
          "0.75",
          "0.75",
          "0.75",
          "0.75",
          "0.75",
          "0.75",
          "0.75",
          "0.75",
          "0.75",
          "0.75",
          "0.75",
          "0.75",
          "0.75",
          "0.75",
          "0.75",
          "0.75",
          "0.75",
          "0.75",
          "0.75",
          "0.75",
          "0.75",
          "0.75",
          "0.75",
          "0.75",
          "0.75",
          "0.75",
          "0.75",
          "0.75",
          "0.75",
          "0.75",
          "0.75",
          "0.75",
          "0.75",
          "0.75",
          "0.75",
          "0.75",
          "0.75",
          "0.75",
          "0.75",
          "0.75",
          "0.75",
          "0.75",
          "0.75",
          "0.75",
          "0.75",
          "0.75",
          "0.75",
          "0.75",
          "0.75",
          "0.75",
          "1.5",
          "0.75",
          "0.75",
          "0.75",
          "0.75",
          "0.75",
          "0.75",
          "0.75",
          "0.75",
          "0.75",
          "0.75",
          "0.75",
          "0.75",
          "0.75",
          "0.75",
          "0.75",
          "0.75",
          "0.75",
          "0.75",
          "0.75",
          "0.75",
          "0.75",
          "0.75",
          "0.75",
          "0.75",
          "0.75",
          "0.75",
          "0.75",
          "0.75",
          "0.75",
          "0.75",
          "0.75",
          "0.75",
          "0.75",
          "0.75",
          "0.75",
          "0.75",
          "0.75",
          "0.75",
          "0.75",
          "0.75",
          "0.75",
          "0.75",
          "0.75",
          "0.75",
          "0.75",
          "0.75",
          "0.75",
          "0.75",
          "0.75",
          "0.75",
          "0.75",
          "0.75",
          "0.75",
          "0.75",
          "0.75",
          "0.5",
          "0.75",
          "0.75",
          "0.5",
          "0.5",
          "0.5",
          "0.375",
          "0.5",
          "0.75",
          "0.5",
          "0.375",
          "0.5",
          "0.5",
          "0.75",
          "0.375",
          "0.75",
          "0.75",
          "0.75",
          "0.75",
          "0.75",
          "0.75",
          "0.75",
          "0.75",
          "0.75",
          "0.75",
          "0.75",
          "0.75",
          "0.75",
          "0.75",
          "0.75",
          "0.75",
          "0.75",
          "0.75",
          "0.75",
          "0.75",
          "0.75",
          "0.75",
          "0.75",
          "0.75",
          "0.75",
          "0.75",
          "0.75",
          "0.75",
          "0.75",
          "0.75",
          "0.75",
          "0.75",
          "0.75",
          "0.75",
          "0.75",
          "0.75",
          "0.75",
          "0.75",
          "0.75",
          "0.75",
          "0.75",
          "0.75",
          "0.75",
          "0.75",
          "0.75",
          "0.75",
          "0.75",
          "0.75",
          "0.75",
          "0.75",
          "0.75",
          "0.75",
          "0.75",
          "0.75",
          "0.75",
          "0.75",
          "0.75",
          "0.75",
          "0.75",
          "0.75",
          "0.75",
          "0.75",
          "0.75",
          "0.75",
          "0.75",
          "0.75",
          "0.75",
          "0.75",
          "0.75",
          "0.75",
          "0.75",
          "0.75",
          "0.75",
          "0.75",
          "0.75",
          "0.75",
          "0.75",
          "0.75",
          "0.75",
          "0.75",
          "0.75",
          "0.75",
          "0.75",
          "0.75",
          "0.75",
          "0.75",
          "0.75",
          "0.75",
          "0.75",
          "0.75",
          "0.75",
          "0.75",
          "0.75",
          "0.75",
          "0.75",
          "0.75",
          "0.75",
          "0.75",
          "0.75",
          "0.75",
          "0.75",
          "0.75",
          "0.75",
          "0.75",
          "0.75",
          "0.75",
          "0.75",
          "0.75",
          "0.75",
          "0.75",
          "0.75",
          "0.75",
          "0.75",
          "0.75",
          "0.75",
          "0.75",
          "0.75",
          "0.75",
          "0.75",
          "0.75",
          "0.75",
          "0.75",
          "0.75",
          "0.75",
          "0.75",
          "0.75",
          "0.75",
          "0.75",
          "0.75",
          "0.75",
          "0.75",
          "0.75",
          "0.75",
          "0.75",
          "0.75",
          "0.75",
          "0.75",
          "0.75",
          "0.75",
          "0.75",
          "0.75",
          "0.75",
          "0.75",
          "0.75",
          "0.75",
          "0.75",
          "0.75",
          "0.75",
          "0.75",
          "0.75",
          "0.75",
          "0.75",
          "0.75",
          "0.75",
          "0.75",
          "0.75",
          "0.75",
          "0.75",
          "0.75",
          "0.75",
          "0.75",
          "0.75",
          "0.75",
          "0.75",
          "0.75",
          "0.75",
          "0.75",
          "0.75",
          "0.75",
          "0.75",
          "0.75",
          "0.75",
          "0.75",
          "0.75",
          "0.75",
          "0.75",
          "0.75",
          "0.75",
          "0.75",
          "0.75",
          "0.75",
          "0.75",
          "0.75",
          "0.75",
          "0.75",
          "0.75",
          "0.75",
          "0.75",
          "0.75",
          "0.75",
          "0.75",
          "0.75",
          "0.75",
          "0.75",
          "0.75",
          "0.75",
          "0.75",
          "0.75",
          "0.75",
          "0.75",
          "0.75",
          "0.75",
          "0.75",
          "0.75",
          "0.75",
          "0.75",
          "0.75",
          "0.75",
          "0.75",
          "0.75",
          "0.75",
          "0.75",
          "0.75",
          "0.75",
          "0.75",
          "0.75",
          "0.75",
          "0.75",
          "0.75",
          "0.75",
          "0.75",
          "0.75",
          "0.75",
          "0.75",
          "0.75",
          "0.75",
          "0.75",
          "0.75",
          "0.75",
          "0.75",
          "0.75",
          "0.75",
          "0.75",
          "0.75",
          "0.75",
          "0.75",
          "0.75",
          "0.75",
          "0.75",
          "0.75",
          "0.75",
          "0.75",
          "0.75",
          "0.75",
          "0.75",
          "0.75",
          "0.75",
          "0.75",
          "0.75",
          "0.75",
          "0.75",
          "0.75",
          "0.75",
          "0.75",
          "0.75",
          "0.75",
          "0.75",
          "0.75",
          "0.75",
          "0.75",
          "0.75",
          "0.75",
          "0.75",
          "0.75",
          "0.75",
          "0.75",
          "0.75",
          "0.75",
          "0.75",
          "0.75",
          "0.75",
          "0.75",
          "0.75",
          "0.75",
          "0.75",
          "0.75",
          "0.75",
          "0.75",
          "0.75",
          "0.75",
          "0.75",
          "0.75",
          "0.75",
          "0.75",
          "0.75",
          "0.75",
          "0.75",
          "0.75",
          "0.75",
          "0.75",
          "0.75",
          "0.75",
          "0.75",
          "0.75",
          "0.75",
          "0.75",
          "0.75",
          "0.75",
          "0.75",
          "0.75",
          "0.75",
          "0.75",
          "0.75",
          "0.75",
          "0.75",
          "0.75",
          "0.75",
          "0.75",
          "0.75",
          "0.75",
          "0.75",
          "0.75",
          "0.75",
          "0.75",
          "0.75",
          "0.75",
          "0.75",
          "0.75",
          "0.75",
          "0.75",
          "0.75",
          "0.75",
          "0.75",
          "0.75",
          "0.75",
          "0.75",
          "0.75",
          "0.75",
          "0.75",
          "0.75",
          "0.75",
          "0.75",
          "0.75",
          "0.75",
          "0.75",
          "0.75",
          "0.75",
          "0.75",
          "0.75",
          "0.75",
          "0.75",
          "0.75",
          "0.75",
          "0.75",
          "0.75",
          "0.75",
          "0.75",
          "0.75",
          "0.75",
          "0.75",
          "0.75",
          "0.75",
          "0.75",
          "0.75",
          "0.75",
          "0.75",
          "0.75",
          "0.75",
          "0.75",
          "0.75",
          "0.75",
          "0.75",
          "0.75",
          "0.75",
          "0.75",
          "0.75",
          "0.75",
          "0.75",
          "0.75",
          "0.75",
          "0.75",
          "0.75",
          "0.75",
          "0.75",
          "0.75",
          "0.75",
          "0.75",
          "0.75",
          "0.75",
          "0.75",
          "0.75",
          "0.75",
          "0.75",
          "0.75",
          "0.75",
          "0.75",
          "0.75",
          "0.75",
          "0.75",
          "0.75",
          "0.75",
          "0.75",
          "0.75",
          "0.75",
          "0.75",
          "0.75",
          "0.75",
          "0.75",
          "0.75",
          "0.75",
          "0.75",
          "0.75",
          "0.75",
          "0.75",
          "0.75",
          "0.75",
          "0.75",
          "0.75",
          "0.75",
          "0.75",
          "0.75",
          "0.75",
          "0.75",
          "0.75",
          "0.75",
          "0.75",
          "0.75",
          "0.75",
          "0.75",
          "0.75",
          "0.75",
          "0.75",
          "0.75",
          "0.75",
          "0.75",
          "0.75",
          "0.75",
          "0.75",
          "0.75",
          "0.75",
          "0.75",
          "0.75",
          "0.75",
          "0.75",
          "0.75",
          "0.75",
          "0.75",
          "0.75",
          "0.75",
          "0.75",
          "0.75",
          "0.75",
          "0.75",
          "0.75",
          "0.75",
          "0.75",
          "0.75",
          "0.75",
          "0.75",
          "0.75",
          "0.75",
          "0.75",
          "0.75",
          "0.75",
          "0.75",
          "0.75",
          "0.75",
          "0.75",
          "0.75",
          "0.75",
          "0.75",
          "0.75",
          "0.75",
          "0.75",
          "0.75",
          "0.75",
          "0.75",
          "0.75",
          "0.75",
          "0.75",
          "0.75",
          "0.75",
          "0.75",
          "0.75",
          "0.75",
          "0.75",
          "0.75",
          "0.75",
          "0.75",
          "0.75",
          "0.75",
          "0.75",
          "0.75",
          "0.75",
          "0.75",
          "0.75",
          "0.75",
          "0.75",
          "0.75",
          "0.75",
          "0.75",
          "0.75",
          "0.75",
          "0.75",
          "0.75",
          "0.75",
          "0.75",
          "0.75",
          "0.75",
          "0.75",
          "0.75",
          "0.75",
          "0.75",
          "0.75",
          "0.75",
          "0.75",
          "0.75",
          "0.75",
          "0.75",
          "0.75",
          "0.75",
          "0.75",
          "0.75",
          "0.75",
          "0.75",
          "0.75",
          "0.75",
          "0.75",
          "0.75",
          "0.75",
          "0.75",
          "0.75",
          "0.75",
          "0.75",
          "0.75",
          "0.75",
          "0.75",
          "0.75",
          "0.75",
          "0.75",
          "0.75",
          "0.75",
          "0.75",
          "0.75",
          "0.75",
          "0.75",
          "0.75",
          "0.75",
          "0.75",
          "0.75",
          "0.75",
          "0.75",
          "0.75",
          "0.75",
          "0.75",
          "0.75",
          "0.75",
          "0.75",
          "0.75",
          "0.75",
          "0.75",
          "0.75",
          "0.75",
          "0.75",
          "0.75",
          "0.75",
          "0.75",
          "0.75",
          "0.75",
          "0.75",
          "0.75",
          "0.75",
          "0.75",
          "0.75",
          "0.75",
          "0.75",
          "0.75",
          "0.75",
          "0.75",
          "0.75",
          "0.75",
          "0.75",
          "0.75",
          "0.75",
          "0.75",
          "0.75",
          "0.75",
          "0.75",
          "0.75",
          "0.75",
          "0.75",
          "0.75",
          "0.75",
          "0.75",
          "0.75",
          "0.75",
          "0.75",
          "0.75",
          "0.75",
          "0.75",
          "0.75",
          "0.75",
          "0.75",
          "0.75",
          "0.75",
          "0.75",
          "0.75",
          "0.75",
          "0.75",
          "0.75",
          "0.75",
          "0.75",
          "0.75",
          "0.75",
          "0.75",
          "0.75",
          "0.75",
          "0.75",
          "0.75",
          "0.75",
          "0.75",
          "0.75",
          "0.75",
          "0.75",
          "0.75",
          "0.75",
          "0.75",
          "0.75",
          "0.75",
          "0.75",
          "0.75",
          "0.75",
          "0.75",
          "0.75",
          "0.75",
          "0.75",
          "0.75",
          "0.75",
          "0.75",
          "0.75",
          "0.75",
          "0.75",
          "0.75",
          "0.75",
          "0.75",
          "0.75",
          "0.75",
          "0.75",
          "0.75",
          "0.75",
          "0.75",
          "0.75",
          "0.75",
          "0.75",
          "0.75",
          "0.75",
          "0.75",
          "0.75",
          "0.75",
          "0.75",
          "0.75",
          "0.75",
          "0.75",
          "0.75",
          "0.75",
          "0.75",
          "0.75",
          "0.75",
          "0.75",
          "0.75",
          "0.75",
          "0.75",
          "0.75",
          "0.75",
          "0.75",
          "0.75",
          "0.75",
          "0.75",
          "0.75",
          "0.75",
          "0.75",
          "0.75",
          "0.75",
          "0.75",
          "0.75",
          "0.75",
          "0.75",
          "0.75",
          "0.75",
          "0.75",
          "0.75",
          "0.75",
          "0.75",
          "0.75",
          "0.75",
          "0.75",
          "0.75",
          "0.75",
          "0.75",
          "0.75",
          "0.75",
          "0.75",
          "0.75",
          "0.75",
          "0.75",
          "0.75",
          "0.75",
          "0.75",
          "0.75",
          "0.75",
          "0.75",
          "0.75",
          "0.75",
          "0.75",
          "0.75",
          "0.75",
          "0.75",
          "0.75",
          "0.75",
          "0.75",
          "0.75",
          "0.75",
          "0.75",
          "0.75",
          "0.75",
          "0.75",
          "0.75",
          "0.75",
          "0.75",
          "0.75",
          "0.75",
          "0.75",
          "0.75",
          "0.75",
          "0.75",
          "0.75",
          "0.75",
          "0.75",
          "0.75",
          "0.75",
          "0.75",
          "0.75",
          "0.75",
          "0.75",
          "0.75",
          "0.75",
          "0.75",
          "0.75",
          "0.75",
          "0.75",
          "0.75",
          "0.75",
          "0.75",
          "0.75",
          "0.75",
          "0.75",
          "0.75",
          "0.75",
          "0.75",
          "0.75",
          "0.75",
          "0.75",
          "0.75",
          "0.75",
          "0.75",
          "0.75",
          "0.75",
          "0.75",
          "0.75",
          "0.75",
          "0.75",
          "0.75",
          "0.75",
          "0.75",
          "0.75",
          "0.75",
          "0.75",
          "0.75",
          "0.75",
          "0.75",
          "0.75",
          "0.75",
          "0.75",
          "0.75",
          "0.75",
          "0.75",
          "0.75",
          "0.75",
          "0.75",
          "0.75",
          "0.75",
          "0.75",
          "0.75",
          "0.75",
          "0.75",
          "0.75",
          "0.75",
          "0.75",
          "0.75",
          "0.75",
          "0.75",
          "0.75",
          "0.75",
          "0.75",
          "0.75",
          "0.75",
          "0.75",
          "0.75",
          "0.75",
          "0.75",
          "0.75",
          "0.75",
          "0.75",
          "0.75",
          "0.75",
          "0.75",
          "0.75",
          "0.75",
          "0.75",
          "0.75",
          "0.75",
          "0.75",
          "0.75",
          "0.75",
          "0.75",
          "0.75",
          "0.75",
          "0.75",
          "0.75",
          "0.75",
          "0.75",
          "0.75",
          "0.75",
          "0.75",
          "0.75",
          "0.75",
          "0.75",
          "0.75",
          "0.75",
          "0.75",
          "0.75",
          "0.75",
          "0.75",
          "0.75",
          "0.75",
          "0.75",
          "0.75",
          "0.75",
          "0.75",
          "0.75",
          "0.75",
          "0.75",
          "0.75",
          "0.75",
          "0.75",
          "0.75",
          "0.75",
          "0.75",
          "0.75",
          "0.75",
          "0.75",
          "0.75",
          "0.75",
          "0.75",
          "0.75",
          "0.75",
          "0.75",
          "0.75",
          "0.75",
          "0.75",
          "0.75",
          "0.75",
          "0.75",
          "0.75",
          "0.75",
          "0.75",
          "0.75",
          "0.75",
          "0.75",
          "0.75",
          "0.75",
          "0.75",
          "0.75",
          "0.75",
          "0.75",
          "0.75",
          "0.75",
          "0.75",
          "0.75",
          "0.75",
          "0.75",
          "0.75",
          "0.75",
          "0.75",
          "0.75",
          "0.75",
          "0.75",
          "0.75",
          "0.75",
          "0.75",
          "0.75",
          "0.75",
          "0.75",
          "0.75",
          "0.75",
          "0.75",
          "0.75",
          "0.75",
          "0.75",
          "0.75",
          "0.75",
          "0.75",
          "0.75",
          "0.75",
          "0.75",
          "0.75",
          "0.75",
          "0.75",
          "0.75",
          "0.75",
          "0.5",
          "0.75",
          "0.75",
          "0.75",
          "0.75",
          "0.75",
          "0.75",
          "0.75",
          "0.75",
          "0.75",
          "0.75",
          "0.75",
          "0.75",
          "0.75",
          "0.75",
          "0.75",
          "0.75",
          "0.75",
          "0.75",
          "0.75",
          "0.75",
          "0.75",
          "0.75",
          "0.75",
          "0.75",
          "0.75",
          "0.75",
          "0.75",
          "0.75",
          "0.75",
          "0.75",
          "0.75",
          "0.75",
          "0.75",
          "0.75",
          "0.75",
          "0.75",
          "0.75",
          "0.75",
          "0.75",
          "0.75",
          "0.75",
          "0.75",
          "0.75",
          "0.75",
          "0.75",
          "0.75",
          "0.75",
          "0.75",
          "0.75",
          "0.75",
          "0.75",
          "0.75",
          "0.75",
          "0.75",
          "0.75",
          "0.75",
          "0.75",
          "0.75",
          "0.75",
          "0.75",
          "0.75",
          "0.75",
          "0.75",
          "0.75",
          "0.75",
          "0.75",
          "0.75",
          "0.75",
          "0.75",
          "0.75",
          "0.75",
          "0.75",
          "0.75",
          "0.75",
          "0.75",
          "0.75",
          "0.75",
          "0.75",
          "0.75",
          "0.75",
          "0.75",
          "0.75",
          "0.75",
          "0.75",
          "0.75",
          "0.75",
          "0.75",
          "0.75",
          "0.75",
          "0.75",
          "0.75",
          "0.75",
          "0.75",
          "0.75",
          "0.75",
          "0.75",
          "0.75",
          "0.75",
          "0.75",
          "0.75",
          "0.75",
          "0.75",
          "0.75",
          "0.75",
          "0.75",
          "0.75",
          "0.75",
          "0.75",
          "0.75",
          "0.75",
          "0.75",
          "0.75",
          "0.75",
          "0.75",
          "0.75",
          "0.75",
          "0.75",
          "0.75",
          "0.75",
          "0.75",
          "0.75",
          "0.75",
          "0.75",
          "0.75",
          "0.75",
          "0.75",
          "0.75",
          "0.75",
          "0.75",
          "0.75",
          "0.75",
          "0.75",
          "0.75",
          "0.75",
          "0.75",
          "0.75",
          "0.75",
          "0.75",
          "0.75",
          "0.75",
          "0.75",
          "0.75",
          "0.75",
          "0.75",
          "0.75",
          "0.75",
          "0.75",
          "0.75",
          "0.75",
          "0.75",
          "0.75",
          "0.75",
          "0.75",
          "0.75",
          "0.75",
          "0.75",
          "0.75",
          "0.75",
          "0.75",
          "0.75",
          "0.75",
          "0.75",
          "0.75",
          "0.75",
          "0.75",
          "0.75",
          "0.75",
          "0.75",
          "0.75",
          "0.75",
          "0.75",
          "0.75",
          "0.75",
          "0.75",
          "0.75",
          "0.75",
          "0.75",
          "0.75",
          "0.75",
          "0.75",
          "0.75",
          "0.75",
          "0.75",
          "0.75",
          "0.75",
          "0.75",
          "0.75",
          "0.75",
          "0.75",
          "0.75",
          "0.75",
          "0.75",
          "0.75",
          "0.75",
          "0.75",
          "0.75",
          "0.75",
          "0.75",
          "0.75",
          "0.75",
          "0.75",
          "0.75",
          "0.75",
          "0.75",
          "0.75",
          "0.75",
          "0.75",
          "0.75",
          "0.75",
          "0.75",
          "0.75",
          "0.75",
          "0.75",
          "0.75",
          "0.75",
          "0.75",
          "0.75",
          "0.75",
          "0.75",
          "0.75",
          "0.75",
          "0.75",
          "0.75",
          "0.75",
          "0.75",
          "0.75",
          "0.75",
          "0.75",
          "0.75",
          "0.75",
          "0.75",
          "0.75",
          "0.75",
          "0.75",
          "0.75",
          "0.75",
          "0.75",
          "0.75",
          "0.75",
          "0.75",
          "0.75",
          "0.75",
          "0.75",
          "0.75",
          "0.75",
          "0.75",
          "0.75",
          "0.75",
          "0.75",
          "0.75",
          "0.75",
          "0.75",
          "0.75",
          "0.75",
          "0.75",
          "0.75",
          "0.75",
          "0.75",
          "0.75",
          "0.75",
          "0.75",
          "0.75",
          "0.75",
          "0.75",
          "0.75",
          "0.75",
          "0.75",
          "0.75",
          "0.75",
          "0.75",
          "0.75",
          "0.75",
          "0.75",
          "0.75",
          "0.75",
          "0.75",
          "0.75",
          "0.75",
          "0.75",
          "0.75",
          "0.75",
          "0.75",
          "0.75",
          "0.75",
          "0.75",
          "0.75",
          "0.75",
          "0.75",
          "0.75",
          "0.75",
          "0.75",
          "0.75",
          "0.75",
          "0.75",
          "0.75",
          "0.75",
          "0.75",
          "0.75",
          "0.75",
          "0.75",
          "0.75",
          "0.75",
          "0.75",
          "0.75",
          "0.75",
          "0.75",
          "0.75",
          "0.75",
          "0.75",
          "0.75",
          "0.75",
          "0.75",
          "0.75",
          "0.75",
          "0.75",
          "0.75",
          "0.75",
          "0.75",
          "0.75",
          "0.75",
          "0.75",
          "0.75",
          "0.75",
          "0.75",
          "0.75",
          "0.75",
          "0.75",
          "0.75",
          "0.75",
          "0.75",
          "0.75",
          "0.75",
          "0.75",
          "0.75",
          "0.75",
          "0.75",
          "0.75",
          "0.75",
          "0.75",
          "0.75",
          "0.75",
          "0.75",
          "0.75",
          "0.75",
          "0.75",
          "0.75",
          "0.75",
          "0.75",
          "0.75",
          "0.75",
          "0.75",
          "0.75",
          "0.75",
          "0.75",
          "0.75",
          "0.75",
          "0.75",
          "0.75",
          "0.75",
          "0.75",
          "0.75",
          "0.75",
          "0.75",
          "0.75",
          "0.75",
          "0.75",
          "0.75",
          "0.75",
          "0.75",
          "0.75",
          "0.75",
          "0.75",
          "0.75",
          "0.75",
          "0.75",
          "0.75",
          "0.75",
          "0.75",
          "0.75",
          "0.75",
          "0.75",
          "0.75",
          "0.75",
          "0.75",
          "0.75",
          "0.75",
          "0.75",
          "0.75",
          "0.75",
          "0.75",
          "0.75",
          "0.75",
          "0.75",
          "0.75",
          "0.75",
          "0.75",
          "0.75",
          "0.75",
          "0.75",
          "0.75",
          "0.75",
          "0.75",
          "0.75",
          "0.75",
          "0.75",
          "0.75",
          "0.75",
          "0.75",
          "0.75",
          "0.75",
          "0.75",
          "0.75",
          "0.75",
          "0.75",
          "0.75",
          "0.75",
          "0.75",
          "0.75",
          "0.75",
          "0.75",
          "0.75",
          "0.75",
          "0.75",
          "0.75",
          "0.75",
          "0.75",
          "0.75",
          "0.75",
          "0.75",
          "0.75",
          "0.75",
          "0.75",
          "0.75",
          "0.75",
          "0.75",
          "0.75",
          "0.75",
          "0.75",
          "0.75",
          "0.75",
          "0.75",
          "0.75",
          "0.75",
          "0.75",
          "0.75",
          "0.75",
          "0.75",
          "0.75",
          "0.75",
          "0.75",
          "0.75",
          "0.75",
          "0.75",
          "0.75",
          "0.75",
          "0.75",
          "0.75",
          "0.75",
          "0.75",
          "0.75",
          "0.75",
          "0.75",
          "0.75",
          "0.75",
          "0.75",
          "0.75",
          "0.75",
          "0.75",
          "0.75",
          "0.75",
          "0.75",
          "0.75",
          "0.75",
          "0.75",
          "0.75",
          "0.75",
          "0.75",
          "0.75",
          "0.75",
          "0.75",
          "0.75",
          "0.75",
          "0.75",
          "0.75",
          "0.75",
          "0.75",
          "0.75",
          "0.75",
          "0.75",
          "0.75",
          "0.75",
          "0.75",
          "0.75",
          "0.75",
          "0.75",
          "0.75",
          "0.75",
          "0.75",
          "0.75",
          "0.75",
          "0.75",
          "0.75",
          "0.75",
          "0.75",
          "0.75",
          "0.75",
          "0.75",
          "0.75",
          "0.75",
          "0.75",
          "0.75",
          "0.75",
          "0.75",
          "0.75",
          "0.75",
          "0.75",
          "0.75",
          "0.75",
          "0.75",
          "0.75",
          "0.75",
          "0.75",
          "0.75",
          "0.75",
          "0.75",
          "0.75",
          "0.75",
          "0.75",
          "0.75",
          "0.75",
          "0.75",
          "0.75",
          "0.75",
          "0.75",
          "0.75",
          "0.75",
          "0.75",
          "0.75",
          "0.75",
          "0.75",
          "0.75",
          "0.75",
          "0.75",
          "0.75",
          "0.75",
          "0.75",
          "0.75",
          "0.75",
          "0.75",
          "0.5",
          "0.75",
          "0.75",
          "0.75",
          "0.75",
          "0.75",
          "0.75",
          "0.75",
          "0.75",
          "0.75",
          "0.75",
          "0.75",
          "0.75",
          "0.75",
          "0.75",
          "0.75",
          "0.75",
          "0.75",
          "0.75",
          "0.75",
          "0.75",
          "0.75",
          "0.75",
          "0.75",
          "0.75",
          "0.75",
          "0.75",
          "0.75",
          "0.75",
          "0.75",
          "0.75",
          "0.75",
          "0.75",
          "0.75",
          "0.75",
          "0.75",
          "0.75",
          "0.75",
          "0.75",
          "0.75",
          "0.75",
          "0.75",
          "0.75",
          "0.75",
          "0.75",
          "0.75",
          "0.75",
          "0.75",
          "0.75",
          "0.75",
          "0.75",
          "0.75",
          "0.75",
          "0.75",
          "0.75",
          "0.75",
          "0.75",
          "0.75",
          "0.75",
          "0.75",
          "0.75",
          "0.75",
          "0.75",
          "0.75",
          "0.75",
          "0.75",
          "0.75",
          "0.75",
          "0.75",
          "0.75",
          "0.75",
          "0.75",
          "0.75",
          "0.75",
          "0.75",
          "0.5",
          "0.75",
          "0.75",
          "0.5",
          "0.5",
          "0.375",
          "0.5",
          "0.75",
          "0.375",
          "0.5",
          "0.75",
          "0.375",
          "0.375",
          "0.375",
          "0.375",
          "0.75",
          "0.375",
          "0.375",
          "0.375",
          "0.375",
          "0.5",
          "0.375",
          "0.5",
          "0.375",
          "0.5",
          "0.5",
          "0.375",
          "0.375",
          "0.5",
          "0.5",
          "0.375",
          "0.5",
          "0.5",
          "0.5",
          "0.75",
          "0.375",
          "0.375",
          "0.62",
          "0.5",
          "0.5",
          "0.5",
          "0.75",
          "0.75",
          "0.375",
          "0.5",
          "0.75",
          "0.375",
          "0.375",
          "0.75",
          "0.375",
          "0.5",
          "0.375",
          "0.375",
          "0.5",
          "0.5",
          "0.375",
          "0.75",
          "0.5",
          "0.375",
          "0.75",
          "0.75",
          "0.75",
          "0.75",
          "0.75",
          "0.75",
          "0.75",
          "0.75",
          "0.75",
          "0.75",
          "0.75",
          "0.75",
          "0.75",
          "0.75",
          "0.75",
          "0.75",
          "0.75",
          "0.75",
          "0.75",
          "0.75",
          "0.75",
          "0.75",
          "0.75",
          "0.75",
          "0.75",
          "0.75",
          "0.75",
          "0.75",
          "0.75",
          "0.75",
          "0.75",
          "0.75",
          "0.75",
          "0.75",
          "0.75",
          "0.75",
          "0.75",
          "0.75",
          "0.75",
          "0.75",
          "0.75",
          "0.75",
          "0.75",
          "0.75",
          "0.75",
          "0.75",
          "0.75",
          "0.75",
          "0.75",
          "0.75",
          "0.75",
          "0.75",
          "0.75",
          "0.75",
          "0.75",
          "0.75",
          "0.75",
          "0.75",
          "0.75",
          "0.75",
          "0.75",
          "0.75",
          "0.75",
          "0.75",
          "0.75",
          "0.75",
          "0.75",
          "0.75",
          "0.75",
          "0.75",
          "0.75",
          "0.75",
          "0.75",
          "0.75",
          "0.75",
          "0.75",
          "0.75",
          "0.75",
          "0.75",
          "0.75",
          "0.75",
          "0.75",
          "0.75",
          "0.75",
          "0.75",
          "0.75",
          "0.75",
          "0.75",
          "0.75",
          "0.75",
          "0.75",
          "0.75",
          "0.75",
          "0.75",
          "0.75",
          "0.75",
          "0.75",
          "0.75",
          "0.75",
          "0.75",
          "0.75",
          "0.75",
          "0.75",
          "0.75",
          "0.75",
          "0.75",
          "0.75",
          "0.75",
          "0.75",
          "0.75",
          "0.75",
          "0.75",
          "0.75",
          "0.75",
          "0.75",
          "0.75",
          "0.75",
          "0.75",
          "0.75",
          "0.75",
          "0.75",
          "0.75",
          "0.75",
          "0.75",
          "0.75",
          "0.75",
          "0.75",
          "0.75",
          "0.75",
          "0.75",
          "0.75",
          "0.75",
          "0.75",
          "0.75",
          "0.75",
          "0.75",
          "0.75",
          "0.75",
          "0.75",
          "0.75",
          "0.75",
          "0.75",
          "0.75",
          "0.75",
          "0.75",
          "0.75",
          "0.75",
          "0.75",
          "0.75",
          "0.75",
          "0.75",
          "0.75",
          "0.75",
          "0.75",
          "0.75",
          "0.75",
          "0.75",
          "0.75",
          "0.75",
          "0.75",
          "0.75",
          "0.75",
          "0.75",
          "0.75",
          "0.75",
          "0.75",
          "0.75",
          "0.75",
          "0.75",
          "0.75",
          "0.75",
          "0.75",
          "0.75",
          "0.75",
          "0.75",
          "0.75",
          "0.75",
          "0.75",
          "0.75",
          "0.75",
          "0.75",
          "0.75",
          "0.75",
          "0.75",
          "0.75",
          "0.75",
          "0.75",
          "0.75",
          "0.75",
          "0.75",
          "0.75",
          "0.75",
          "0.75",
          "0.75",
          "0.75",
          "0.75",
          "0.75",
          "0.75",
          "0.75",
          "0.75",
          "0.75",
          "0.75",
          "0.75",
          "0.75",
          "0.75",
          "0.75",
          "0.75",
          "0.75",
          "0.75",
          "0.75",
          "0.75",
          "0.75",
          "0.75",
          "0.75",
          "0.75",
          "0.75",
          "0.75",
          "0.75",
          "0.75",
          "0.75",
          "0.75",
          "0.75",
          "0.75",
          "0.75",
          "0.75",
          "0.75",
          "0.75",
          "0.75",
          "0.75",
          "0.75",
          "0.75",
          "0.75",
          "0.75",
          "0.75",
          "0.75",
          "0.75",
          "0.75",
          "0.75",
          "0.75",
          "0.75",
          "0.75",
          "0.75",
          "0.75",
          "0.75",
          "0.75",
          "0.75",
          "0.75",
          "0.75",
          "0.75",
          "0.75",
          "0.75",
          "0.75",
          "0.75",
          "0.75",
          "0.75",
          "0.75",
          "0.75",
          "0.75",
          "0.75",
          "0.75",
          "0.75",
          "0.75",
          "0.75",
          "0.75"
         ],
         "xaxis": "x",
         "yaxis": "y"
        },
        {
         "alignmentgroup": "True",
         "bingroup": "x",
         "hovertemplate": "Alcohol content=More 15%<br>x=%{x}<br>count=%{y}<extra></extra>",
         "legendgroup": "More 15%",
         "marker": {
          "color": "#EF553B",
          "pattern": {
           "shape": ""
          }
         },
         "name": "More 15%",
         "offsetgroup": "More 15%",
         "orientation": "v",
         "showlegend": true,
         "texttemplate": "%{value}",
         "type": "histogram",
         "x": [
          "0.75",
          "0.75",
          "0.75",
          "0.75",
          "0.75",
          "0.75",
          "0.75",
          "0.75",
          "0.75",
          "0.75",
          "0.75",
          "0.75",
          "0.75",
          "0.75",
          "0.75",
          "0.75",
          "0.75",
          "0.75",
          "0.75",
          "0.75",
          "0.75",
          "0.75",
          "0.75",
          "0.75",
          "0.75",
          "0.75",
          "0.75",
          "0.75",
          "0.75",
          "0.75",
          "0.75",
          "0.75",
          "0.75",
          "0.75",
          "0.75",
          "0.75",
          "0.75",
          "0.75",
          "0.75",
          "0.75",
          "0.75",
          "0.75",
          "0.75",
          "0.75",
          "0.75",
          "0.75",
          "0.75",
          "0.75",
          "0.75",
          "0.75",
          "0.75",
          "0.75",
          "0.75",
          "0.75",
          "0.75",
          "0.75",
          "0.75",
          "0.75",
          "0.75",
          "0.75",
          "0.75",
          "0.75",
          "0.75",
          "0.75",
          "0.75",
          "0.375",
          "0.5",
          "0.375",
          "0.375",
          "0.75",
          "0.75",
          "0.75",
          "0.75",
          "0.75",
          "0.75",
          "0.75",
          "0.75",
          "0.75",
          "0.75"
         ],
         "xaxis": "x",
         "yaxis": "y"
        },
        {
         "alignmentgroup": "True",
         "bingroup": "x",
         "hovertemplate": "Alcohol content=Less than 5%<br>x=%{x}<br>count=%{y}<extra></extra>",
         "legendgroup": "Less than 5%",
         "marker": {
          "color": "#00cc96",
          "pattern": {
           "shape": ""
          }
         },
         "name": "Less than 5%",
         "offsetgroup": "Less than 5%",
         "orientation": "v",
         "showlegend": true,
         "texttemplate": "%{value}",
         "type": "histogram",
         "x": [
          "0.75",
          "0.75"
         ],
         "xaxis": "x",
         "yaxis": "y"
        },
        {
         "alignmentgroup": "True",
         "bingroup": "x",
         "hovertemplate": "Alcohol content=Between 5% and 10%<br>x=%{x}<br>count=%{y}<extra></extra>",
         "legendgroup": "Between 5% and 10%",
         "marker": {
          "color": "#ab63fa",
          "pattern": {
           "shape": ""
          }
         },
         "name": "Between 5% and 10%",
         "offsetgroup": "Between 5% and 10%",
         "orientation": "v",
         "showlegend": true,
         "texttemplate": "%{value}",
         "type": "histogram",
         "x": [
          "0.75",
          "0.75",
          "0.75",
          "0.75",
          "0.75",
          "0.75",
          "0.75",
          "0.75",
          "0.75",
          "0.75",
          "0.75",
          "0.75",
          "0.75",
          "0.75"
         ],
         "xaxis": "x",
         "yaxis": "y"
        }
       ],
       "layout": {
        "barmode": "group",
        "height": 600,
        "legend": {
         "title": {
          "text": "Alcohol content"
         },
         "tracegroupgap": 0
        },
        "margin": {
         "t": 60
        },
        "template": {
         "data": {
          "bar": [
           {
            "error_x": {
             "color": "#2a3f5f"
            },
            "error_y": {
             "color": "#2a3f5f"
            },
            "marker": {
             "line": {
              "color": "#E5ECF6",
              "width": 0.5
             },
             "pattern": {
              "fillmode": "overlay",
              "size": 10,
              "solidity": 0.2
             }
            },
            "type": "bar"
           }
          ],
          "barpolar": [
           {
            "marker": {
             "line": {
              "color": "#E5ECF6",
              "width": 0.5
             },
             "pattern": {
              "fillmode": "overlay",
              "size": 10,
              "solidity": 0.2
             }
            },
            "type": "barpolar"
           }
          ],
          "carpet": [
           {
            "aaxis": {
             "endlinecolor": "#2a3f5f",
             "gridcolor": "white",
             "linecolor": "white",
             "minorgridcolor": "white",
             "startlinecolor": "#2a3f5f"
            },
            "baxis": {
             "endlinecolor": "#2a3f5f",
             "gridcolor": "white",
             "linecolor": "white",
             "minorgridcolor": "white",
             "startlinecolor": "#2a3f5f"
            },
            "type": "carpet"
           }
          ],
          "choropleth": [
           {
            "colorbar": {
             "outlinewidth": 0,
             "ticks": ""
            },
            "type": "choropleth"
           }
          ],
          "contour": [
           {
            "colorbar": {
             "outlinewidth": 0,
             "ticks": ""
            },
            "colorscale": [
             [
              0,
              "#0d0887"
             ],
             [
              0.1111111111111111,
              "#46039f"
             ],
             [
              0.2222222222222222,
              "#7201a8"
             ],
             [
              0.3333333333333333,
              "#9c179e"
             ],
             [
              0.4444444444444444,
              "#bd3786"
             ],
             [
              0.5555555555555556,
              "#d8576b"
             ],
             [
              0.6666666666666666,
              "#ed7953"
             ],
             [
              0.7777777777777778,
              "#fb9f3a"
             ],
             [
              0.8888888888888888,
              "#fdca26"
             ],
             [
              1,
              "#f0f921"
             ]
            ],
            "type": "contour"
           }
          ],
          "contourcarpet": [
           {
            "colorbar": {
             "outlinewidth": 0,
             "ticks": ""
            },
            "type": "contourcarpet"
           }
          ],
          "heatmap": [
           {
            "colorbar": {
             "outlinewidth": 0,
             "ticks": ""
            },
            "colorscale": [
             [
              0,
              "#0d0887"
             ],
             [
              0.1111111111111111,
              "#46039f"
             ],
             [
              0.2222222222222222,
              "#7201a8"
             ],
             [
              0.3333333333333333,
              "#9c179e"
             ],
             [
              0.4444444444444444,
              "#bd3786"
             ],
             [
              0.5555555555555556,
              "#d8576b"
             ],
             [
              0.6666666666666666,
              "#ed7953"
             ],
             [
              0.7777777777777778,
              "#fb9f3a"
             ],
             [
              0.8888888888888888,
              "#fdca26"
             ],
             [
              1,
              "#f0f921"
             ]
            ],
            "type": "heatmap"
           }
          ],
          "heatmapgl": [
           {
            "colorbar": {
             "outlinewidth": 0,
             "ticks": ""
            },
            "colorscale": [
             [
              0,
              "#0d0887"
             ],
             [
              0.1111111111111111,
              "#46039f"
             ],
             [
              0.2222222222222222,
              "#7201a8"
             ],
             [
              0.3333333333333333,
              "#9c179e"
             ],
             [
              0.4444444444444444,
              "#bd3786"
             ],
             [
              0.5555555555555556,
              "#d8576b"
             ],
             [
              0.6666666666666666,
              "#ed7953"
             ],
             [
              0.7777777777777778,
              "#fb9f3a"
             ],
             [
              0.8888888888888888,
              "#fdca26"
             ],
             [
              1,
              "#f0f921"
             ]
            ],
            "type": "heatmapgl"
           }
          ],
          "histogram": [
           {
            "marker": {
             "pattern": {
              "fillmode": "overlay",
              "size": 10,
              "solidity": 0.2
             }
            },
            "type": "histogram"
           }
          ],
          "histogram2d": [
           {
            "colorbar": {
             "outlinewidth": 0,
             "ticks": ""
            },
            "colorscale": [
             [
              0,
              "#0d0887"
             ],
             [
              0.1111111111111111,
              "#46039f"
             ],
             [
              0.2222222222222222,
              "#7201a8"
             ],
             [
              0.3333333333333333,
              "#9c179e"
             ],
             [
              0.4444444444444444,
              "#bd3786"
             ],
             [
              0.5555555555555556,
              "#d8576b"
             ],
             [
              0.6666666666666666,
              "#ed7953"
             ],
             [
              0.7777777777777778,
              "#fb9f3a"
             ],
             [
              0.8888888888888888,
              "#fdca26"
             ],
             [
              1,
              "#f0f921"
             ]
            ],
            "type": "histogram2d"
           }
          ],
          "histogram2dcontour": [
           {
            "colorbar": {
             "outlinewidth": 0,
             "ticks": ""
            },
            "colorscale": [
             [
              0,
              "#0d0887"
             ],
             [
              0.1111111111111111,
              "#46039f"
             ],
             [
              0.2222222222222222,
              "#7201a8"
             ],
             [
              0.3333333333333333,
              "#9c179e"
             ],
             [
              0.4444444444444444,
              "#bd3786"
             ],
             [
              0.5555555555555556,
              "#d8576b"
             ],
             [
              0.6666666666666666,
              "#ed7953"
             ],
             [
              0.7777777777777778,
              "#fb9f3a"
             ],
             [
              0.8888888888888888,
              "#fdca26"
             ],
             [
              1,
              "#f0f921"
             ]
            ],
            "type": "histogram2dcontour"
           }
          ],
          "mesh3d": [
           {
            "colorbar": {
             "outlinewidth": 0,
             "ticks": ""
            },
            "type": "mesh3d"
           }
          ],
          "parcoords": [
           {
            "line": {
             "colorbar": {
              "outlinewidth": 0,
              "ticks": ""
             }
            },
            "type": "parcoords"
           }
          ],
          "pie": [
           {
            "automargin": true,
            "type": "pie"
           }
          ],
          "scatter": [
           {
            "fillpattern": {
             "fillmode": "overlay",
             "size": 10,
             "solidity": 0.2
            },
            "type": "scatter"
           }
          ],
          "scatter3d": [
           {
            "line": {
             "colorbar": {
              "outlinewidth": 0,
              "ticks": ""
             }
            },
            "marker": {
             "colorbar": {
              "outlinewidth": 0,
              "ticks": ""
             }
            },
            "type": "scatter3d"
           }
          ],
          "scattercarpet": [
           {
            "marker": {
             "colorbar": {
              "outlinewidth": 0,
              "ticks": ""
             }
            },
            "type": "scattercarpet"
           }
          ],
          "scattergeo": [
           {
            "marker": {
             "colorbar": {
              "outlinewidth": 0,
              "ticks": ""
             }
            },
            "type": "scattergeo"
           }
          ],
          "scattergl": [
           {
            "marker": {
             "colorbar": {
              "outlinewidth": 0,
              "ticks": ""
             }
            },
            "type": "scattergl"
           }
          ],
          "scattermapbox": [
           {
            "marker": {
             "colorbar": {
              "outlinewidth": 0,
              "ticks": ""
             }
            },
            "type": "scattermapbox"
           }
          ],
          "scatterpolar": [
           {
            "marker": {
             "colorbar": {
              "outlinewidth": 0,
              "ticks": ""
             }
            },
            "type": "scatterpolar"
           }
          ],
          "scatterpolargl": [
           {
            "marker": {
             "colorbar": {
              "outlinewidth": 0,
              "ticks": ""
             }
            },
            "type": "scatterpolargl"
           }
          ],
          "scatterternary": [
           {
            "marker": {
             "colorbar": {
              "outlinewidth": 0,
              "ticks": ""
             }
            },
            "type": "scatterternary"
           }
          ],
          "surface": [
           {
            "colorbar": {
             "outlinewidth": 0,
             "ticks": ""
            },
            "colorscale": [
             [
              0,
              "#0d0887"
             ],
             [
              0.1111111111111111,
              "#46039f"
             ],
             [
              0.2222222222222222,
              "#7201a8"
             ],
             [
              0.3333333333333333,
              "#9c179e"
             ],
             [
              0.4444444444444444,
              "#bd3786"
             ],
             [
              0.5555555555555556,
              "#d8576b"
             ],
             [
              0.6666666666666666,
              "#ed7953"
             ],
             [
              0.7777777777777778,
              "#fb9f3a"
             ],
             [
              0.8888888888888888,
              "#fdca26"
             ],
             [
              1,
              "#f0f921"
             ]
            ],
            "type": "surface"
           }
          ],
          "table": [
           {
            "cells": {
             "fill": {
              "color": "#EBF0F8"
             },
             "line": {
              "color": "white"
             }
            },
            "header": {
             "fill": {
              "color": "#C8D4E3"
             },
             "line": {
              "color": "white"
             }
            },
            "type": "table"
           }
          ]
         },
         "layout": {
          "annotationdefaults": {
           "arrowcolor": "#2a3f5f",
           "arrowhead": 0,
           "arrowwidth": 1
          },
          "autotypenumbers": "strict",
          "coloraxis": {
           "colorbar": {
            "outlinewidth": 0,
            "ticks": ""
           }
          },
          "colorscale": {
           "diverging": [
            [
             0,
             "#8e0152"
            ],
            [
             0.1,
             "#c51b7d"
            ],
            [
             0.2,
             "#de77ae"
            ],
            [
             0.3,
             "#f1b6da"
            ],
            [
             0.4,
             "#fde0ef"
            ],
            [
             0.5,
             "#f7f7f7"
            ],
            [
             0.6,
             "#e6f5d0"
            ],
            [
             0.7,
             "#b8e186"
            ],
            [
             0.8,
             "#7fbc41"
            ],
            [
             0.9,
             "#4d9221"
            ],
            [
             1,
             "#276419"
            ]
           ],
           "sequential": [
            [
             0,
             "#0d0887"
            ],
            [
             0.1111111111111111,
             "#46039f"
            ],
            [
             0.2222222222222222,
             "#7201a8"
            ],
            [
             0.3333333333333333,
             "#9c179e"
            ],
            [
             0.4444444444444444,
             "#bd3786"
            ],
            [
             0.5555555555555556,
             "#d8576b"
            ],
            [
             0.6666666666666666,
             "#ed7953"
            ],
            [
             0.7777777777777778,
             "#fb9f3a"
            ],
            [
             0.8888888888888888,
             "#fdca26"
            ],
            [
             1,
             "#f0f921"
            ]
           ],
           "sequentialminus": [
            [
             0,
             "#0d0887"
            ],
            [
             0.1111111111111111,
             "#46039f"
            ],
            [
             0.2222222222222222,
             "#7201a8"
            ],
            [
             0.3333333333333333,
             "#9c179e"
            ],
            [
             0.4444444444444444,
             "#bd3786"
            ],
            [
             0.5555555555555556,
             "#d8576b"
            ],
            [
             0.6666666666666666,
             "#ed7953"
            ],
            [
             0.7777777777777778,
             "#fb9f3a"
            ],
            [
             0.8888888888888888,
             "#fdca26"
            ],
            [
             1,
             "#f0f921"
            ]
           ]
          },
          "colorway": [
           "#636efa",
           "#EF553B",
           "#00cc96",
           "#ab63fa",
           "#FFA15A",
           "#19d3f3",
           "#FF6692",
           "#B6E880",
           "#FF97FF",
           "#FECB52"
          ],
          "font": {
           "color": "#2a3f5f"
          },
          "geo": {
           "bgcolor": "white",
           "lakecolor": "white",
           "landcolor": "#E5ECF6",
           "showlakes": true,
           "showland": true,
           "subunitcolor": "white"
          },
          "hoverlabel": {
           "align": "left"
          },
          "hovermode": "closest",
          "mapbox": {
           "style": "light"
          },
          "paper_bgcolor": "white",
          "plot_bgcolor": "#E5ECF6",
          "polar": {
           "angularaxis": {
            "gridcolor": "white",
            "linecolor": "white",
            "ticks": ""
           },
           "bgcolor": "#E5ECF6",
           "radialaxis": {
            "gridcolor": "white",
            "linecolor": "white",
            "ticks": ""
           }
          },
          "scene": {
           "xaxis": {
            "backgroundcolor": "#E5ECF6",
            "gridcolor": "white",
            "gridwidth": 2,
            "linecolor": "white",
            "showbackground": true,
            "ticks": "",
            "zerolinecolor": "white"
           },
           "yaxis": {
            "backgroundcolor": "#E5ECF6",
            "gridcolor": "white",
            "gridwidth": 2,
            "linecolor": "white",
            "showbackground": true,
            "ticks": "",
            "zerolinecolor": "white"
           },
           "zaxis": {
            "backgroundcolor": "#E5ECF6",
            "gridcolor": "white",
            "gridwidth": 2,
            "linecolor": "white",
            "showbackground": true,
            "ticks": "",
            "zerolinecolor": "white"
           }
          },
          "shapedefaults": {
           "line": {
            "color": "#2a3f5f"
           }
          },
          "ternary": {
           "aaxis": {
            "gridcolor": "white",
            "linecolor": "white",
            "ticks": ""
           },
           "baxis": {
            "gridcolor": "white",
            "linecolor": "white",
            "ticks": ""
           },
           "bgcolor": "#E5ECF6",
           "caxis": {
            "gridcolor": "white",
            "linecolor": "white",
            "ticks": ""
           }
          },
          "title": {
           "x": 0.05
          },
          "xaxis": {
           "automargin": true,
           "gridcolor": "white",
           "linecolor": "white",
           "ticks": "",
           "title": {
            "standoff": 15
           },
           "zerolinecolor": "white",
           "zerolinewidth": 2
          },
          "yaxis": {
           "automargin": true,
           "gridcolor": "white",
           "linecolor": "white",
           "ticks": "",
           "title": {
            "standoff": 15
           },
           "zerolinecolor": "white",
           "zerolinewidth": 2
          }
         }
        },
        "width": 600,
        "xaxis": {
         "anchor": "y",
         "autorange": true,
         "domain": [
          0,
          1
         ],
         "range": [
          -0.5,
          4.5
         ],
         "title": {
          "text": "x"
         },
         "type": "category"
        },
        "yaxis": {
         "anchor": "x",
         "autorange": true,
         "domain": [
          0,
          1
         ],
         "range": [
          0,
          2462.1052631578946
         ],
         "title": {
          "text": "count"
         }
        }
       }
      },
      "image/png": "[encoded data removed]",
      "text/html": [
       "<div>                            <div id=\"2147e788-c0a5-42ef-b090-04795d5ab62a\" class=\"plotly-graph-div\" style=\"height:600px; width:600px;\"></div>            <script type=\"text/javascript\">                require([\"plotly\"], function(Plotly) {                    window.PLOTLYENV=window.PLOTLYENV || {};                                    if (document.getElementById(\"2147e788-c0a5-42ef-b090-04795d5ab62a\")) {                    Plotly.newPlot(                        \"2147e788-c0a5-42ef-b090-04795d5ab62a\",                        [{\"alignmentgroup\":\"True\",\"bingroup\":\"x\",\"hovertemplate\":\"Alcohol content=Between 10% and 15%\\u003cbr\\u003ex=%{x}\\u003cbr\\u003ecount=%{y}\\u003cextra\\u003e\\u003c\\u002fextra\\u003e\",\"legendgroup\":\"Between 10% and 15%\",\"marker\":{\"color\":\"#636efa\",\"pattern\":{\"shape\":\"\"}},\"name\":\"Between 10% and 15%\",\"offsetgroup\":\"Between 10% and 15%\",\"orientation\":\"v\",\"showlegend\":true,\"texttemplate\":\"%{value}\",\"x\":[\"0.75\",\"0.75\",\"0.75\",\"0.75\",\"0.75\",\"0.75\",\"0.75\",\"0.75\",\"0.75\",\"0.75\",\"0.75\",\"0.75\",\"0.75\",\"0.75\",\"0.75\",\"0.75\",\"0.75\",\"0.75\",\"0.75\",\"0.75\",\"0.75\",\"0.75\",\"0.75\",\"0.75\",\"0.75\",\"0.75\",\"0.75\",\"0.75\",\"0.75\",\"0.75\",\"0.75\",\"0.75\",\"0.75\",\"0.75\",\"0.75\",\"0.75\",\"0.75\",\"0.75\",\"0.75\",\"0.75\",\"0.75\",\"0.75\",\"0.75\",\"0.75\",\"0.75\",\"0.75\",\"0.75\",\"0.75\",\"0.75\",\"0.75\",\"0.75\",\"0.75\",\"0.75\",\"0.75\",\"0.75\",\"0.75\",\"0.75\",\"0.75\",\"0.75\",\"0.75\",\"0.75\",\"0.75\",\"0.75\",\"0.75\",\"0.75\",\"0.75\",\"0.75\",\"0.75\",\"0.75\",\"0.75\",\"0.75\",\"0.75\",\"0.75\",\"0.75\",\"0.75\",\"0.75\",\"0.75\",\"0.75\",\"0.75\",\"0.75\",\"0.75\",\"0.75\",\"0.75\",\"0.75\",\"0.75\",\"0.75\",\"0.75\",\"0.75\",\"0.75\",\"0.75\",\"0.75\",\"0.75\",\"0.75\",\"0.75\",\"0.75\",\"0.75\",\"0.75\",\"0.75\",\"0.75\",\"0.75\",\"0.75\",\"0.75\",\"0.75\",\"0.75\",\"0.75\",\"0.75\",\"0.75\",\"0.75\",\"0.75\",\"0.75\",\"0.75\",\"0.75\",\"0.75\",\"0.75\",\"0.75\",\"0.75\",\"0.75\",\"0.75\",\"0.75\",\"0.75\",\"0.75\",\"0.75\",\"0.75\",\"0.75\",\"0.75\",\"0.75\",\"0.75\",\"0.75\",\"0.75\",\"0.75\",\"0.75\",\"0.75\",\"0.75\",\"0.75\",\"0.75\",\"0.75\",\"0.75\",\"0.75\",\"0.75\",\"0.75\",\"0.75\",\"0.75\",\"0.75\",\"0.75\",\"0.75\",\"0.75\",\"0.75\",\"0.75\",\"0.75\",\"0.75\",\"0.75\",\"0.75\",\"0.75\",\"0.75\",\"0.75\",\"0.75\",\"0.75\",\"0.75\",\"0.75\",\"0.75\",\"0.75\",\"0.75\",\"0.75\",\"0.75\",\"0.75\",\"0.75\",\"0.75\",\"0.75\",\"0.75\",\"0.75\",\"0.75\",\"0.75\",\"0.75\",\"0.75\",\"0.75\",\"0.75\",\"0.75\",\"0.75\",\"0.75\",\"0.75\",\"0.75\",\"0.75\",\"0.75\",\"0.75\",\"0.75\",\"0.75\",\"0.75\",\"0.75\",\"0.75\",\"0.75\",\"0.75\",\"0.75\",\"0.75\",\"0.75\",\"0.75\",\"0.75\",\"0.75\",\"0.75\",\"0.75\",\"0.75\",\"0.75\",\"0.75\",\"0.75\",\"0.75\",\"0.75\",\"0.75\",\"0.75\",\"0.75\",\"0.75\",\"0.75\",\"0.75\",\"0.75\",\"0.75\",\"0.75\",\"0.75\",\"0.75\",\"0.75\",\"0.75\",\"0.75\",\"0.75\",\"0.75\",\"0.75\",\"0.75\",\"0.75\",\"0.75\",\"0.75\",\"0.75\",\"0.75\",\"0.75\",\"0.75\",\"0.75\",\"0.75\",\"0.75\",\"0.75\",\"0.75\",\"0.75\",\"0.75\",\"0.75\",\"0.75\",\"0.75\",\"0.75\",\"0.75\",\"0.75\",\"0.75\",\"0.75\",\"0.75\",\"0.75\",\"0.75\",\"0.75\",\"0.75\",\"0.75\",\"0.75\",\"0.75\",\"0.75\",\"0.75\",\"0.75\",\"0.75\",\"0.75\",\"0.75\",\"0.75\",\"0.75\",\"0.75\",\"0.75\",\"0.75\",\"0.75\",\"0.75\",\"0.75\",\"0.75\",\"0.75\",\"0.75\",\"0.75\",\"0.75\",\"0.75\",\"0.75\",\"0.75\",\"0.75\",\"0.75\",\"0.75\",\"0.75\",\"0.75\",\"0.75\",\"0.75\",\"0.75\",\"0.75\",\"0.75\",\"0.75\",\"0.75\",\"0.75\",\"0.75\",\"0.75\",\"0.75\",\"0.75\",\"0.75\",\"0.75\",\"0.75\",\"0.75\",\"0.75\",\"0.75\",\"0.75\",\"0.75\",\"0.75\",\"0.75\",\"0.75\",\"0.75\",\"0.75\",\"0.75\",\"0.75\",\"0.75\",\"0.75\",\"0.75\",\"0.75\",\"0.75\",\"0.75\",\"0.75\",\"0.75\",\"0.75\",\"0.75\",\"0.75\",\"0.75\",\"0.75\",\"0.75\",\"0.75\",\"0.75\",\"0.75\",\"0.75\",\"0.75\",\"0.75\",\"0.75\",\"0.75\",\"0.75\",\"0.75\",\"0.75\",\"0.75\",\"0.75\",\"0.75\",\"0.75\",\"0.75\",\"0.75\",\"0.75\",\"0.75\",\"0.75\",\"0.75\",\"0.75\",\"0.75\",\"0.75\",\"0.75\",\"0.75\",\"0.75\",\"0.75\",\"0.75\",\"0.75\",\"0.75\",\"0.75\",\"0.75\",\"0.75\",\"0.75\",\"0.75\",\"0.75\",\"0.75\",\"0.75\",\"0.75\",\"0.75\",\"0.75\",\"0.75\",\"0.75\",\"0.75\",\"0.75\",\"0.75\",\"0.75\",\"0.75\",\"0.75\",\"0.75\",\"0.75\",\"0.75\",\"0.75\",\"0.75\",\"0.75\",\"0.75\",\"0.75\",\"0.75\",\"0.75\",\"0.75\",\"0.75\",\"0.75\",\"0.75\",\"0.75\",\"0.75\",\"0.75\",\"0.75\",\"0.75\",\"0.75\",\"0.75\",\"0.75\",\"0.75\",\"0.75\",\"0.75\",\"0.75\",\"0.75\",\"0.75\",\"0.75\",\"0.75\",\"0.75\",\"0.75\",\"0.75\",\"0.75\",\"0.75\",\"0.75\",\"0.75\",\"0.75\",\"0.75\",\"0.75\",\"0.75\",\"0.75\",\"0.75\",\"0.75\",\"0.75\",\"0.75\",\"0.75\",\"0.75\",\"0.75\",\"0.75\",\"0.75\",\"0.75\",\"0.75\",\"0.75\",\"0.75\",\"0.75\",\"0.75\",\"0.75\",\"0.75\",\"0.75\",\"0.75\",\"0.75\",\"0.75\",\"0.75\",\"0.75\",\"0.75\",\"0.75\",\"0.75\",\"0.75\",\"0.75\",\"0.75\",\"0.75\",\"0.75\",\"0.75\",\"0.75\",\"0.75\",\"0.75\",\"0.75\",\"0.75\",\"0.75\",\"0.75\",\"0.75\",\"0.75\",\"0.75\",\"0.75\",\"0.75\",\"0.75\",\"0.75\",\"0.75\",\"0.75\",\"0.75\",\"0.75\",\"0.75\",\"0.75\",\"0.75\",\"0.75\",\"0.75\",\"0.75\",\"0.75\",\"0.75\",\"0.75\",\"1.5\",\"0.75\",\"0.75\",\"0.75\",\"0.75\",\"0.75\",\"0.75\",\"0.75\",\"0.75\",\"0.75\",\"0.75\",\"0.75\",\"0.75\",\"0.75\",\"0.75\",\"0.75\",\"0.75\",\"0.75\",\"0.75\",\"0.75\",\"0.75\",\"0.75\",\"0.75\",\"0.75\",\"0.75\",\"0.75\",\"0.75\",\"0.75\",\"0.75\",\"0.75\",\"0.75\",\"0.75\",\"0.75\",\"0.75\",\"0.75\",\"0.75\",\"0.75\",\"0.75\",\"0.75\",\"0.75\",\"0.75\",\"0.75\",\"0.75\",\"0.75\",\"0.75\",\"0.75\",\"0.75\",\"0.75\",\"0.75\",\"0.75\",\"0.75\",\"0.75\",\"0.75\",\"0.75\",\"0.75\",\"0.75\",\"0.5\",\"0.75\",\"0.75\",\"0.5\",\"0.5\",\"0.5\",\"0.375\",\"0.5\",\"0.75\",\"0.5\",\"0.375\",\"0.5\",\"0.5\",\"0.75\",\"0.375\",\"0.75\",\"0.75\",\"0.75\",\"0.75\",\"0.75\",\"0.75\",\"0.75\",\"0.75\",\"0.75\",\"0.75\",\"0.75\",\"0.75\",\"0.75\",\"0.75\",\"0.75\",\"0.75\",\"0.75\",\"0.75\",\"0.75\",\"0.75\",\"0.75\",\"0.75\",\"0.75\",\"0.75\",\"0.75\",\"0.75\",\"0.75\",\"0.75\",\"0.75\",\"0.75\",\"0.75\",\"0.75\",\"0.75\",\"0.75\",\"0.75\",\"0.75\",\"0.75\",\"0.75\",\"0.75\",\"0.75\",\"0.75\",\"0.75\",\"0.75\",\"0.75\",\"0.75\",\"0.75\",\"0.75\",\"0.75\",\"0.75\",\"0.75\",\"0.75\",\"0.75\",\"0.75\",\"0.75\",\"0.75\",\"0.75\",\"0.75\",\"0.75\",\"0.75\",\"0.75\",\"0.75\",\"0.75\",\"0.75\",\"0.75\",\"0.75\",\"0.75\",\"0.75\",\"0.75\",\"0.75\",\"0.75\",\"0.75\",\"0.75\",\"0.75\",\"0.75\",\"0.75\",\"0.75\",\"0.75\",\"0.75\",\"0.75\",\"0.75\",\"0.75\",\"0.75\",\"0.75\",\"0.75\",\"0.75\",\"0.75\",\"0.75\",\"0.75\",\"0.75\",\"0.75\",\"0.75\",\"0.75\",\"0.75\",\"0.75\",\"0.75\",\"0.75\",\"0.75\",\"0.75\",\"0.75\",\"0.75\",\"0.75\",\"0.75\",\"0.75\",\"0.75\",\"0.75\",\"0.75\",\"0.75\",\"0.75\",\"0.75\",\"0.75\",\"0.75\",\"0.75\",\"0.75\",\"0.75\",\"0.75\",\"0.75\",\"0.75\",\"0.75\",\"0.75\",\"0.75\",\"0.75\",\"0.75\",\"0.75\",\"0.75\",\"0.75\",\"0.75\",\"0.75\",\"0.75\",\"0.75\",\"0.75\",\"0.75\",\"0.75\",\"0.75\",\"0.75\",\"0.75\",\"0.75\",\"0.75\",\"0.75\",\"0.75\",\"0.75\",\"0.75\",\"0.75\",\"0.75\",\"0.75\",\"0.75\",\"0.75\",\"0.75\",\"0.75\",\"0.75\",\"0.75\",\"0.75\",\"0.75\",\"0.75\",\"0.75\",\"0.75\",\"0.75\",\"0.75\",\"0.75\",\"0.75\",\"0.75\",\"0.75\",\"0.75\",\"0.75\",\"0.75\",\"0.75\",\"0.75\",\"0.75\",\"0.75\",\"0.75\",\"0.75\",\"0.75\",\"0.75\",\"0.75\",\"0.75\",\"0.75\",\"0.75\",\"0.75\",\"0.75\",\"0.75\",\"0.75\",\"0.75\",\"0.75\",\"0.75\",\"0.75\",\"0.75\",\"0.75\",\"0.75\",\"0.75\",\"0.75\",\"0.75\",\"0.75\",\"0.75\",\"0.75\",\"0.75\",\"0.75\",\"0.75\",\"0.75\",\"0.75\",\"0.75\",\"0.75\",\"0.75\",\"0.75\",\"0.75\",\"0.75\",\"0.75\",\"0.75\",\"0.75\",\"0.75\",\"0.75\",\"0.75\",\"0.75\",\"0.75\",\"0.75\",\"0.75\",\"0.75\",\"0.75\",\"0.75\",\"0.75\",\"0.75\",\"0.75\",\"0.75\",\"0.75\",\"0.75\",\"0.75\",\"0.75\",\"0.75\",\"0.75\",\"0.75\",\"0.75\",\"0.75\",\"0.75\",\"0.75\",\"0.75\",\"0.75\",\"0.75\",\"0.75\",\"0.75\",\"0.75\",\"0.75\",\"0.75\",\"0.75\",\"0.75\",\"0.75\",\"0.75\",\"0.75\",\"0.75\",\"0.75\",\"0.75\",\"0.75\",\"0.75\",\"0.75\",\"0.75\",\"0.75\",\"0.75\",\"0.75\",\"0.75\",\"0.75\",\"0.75\",\"0.75\",\"0.75\",\"0.75\",\"0.75\",\"0.75\",\"0.75\",\"0.75\",\"0.75\",\"0.75\",\"0.75\",\"0.75\",\"0.75\",\"0.75\",\"0.75\",\"0.75\",\"0.75\",\"0.75\",\"0.75\",\"0.75\",\"0.75\",\"0.75\",\"0.75\",\"0.75\",\"0.75\",\"0.75\",\"0.75\",\"0.75\",\"0.75\",\"0.75\",\"0.75\",\"0.75\",\"0.75\",\"0.75\",\"0.75\",\"0.75\",\"0.75\",\"0.75\",\"0.75\",\"0.75\",\"0.75\",\"0.75\",\"0.75\",\"0.75\",\"0.75\",\"0.75\",\"0.75\",\"0.75\",\"0.75\",\"0.75\",\"0.75\",\"0.75\",\"0.75\",\"0.75\",\"0.75\",\"0.75\",\"0.75\",\"0.75\",\"0.75\",\"0.75\",\"0.75\",\"0.75\",\"0.75\",\"0.75\",\"0.75\",\"0.75\",\"0.75\",\"0.75\",\"0.75\",\"0.75\",\"0.75\",\"0.75\",\"0.75\",\"0.75\",\"0.75\",\"0.75\",\"0.75\",\"0.75\",\"0.75\",\"0.75\",\"0.75\",\"0.75\",\"0.75\",\"0.75\",\"0.75\",\"0.75\",\"0.75\",\"0.75\",\"0.75\",\"0.75\",\"0.75\",\"0.75\",\"0.75\",\"0.75\",\"0.75\",\"0.75\",\"0.75\",\"0.75\",\"0.75\",\"0.75\",\"0.75\",\"0.75\",\"0.75\",\"0.75\",\"0.75\",\"0.75\",\"0.75\",\"0.75\",\"0.75\",\"0.75\",\"0.75\",\"0.75\",\"0.75\",\"0.75\",\"0.75\",\"0.75\",\"0.75\",\"0.75\",\"0.75\",\"0.75\",\"0.75\",\"0.75\",\"0.75\",\"0.75\",\"0.75\",\"0.75\",\"0.75\",\"0.75\",\"0.75\",\"0.75\",\"0.75\",\"0.75\",\"0.75\",\"0.75\",\"0.75\",\"0.75\",\"0.75\",\"0.75\",\"0.75\",\"0.75\",\"0.75\",\"0.75\",\"0.75\",\"0.75\",\"0.75\",\"0.75\",\"0.75\",\"0.75\",\"0.75\",\"0.75\",\"0.75\",\"0.75\",\"0.75\",\"0.75\",\"0.75\",\"0.75\",\"0.75\",\"0.75\",\"0.75\",\"0.75\",\"0.75\",\"0.75\",\"0.75\",\"0.75\",\"0.75\",\"0.75\",\"0.75\",\"0.75\",\"0.75\",\"0.75\",\"0.75\",\"0.75\",\"0.75\",\"0.75\",\"0.75\",\"0.75\",\"0.75\",\"0.75\",\"0.75\",\"0.75\",\"0.75\",\"0.75\",\"0.75\",\"0.75\",\"0.75\",\"0.75\",\"0.75\",\"0.75\",\"0.75\",\"0.75\",\"0.75\",\"0.75\",\"0.75\",\"0.75\",\"0.75\",\"0.75\",\"0.75\",\"0.75\",\"0.75\",\"0.75\",\"0.75\",\"0.75\",\"0.75\",\"0.75\",\"0.75\",\"0.75\",\"0.75\",\"0.75\",\"0.75\",\"0.75\",\"0.75\",\"0.75\",\"0.75\",\"0.75\",\"0.75\",\"0.75\",\"0.75\",\"0.75\",\"0.75\",\"0.75\",\"0.75\",\"0.75\",\"0.75\",\"0.75\",\"0.75\",\"0.75\",\"0.75\",\"0.75\",\"0.75\",\"0.75\",\"0.75\",\"0.75\",\"0.75\",\"0.75\",\"0.75\",\"0.75\",\"0.75\",\"0.75\",\"0.75\",\"0.75\",\"0.75\",\"0.75\",\"0.75\",\"0.75\",\"0.75\",\"0.75\",\"0.75\",\"0.75\",\"0.75\",\"0.75\",\"0.75\",\"0.75\",\"0.75\",\"0.75\",\"0.75\",\"0.75\",\"0.75\",\"0.75\",\"0.75\",\"0.75\",\"0.75\",\"0.75\",\"0.75\",\"0.75\",\"0.75\",\"0.75\",\"0.75\",\"0.75\",\"0.75\",\"0.75\",\"0.75\",\"0.75\",\"0.75\",\"0.75\",\"0.75\",\"0.75\",\"0.75\",\"0.75\",\"0.75\",\"0.75\",\"0.75\",\"0.75\",\"0.75\",\"0.75\",\"0.75\",\"0.75\",\"0.75\",\"0.75\",\"0.75\",\"0.75\",\"0.75\",\"0.75\",\"0.75\",\"0.75\",\"0.75\",\"0.75\",\"0.75\",\"0.75\",\"0.75\",\"0.75\",\"0.75\",\"0.75\",\"0.75\",\"0.75\",\"0.75\",\"0.75\",\"0.75\",\"0.75\",\"0.75\",\"0.75\",\"0.75\",\"0.75\",\"0.75\",\"0.75\",\"0.75\",\"0.75\",\"0.75\",\"0.75\",\"0.75\",\"0.75\",\"0.75\",\"0.75\",\"0.75\",\"0.75\",\"0.75\",\"0.75\",\"0.75\",\"0.75\",\"0.75\",\"0.75\",\"0.75\",\"0.75\",\"0.75\",\"0.75\",\"0.75\",\"0.75\",\"0.75\",\"0.75\",\"0.75\",\"0.75\",\"0.75\",\"0.75\",\"0.75\",\"0.75\",\"0.75\",\"0.75\",\"0.75\",\"0.75\",\"0.75\",\"0.75\",\"0.75\",\"0.75\",\"0.75\",\"0.75\",\"0.75\",\"0.75\",\"0.75\",\"0.75\",\"0.75\",\"0.75\",\"0.75\",\"0.75\",\"0.75\",\"0.75\",\"0.75\",\"0.75\",\"0.75\",\"0.75\",\"0.75\",\"0.75\",\"0.75\",\"0.75\",\"0.75\",\"0.75\",\"0.75\",\"0.75\",\"0.75\",\"0.75\",\"0.75\",\"0.75\",\"0.75\",\"0.75\",\"0.75\",\"0.75\",\"0.75\",\"0.75\",\"0.75\",\"0.75\",\"0.75\",\"0.75\",\"0.75\",\"0.75\",\"0.75\",\"0.75\",\"0.75\",\"0.75\",\"0.75\",\"0.75\",\"0.75\",\"0.75\",\"0.75\",\"0.75\",\"0.75\",\"0.75\",\"0.75\",\"0.75\",\"0.75\",\"0.75\",\"0.75\",\"0.75\",\"0.75\",\"0.75\",\"0.75\",\"0.75\",\"0.75\",\"0.75\",\"0.75\",\"0.75\",\"0.75\",\"0.75\",\"0.75\",\"0.75\",\"0.75\",\"0.75\",\"0.75\",\"0.75\",\"0.75\",\"0.75\",\"0.75\",\"0.75\",\"0.75\",\"0.75\",\"0.75\",\"0.75\",\"0.75\",\"0.75\",\"0.75\",\"0.75\",\"0.75\",\"0.75\",\"0.75\",\"0.75\",\"0.75\",\"0.75\",\"0.75\",\"0.75\",\"0.75\",\"0.75\",\"0.75\",\"0.75\",\"0.75\",\"0.75\",\"0.75\",\"0.75\",\"0.75\",\"0.75\",\"0.75\",\"0.75\",\"0.75\",\"0.75\",\"0.75\",\"0.75\",\"0.75\",\"0.75\",\"0.75\",\"0.75\",\"0.75\",\"0.75\",\"0.75\",\"0.75\",\"0.75\",\"0.75\",\"0.75\",\"0.75\",\"0.75\",\"0.75\",\"0.75\",\"0.75\",\"0.75\",\"0.75\",\"0.75\",\"0.75\",\"0.75\",\"0.75\",\"0.75\",\"0.75\",\"0.75\",\"0.75\",\"0.75\",\"0.75\",\"0.75\",\"0.75\",\"0.75\",\"0.75\",\"0.75\",\"0.75\",\"0.75\",\"0.75\",\"0.75\",\"0.75\",\"0.75\",\"0.75\",\"0.75\",\"0.75\",\"0.75\",\"0.75\",\"0.75\",\"0.75\",\"0.75\",\"0.75\",\"0.75\",\"0.75\",\"0.75\",\"0.75\",\"0.75\",\"0.75\",\"0.75\",\"0.75\",\"0.75\",\"0.75\",\"0.75\",\"0.75\",\"0.75\",\"0.75\",\"0.75\",\"0.75\",\"0.75\",\"0.75\",\"0.75\",\"0.75\",\"0.75\",\"0.75\",\"0.75\",\"0.75\",\"0.75\",\"0.75\",\"0.75\",\"0.75\",\"0.75\",\"0.75\",\"0.75\",\"0.75\",\"0.75\",\"0.75\",\"0.75\",\"0.75\",\"0.75\",\"0.75\",\"0.75\",\"0.75\",\"0.75\",\"0.75\",\"0.75\",\"0.75\",\"0.75\",\"0.75\",\"0.75\",\"0.75\",\"0.75\",\"0.75\",\"0.75\",\"0.75\",\"0.75\",\"0.75\",\"0.75\",\"0.75\",\"0.75\",\"0.75\",\"0.75\",\"0.75\",\"0.75\",\"0.75\",\"0.75\",\"0.75\",\"0.75\",\"0.75\",\"0.75\",\"0.75\",\"0.75\",\"0.75\",\"0.75\",\"0.75\",\"0.75\",\"0.75\",\"0.75\",\"0.75\",\"0.75\",\"0.75\",\"0.75\",\"0.75\",\"0.75\",\"0.75\",\"0.75\",\"0.75\",\"0.75\",\"0.75\",\"0.75\",\"0.75\",\"0.75\",\"0.75\",\"0.75\",\"0.75\",\"0.75\",\"0.75\",\"0.75\",\"0.75\",\"0.75\",\"0.75\",\"0.75\",\"0.75\",\"0.75\",\"0.75\",\"0.75\",\"0.75\",\"0.75\",\"0.75\",\"0.75\",\"0.75\",\"0.75\",\"0.75\",\"0.75\",\"0.75\",\"0.75\",\"0.75\",\"0.75\",\"0.75\",\"0.75\",\"0.75\",\"0.75\",\"0.75\",\"0.75\",\"0.75\",\"0.75\",\"0.75\",\"0.75\",\"0.75\",\"0.75\",\"0.75\",\"0.75\",\"0.75\",\"0.75\",\"0.75\",\"0.75\",\"0.75\",\"0.75\",\"0.75\",\"0.75\",\"0.75\",\"0.75\",\"0.75\",\"0.75\",\"0.75\",\"0.75\",\"0.5\",\"0.75\",\"0.75\",\"0.75\",\"0.75\",\"0.75\",\"0.75\",\"0.75\",\"0.75\",\"0.75\",\"0.75\",\"0.75\",\"0.75\",\"0.75\",\"0.75\",\"0.75\",\"0.75\",\"0.75\",\"0.75\",\"0.75\",\"0.75\",\"0.75\",\"0.75\",\"0.75\",\"0.75\",\"0.75\",\"0.75\",\"0.75\",\"0.75\",\"0.75\",\"0.75\",\"0.75\",\"0.75\",\"0.75\",\"0.75\",\"0.75\",\"0.75\",\"0.75\",\"0.75\",\"0.75\",\"0.75\",\"0.75\",\"0.75\",\"0.75\",\"0.75\",\"0.75\",\"0.75\",\"0.75\",\"0.75\",\"0.75\",\"0.75\",\"0.75\",\"0.75\",\"0.75\",\"0.75\",\"0.75\",\"0.75\",\"0.75\",\"0.75\",\"0.75\",\"0.75\",\"0.75\",\"0.75\",\"0.75\",\"0.75\",\"0.75\",\"0.75\",\"0.75\",\"0.75\",\"0.75\",\"0.75\",\"0.75\",\"0.75\",\"0.75\",\"0.75\",\"0.75\",\"0.75\",\"0.75\",\"0.75\",\"0.75\",\"0.75\",\"0.75\",\"0.75\",\"0.75\",\"0.75\",\"0.75\",\"0.75\",\"0.75\",\"0.75\",\"0.75\",\"0.75\",\"0.75\",\"0.75\",\"0.75\",\"0.75\",\"0.75\",\"0.75\",\"0.75\",\"0.75\",\"0.75\",\"0.75\",\"0.75\",\"0.75\",\"0.75\",\"0.75\",\"0.75\",\"0.75\",\"0.75\",\"0.75\",\"0.75\",\"0.75\",\"0.75\",\"0.75\",\"0.75\",\"0.75\",\"0.75\",\"0.75\",\"0.75\",\"0.75\",\"0.75\",\"0.75\",\"0.75\",\"0.75\",\"0.75\",\"0.75\",\"0.75\",\"0.75\",\"0.75\",\"0.75\",\"0.75\",\"0.75\",\"0.75\",\"0.75\",\"0.75\",\"0.75\",\"0.75\",\"0.75\",\"0.75\",\"0.75\",\"0.75\",\"0.75\",\"0.75\",\"0.75\",\"0.75\",\"0.75\",\"0.75\",\"0.75\",\"0.75\",\"0.75\",\"0.75\",\"0.75\",\"0.75\",\"0.75\",\"0.75\",\"0.75\",\"0.75\",\"0.75\",\"0.75\",\"0.75\",\"0.75\",\"0.75\",\"0.75\",\"0.75\",\"0.75\",\"0.75\",\"0.75\",\"0.75\",\"0.75\",\"0.75\",\"0.75\",\"0.75\",\"0.75\",\"0.75\",\"0.75\",\"0.75\",\"0.75\",\"0.75\",\"0.75\",\"0.75\",\"0.75\",\"0.75\",\"0.75\",\"0.75\",\"0.75\",\"0.75\",\"0.75\",\"0.75\",\"0.75\",\"0.75\",\"0.75\",\"0.75\",\"0.75\",\"0.75\",\"0.75\",\"0.75\",\"0.75\",\"0.75\",\"0.75\",\"0.75\",\"0.75\",\"0.75\",\"0.75\",\"0.75\",\"0.75\",\"0.75\",\"0.75\",\"0.75\",\"0.75\",\"0.75\",\"0.75\",\"0.75\",\"0.75\",\"0.75\",\"0.75\",\"0.75\",\"0.75\",\"0.75\",\"0.75\",\"0.75\",\"0.75\",\"0.75\",\"0.75\",\"0.75\",\"0.75\",\"0.75\",\"0.75\",\"0.75\",\"0.75\",\"0.75\",\"0.75\",\"0.75\",\"0.75\",\"0.75\",\"0.75\",\"0.75\",\"0.75\",\"0.75\",\"0.75\",\"0.75\",\"0.75\",\"0.75\",\"0.75\",\"0.75\",\"0.75\",\"0.75\",\"0.75\",\"0.75\",\"0.75\",\"0.75\",\"0.75\",\"0.75\",\"0.75\",\"0.75\",\"0.75\",\"0.75\",\"0.75\",\"0.75\",\"0.75\",\"0.75\",\"0.75\",\"0.75\",\"0.75\",\"0.75\",\"0.75\",\"0.75\",\"0.75\",\"0.75\",\"0.75\",\"0.75\",\"0.75\",\"0.75\",\"0.75\",\"0.75\",\"0.75\",\"0.75\",\"0.75\",\"0.75\",\"0.75\",\"0.75\",\"0.75\",\"0.75\",\"0.75\",\"0.75\",\"0.75\",\"0.75\",\"0.75\",\"0.75\",\"0.75\",\"0.75\",\"0.75\",\"0.75\",\"0.75\",\"0.75\",\"0.75\",\"0.75\",\"0.75\",\"0.75\",\"0.75\",\"0.75\",\"0.75\",\"0.75\",\"0.75\",\"0.75\",\"0.75\",\"0.75\",\"0.75\",\"0.75\",\"0.75\",\"0.75\",\"0.75\",\"0.75\",\"0.75\",\"0.75\",\"0.75\",\"0.75\",\"0.75\",\"0.75\",\"0.75\",\"0.75\",\"0.75\",\"0.75\",\"0.75\",\"0.75\",\"0.75\",\"0.75\",\"0.75\",\"0.75\",\"0.75\",\"0.75\",\"0.75\",\"0.75\",\"0.75\",\"0.75\",\"0.75\",\"0.75\",\"0.75\",\"0.75\",\"0.75\",\"0.75\",\"0.75\",\"0.75\",\"0.75\",\"0.75\",\"0.75\",\"0.75\",\"0.75\",\"0.75\",\"0.75\",\"0.75\",\"0.75\",\"0.75\",\"0.75\",\"0.75\",\"0.75\",\"0.75\",\"0.75\",\"0.75\",\"0.75\",\"0.75\",\"0.75\",\"0.75\",\"0.75\",\"0.75\",\"0.75\",\"0.75\",\"0.75\",\"0.75\",\"0.75\",\"0.75\",\"0.75\",\"0.75\",\"0.75\",\"0.75\",\"0.75\",\"0.75\",\"0.75\",\"0.75\",\"0.75\",\"0.75\",\"0.75\",\"0.75\",\"0.75\",\"0.75\",\"0.75\",\"0.75\",\"0.75\",\"0.75\",\"0.75\",\"0.75\",\"0.75\",\"0.75\",\"0.75\",\"0.75\",\"0.75\",\"0.75\",\"0.75\",\"0.75\",\"0.75\",\"0.75\",\"0.75\",\"0.75\",\"0.75\",\"0.75\",\"0.75\",\"0.75\",\"0.75\",\"0.75\",\"0.75\",\"0.75\",\"0.75\",\"0.75\",\"0.75\",\"0.75\",\"0.75\",\"0.75\",\"0.75\",\"0.75\",\"0.75\",\"0.75\",\"0.75\",\"0.75\",\"0.75\",\"0.75\",\"0.75\",\"0.75\",\"0.75\",\"0.75\",\"0.75\",\"0.75\",\"0.75\",\"0.75\",\"0.75\",\"0.75\",\"0.75\",\"0.75\",\"0.75\",\"0.75\",\"0.75\",\"0.75\",\"0.75\",\"0.75\",\"0.75\",\"0.75\",\"0.75\",\"0.75\",\"0.75\",\"0.75\",\"0.75\",\"0.75\",\"0.75\",\"0.75\",\"0.75\",\"0.75\",\"0.75\",\"0.75\",\"0.75\",\"0.75\",\"0.75\",\"0.75\",\"0.75\",\"0.75\",\"0.75\",\"0.75\",\"0.75\",\"0.75\",\"0.75\",\"0.75\",\"0.75\",\"0.75\",\"0.75\",\"0.75\",\"0.75\",\"0.75\",\"0.75\",\"0.75\",\"0.75\",\"0.75\",\"0.75\",\"0.75\",\"0.75\",\"0.75\",\"0.75\",\"0.75\",\"0.75\",\"0.75\",\"0.75\",\"0.75\",\"0.75\",\"0.75\",\"0.75\",\"0.75\",\"0.75\",\"0.75\",\"0.75\",\"0.75\",\"0.75\",\"0.75\",\"0.75\",\"0.75\",\"0.75\",\"0.75\",\"0.75\",\"0.75\",\"0.75\",\"0.75\",\"0.75\",\"0.75\",\"0.75\",\"0.75\",\"0.75\",\"0.75\",\"0.75\",\"0.75\",\"0.75\",\"0.75\",\"0.75\",\"0.75\",\"0.75\",\"0.75\",\"0.75\",\"0.75\",\"0.75\",\"0.75\",\"0.75\",\"0.75\",\"0.75\",\"0.75\",\"0.75\",\"0.75\",\"0.75\",\"0.75\",\"0.75\",\"0.75\",\"0.75\",\"0.75\",\"0.75\",\"0.75\",\"0.75\",\"0.75\",\"0.75\",\"0.75\",\"0.75\",\"0.75\",\"0.75\",\"0.75\",\"0.75\",\"0.75\",\"0.75\",\"0.75\",\"0.75\",\"0.5\",\"0.75\",\"0.75\",\"0.75\",\"0.75\",\"0.75\",\"0.75\",\"0.75\",\"0.75\",\"0.75\",\"0.75\",\"0.75\",\"0.75\",\"0.75\",\"0.75\",\"0.75\",\"0.75\",\"0.75\",\"0.75\",\"0.75\",\"0.75\",\"0.75\",\"0.75\",\"0.75\",\"0.75\",\"0.75\",\"0.75\",\"0.75\",\"0.75\",\"0.75\",\"0.75\",\"0.75\",\"0.75\",\"0.75\",\"0.75\",\"0.75\",\"0.75\",\"0.75\",\"0.75\",\"0.75\",\"0.75\",\"0.75\",\"0.75\",\"0.75\",\"0.75\",\"0.75\",\"0.75\",\"0.75\",\"0.75\",\"0.75\",\"0.75\",\"0.75\",\"0.75\",\"0.75\",\"0.75\",\"0.75\",\"0.75\",\"0.75\",\"0.75\",\"0.75\",\"0.75\",\"0.75\",\"0.75\",\"0.75\",\"0.75\",\"0.75\",\"0.75\",\"0.75\",\"0.75\",\"0.75\",\"0.75\",\"0.75\",\"0.75\",\"0.75\",\"0.75\",\"0.5\",\"0.75\",\"0.75\",\"0.5\",\"0.5\",\"0.375\",\"0.5\",\"0.75\",\"0.375\",\"0.5\",\"0.75\",\"0.375\",\"0.375\",\"0.375\",\"0.375\",\"0.75\",\"0.375\",\"0.375\",\"0.375\",\"0.375\",\"0.5\",\"0.375\",\"0.5\",\"0.375\",\"0.5\",\"0.5\",\"0.375\",\"0.375\",\"0.5\",\"0.5\",\"0.375\",\"0.5\",\"0.5\",\"0.5\",\"0.75\",\"0.375\",\"0.375\",\"0.62\",\"0.5\",\"0.5\",\"0.5\",\"0.75\",\"0.75\",\"0.375\",\"0.5\",\"0.75\",\"0.375\",\"0.375\",\"0.75\",\"0.375\",\"0.5\",\"0.375\",\"0.375\",\"0.5\",\"0.5\",\"0.375\",\"0.75\",\"0.5\",\"0.375\",\"0.75\",\"0.75\",\"0.75\",\"0.75\",\"0.75\",\"0.75\",\"0.75\",\"0.75\",\"0.75\",\"0.75\",\"0.75\",\"0.75\",\"0.75\",\"0.75\",\"0.75\",\"0.75\",\"0.75\",\"0.75\",\"0.75\",\"0.75\",\"0.75\",\"0.75\",\"0.75\",\"0.75\",\"0.75\",\"0.75\",\"0.75\",\"0.75\",\"0.75\",\"0.75\",\"0.75\",\"0.75\",\"0.75\",\"0.75\",\"0.75\",\"0.75\",\"0.75\",\"0.75\",\"0.75\",\"0.75\",\"0.75\",\"0.75\",\"0.75\",\"0.75\",\"0.75\",\"0.75\",\"0.75\",\"0.75\",\"0.75\",\"0.75\",\"0.75\",\"0.75\",\"0.75\",\"0.75\",\"0.75\",\"0.75\",\"0.75\",\"0.75\",\"0.75\",\"0.75\",\"0.75\",\"0.75\",\"0.75\",\"0.75\",\"0.75\",\"0.75\",\"0.75\",\"0.75\",\"0.75\",\"0.75\",\"0.75\",\"0.75\",\"0.75\",\"0.75\",\"0.75\",\"0.75\",\"0.75\",\"0.75\",\"0.75\",\"0.75\",\"0.75\",\"0.75\",\"0.75\",\"0.75\",\"0.75\",\"0.75\",\"0.75\",\"0.75\",\"0.75\",\"0.75\",\"0.75\",\"0.75\",\"0.75\",\"0.75\",\"0.75\",\"0.75\",\"0.75\",\"0.75\",\"0.75\",\"0.75\",\"0.75\",\"0.75\",\"0.75\",\"0.75\",\"0.75\",\"0.75\",\"0.75\",\"0.75\",\"0.75\",\"0.75\",\"0.75\",\"0.75\",\"0.75\",\"0.75\",\"0.75\",\"0.75\",\"0.75\",\"0.75\",\"0.75\",\"0.75\",\"0.75\",\"0.75\",\"0.75\",\"0.75\",\"0.75\",\"0.75\",\"0.75\",\"0.75\",\"0.75\",\"0.75\",\"0.75\",\"0.75\",\"0.75\",\"0.75\",\"0.75\",\"0.75\",\"0.75\",\"0.75\",\"0.75\",\"0.75\",\"0.75\",\"0.75\",\"0.75\",\"0.75\",\"0.75\",\"0.75\",\"0.75\",\"0.75\",\"0.75\",\"0.75\",\"0.75\",\"0.75\",\"0.75\",\"0.75\",\"0.75\",\"0.75\",\"0.75\",\"0.75\",\"0.75\",\"0.75\",\"0.75\",\"0.75\",\"0.75\",\"0.75\",\"0.75\",\"0.75\",\"0.75\",\"0.75\",\"0.75\",\"0.75\",\"0.75\",\"0.75\",\"0.75\",\"0.75\",\"0.75\",\"0.75\",\"0.75\",\"0.75\",\"0.75\",\"0.75\",\"0.75\",\"0.75\",\"0.75\",\"0.75\",\"0.75\",\"0.75\",\"0.75\",\"0.75\",\"0.75\",\"0.75\",\"0.75\",\"0.75\",\"0.75\",\"0.75\",\"0.75\",\"0.75\",\"0.75\",\"0.75\",\"0.75\",\"0.75\",\"0.75\",\"0.75\",\"0.75\",\"0.75\",\"0.75\",\"0.75\",\"0.75\",\"0.75\",\"0.75\",\"0.75\",\"0.75\",\"0.75\",\"0.75\",\"0.75\",\"0.75\",\"0.75\",\"0.75\",\"0.75\",\"0.75\",\"0.75\",\"0.75\",\"0.75\",\"0.75\",\"0.75\",\"0.75\",\"0.75\",\"0.75\",\"0.75\",\"0.75\",\"0.75\",\"0.75\",\"0.75\",\"0.75\",\"0.75\",\"0.75\",\"0.75\",\"0.75\",\"0.75\",\"0.75\",\"0.75\",\"0.75\",\"0.75\",\"0.75\",\"0.75\",\"0.75\",\"0.75\",\"0.75\",\"0.75\",\"0.75\",\"0.75\",\"0.75\",\"0.75\",\"0.75\",\"0.75\",\"0.75\",\"0.75\",\"0.75\",\"0.75\",\"0.75\",\"0.75\",\"0.75\",\"0.75\",\"0.75\",\"0.75\"],\"xaxis\":\"x\",\"yaxis\":\"y\",\"type\":\"histogram\"},{\"alignmentgroup\":\"True\",\"bingroup\":\"x\",\"hovertemplate\":\"Alcohol content=More 15%\\u003cbr\\u003ex=%{x}\\u003cbr\\u003ecount=%{y}\\u003cextra\\u003e\\u003c\\u002fextra\\u003e\",\"legendgroup\":\"More 15%\",\"marker\":{\"color\":\"#EF553B\",\"pattern\":{\"shape\":\"\"}},\"name\":\"More 15%\",\"offsetgroup\":\"More 15%\",\"orientation\":\"v\",\"showlegend\":true,\"texttemplate\":\"%{value}\",\"x\":[\"0.75\",\"0.75\",\"0.75\",\"0.75\",\"0.75\",\"0.75\",\"0.75\",\"0.75\",\"0.75\",\"0.75\",\"0.75\",\"0.75\",\"0.75\",\"0.75\",\"0.75\",\"0.75\",\"0.75\",\"0.75\",\"0.75\",\"0.75\",\"0.75\",\"0.75\",\"0.75\",\"0.75\",\"0.75\",\"0.75\",\"0.75\",\"0.75\",\"0.75\",\"0.75\",\"0.75\",\"0.75\",\"0.75\",\"0.75\",\"0.75\",\"0.75\",\"0.75\",\"0.75\",\"0.75\",\"0.75\",\"0.75\",\"0.75\",\"0.75\",\"0.75\",\"0.75\",\"0.75\",\"0.75\",\"0.75\",\"0.75\",\"0.75\",\"0.75\",\"0.75\",\"0.75\",\"0.75\",\"0.75\",\"0.75\",\"0.75\",\"0.75\",\"0.75\",\"0.75\",\"0.75\",\"0.75\",\"0.75\",\"0.75\",\"0.75\",\"0.375\",\"0.5\",\"0.375\",\"0.375\",\"0.75\",\"0.75\",\"0.75\",\"0.75\",\"0.75\",\"0.75\",\"0.75\",\"0.75\",\"0.75\",\"0.75\"],\"xaxis\":\"x\",\"yaxis\":\"y\",\"type\":\"histogram\"},{\"alignmentgroup\":\"True\",\"bingroup\":\"x\",\"hovertemplate\":\"Alcohol content=Less than 5%\\u003cbr\\u003ex=%{x}\\u003cbr\\u003ecount=%{y}\\u003cextra\\u003e\\u003c\\u002fextra\\u003e\",\"legendgroup\":\"Less than 5%\",\"marker\":{\"color\":\"#00cc96\",\"pattern\":{\"shape\":\"\"}},\"name\":\"Less than 5%\",\"offsetgroup\":\"Less than 5%\",\"orientation\":\"v\",\"showlegend\":true,\"texttemplate\":\"%{value}\",\"x\":[\"0.75\",\"0.75\"],\"xaxis\":\"x\",\"yaxis\":\"y\",\"type\":\"histogram\"},{\"alignmentgroup\":\"True\",\"bingroup\":\"x\",\"hovertemplate\":\"Alcohol content=Between 5% and 10%\\u003cbr\\u003ex=%{x}\\u003cbr\\u003ecount=%{y}\\u003cextra\\u003e\\u003c\\u002fextra\\u003e\",\"legendgroup\":\"Between 5% and 10%\",\"marker\":{\"color\":\"#ab63fa\",\"pattern\":{\"shape\":\"\"}},\"name\":\"Between 5% and 10%\",\"offsetgroup\":\"Between 5% and 10%\",\"orientation\":\"v\",\"showlegend\":true,\"texttemplate\":\"%{value}\",\"x\":[\"0.75\",\"0.75\",\"0.75\",\"0.75\",\"0.75\",\"0.75\",\"0.75\",\"0.75\",\"0.75\",\"0.75\",\"0.75\",\"0.75\",\"0.75\",\"0.75\"],\"xaxis\":\"x\",\"yaxis\":\"y\",\"type\":\"histogram\"}],                        {\"template\":{\"data\":{\"histogram2dcontour\":[{\"type\":\"histogram2dcontour\",\"colorbar\":{\"outlinewidth\":0,\"ticks\":\"\"},\"colorscale\":[[0.0,\"#0d0887\"],[0.1111111111111111,\"#46039f\"],[0.2222222222222222,\"#7201a8\"],[0.3333333333333333,\"#9c179e\"],[0.4444444444444444,\"#bd3786\"],[0.5555555555555556,\"#d8576b\"],[0.6666666666666666,\"#ed7953\"],[0.7777777777777778,\"#fb9f3a\"],[0.8888888888888888,\"#fdca26\"],[1.0,\"#f0f921\"]]}],\"choropleth\":[{\"type\":\"choropleth\",\"colorbar\":{\"outlinewidth\":0,\"ticks\":\"\"}}],\"histogram2d\":[{\"type\":\"histogram2d\",\"colorbar\":{\"outlinewidth\":0,\"ticks\":\"\"},\"colorscale\":[[0.0,\"#0d0887\"],[0.1111111111111111,\"#46039f\"],[0.2222222222222222,\"#7201a8\"],[0.3333333333333333,\"#9c179e\"],[0.4444444444444444,\"#bd3786\"],[0.5555555555555556,\"#d8576b\"],[0.6666666666666666,\"#ed7953\"],[0.7777777777777778,\"#fb9f3a\"],[0.8888888888888888,\"#fdca26\"],[1.0,\"#f0f921\"]]}],\"heatmap\":[{\"type\":\"heatmap\",\"colorbar\":{\"outlinewidth\":0,\"ticks\":\"\"},\"colorscale\":[[0.0,\"#0d0887\"],[0.1111111111111111,\"#46039f\"],[0.2222222222222222,\"#7201a8\"],[0.3333333333333333,\"#9c179e\"],[0.4444444444444444,\"#bd3786\"],[0.5555555555555556,\"#d8576b\"],[0.6666666666666666,\"#ed7953\"],[0.7777777777777778,\"#fb9f3a\"],[0.8888888888888888,\"#fdca26\"],[1.0,\"#f0f921\"]]}],\"heatmapgl\":[{\"type\":\"heatmapgl\",\"colorbar\":{\"outlinewidth\":0,\"ticks\":\"\"},\"colorscale\":[[0.0,\"#0d0887\"],[0.1111111111111111,\"#46039f\"],[0.2222222222222222,\"#7201a8\"],[0.3333333333333333,\"#9c179e\"],[0.4444444444444444,\"#bd3786\"],[0.5555555555555556,\"#d8576b\"],[0.6666666666666666,\"#ed7953\"],[0.7777777777777778,\"#fb9f3a\"],[0.8888888888888888,\"#fdca26\"],[1.0,\"#f0f921\"]]}],\"contourcarpet\":[{\"type\":\"contourcarpet\",\"colorbar\":{\"outlinewidth\":0,\"ticks\":\"\"}}],\"contour\":[{\"type\":\"contour\",\"colorbar\":{\"outlinewidth\":0,\"ticks\":\"\"},\"colorscale\":[[0.0,\"#0d0887\"],[0.1111111111111111,\"#46039f\"],[0.2222222222222222,\"#7201a8\"],[0.3333333333333333,\"#9c179e\"],[0.4444444444444444,\"#bd3786\"],[0.5555555555555556,\"#d8576b\"],[0.6666666666666666,\"#ed7953\"],[0.7777777777777778,\"#fb9f3a\"],[0.8888888888888888,\"#fdca26\"],[1.0,\"#f0f921\"]]}],\"surface\":[{\"type\":\"surface\",\"colorbar\":{\"outlinewidth\":0,\"ticks\":\"\"},\"colorscale\":[[0.0,\"#0d0887\"],[0.1111111111111111,\"#46039f\"],[0.2222222222222222,\"#7201a8\"],[0.3333333333333333,\"#9c179e\"],[0.4444444444444444,\"#bd3786\"],[0.5555555555555556,\"#d8576b\"],[0.6666666666666666,\"#ed7953\"],[0.7777777777777778,\"#fb9f3a\"],[0.8888888888888888,\"#fdca26\"],[1.0,\"#f0f921\"]]}],\"mesh3d\":[{\"type\":\"mesh3d\",\"colorbar\":{\"outlinewidth\":0,\"ticks\":\"\"}}],\"scatter\":[{\"fillpattern\":{\"fillmode\":\"overlay\",\"size\":10,\"solidity\":0.2},\"type\":\"scatter\"}],\"parcoords\":[{\"type\":\"parcoords\",\"line\":{\"colorbar\":{\"outlinewidth\":0,\"ticks\":\"\"}}}],\"scatterpolargl\":[{\"type\":\"scatterpolargl\",\"marker\":{\"colorbar\":{\"outlinewidth\":0,\"ticks\":\"\"}}}],\"bar\":[{\"error_x\":{\"color\":\"#2a3f5f\"},\"error_y\":{\"color\":\"#2a3f5f\"},\"marker\":{\"line\":{\"color\":\"#E5ECF6\",\"width\":0.5},\"pattern\":{\"fillmode\":\"overlay\",\"size\":10,\"solidity\":0.2}},\"type\":\"bar\"}],\"scattergeo\":[{\"type\":\"scattergeo\",\"marker\":{\"colorbar\":{\"outlinewidth\":0,\"ticks\":\"\"}}}],\"scatterpolar\":[{\"type\":\"scatterpolar\",\"marker\":{\"colorbar\":{\"outlinewidth\":0,\"ticks\":\"\"}}}],\"histogram\":[{\"marker\":{\"pattern\":{\"fillmode\":\"overlay\",\"size\":10,\"solidity\":0.2}},\"type\":\"histogram\"}],\"scattergl\":[{\"type\":\"scattergl\",\"marker\":{\"colorbar\":{\"outlinewidth\":0,\"ticks\":\"\"}}}],\"scatter3d\":[{\"type\":\"scatter3d\",\"line\":{\"colorbar\":{\"outlinewidth\":0,\"ticks\":\"\"}},\"marker\":{\"colorbar\":{\"outlinewidth\":0,\"ticks\":\"\"}}}],\"scattermapbox\":[{\"type\":\"scattermapbox\",\"marker\":{\"colorbar\":{\"outlinewidth\":0,\"ticks\":\"\"}}}],\"scatterternary\":[{\"type\":\"scatterternary\",\"marker\":{\"colorbar\":{\"outlinewidth\":0,\"ticks\":\"\"}}}],\"scattercarpet\":[{\"type\":\"scattercarpet\",\"marker\":{\"colorbar\":{\"outlinewidth\":0,\"ticks\":\"\"}}}],\"carpet\":[{\"aaxis\":{\"endlinecolor\":\"#2a3f5f\",\"gridcolor\":\"white\",\"linecolor\":\"white\",\"minorgridcolor\":\"white\",\"startlinecolor\":\"#2a3f5f\"},\"baxis\":{\"endlinecolor\":\"#2a3f5f\",\"gridcolor\":\"white\",\"linecolor\":\"white\",\"minorgridcolor\":\"white\",\"startlinecolor\":\"#2a3f5f\"},\"type\":\"carpet\"}],\"table\":[{\"cells\":{\"fill\":{\"color\":\"#EBF0F8\"},\"line\":{\"color\":\"white\"}},\"header\":{\"fill\":{\"color\":\"#C8D4E3\"},\"line\":{\"color\":\"white\"}},\"type\":\"table\"}],\"barpolar\":[{\"marker\":{\"line\":{\"color\":\"#E5ECF6\",\"width\":0.5},\"pattern\":{\"fillmode\":\"overlay\",\"size\":10,\"solidity\":0.2}},\"type\":\"barpolar\"}],\"pie\":[{\"automargin\":true,\"type\":\"pie\"}]},\"layout\":{\"autotypenumbers\":\"strict\",\"colorway\":[\"#636efa\",\"#EF553B\",\"#00cc96\",\"#ab63fa\",\"#FFA15A\",\"#19d3f3\",\"#FF6692\",\"#B6E880\",\"#FF97FF\",\"#FECB52\"],\"font\":{\"color\":\"#2a3f5f\"},\"hovermode\":\"closest\",\"hoverlabel\":{\"align\":\"left\"},\"paper_bgcolor\":\"white\",\"plot_bgcolor\":\"#E5ECF6\",\"polar\":{\"bgcolor\":\"#E5ECF6\",\"angularaxis\":{\"gridcolor\":\"white\",\"linecolor\":\"white\",\"ticks\":\"\"},\"radialaxis\":{\"gridcolor\":\"white\",\"linecolor\":\"white\",\"ticks\":\"\"}},\"ternary\":{\"bgcolor\":\"#E5ECF6\",\"aaxis\":{\"gridcolor\":\"white\",\"linecolor\":\"white\",\"ticks\":\"\"},\"baxis\":{\"gridcolor\":\"white\",\"linecolor\":\"white\",\"ticks\":\"\"},\"caxis\":{\"gridcolor\":\"white\",\"linecolor\":\"white\",\"ticks\":\"\"}},\"coloraxis\":{\"colorbar\":{\"outlinewidth\":0,\"ticks\":\"\"}},\"colorscale\":{\"sequential\":[[0.0,\"#0d0887\"],[0.1111111111111111,\"#46039f\"],[0.2222222222222222,\"#7201a8\"],[0.3333333333333333,\"#9c179e\"],[0.4444444444444444,\"#bd3786\"],[0.5555555555555556,\"#d8576b\"],[0.6666666666666666,\"#ed7953\"],[0.7777777777777778,\"#fb9f3a\"],[0.8888888888888888,\"#fdca26\"],[1.0,\"#f0f921\"]],\"sequentialminus\":[[0.0,\"#0d0887\"],[0.1111111111111111,\"#46039f\"],[0.2222222222222222,\"#7201a8\"],[0.3333333333333333,\"#9c179e\"],[0.4444444444444444,\"#bd3786\"],[0.5555555555555556,\"#d8576b\"],[0.6666666666666666,\"#ed7953\"],[0.7777777777777778,\"#fb9f3a\"],[0.8888888888888888,\"#fdca26\"],[1.0,\"#f0f921\"]],\"diverging\":[[0,\"#8e0152\"],[0.1,\"#c51b7d\"],[0.2,\"#de77ae\"],[0.3,\"#f1b6da\"],[0.4,\"#fde0ef\"],[0.5,\"#f7f7f7\"],[0.6,\"#e6f5d0\"],[0.7,\"#b8e186\"],[0.8,\"#7fbc41\"],[0.9,\"#4d9221\"],[1,\"#276419\"]]},\"xaxis\":{\"gridcolor\":\"white\",\"linecolor\":\"white\",\"ticks\":\"\",\"title\":{\"standoff\":15},\"zerolinecolor\":\"white\",\"automargin\":true,\"zerolinewidth\":2},\"yaxis\":{\"gridcolor\":\"white\",\"linecolor\":\"white\",\"ticks\":\"\",\"title\":{\"standoff\":15},\"zerolinecolor\":\"white\",\"automargin\":true,\"zerolinewidth\":2},\"scene\":{\"xaxis\":{\"backgroundcolor\":\"#E5ECF6\",\"gridcolor\":\"white\",\"linecolor\":\"white\",\"showbackground\":true,\"ticks\":\"\",\"zerolinecolor\":\"white\",\"gridwidth\":2},\"yaxis\":{\"backgroundcolor\":\"#E5ECF6\",\"gridcolor\":\"white\",\"linecolor\":\"white\",\"showbackground\":true,\"ticks\":\"\",\"zerolinecolor\":\"white\",\"gridwidth\":2},\"zaxis\":{\"backgroundcolor\":\"#E5ECF6\",\"gridcolor\":\"white\",\"linecolor\":\"white\",\"showbackground\":true,\"ticks\":\"\",\"zerolinecolor\":\"white\",\"gridwidth\":2}},\"shapedefaults\":{\"line\":{\"color\":\"#2a3f5f\"}},\"annotationdefaults\":{\"arrowcolor\":\"#2a3f5f\",\"arrowhead\":0,\"arrowwidth\":1},\"geo\":{\"bgcolor\":\"white\",\"landcolor\":\"#E5ECF6\",\"subunitcolor\":\"white\",\"showland\":true,\"showlakes\":true,\"lakecolor\":\"white\"},\"title\":{\"x\":0.05},\"mapbox\":{\"style\":\"light\"}}},\"xaxis\":{\"anchor\":\"y\",\"domain\":[0.0,1.0],\"title\":{\"text\":\"x\"}},\"yaxis\":{\"anchor\":\"x\",\"domain\":[0.0,1.0],\"title\":{\"text\":\"count\"}},\"legend\":{\"title\":{\"text\":\"Alcohol content\"},\"tracegroupgap\":0},\"margin\":{\"t\":60},\"barmode\":\"group\",\"width\":600,\"height\":600},                        {\"responsive\": true}                    ).then(function(){\n",
       "                            \n",
       "var gd = document.getElementById('2147e788-c0a5-42ef-b090-04795d5ab62a');\n",
       "var x = new MutationObserver(function (mutations, observer) {{\n",
       "        var display = window.getComputedStyle(gd).display;\n",
       "        if (!display || display === 'none') {{\n",
       "            console.log([gd, 'removed!']);\n",
       "            Plotly.purge(gd);\n",
       "            observer.disconnect();\n",
       "        }}\n",
       "}});\n",
       "\n",
       "// Listen for the removal of the full notebook cells\n",
       "var notebookContainer = gd.closest('#notebook-container');\n",
       "if (notebookContainer) {{\n",
       "    x.observe(notebookContainer, {childList: true});\n",
       "}}\n",
       "\n",
       "// Listen for the clearing of the current output cell\n",
       "var outputEl = gd.closest('.output');\n",
       "if (outputEl) {{\n",
       "    x.observe(outputEl, {childList: true});\n",
       "}}\n",
       "\n",
       "                        })                };                });            </script>        </div>"
      ]
     },
     "metadata": {},
     "output_type": "display_data"
    }
   ],
   "source": [
    "bins = [0, 5, 10, 15, float('inf')]\n",
    "labels = ['Less than 5%', 'Between 5% and 10%', 'Between 10% and 15%', 'More 15%']\n",
    "df2 = df[['Format', 'Alcohol content']]\n",
    "df2['Alcohol content'] = pd.cut(df['Alcohol content'], bins=bins, labels=labels)\n",
    "\n",
    "fig = px.histogram(df2, x=df2['Format'].astype(str), color='Alcohol content', barmode='group', text_auto=True)\n",
    "fig.update_layout(width=600, height=600).show()"
   ]
  },
  {
   "cell_type": "code",
   "execution_count": 10,
   "metadata": {
    "collapsed": false
   },
   "outputs": [
    {
     "data": {
      "application/vnd.plotly.v1+json": {
       "config": {
        "plotlyServerURL": "https://plot.ly"
       },
       "data": [
        {
         "alignmentgroup": "True",
         "bingroup": "x",
         "hovertemplate": "Country=%{x}<br>count=%{y}<extra></extra>",
         "legendgroup": "",
         "marker": {
          "color": "#636efa",
          "pattern": {
           "shape": ""
          }
         },
         "name": "",
         "offsetgroup": "",
         "orientation": "v",
         "showlegend": false,
         "type": "histogram",
         "x": [
          "Italy",
          "Italy",
          "Italy",
          "Italy",
          "Italy",
          "Italy",
          "Italy",
          "Italy",
          "Italy",
          "Italy",
          "Chile",
          "Italy",
          "Italy",
          "Italy",
          "Italy",
          "Italy",
          "Italy",
          "Italy",
          "Italy",
          "Chile",
          "Italy",
          "Italy",
          "Italy",
          "France",
          "Italy",
          "Italy",
          "Italy",
          "Italy",
          "Italy",
          "Italy",
          "Italy",
          "Italy",
          "Italy",
          "Italy",
          "Italy",
          "Italy",
          "Chile",
          "Italy",
          "Italy",
          "Italy",
          "Italy",
          "Italy",
          "Italy",
          "Italy",
          "Italy",
          "Italy",
          "Italy",
          "Italy",
          "Italy",
          "Italy",
          "Italy",
          "Italy",
          "Italy",
          "Italy",
          "Italy",
          "France",
          "Italy",
          "Italy",
          "Italy",
          "France",
          "Italy",
          "Italy",
          "Italy",
          "Italy",
          "Italy",
          "Italy",
          "Italy",
          "Italy",
          "Italy",
          "Italy",
          "Italy",
          "Italy",
          "Italy",
          "Italy",
          "Italy",
          "Italy",
          "Italy",
          "Italy",
          "Italy",
          "Italy",
          "Italy",
          "Italy",
          "Italy",
          "Italy",
          "Italy",
          "Italy",
          "Italy",
          "Italy",
          "Italy",
          "Italy",
          "France",
          "Italy",
          "Italy",
          "Italy",
          "Italy",
          "Italy",
          "Italy",
          "Italy",
          "Italy",
          "Italy",
          "Italy",
          "Italy",
          "Italy",
          "Italy",
          "Italy",
          "Italy",
          "Italy",
          "Italy",
          "Italy",
          "Italy",
          "Italy",
          "Italy",
          "Italy",
          "France",
          "Italy",
          "Italy",
          "France",
          "Italy",
          "Italy",
          "Italy",
          "Italy",
          "Italy",
          "Italy",
          "Italy",
          "Italy",
          "Italy",
          "Italy",
          "Italy",
          "Italy",
          "Italy",
          "France",
          "Italy",
          "France",
          "France",
          "Italy",
          "Italy",
          "Italy",
          "Italy",
          "Italy",
          "Italy",
          "Italy",
          "Italy",
          "France",
          "Italy",
          "Italy",
          "Italy",
          "Italy",
          "Italy",
          "Italy",
          "Italy",
          "Italy",
          "Italy",
          "France",
          "Italy",
          "France",
          "Italy",
          "Italy",
          "Italy",
          "Italy",
          "Italy",
          "Italy",
          "Italy",
          "Italy",
          "Italy",
          "Italy",
          "Italy",
          "Italy",
          "Italy",
          "Italy",
          "Italy",
          "Italy",
          "Italy",
          "Italy",
          "Italy",
          "Italy",
          "Italy",
          "Italy",
          "Italy",
          "Italy",
          "Italy",
          "Italy",
          "Italy",
          "Italy",
          "Italy",
          "Italy",
          "Italy",
          "Italy",
          "Italy",
          "Italy",
          "Italy",
          "Italy",
          "Italy",
          "Italy",
          "Italy",
          "Italy",
          "Italy",
          "Italy",
          "Italy",
          "Italy",
          "Italy",
          "Italy",
          "Italy",
          "Italy",
          "Italy",
          "Italy",
          "Italy",
          "Italy",
          "Italy",
          "Italy",
          "Italy",
          "Italy",
          "Italy",
          "Italy",
          "Italy",
          "Italy",
          "Italy",
          "Italy",
          "Italy",
          "Italy",
          "Italy",
          "Italy",
          "Italy",
          "Italy",
          "Italy",
          "Italy",
          "France",
          "Italy",
          "Italy",
          "Italy",
          "France",
          "Italy",
          "Italy",
          "Italy",
          "Italy",
          "Italy",
          "Italy",
          "Italy",
          "Italy",
          "Italy",
          "Italy",
          "France",
          "France",
          "France",
          "Italy",
          "Italy",
          "Italy",
          "France",
          "Italy",
          "Italy",
          "Argentina",
          "Italy",
          "Italy",
          "Italy",
          "France",
          "Italy",
          "Italy",
          "France",
          "Italy",
          "Italy",
          "Italy",
          "Italy",
          "Italy",
          "Italy",
          "Italy",
          "Italy",
          "Italy",
          "United States",
          "Italy",
          "Italy",
          "Italy",
          "Italy",
          "Italy",
          "Italy",
          "Italy",
          "Italy",
          "Italy",
          "Italy",
          "Italy",
          "Italy",
          "Italy",
          "Italy",
          "Italy",
          "Italy",
          "Italy",
          "Italy",
          "Italy",
          "Italy",
          "Italy",
          "Italy",
          "Italy",
          "Italy",
          "Italy",
          "Italy",
          "Italy",
          "Italy",
          "Italy",
          "France",
          "France",
          "France",
          "France",
          "Italy",
          "Italy",
          "Italy",
          "Italy",
          "France",
          "France",
          "Italy",
          "Italy",
          "Italy",
          "Italy",
          "Italy",
          "Italy",
          "France",
          "Italy",
          "Italy",
          "Italy",
          "Italy",
          "Italy",
          "Italy",
          "Italy",
          "Italy",
          "Italy",
          "Italy",
          "Italy",
          "Italy",
          "Italy",
          "Italy",
          "Italy",
          "Italy",
          "Italy",
          "Italy",
          "Italy",
          "Italy",
          "Italy",
          "Armenia",
          "Italy",
          "Italy",
          "Italy",
          "Italy",
          "Argentina",
          "Italy",
          "Italy",
          "Italy",
          "Italy",
          "Italy",
          "Italy",
          "Italy",
          "Italy",
          "Italy",
          "Italy",
          "Italy",
          "Italy",
          "Italy",
          "Italy",
          "Italy",
          "Italy",
          "Italy",
          "Italy",
          "Italy",
          "Italy",
          "Italy",
          "France",
          "Italy",
          "France",
          "Italy",
          "Italy",
          "Italy",
          "Italy",
          "France",
          "Italy",
          "Italy",
          "Italy",
          "Italy",
          "Italy",
          "Italy",
          "Italy",
          "Italy",
          "Italy",
          "Italy",
          "Italy",
          "Italy",
          "Italy",
          "Italy",
          "Italy",
          "Italy",
          "Italy",
          "Italy",
          "Italy",
          "Italy",
          "Italy",
          "Italy",
          "Italy",
          "Italy",
          "France",
          "Italy",
          "Italy",
          "Italy",
          "Italy",
          "Italy",
          "Italy",
          "Italy",
          "Italy",
          "Italy",
          "Italy",
          "Italy",
          "Italy",
          "France",
          "Italy",
          "Italy",
          "Italy",
          "Italy",
          "Italy",
          "France",
          "Italy",
          "Italy",
          "France",
          "France",
          "France",
          "Italy",
          "Italy",
          "Italy",
          "Italy",
          "Italy",
          "Italy",
          "New Zealand",
          "Italy",
          "Italy",
          "Italy",
          "Italy",
          "Italy",
          "Italy",
          "Italy",
          "Argentina",
          "Italy",
          "Italy",
          "Italy",
          "Italy",
          "Italy",
          "Italy",
          "Italy",
          "Italy",
          "Portugal",
          "Italy",
          "Italy",
          "Italy",
          "Italy",
          "Italy",
          "Italy",
          "Italy",
          "Portugal",
          "Italy",
          "Italy",
          "Italy",
          "Italy",
          "Italy",
          "Italy",
          "Italy",
          "Italy",
          "Italy",
          "Italy",
          "Italy",
          "Italy",
          "Italy",
          "Italy",
          "Italy",
          "Italy",
          "Italy",
          "Italy",
          "Italy",
          "Italy",
          "Italy",
          "Italy",
          "Italy",
          "Italy",
          "Italy",
          "Italy",
          "Italy",
          "Italy",
          "Italy",
          "Italy",
          "France",
          "France",
          "Italy",
          "Italy",
          "Italy",
          "France",
          "Italy",
          "France",
          "Italy",
          "Italy",
          "United States",
          "Italy",
          "Italy",
          "Italy",
          "Italy",
          "Italy",
          "Italy",
          "Italy",
          "Italy",
          "Italy",
          "Italy",
          "Italy",
          "France",
          "Italy",
          "Italy",
          "Italy",
          "France",
          "France",
          "France",
          "France",
          "France",
          "France",
          "Italy",
          "Italy",
          "Italy",
          "Italy",
          "France",
          "Italy",
          "Italy",
          "Italy",
          "Italy",
          "Italy",
          "Italy",
          "Italy",
          "Italy",
          "Italy",
          "Italy",
          "Italy",
          "Italy",
          "Italy",
          "Italy",
          "Italy",
          "Italy",
          "Italy",
          "Italy",
          "Italy",
          "Italy",
          "Italy",
          "Italy",
          "Italy",
          "Italy",
          "Italy",
          "Italy",
          "Italy",
          "Italy",
          "Italy",
          "Italy",
          "Italy",
          "Italy",
          "Italy",
          "Italy",
          "Italy",
          "Italy",
          "France",
          "France",
          "Italy",
          "Italy",
          "France",
          "Italy",
          "Italy",
          "France",
          "Italy",
          "France",
          "France",
          "Italy",
          "Italy",
          "Italy",
          "Italy",
          "Italy",
          "Italy",
          "Hungary",
          "Italy",
          "Italy",
          "Italy",
          "France",
          "Italy",
          "Italy",
          "Italy",
          "Italy",
          "Italy",
          "Italy",
          "Italy",
          "Italy",
          "Italy",
          "Italy",
          "Italy",
          "Italy",
          "Italy",
          "Italy",
          "Italy",
          "Italy",
          "Italy",
          "Italy",
          "Italy",
          "Italy",
          "Italy",
          "Italy",
          "Italy",
          "Italy",
          "Italy",
          "Italy",
          "Italy",
          "Italy",
          "Chile",
          "Italy",
          "Italy",
          "Italy",
          "Italy",
          "Italy",
          "France",
          "Italy",
          "Italy",
          "Italy",
          "Italy",
          "Italy",
          "Italy",
          "Italy",
          "Italy",
          "Italy",
          "Italy",
          "Italy",
          "Italy",
          "Italy",
          "Italy",
          "Italy",
          "Italy",
          "Chile",
          "Italy",
          "Italy",
          "Italy",
          "Italy",
          "Italy",
          "Italy",
          "Italy",
          "Italy",
          "Italy",
          "Italy",
          "Italy",
          "Italy",
          "Chile",
          "Italy",
          "Italy",
          "Italy",
          "Italy",
          "Italy",
          "Italy",
          "Italy",
          "Italy",
          "Italy",
          "Italy",
          "Italy",
          "Italy",
          "Italy",
          "Italy",
          "Italy",
          "Italy",
          "Italy",
          "Italy",
          "Italy",
          "Italy",
          "Italy",
          "Italy",
          "Italy",
          "Italy",
          "Italy",
          "Italy",
          "Italy",
          "France",
          "Italy",
          "Italy",
          "Italy",
          "Italy",
          "Italy",
          "Italy",
          "France",
          "Italy",
          "Italy",
          "Italy",
          "Italy",
          "Chile",
          "France",
          "Italy",
          "Italy",
          "Italy",
          "Italy",
          "Italy",
          "Italy",
          "Italy",
          "Italy",
          "Italy",
          "Italy",
          "Italy",
          "Italy",
          "Italy",
          "Italy",
          "Italy",
          "Italy",
          "Italy",
          "Italy",
          "Italy",
          "Italy",
          "Italy",
          "Italy",
          "Italy",
          "Italy",
          "Italy",
          "Italy",
          "Italy",
          "Italy",
          "Italy",
          "Italy",
          "Italy",
          "Italy",
          "Italy",
          "Italy",
          "Italy",
          "Italy",
          "Italy",
          "Italy",
          "France",
          "Italy",
          "France",
          "Italy",
          "Italy",
          "Italy",
          "Italy",
          "Italy",
          "Italy",
          "Italy",
          "Italy",
          "Italy",
          "Italy",
          "Italy",
          "Italy",
          "Italy",
          "Italy",
          "Italy",
          "Italy",
          "Italy",
          "Italy",
          "Italy",
          "Italy",
          "Italy",
          "Italy",
          "Italy",
          "Italy",
          "Italy",
          "Italy",
          "Italy",
          "Italy",
          "Italy",
          "France",
          "Italy",
          "France",
          "Italy",
          "Italy",
          "Italy",
          "France",
          "Italy",
          "Italy",
          "Italy",
          "Italy",
          "Italy",
          "Italy",
          "Italy",
          "Italy",
          "Italy",
          "Italy",
          "Italy",
          "France",
          "Italy",
          "Italy",
          "France",
          "Italy",
          "Italy",
          "Italy",
          "Italy",
          "Italy",
          "France",
          "France",
          "Italy",
          "Italy",
          "Italy",
          "Italy",
          "Italy",
          "France",
          "Italy",
          "Italy",
          "Italy",
          "Italy",
          "Italy",
          "Italy",
          "Italy",
          "France",
          "Italy",
          "Italy",
          "Italy",
          "Italy",
          "Italy",
          "Italy",
          "Italy",
          "Italy",
          "Italy",
          "Italy",
          "Italy",
          "Italy",
          "Italy",
          "France",
          "France",
          "France",
          "Italy",
          "Italy",
          "Italy",
          "Italy",
          "Italy",
          "Italy",
          "Italy",
          "Italy",
          "Italy",
          "Italy",
          "Italy",
          "Italy",
          "Italy",
          "Italy",
          "Italy",
          "Italy",
          "Italy",
          "Italy",
          "Italy",
          "Italy",
          "Italy",
          "Italy",
          "Italy",
          "Italy",
          "Italy",
          "Italy",
          "Italy",
          "Italy",
          "Italy",
          "Italy",
          "Italy",
          "Italy",
          "Italy",
          "Italy",
          "Italy",
          "Italy",
          "Italy",
          "Italy",
          "Italy",
          "Italy",
          "Italy",
          "Italy",
          "Italy",
          "Italy",
          "Italy",
          "Italy",
          "Italy",
          "Italy",
          "Italy",
          "Italy",
          "Italy",
          "Italy",
          "Italy",
          "Italy",
          "Italy",
          "Italy",
          "Italy",
          "Italy",
          "Italy",
          "Italy",
          "Italy",
          "Italy",
          "Italy",
          "Italy",
          "Italy",
          "Italy",
          "Italy",
          "Italy",
          "Italy",
          "Italy",
          "Italy",
          "Italy",
          "Italy",
          "Italy",
          "Italy",
          "Italy",
          "Italy",
          "Italy",
          "Italy",
          "Italy",
          "Italy",
          "France",
          "Italy",
          "Italy",
          "Italy",
          "Italy",
          "Italy",
          "Italy",
          "Italy",
          "Italy",
          "Italy",
          "Italy",
          "Italy",
          "Italy",
          "Italy",
          "Italy",
          "Italy",
          "Italy",
          "Italy",
          "Italy",
          "Italy",
          "Italy",
          "Italy",
          "Italy",
          "Italy",
          "Italy",
          "Italy",
          "Italy",
          "Italy",
          "Italy",
          "France",
          "Italy",
          "Italy",
          "Italy",
          "Italy",
          "Italy",
          "Italy",
          "Italy",
          "Italy",
          "Italy",
          "Italy",
          "Italy",
          "Italy",
          "New Zealand",
          "Italy",
          "Italy",
          "Italy",
          "France",
          "France",
          "New Zealand",
          "Italy",
          "Italy",
          "Italy",
          "France",
          "Italy",
          "Italy",
          "Italy",
          "Italy",
          "Chile",
          "Italy",
          "Italy",
          "Italy",
          "Italy",
          "Italy",
          "Italy",
          "Italy",
          "Italy",
          "France",
          "Italy",
          "Italy",
          "Italy",
          "Italy",
          "Italy",
          "Italy",
          "Italy",
          "Italy",
          "Italy",
          "Italy",
          "Italy",
          "Italy",
          "Italy",
          "Italy",
          "Italy",
          "Italy",
          "Chile",
          "Italy",
          "Italy",
          "Italy",
          "Italy",
          "Italy",
          "Italy",
          "Italy",
          "Italy",
          "Italy",
          "Italy",
          "Italy",
          "Italy",
          "Italy",
          "Italy",
          "Italy",
          "Italy",
          "Italy",
          "Italy",
          "Chile",
          "Italy",
          "Italy",
          "Italy",
          "Italy",
          "Italy",
          "Italy",
          "Chile",
          "Italy",
          "Italy",
          "Italy",
          "Italy",
          "Italy",
          "Italy",
          "Italy",
          "Italy",
          "Italy",
          "Chile",
          "Italy",
          "Italy",
          "Italy",
          "Italy",
          "Italy",
          "Italy",
          "Italy",
          "Italy",
          "Italy",
          "Italy",
          "Italy",
          "Italy",
          "France",
          "Italy",
          "Italy",
          "Italy",
          "France",
          "Italy",
          "Italy",
          "Italy",
          "Italy",
          "Italy",
          "Italy",
          "Italy",
          "Italy",
          "Italy",
          "Italy",
          "Italy",
          "Italy",
          "Italy",
          "Italy",
          "Italy",
          "Italy",
          "Italy",
          "Italy",
          "Italy",
          "Italy",
          "Italy",
          "Italy",
          "Italy",
          "Italy",
          "Italy",
          "Italy",
          "Italy",
          "Italy",
          "Italy",
          "Italy",
          "Italy",
          "Italy",
          "Italy",
          "Italy",
          "Italy",
          "Italy",
          "Italy",
          "Italy",
          "Italy",
          "Italy",
          "Italy",
          "Italy",
          "Italy",
          "France",
          "Italy",
          "Italy",
          "Italy",
          "Italy",
          "Italy",
          "Italy",
          "Italy",
          "Italy",
          "Italy",
          "Italy",
          "Italy",
          "France",
          "Italy",
          "France",
          "France",
          "Italy",
          "Italy",
          "Italy",
          "Italy",
          "Italy",
          "Italy",
          "Italy",
          "Italy",
          "Italy",
          "Italy",
          "Italy",
          "Italy",
          "Italy",
          "Italy",
          "Italy",
          "France",
          "Italy",
          "Italy",
          "Italy",
          "Italy",
          "Italy",
          "Italy",
          "Italy",
          "Italy",
          "Italy",
          "Italy",
          "Italy",
          "Italy",
          "Italy",
          "Italy",
          "Italy",
          "Italy",
          "Italy",
          "Italy",
          "Italy",
          "Italy",
          "Italy",
          "Italy",
          "Italy",
          "Italy",
          "Italy",
          "Italy",
          "Italy",
          "Italy",
          "Italy",
          "Italy",
          "Italy",
          "Italy",
          "Italy",
          "Italy",
          "Italy",
          "Italy",
          "Italy",
          "Italy",
          "Italy",
          "Italy",
          "Italy",
          "Italy",
          "Italy",
          "Italy",
          "France",
          "Italy",
          "Italy",
          "Italy",
          "Italy",
          "Italy",
          "Italy",
          "Italy",
          "Italy",
          "Italy",
          "France",
          "France",
          "Italy",
          "Italy",
          "France",
          "Italy",
          "Italy",
          "Argentina",
          "Italy",
          "Italy",
          "Italy",
          "France",
          "Italy",
          "Italy",
          "France",
          "Italy",
          "Italy",
          "Italy",
          "Italy",
          "Italy",
          "United States",
          "Italy",
          "Italy",
          "Italy",
          "Italy",
          "Italy",
          "Italy",
          "Italy",
          "Italy",
          "Italy",
          "Italy",
          "Italy",
          "Italy",
          "Italy",
          "Italy",
          "Italy",
          "Italy",
          "Italy",
          "Italy",
          "Italy",
          "Italy",
          "Italy",
          "Italy",
          "Italy",
          "France",
          "Italy",
          "Italy",
          "France",
          "Italy",
          "Italy",
          "Italy",
          "Italy",
          "Italy",
          "France",
          "Italy",
          "Italy",
          "Italy",
          "Italy",
          "Italy",
          "Italy",
          "Italy",
          "Italy",
          "Italy",
          "Italy",
          "Italy",
          "Italy",
          "Italy",
          "Italy",
          "Italy",
          "Italy",
          "Italy",
          "Italy",
          "Italy",
          "Italy",
          "Italy",
          "Argentina",
          "Italy",
          "Italy",
          "Italy",
          "Italy",
          "Italy",
          "Italy",
          "Italy",
          "Italy",
          "Italy",
          "Italy",
          "Italy",
          "Italy",
          "Italy",
          "Italy",
          "Italy",
          "Italy",
          "Italy",
          "Italy",
          "Italy",
          "France",
          "Italy",
          "Italy",
          "Italy",
          "France",
          "Italy",
          "Italy",
          "Italy",
          "Italy",
          "Italy",
          "Italy",
          "Italy",
          "Italy",
          "Italy",
          "Italy",
          "Italy",
          "Italy",
          "Italy",
          "Italy",
          "Italy",
          "Italy",
          "Italy",
          "Italy",
          "Italy",
          "Italy",
          "Italy",
          "Italy",
          "Italy",
          "Italy",
          "Italy",
          "Italy",
          "Italy",
          "Italy",
          "Italy",
          "Italy",
          "Italy",
          "Italy",
          "Italy",
          "Italy",
          "Italy",
          "Italy",
          "Italy",
          "Italy",
          "Italy",
          "Italy",
          "Italy",
          "Italy",
          "Italy",
          "Italy",
          "Italy",
          "Italy",
          "Italy",
          "Italy",
          "Italy",
          "Italy",
          "Italy",
          "Italy",
          "Italy",
          "Italy",
          "Italy",
          "Italy",
          "Italy",
          "Italy",
          "Italy",
          "Italy",
          "Italy",
          "Italy",
          "Italy",
          "Italy",
          "Italy",
          "Italy",
          "Italy",
          "Italy",
          "Chile",
          "Italy",
          "Italy",
          "Italy",
          "Italy",
          "Italy",
          "Italy",
          "Italy",
          "Chile",
          "Italy",
          "Italy",
          "Italy",
          "Italy",
          "Italy",
          "Italy",
          "Italy",
          "Italy",
          "Italy",
          "Italy",
          "Italy",
          "Italy",
          "Italy",
          "Italy",
          "Italy",
          "Italy",
          "Italy",
          "Italy",
          "Italy",
          "Italy",
          "Italy",
          "Italy",
          "Italy",
          "France",
          "Italy",
          "Italy",
          "Italy",
          "Italy",
          "Italy",
          "Italy",
          "Italy",
          "Italy",
          "Italy",
          "Italy",
          "Italy",
          "Italy",
          "Italy",
          "Italy",
          "Italy",
          "Italy",
          "Italy",
          "France",
          "Italy",
          "Italy",
          "Italy",
          "Italy",
          "Italy",
          "Italy",
          "Italy",
          "Italy",
          "Italy",
          "Italy",
          "Italy",
          "Italy",
          "New Zealand",
          "Italy",
          "New Zealand",
          "Italy",
          "Italy",
          "Italy",
          "France",
          "Italy",
          "Italy",
          "Italy",
          "Italy",
          "France",
          "France",
          "Italy",
          "Italy",
          "Germany",
          "Italy",
          "Italy",
          "Italy",
          "Italy",
          "Italy",
          "Italy",
          "Italy",
          "Italy",
          "Italy",
          "France",
          "Italy",
          "France",
          "Italy",
          "Italy",
          "France",
          "Italy",
          "Italy",
          "Italy",
          "Italy",
          "Italy",
          "Italy",
          "Italy",
          "France",
          "Italy",
          "Italy",
          "Italy",
          "Italy",
          "France",
          "France",
          "Italy",
          "Italy",
          "Italy",
          "New Zealand",
          "Slovenia",
          "Italy",
          "Italy",
          "Italy",
          "Italy",
          "Italy",
          "Italy",
          "Italy",
          "Italy",
          "France",
          "Italy",
          "Italy",
          "Italy",
          "Italy",
          "Italy",
          "Italy",
          "Italy",
          "Italy",
          "Italy",
          "Italy",
          "France",
          "Germany",
          "Austria",
          "Italy",
          "Germany",
          "Italy",
          "France",
          "Italy",
          "France",
          "Italy",
          "Italy",
          "France",
          "France",
          "Italy",
          "Greece",
          "France",
          "Italy",
          "Italy",
          "Italy",
          "France",
          "Australia",
          "Italy",
          "Italy",
          "Italy",
          "Italy",
          "Italy",
          "Italy",
          "Italy",
          "Italy",
          "Portugal",
          "Hungary",
          "Hungary",
          "Italy",
          "Italy",
          "Italy",
          "Italy",
          "Italy",
          "Italy",
          "Italy",
          "France",
          "Italy",
          "Italy",
          "Italy",
          "Italy",
          "Italy",
          "Italy",
          "Italy",
          "Italy",
          "France",
          "France",
          "Hungary",
          "France",
          "France",
          "Italy",
          "Italy",
          "France",
          "Italy",
          "Italy",
          "Italy",
          "France",
          "Italy",
          "Italy",
          "Italy",
          "Italy",
          "Italy",
          "Argentina",
          "Italy",
          "Italy",
          "Italy",
          "Italy",
          "Italy",
          "Italy",
          "Spain",
          "Germany",
          "Italy",
          "Italy",
          "Germany",
          "Italy",
          "France",
          "France",
          "Italy",
          "Italy",
          "Italy",
          "Italy",
          "Italy",
          "Italy",
          "France",
          "Italy",
          "Italy",
          "Italy",
          "New Zealand",
          "Italy",
          "France",
          "United States",
          "Italy",
          "Italy",
          "Italy",
          "Italy",
          "Italy",
          "Italy",
          "Italy",
          "Italy",
          "Germany",
          "Italy",
          "Austria",
          "Italy",
          "Italy",
          "Italy",
          "Italy",
          "Italy",
          "Italy",
          "Italy",
          "Italy",
          "France",
          "Italy",
          "Italy",
          "Portugal",
          "Italy",
          "Italy",
          "France",
          "Italy",
          "Italy",
          "Italy",
          "Italy",
          "Italy",
          "France",
          "Germany",
          "Germany",
          "France",
          "Germany",
          "Germany",
          "France",
          "Italy",
          "France",
          "Italy",
          "Germany",
          "Italy",
          "France",
          "Italy",
          "Italy",
          "Italy",
          "Italy",
          "Italy",
          "Italy",
          "Italy",
          "Italy",
          "Italy",
          "Italy",
          "Italy",
          "Italy",
          "Italy",
          "Italy",
          "Italy",
          "Italy",
          "Italy",
          "Italy",
          "Italy",
          "Italy",
          "Italy",
          "Italy",
          "Germany",
          "Austria",
          "Spain",
          "France",
          "Germany",
          "Portugal",
          "Australia",
          "Germany",
          "Italy",
          "Italy",
          "France",
          "Italy",
          "Italy",
          "Italy",
          "Italy",
          "Italy",
          "France",
          "Italy",
          "Italy",
          "Greece",
          "Italy",
          "Italy",
          "Spain",
          "Italy",
          "Italy",
          "Italy",
          "Slovenia",
          "Italy",
          "Italy",
          "Italy",
          "Italy",
          "Italy",
          "Spain",
          "Slovenia",
          "Italy",
          "Italy",
          "France",
          "South Africa",
          "Italy",
          "France",
          "Italy",
          "Italy",
          "Germany",
          "South Africa",
          "Spain",
          "Austria",
          "Italy",
          "France",
          "Portugal",
          "Lebanon",
          "Italy",
          "Italy",
          "Italy",
          "Italy",
          "Italy",
          "Italy",
          "Italy",
          "France",
          "Italy",
          "Italy",
          "Italy",
          "Italy",
          "Italy",
          "Italy",
          "Italy",
          "Italy",
          "Italy",
          "Italy",
          "Italy",
          "Italy",
          "Chile",
          "Italy",
          "Italy",
          "Italy",
          "Italy",
          "Italy",
          "France",
          "Italy",
          "France",
          "France",
          "Italy",
          "France",
          "France",
          "France",
          "Italy",
          "Italy",
          "Italy",
          "Italy",
          "France",
          "Italy",
          "Italy",
          "Italy",
          "Italy",
          "Italy",
          "Italy",
          "Italy",
          "Italy",
          "Italy",
          "Italy",
          "Italy",
          "Italy",
          "Italy",
          "Italy",
          "Italy",
          "Italy",
          "Italy",
          "Italy",
          "Italy",
          "Italy",
          "Italy",
          "Italy",
          "Italy",
          "Italy",
          "Italy",
          "Italy",
          "Italy",
          "Italy",
          "Italy",
          "Italy",
          "Italy",
          "Italy",
          "Italy",
          "Italy",
          "Italy",
          "Italy",
          "Italy",
          "Italy",
          "Italy",
          "Italy",
          "Italy",
          "Italy",
          "Italy",
          "Italy",
          "Italy",
          "Italy",
          "Italy",
          "Italy",
          "Italy",
          "Italy",
          "Italy",
          "Italy",
          "Italy",
          "Italy",
          "Italy",
          "Italy",
          "Italy",
          "Italy",
          "Italy",
          "Italy",
          "Italy",
          "Italy",
          "Italy",
          "Italy",
          "Italy",
          "Italy",
          "Italy",
          "Italy",
          "Italy",
          "Italy",
          "Italy",
          "Italy",
          "Italy",
          "Italy",
          "Italy",
          "Italy",
          "New Zealand",
          "Italy",
          "Germany",
          "New Zealand",
          "France",
          "Germany",
          "Italy",
          "Italy",
          "Germany",
          "Italy",
          "Italy",
          "Italy",
          "Italy",
          "Italy",
          "Italy",
          "France",
          "Italy",
          "France",
          "France",
          "France",
          "Italy",
          "Italy",
          "Italy",
          "France",
          "France",
          "France",
          "Italy",
          "Germany",
          "France",
          "France",
          "France",
          "Italy",
          "France",
          "Italy",
          "Chile",
          "Italy",
          "Italy",
          "Italy",
          "Italy",
          "Italy",
          "Italy",
          "Italy",
          "Italy",
          "Italy",
          "South Africa",
          "Italy",
          "Italy",
          "France",
          "Italy",
          "France",
          "Italy",
          "Italy",
          "Italy",
          "France",
          "Italy",
          "Italy",
          "Italy",
          "Italy",
          "Italy",
          "Italy",
          "Italy",
          "Italy",
          "Italy",
          "Italy",
          "Italy",
          "Italy",
          "Italy",
          "Italy",
          "Italy",
          "Italy",
          "Italy",
          "Italy",
          "Italy",
          "Italy",
          "Italy",
          "Italy",
          "Italy",
          "Italy",
          "Italy",
          "Italy",
          "Italy",
          "Italy",
          "Italy",
          "Italy",
          "Italy",
          "Italy",
          "France",
          "Italy",
          "Italy",
          "Italy",
          "Italy",
          "Italy",
          "Italy",
          "Italy",
          "Italy",
          "Italy",
          "Italy",
          "Italy",
          "Italy",
          "Italy",
          "Italy",
          "Italy",
          "Italy",
          "Italy",
          "Italy",
          "Italy",
          "Italy",
          "Italy",
          "Italy",
          "Italy",
          "Italy",
          "Italy",
          "Italy",
          "Italy",
          "Italy",
          "Italy",
          "Italy",
          "France",
          "Italy",
          "Italy",
          "Italy",
          "Italy",
          "Spain",
          "Italy",
          "Italy",
          "Italy",
          "Italy",
          "Italy",
          "Italy",
          "Italy",
          "Italy",
          "Italy",
          "Italy",
          "France",
          "Italy",
          "Italy",
          "Italy",
          "Italy",
          "Italy",
          "Italy",
          "Italy",
          "France",
          "Italy",
          "Italy",
          "France",
          "France",
          "France",
          "Italy",
          "Italy",
          "France",
          "France",
          "France",
          "Italy",
          "France",
          "France",
          "France",
          "France",
          "France",
          "France",
          "France",
          "France",
          "France",
          "France",
          "France",
          "France",
          "France",
          "France",
          "France",
          "France",
          "France",
          "France",
          "France",
          "France",
          "France",
          "France",
          "France",
          "France",
          "France",
          "France",
          "France",
          "France",
          "France",
          "France",
          "France",
          "France",
          "France",
          "France",
          "France",
          "France",
          "France",
          "France",
          "France",
          "France",
          "France",
          "France",
          "France",
          "France",
          "France",
          "France",
          "France",
          "France",
          "Italy",
          "Italy",
          "Italy",
          "Italy",
          "Italy",
          "Italy",
          "France",
          "France",
          "Italy",
          "Italy",
          "France",
          "Italy",
          "Italy",
          "France",
          "France",
          "France",
          "Italy",
          "Portugal",
          "Italy",
          "France",
          "Italy",
          "Italy",
          "Italy",
          "Italy",
          "France",
          "Italy",
          "Italy",
          "France",
          "Italy",
          "Italy",
          "Italy",
          "France",
          "France",
          "Italy",
          "Italy",
          "Italy",
          "Italy",
          "France",
          "Italy",
          "Italy",
          "Italy",
          "Italy",
          "Italy",
          "Lebanon",
          "France",
          "Italy",
          "Italy",
          "Italy",
          "Italy",
          "Italy",
          "France",
          "Italy",
          "Italy",
          "Italy",
          "Italy",
          "Italy",
          "France",
          "Italy",
          "Italy",
          "Italy",
          "Italy",
          "Italy",
          "Italy",
          "Italy",
          "Italy",
          "Italy",
          "South Africa",
          "Italy",
          "Italy",
          "France",
          "Italy",
          "Italy",
          "Italy",
          "Italy",
          "Italy",
          "Italy",
          "Slovenia",
          "Italy",
          "Italy",
          "Italy",
          "Italy",
          "Italy",
          "Spain",
          "Italy",
          "Italy",
          "Italy",
          "Italy",
          "Italy",
          "Italy",
          "France",
          "France",
          "Italy",
          "Italy",
          "Italy",
          "Italy",
          "Italy",
          "Italy",
          "France",
          "Italy",
          "Italy",
          "Italy",
          "Italy",
          "Italy",
          "Italy",
          "Italy",
          "Italy",
          "Italy",
          "Italy",
          "United States",
          "Italy",
          "Italy",
          "Italy",
          "Italy",
          "Italy",
          "Italy",
          "Italy",
          "Italy",
          "Italy",
          "Italy",
          "Italy",
          "Italy",
          "France",
          "France",
          "Italy",
          "Italy",
          "Italy",
          "Italy",
          "France",
          "Italy",
          "Italy",
          "Italy",
          "Italy",
          "Italy",
          "France",
          "Italy",
          "Italy",
          "Italy",
          "Italy",
          "Italy",
          "Italy",
          "Italy",
          "Italy",
          "Italy",
          "Italy",
          "Italy",
          "Italy",
          "Italy",
          "Italy",
          "Italy",
          "Italy",
          "Italy",
          "Italy",
          "Italy",
          "Italy",
          "Italy",
          "Italy",
          "Italy",
          "Italy",
          "Italy",
          "Italy",
          "Italy",
          "Italy",
          "Italy",
          "Italy",
          "France",
          "Italy",
          "Italy",
          "Spain",
          "Spain",
          "Portugal",
          "Portugal",
          "Portugal",
          "Portugal",
          "Italy",
          "France",
          "France",
          "Italy",
          "Italy",
          "Italy",
          "Italy",
          "Italy",
          "Italy",
          "Italy",
          "France",
          "Italy",
          "Italy",
          "Italy",
          "Italy",
          "France",
          "Italy",
          "Italy",
          "Italy",
          "Italy",
          "Italy",
          "Italy",
          "Italy",
          "Italy",
          "Austria",
          "Italy",
          "Italy",
          "Italy",
          "Italy",
          "Italy",
          "Italy",
          "Hungary",
          "Italy",
          "Italy",
          "Italy",
          "Hungary",
          "Italy",
          "Italy",
          "Italy",
          "France",
          "France",
          "Italy",
          "Italy",
          "Italy",
          "France",
          "Italy",
          "France",
          "Austria",
          "Italy",
          "Italy",
          "Italy",
          "France",
          "Italy",
          "Italy",
          "Italy",
          "France",
          "Italy",
          "Italy",
          "Canada",
          "Italy",
          "Hungary",
          "France",
          "France",
          "Italy",
          "Italy",
          "Italy",
          "Italy",
          "Italy",
          "Italy",
          "Italy",
          "Italy",
          "Italy",
          "Italy",
          "Italy",
          "Italy",
          "Italy",
          "Italy",
          "Italy",
          "Chile",
          "Italy",
          "Italy",
          "Italy",
          "Italy",
          "Italy",
          "Italy",
          "Italy",
          "Italy",
          "France",
          "Italy",
          "Italy",
          "Italy",
          "Italy",
          "Italy",
          "Italy",
          "Italy",
          "Italy",
          "Italy",
          "Italy",
          "Italy",
          "Italy",
          "Italy",
          "Italy",
          "Italy",
          "Italy",
          "Italy",
          "Italy",
          "Italy",
          "Italy",
          "Italy",
          "Italy",
          "Italy",
          "Italy",
          "Italy",
          "Italy",
          "Italy",
          "Italy",
          "Italy",
          "Italy",
          "Italy",
          "Italy",
          "Italy",
          "Italy",
          "Italy",
          "Italy",
          "Italy",
          "Italy",
          "Italy",
          "Italy",
          "Italy",
          "Italy",
          "Italy",
          "Italy",
          "Italy",
          "Italy",
          "Italy",
          "Italy",
          "Italy",
          "Italy",
          "Italy",
          "Italy",
          "Italy",
          "Italy",
          "Italy",
          "Italy",
          "Italy",
          "Italy",
          "Italy",
          "Italy",
          "Italy",
          "Italy",
          "France",
          "Italy",
          "Italy",
          "Italy",
          "Italy",
          "Italy",
          "Italy",
          "Italy",
          "Italy",
          "Italy",
          "Italy",
          "Italy",
          "Italy",
          "Italy",
          "Italy",
          "Italy",
          "Italy",
          "Italy",
          "Italy",
          "Italy",
          "Italy",
          "Italy",
          "Italy",
          "Italy",
          "Italy",
          "Italy",
          "Italy",
          "Italy",
          "Italy",
          "Italy",
          "Italy",
          "Italy",
          "Italy",
          "Italy",
          "Italy",
          "New Zealand",
          "Italy",
          "Italy",
          "Italy",
          "France",
          "France",
          "New Zealand",
          "Italy",
          "Italy",
          "Italy",
          "Italy",
          "Italy",
          "Italy",
          "France",
          "Italy",
          "Italy",
          "Italy",
          "France",
          "Italy",
          "Italy",
          "Germany",
          "Italy",
          "Italy",
          "France",
          "France",
          "France",
          "Italy",
          "Italy",
          "Italy",
          "Italy",
          "Italy",
          "Italy",
          "France",
          "Italy",
          "Italy",
          "Italy",
          "Italy",
          "Italy",
          "Italy",
          "Italy",
          "United States",
          "Italy",
          "France",
          "Italy",
          "Italy",
          "Italy",
          "Italy",
          "France",
          "Italy",
          "Italy",
          "Italy",
          "Italy",
          "Italy",
          "Italy",
          "Italy",
          "Italy",
          "Italy",
          "Italy",
          "France",
          "Italy",
          "Italy",
          "Italy",
          "Italy",
          "Italy",
          "Italy",
          "Italy",
          "Italy",
          "Italy",
          "Italy",
          "Italy",
          "Italy",
          "France",
          "Italy",
          "Italy",
          "Italy",
          "Italy",
          "Italy",
          "Italy",
          "United States",
          "Italy",
          "France",
          "Italy",
          "Italy",
          "France",
          "France",
          "Italy",
          "France",
          "Italy",
          "Italy",
          "France",
          "France",
          "Italy",
          "France",
          "France",
          "Italy",
          "Italy",
          "Italy",
          "Italy",
          "Italy",
          "Italy",
          "Italy",
          "Italy",
          "Italy",
          "Italy",
          "Italy",
          "Italy",
          "France",
          "Italy",
          "Italy",
          "France",
          "Italy",
          "Italy",
          "Italy",
          "Italy",
          "Italy",
          "Italy",
          "Italy",
          "Italy",
          "Italy",
          "Armenia",
          "Italy",
          "Italy",
          "Italy",
          "Italy",
          "France",
          "Italy",
          "Italy",
          "Argentina",
          "Italy",
          "Italy",
          "Italy",
          "Italy",
          "Italy",
          "Italy",
          "Italy",
          "Italy",
          "Italy",
          "Italy",
          "Italy",
          "Italy",
          "Italy",
          "Italy",
          "Italy",
          "Italy",
          "Italy",
          "Italy",
          "Italy",
          "France",
          "Italy",
          "Italy",
          "Italy",
          "Italy",
          "Italy",
          "Italy",
          "Italy"
         ],
         "xaxis": "x",
         "yaxis": "y"
        }
       ],
       "layout": {
        "barmode": "relative",
        "height": 600,
        "legend": {
         "tracegroupgap": 0
        },
        "margin": {
         "t": 60
        },
        "template": {
         "data": {
          "bar": [
           {
            "error_x": {
             "color": "#2a3f5f"
            },
            "error_y": {
             "color": "#2a3f5f"
            },
            "marker": {
             "line": {
              "color": "#E5ECF6",
              "width": 0.5
             },
             "pattern": {
              "fillmode": "overlay",
              "size": 10,
              "solidity": 0.2
             }
            },
            "type": "bar"
           }
          ],
          "barpolar": [
           {
            "marker": {
             "line": {
              "color": "#E5ECF6",
              "width": 0.5
             },
             "pattern": {
              "fillmode": "overlay",
              "size": 10,
              "solidity": 0.2
             }
            },
            "type": "barpolar"
           }
          ],
          "carpet": [
           {
            "aaxis": {
             "endlinecolor": "#2a3f5f",
             "gridcolor": "white",
             "linecolor": "white",
             "minorgridcolor": "white",
             "startlinecolor": "#2a3f5f"
            },
            "baxis": {
             "endlinecolor": "#2a3f5f",
             "gridcolor": "white",
             "linecolor": "white",
             "minorgridcolor": "white",
             "startlinecolor": "#2a3f5f"
            },
            "type": "carpet"
           }
          ],
          "choropleth": [
           {
            "colorbar": {
             "outlinewidth": 0,
             "ticks": ""
            },
            "type": "choropleth"
           }
          ],
          "contour": [
           {
            "colorbar": {
             "outlinewidth": 0,
             "ticks": ""
            },
            "colorscale": [
             [
              0,
              "#0d0887"
             ],
             [
              0.1111111111111111,
              "#46039f"
             ],
             [
              0.2222222222222222,
              "#7201a8"
             ],
             [
              0.3333333333333333,
              "#9c179e"
             ],
             [
              0.4444444444444444,
              "#bd3786"
             ],
             [
              0.5555555555555556,
              "#d8576b"
             ],
             [
              0.6666666666666666,
              "#ed7953"
             ],
             [
              0.7777777777777778,
              "#fb9f3a"
             ],
             [
              0.8888888888888888,
              "#fdca26"
             ],
             [
              1,
              "#f0f921"
             ]
            ],
            "type": "contour"
           }
          ],
          "contourcarpet": [
           {
            "colorbar": {
             "outlinewidth": 0,
             "ticks": ""
            },
            "type": "contourcarpet"
           }
          ],
          "heatmap": [
           {
            "colorbar": {
             "outlinewidth": 0,
             "ticks": ""
            },
            "colorscale": [
             [
              0,
              "#0d0887"
             ],
             [
              0.1111111111111111,
              "#46039f"
             ],
             [
              0.2222222222222222,
              "#7201a8"
             ],
             [
              0.3333333333333333,
              "#9c179e"
             ],
             [
              0.4444444444444444,
              "#bd3786"
             ],
             [
              0.5555555555555556,
              "#d8576b"
             ],
             [
              0.6666666666666666,
              "#ed7953"
             ],
             [
              0.7777777777777778,
              "#fb9f3a"
             ],
             [
              0.8888888888888888,
              "#fdca26"
             ],
             [
              1,
              "#f0f921"
             ]
            ],
            "type": "heatmap"
           }
          ],
          "heatmapgl": [
           {
            "colorbar": {
             "outlinewidth": 0,
             "ticks": ""
            },
            "colorscale": [
             [
              0,
              "#0d0887"
             ],
             [
              0.1111111111111111,
              "#46039f"
             ],
             [
              0.2222222222222222,
              "#7201a8"
             ],
             [
              0.3333333333333333,
              "#9c179e"
             ],
             [
              0.4444444444444444,
              "#bd3786"
             ],
             [
              0.5555555555555556,
              "#d8576b"
             ],
             [
              0.6666666666666666,
              "#ed7953"
             ],
             [
              0.7777777777777778,
              "#fb9f3a"
             ],
             [
              0.8888888888888888,
              "#fdca26"
             ],
             [
              1,
              "#f0f921"
             ]
            ],
            "type": "heatmapgl"
           }
          ],
          "histogram": [
           {
            "marker": {
             "pattern": {
              "fillmode": "overlay",
              "size": 10,
              "solidity": 0.2
             }
            },
            "type": "histogram"
           }
          ],
          "histogram2d": [
           {
            "colorbar": {
             "outlinewidth": 0,
             "ticks": ""
            },
            "colorscale": [
             [
              0,
              "#0d0887"
             ],
             [
              0.1111111111111111,
              "#46039f"
             ],
             [
              0.2222222222222222,
              "#7201a8"
             ],
             [
              0.3333333333333333,
              "#9c179e"
             ],
             [
              0.4444444444444444,
              "#bd3786"
             ],
             [
              0.5555555555555556,
              "#d8576b"
             ],
             [
              0.6666666666666666,
              "#ed7953"
             ],
             [
              0.7777777777777778,
              "#fb9f3a"
             ],
             [
              0.8888888888888888,
              "#fdca26"
             ],
             [
              1,
              "#f0f921"
             ]
            ],
            "type": "histogram2d"
           }
          ],
          "histogram2dcontour": [
           {
            "colorbar": {
             "outlinewidth": 0,
             "ticks": ""
            },
            "colorscale": [
             [
              0,
              "#0d0887"
             ],
             [
              0.1111111111111111,
              "#46039f"
             ],
             [
              0.2222222222222222,
              "#7201a8"
             ],
             [
              0.3333333333333333,
              "#9c179e"
             ],
             [
              0.4444444444444444,
              "#bd3786"
             ],
             [
              0.5555555555555556,
              "#d8576b"
             ],
             [
              0.6666666666666666,
              "#ed7953"
             ],
             [
              0.7777777777777778,
              "#fb9f3a"
             ],
             [
              0.8888888888888888,
              "#fdca26"
             ],
             [
              1,
              "#f0f921"
             ]
            ],
            "type": "histogram2dcontour"
           }
          ],
          "mesh3d": [
           {
            "colorbar": {
             "outlinewidth": 0,
             "ticks": ""
            },
            "type": "mesh3d"
           }
          ],
          "parcoords": [
           {
            "line": {
             "colorbar": {
              "outlinewidth": 0,
              "ticks": ""
             }
            },
            "type": "parcoords"
           }
          ],
          "pie": [
           {
            "automargin": true,
            "type": "pie"
           }
          ],
          "scatter": [
           {
            "fillpattern": {
             "fillmode": "overlay",
             "size": 10,
             "solidity": 0.2
            },
            "type": "scatter"
           }
          ],
          "scatter3d": [
           {
            "line": {
             "colorbar": {
              "outlinewidth": 0,
              "ticks": ""
             }
            },
            "marker": {
             "colorbar": {
              "outlinewidth": 0,
              "ticks": ""
             }
            },
            "type": "scatter3d"
           }
          ],
          "scattercarpet": [
           {
            "marker": {
             "colorbar": {
              "outlinewidth": 0,
              "ticks": ""
             }
            },
            "type": "scattercarpet"
           }
          ],
          "scattergeo": [
           {
            "marker": {
             "colorbar": {
              "outlinewidth": 0,
              "ticks": ""
             }
            },
            "type": "scattergeo"
           }
          ],
          "scattergl": [
           {
            "marker": {
             "colorbar": {
              "outlinewidth": 0,
              "ticks": ""
             }
            },
            "type": "scattergl"
           }
          ],
          "scattermapbox": [
           {
            "marker": {
             "colorbar": {
              "outlinewidth": 0,
              "ticks": ""
             }
            },
            "type": "scattermapbox"
           }
          ],
          "scatterpolar": [
           {
            "marker": {
             "colorbar": {
              "outlinewidth": 0,
              "ticks": ""
             }
            },
            "type": "scatterpolar"
           }
          ],
          "scatterpolargl": [
           {
            "marker": {
             "colorbar": {
              "outlinewidth": 0,
              "ticks": ""
             }
            },
            "type": "scatterpolargl"
           }
          ],
          "scatterternary": [
           {
            "marker": {
             "colorbar": {
              "outlinewidth": 0,
              "ticks": ""
             }
            },
            "type": "scatterternary"
           }
          ],
          "surface": [
           {
            "colorbar": {
             "outlinewidth": 0,
             "ticks": ""
            },
            "colorscale": [
             [
              0,
              "#0d0887"
             ],
             [
              0.1111111111111111,
              "#46039f"
             ],
             [
              0.2222222222222222,
              "#7201a8"
             ],
             [
              0.3333333333333333,
              "#9c179e"
             ],
             [
              0.4444444444444444,
              "#bd3786"
             ],
             [
              0.5555555555555556,
              "#d8576b"
             ],
             [
              0.6666666666666666,
              "#ed7953"
             ],
             [
              0.7777777777777778,
              "#fb9f3a"
             ],
             [
              0.8888888888888888,
              "#fdca26"
             ],
             [
              1,
              "#f0f921"
             ]
            ],
            "type": "surface"
           }
          ],
          "table": [
           {
            "cells": {
             "fill": {
              "color": "#EBF0F8"
             },
             "line": {
              "color": "white"
             }
            },
            "header": {
             "fill": {
              "color": "#C8D4E3"
             },
             "line": {
              "color": "white"
             }
            },
            "type": "table"
           }
          ]
         },
         "layout": {
          "annotationdefaults": {
           "arrowcolor": "#2a3f5f",
           "arrowhead": 0,
           "arrowwidth": 1
          },
          "autotypenumbers": "strict",
          "coloraxis": {
           "colorbar": {
            "outlinewidth": 0,
            "ticks": ""
           }
          },
          "colorscale": {
           "diverging": [
            [
             0,
             "#8e0152"
            ],
            [
             0.1,
             "#c51b7d"
            ],
            [
             0.2,
             "#de77ae"
            ],
            [
             0.3,
             "#f1b6da"
            ],
            [
             0.4,
             "#fde0ef"
            ],
            [
             0.5,
             "#f7f7f7"
            ],
            [
             0.6,
             "#e6f5d0"
            ],
            [
             0.7,
             "#b8e186"
            ],
            [
             0.8,
             "#7fbc41"
            ],
            [
             0.9,
             "#4d9221"
            ],
            [
             1,
             "#276419"
            ]
           ],
           "sequential": [
            [
             0,
             "#0d0887"
            ],
            [
             0.1111111111111111,
             "#46039f"
            ],
            [
             0.2222222222222222,
             "#7201a8"
            ],
            [
             0.3333333333333333,
             "#9c179e"
            ],
            [
             0.4444444444444444,
             "#bd3786"
            ],
            [
             0.5555555555555556,
             "#d8576b"
            ],
            [
             0.6666666666666666,
             "#ed7953"
            ],
            [
             0.7777777777777778,
             "#fb9f3a"
            ],
            [
             0.8888888888888888,
             "#fdca26"
            ],
            [
             1,
             "#f0f921"
            ]
           ],
           "sequentialminus": [
            [
             0,
             "#0d0887"
            ],
            [
             0.1111111111111111,
             "#46039f"
            ],
            [
             0.2222222222222222,
             "#7201a8"
            ],
            [
             0.3333333333333333,
             "#9c179e"
            ],
            [
             0.4444444444444444,
             "#bd3786"
            ],
            [
             0.5555555555555556,
             "#d8576b"
            ],
            [
             0.6666666666666666,
             "#ed7953"
            ],
            [
             0.7777777777777778,
             "#fb9f3a"
            ],
            [
             0.8888888888888888,
             "#fdca26"
            ],
            [
             1,
             "#f0f921"
            ]
           ]
          },
          "colorway": [
           "#636efa",
           "#EF553B",
           "#00cc96",
           "#ab63fa",
           "#FFA15A",
           "#19d3f3",
           "#FF6692",
           "#B6E880",
           "#FF97FF",
           "#FECB52"
          ],
          "font": {
           "color": "#2a3f5f"
          },
          "geo": {
           "bgcolor": "white",
           "lakecolor": "white",
           "landcolor": "#E5ECF6",
           "showlakes": true,
           "showland": true,
           "subunitcolor": "white"
          },
          "hoverlabel": {
           "align": "left"
          },
          "hovermode": "closest",
          "mapbox": {
           "style": "light"
          },
          "paper_bgcolor": "white",
          "plot_bgcolor": "#E5ECF6",
          "polar": {
           "angularaxis": {
            "gridcolor": "white",
            "linecolor": "white",
            "ticks": ""
           },
           "bgcolor": "#E5ECF6",
           "radialaxis": {
            "gridcolor": "white",
            "linecolor": "white",
            "ticks": ""
           }
          },
          "scene": {
           "xaxis": {
            "backgroundcolor": "#E5ECF6",
            "gridcolor": "white",
            "gridwidth": 2,
            "linecolor": "white",
            "showbackground": true,
            "ticks": "",
            "zerolinecolor": "white"
           },
           "yaxis": {
            "backgroundcolor": "#E5ECF6",
            "gridcolor": "white",
            "gridwidth": 2,
            "linecolor": "white",
            "showbackground": true,
            "ticks": "",
            "zerolinecolor": "white"
           },
           "zaxis": {
            "backgroundcolor": "#E5ECF6",
            "gridcolor": "white",
            "gridwidth": 2,
            "linecolor": "white",
            "showbackground": true,
            "ticks": "",
            "zerolinecolor": "white"
           }
          },
          "shapedefaults": {
           "line": {
            "color": "#2a3f5f"
           }
          },
          "ternary": {
           "aaxis": {
            "gridcolor": "white",
            "linecolor": "white",
            "ticks": ""
           },
           "baxis": {
            "gridcolor": "white",
            "linecolor": "white",
            "ticks": ""
           },
           "bgcolor": "#E5ECF6",
           "caxis": {
            "gridcolor": "white",
            "linecolor": "white",
            "ticks": ""
           }
          },
          "title": {
           "x": 0.05
          },
          "xaxis": {
           "automargin": true,
           "gridcolor": "white",
           "linecolor": "white",
           "ticks": "",
           "title": {
            "standoff": 15
           },
           "zerolinecolor": "white",
           "zerolinewidth": 2
          },
          "yaxis": {
           "automargin": true,
           "gridcolor": "white",
           "linecolor": "white",
           "ticks": "",
           "title": {
            "standoff": 15
           },
           "zerolinecolor": "white",
           "zerolinewidth": 2
          }
         }
        },
        "width": 600,
        "xaxis": {
         "anchor": "y",
         "autorange": true,
         "domain": [
          0,
          1
         ],
         "range": [
          -0.5,
          17.5
         ],
         "title": {
          "text": "Country"
         },
         "type": "category"
        },
        "yaxis": {
         "anchor": "x",
         "autorange": true,
         "domain": [
          0,
          1
         ],
         "range": [
          0,
          2211.5789473684213
         ],
         "title": {
          "text": "count"
         }
        }
       }
      },
      "image/png": "[encoded data removed]",
      "text/html": [
       "<div>                            <div id=\"e18bb73b-e80e-473b-b8b9-b147aee5bc76\" class=\"plotly-graph-div\" style=\"height:600px; width:600px;\"></div>            <script type=\"text/javascript\">                require([\"plotly\"], function(Plotly) {                    window.PLOTLYENV=window.PLOTLYENV || {};                                    if (document.getElementById(\"e18bb73b-e80e-473b-b8b9-b147aee5bc76\")) {                    Plotly.newPlot(                        \"e18bb73b-e80e-473b-b8b9-b147aee5bc76\",                        [{\"alignmentgroup\":\"True\",\"bingroup\":\"x\",\"hovertemplate\":\"Country=%{x}\\u003cbr\\u003ecount=%{y}\\u003cextra\\u003e\\u003c\\u002fextra\\u003e\",\"legendgroup\":\"\",\"marker\":{\"color\":\"#636efa\",\"pattern\":{\"shape\":\"\"}},\"name\":\"\",\"offsetgroup\":\"\",\"orientation\":\"v\",\"showlegend\":false,\"x\":[\"Italy\",\"Italy\",\"Italy\",\"Italy\",\"Italy\",\"Italy\",\"Italy\",\"Italy\",\"Italy\",\"Italy\",\"Chile\",\"Italy\",\"Italy\",\"Italy\",\"Italy\",\"Italy\",\"Italy\",\"Italy\",\"Italy\",\"Chile\",\"Italy\",\"Italy\",\"Italy\",\"France\",\"Italy\",\"Italy\",\"Italy\",\"Italy\",\"Italy\",\"Italy\",\"Italy\",\"Italy\",\"Italy\",\"Italy\",\"Italy\",\"Italy\",\"Chile\",\"Italy\",\"Italy\",\"Italy\",\"Italy\",\"Italy\",\"Italy\",\"Italy\",\"Italy\",\"Italy\",\"Italy\",\"Italy\",\"Italy\",\"Italy\",\"Italy\",\"Italy\",\"Italy\",\"Italy\",\"Italy\",\"France\",\"Italy\",\"Italy\",\"Italy\",\"France\",\"Italy\",\"Italy\",\"Italy\",\"Italy\",\"Italy\",\"Italy\",\"Italy\",\"Italy\",\"Italy\",\"Italy\",\"Italy\",\"Italy\",\"Italy\",\"Italy\",\"Italy\",\"Italy\",\"Italy\",\"Italy\",\"Italy\",\"Italy\",\"Italy\",\"Italy\",\"Italy\",\"Italy\",\"Italy\",\"Italy\",\"Italy\",\"Italy\",\"Italy\",\"Italy\",\"France\",\"Italy\",\"Italy\",\"Italy\",\"Italy\",\"Italy\",\"Italy\",\"Italy\",\"Italy\",\"Italy\",\"Italy\",\"Italy\",\"Italy\",\"Italy\",\"Italy\",\"Italy\",\"Italy\",\"Italy\",\"Italy\",\"Italy\",\"Italy\",\"Italy\",\"Italy\",\"France\",\"Italy\",\"Italy\",\"France\",\"Italy\",\"Italy\",\"Italy\",\"Italy\",\"Italy\",\"Italy\",\"Italy\",\"Italy\",\"Italy\",\"Italy\",\"Italy\",\"Italy\",\"Italy\",\"France\",\"Italy\",\"France\",\"France\",\"Italy\",\"Italy\",\"Italy\",\"Italy\",\"Italy\",\"Italy\",\"Italy\",\"Italy\",\"France\",\"Italy\",\"Italy\",\"Italy\",\"Italy\",\"Italy\",\"Italy\",\"Italy\",\"Italy\",\"Italy\",\"France\",\"Italy\",\"France\",\"Italy\",\"Italy\",\"Italy\",\"Italy\",\"Italy\",\"Italy\",\"Italy\",\"Italy\",\"Italy\",\"Italy\",\"Italy\",\"Italy\",\"Italy\",\"Italy\",\"Italy\",\"Italy\",\"Italy\",\"Italy\",\"Italy\",\"Italy\",\"Italy\",\"Italy\",\"Italy\",\"Italy\",\"Italy\",\"Italy\",\"Italy\",\"Italy\",\"Italy\",\"Italy\",\"Italy\",\"Italy\",\"Italy\",\"Italy\",\"Italy\",\"Italy\",\"Italy\",\"Italy\",\"Italy\",\"Italy\",\"Italy\",\"Italy\",\"Italy\",\"Italy\",\"Italy\",\"Italy\",\"Italy\",\"Italy\",\"Italy\",\"Italy\",\"Italy\",\"Italy\",\"Italy\",\"Italy\",\"Italy\",\"Italy\",\"Italy\",\"Italy\",\"Italy\",\"Italy\",\"Italy\",\"Italy\",\"Italy\",\"Italy\",\"Italy\",\"Italy\",\"Italy\",\"Italy\",\"Italy\",\"Italy\",\"France\",\"Italy\",\"Italy\",\"Italy\",\"France\",\"Italy\",\"Italy\",\"Italy\",\"Italy\",\"Italy\",\"Italy\",\"Italy\",\"Italy\",\"Italy\",\"Italy\",\"France\",\"France\",\"France\",\"Italy\",\"Italy\",\"Italy\",\"France\",\"Italy\",\"Italy\",\"Argentina\",\"Italy\",\"Italy\",\"Italy\",\"France\",\"Italy\",\"Italy\",\"France\",\"Italy\",\"Italy\",\"Italy\",\"Italy\",\"Italy\",\"Italy\",\"Italy\",\"Italy\",\"Italy\",\"United States\",\"Italy\",\"Italy\",\"Italy\",\"Italy\",\"Italy\",\"Italy\",\"Italy\",\"Italy\",\"Italy\",\"Italy\",\"Italy\",\"Italy\",\"Italy\",\"Italy\",\"Italy\",\"Italy\",\"Italy\",\"Italy\",\"Italy\",\"Italy\",\"Italy\",\"Italy\",\"Italy\",\"Italy\",\"Italy\",\"Italy\",\"Italy\",\"Italy\",\"Italy\",\"France\",\"France\",\"France\",\"France\",\"Italy\",\"Italy\",\"Italy\",\"Italy\",\"France\",\"France\",\"Italy\",\"Italy\",\"Italy\",\"Italy\",\"Italy\",\"Italy\",\"France\",\"Italy\",\"Italy\",\"Italy\",\"Italy\",\"Italy\",\"Italy\",\"Italy\",\"Italy\",\"Italy\",\"Italy\",\"Italy\",\"Italy\",\"Italy\",\"Italy\",\"Italy\",\"Italy\",\"Italy\",\"Italy\",\"Italy\",\"Italy\",\"Italy\",\"Armenia\",\"Italy\",\"Italy\",\"Italy\",\"Italy\",\"Argentina\",\"Italy\",\"Italy\",\"Italy\",\"Italy\",\"Italy\",\"Italy\",\"Italy\",\"Italy\",\"Italy\",\"Italy\",\"Italy\",\"Italy\",\"Italy\",\"Italy\",\"Italy\",\"Italy\",\"Italy\",\"Italy\",\"Italy\",\"Italy\",\"Italy\",\"France\",\"Italy\",\"France\",\"Italy\",\"Italy\",\"Italy\",\"Italy\",\"France\",\"Italy\",\"Italy\",\"Italy\",\"Italy\",\"Italy\",\"Italy\",\"Italy\",\"Italy\",\"Italy\",\"Italy\",\"Italy\",\"Italy\",\"Italy\",\"Italy\",\"Italy\",\"Italy\",\"Italy\",\"Italy\",\"Italy\",\"Italy\",\"Italy\",\"Italy\",\"Italy\",\"Italy\",\"France\",\"Italy\",\"Italy\",\"Italy\",\"Italy\",\"Italy\",\"Italy\",\"Italy\",\"Italy\",\"Italy\",\"Italy\",\"Italy\",\"Italy\",\"France\",\"Italy\",\"Italy\",\"Italy\",\"Italy\",\"Italy\",\"France\",\"Italy\",\"Italy\",\"France\",\"France\",\"France\",\"Italy\",\"Italy\",\"Italy\",\"Italy\",\"Italy\",\"Italy\",\"New Zealand\",\"Italy\",\"Italy\",\"Italy\",\"Italy\",\"Italy\",\"Italy\",\"Italy\",\"Argentina\",\"Italy\",\"Italy\",\"Italy\",\"Italy\",\"Italy\",\"Italy\",\"Italy\",\"Italy\",\"Portugal\",\"Italy\",\"Italy\",\"Italy\",\"Italy\",\"Italy\",\"Italy\",\"Italy\",\"Portugal\",\"Italy\",\"Italy\",\"Italy\",\"Italy\",\"Italy\",\"Italy\",\"Italy\",\"Italy\",\"Italy\",\"Italy\",\"Italy\",\"Italy\",\"Italy\",\"Italy\",\"Italy\",\"Italy\",\"Italy\",\"Italy\",\"Italy\",\"Italy\",\"Italy\",\"Italy\",\"Italy\",\"Italy\",\"Italy\",\"Italy\",\"Italy\",\"Italy\",\"Italy\",\"Italy\",\"France\",\"France\",\"Italy\",\"Italy\",\"Italy\",\"France\",\"Italy\",\"France\",\"Italy\",\"Italy\",\"United States\",\"Italy\",\"Italy\",\"Italy\",\"Italy\",\"Italy\",\"Italy\",\"Italy\",\"Italy\",\"Italy\",\"Italy\",\"Italy\",\"France\",\"Italy\",\"Italy\",\"Italy\",\"France\",\"France\",\"France\",\"France\",\"France\",\"France\",\"Italy\",\"Italy\",\"Italy\",\"Italy\",\"France\",\"Italy\",\"Italy\",\"Italy\",\"Italy\",\"Italy\",\"Italy\",\"Italy\",\"Italy\",\"Italy\",\"Italy\",\"Italy\",\"Italy\",\"Italy\",\"Italy\",\"Italy\",\"Italy\",\"Italy\",\"Italy\",\"Italy\",\"Italy\",\"Italy\",\"Italy\",\"Italy\",\"Italy\",\"Italy\",\"Italy\",\"Italy\",\"Italy\",\"Italy\",\"Italy\",\"Italy\",\"Italy\",\"Italy\",\"Italy\",\"Italy\",\"Italy\",\"France\",\"France\",\"Italy\",\"Italy\",\"France\",\"Italy\",\"Italy\",\"France\",\"Italy\",\"France\",\"France\",\"Italy\",\"Italy\",\"Italy\",\"Italy\",\"Italy\",\"Italy\",\"Hungary\",\"Italy\",\"Italy\",\"Italy\",\"France\",\"Italy\",\"Italy\",\"Italy\",\"Italy\",\"Italy\",\"Italy\",\"Italy\",\"Italy\",\"Italy\",\"Italy\",\"Italy\",\"Italy\",\"Italy\",\"Italy\",\"Italy\",\"Italy\",\"Italy\",\"Italy\",\"Italy\",\"Italy\",\"Italy\",\"Italy\",\"Italy\",\"Italy\",\"Italy\",\"Italy\",\"Italy\",\"Italy\",\"Chile\",\"Italy\",\"Italy\",\"Italy\",\"Italy\",\"Italy\",\"France\",\"Italy\",\"Italy\",\"Italy\",\"Italy\",\"Italy\",\"Italy\",\"Italy\",\"Italy\",\"Italy\",\"Italy\",\"Italy\",\"Italy\",\"Italy\",\"Italy\",\"Italy\",\"Italy\",\"Chile\",\"Italy\",\"Italy\",\"Italy\",\"Italy\",\"Italy\",\"Italy\",\"Italy\",\"Italy\",\"Italy\",\"Italy\",\"Italy\",\"Italy\",\"Chile\",\"Italy\",\"Italy\",\"Italy\",\"Italy\",\"Italy\",\"Italy\",\"Italy\",\"Italy\",\"Italy\",\"Italy\",\"Italy\",\"Italy\",\"Italy\",\"Italy\",\"Italy\",\"Italy\",\"Italy\",\"Italy\",\"Italy\",\"Italy\",\"Italy\",\"Italy\",\"Italy\",\"Italy\",\"Italy\",\"Italy\",\"Italy\",\"France\",\"Italy\",\"Italy\",\"Italy\",\"Italy\",\"Italy\",\"Italy\",\"France\",\"Italy\",\"Italy\",\"Italy\",\"Italy\",\"Chile\",\"France\",\"Italy\",\"Italy\",\"Italy\",\"Italy\",\"Italy\",\"Italy\",\"Italy\",\"Italy\",\"Italy\",\"Italy\",\"Italy\",\"Italy\",\"Italy\",\"Italy\",\"Italy\",\"Italy\",\"Italy\",\"Italy\",\"Italy\",\"Italy\",\"Italy\",\"Italy\",\"Italy\",\"Italy\",\"Italy\",\"Italy\",\"Italy\",\"Italy\",\"Italy\",\"Italy\",\"Italy\",\"Italy\",\"Italy\",\"Italy\",\"Italy\",\"Italy\",\"Italy\",\"Italy\",\"France\",\"Italy\",\"France\",\"Italy\",\"Italy\",\"Italy\",\"Italy\",\"Italy\",\"Italy\",\"Italy\",\"Italy\",\"Italy\",\"Italy\",\"Italy\",\"Italy\",\"Italy\",\"Italy\",\"Italy\",\"Italy\",\"Italy\",\"Italy\",\"Italy\",\"Italy\",\"Italy\",\"Italy\",\"Italy\",\"Italy\",\"Italy\",\"Italy\",\"Italy\",\"Italy\",\"Italy\",\"France\",\"Italy\",\"France\",\"Italy\",\"Italy\",\"Italy\",\"France\",\"Italy\",\"Italy\",\"Italy\",\"Italy\",\"Italy\",\"Italy\",\"Italy\",\"Italy\",\"Italy\",\"Italy\",\"Italy\",\"France\",\"Italy\",\"Italy\",\"France\",\"Italy\",\"Italy\",\"Italy\",\"Italy\",\"Italy\",\"France\",\"France\",\"Italy\",\"Italy\",\"Italy\",\"Italy\",\"Italy\",\"France\",\"Italy\",\"Italy\",\"Italy\",\"Italy\",\"Italy\",\"Italy\",\"Italy\",\"France\",\"Italy\",\"Italy\",\"Italy\",\"Italy\",\"Italy\",\"Italy\",\"Italy\",\"Italy\",\"Italy\",\"Italy\",\"Italy\",\"Italy\",\"Italy\",\"France\",\"France\",\"France\",\"Italy\",\"Italy\",\"Italy\",\"Italy\",\"Italy\",\"Italy\",\"Italy\",\"Italy\",\"Italy\",\"Italy\",\"Italy\",\"Italy\",\"Italy\",\"Italy\",\"Italy\",\"Italy\",\"Italy\",\"Italy\",\"Italy\",\"Italy\",\"Italy\",\"Italy\",\"Italy\",\"Italy\",\"Italy\",\"Italy\",\"Italy\",\"Italy\",\"Italy\",\"Italy\",\"Italy\",\"Italy\",\"Italy\",\"Italy\",\"Italy\",\"Italy\",\"Italy\",\"Italy\",\"Italy\",\"Italy\",\"Italy\",\"Italy\",\"Italy\",\"Italy\",\"Italy\",\"Italy\",\"Italy\",\"Italy\",\"Italy\",\"Italy\",\"Italy\",\"Italy\",\"Italy\",\"Italy\",\"Italy\",\"Italy\",\"Italy\",\"Italy\",\"Italy\",\"Italy\",\"Italy\",\"Italy\",\"Italy\",\"Italy\",\"Italy\",\"Italy\",\"Italy\",\"Italy\",\"Italy\",\"Italy\",\"Italy\",\"Italy\",\"Italy\",\"Italy\",\"Italy\",\"Italy\",\"Italy\",\"Italy\",\"Italy\",\"Italy\",\"Italy\",\"France\",\"Italy\",\"Italy\",\"Italy\",\"Italy\",\"Italy\",\"Italy\",\"Italy\",\"Italy\",\"Italy\",\"Italy\",\"Italy\",\"Italy\",\"Italy\",\"Italy\",\"Italy\",\"Italy\",\"Italy\",\"Italy\",\"Italy\",\"Italy\",\"Italy\",\"Italy\",\"Italy\",\"Italy\",\"Italy\",\"Italy\",\"Italy\",\"Italy\",\"France\",\"Italy\",\"Italy\",\"Italy\",\"Italy\",\"Italy\",\"Italy\",\"Italy\",\"Italy\",\"Italy\",\"Italy\",\"Italy\",\"Italy\",\"New Zealand\",\"Italy\",\"Italy\",\"Italy\",\"France\",\"France\",\"New Zealand\",\"Italy\",\"Italy\",\"Italy\",\"France\",\"Italy\",\"Italy\",\"Italy\",\"Italy\",\"Chile\",\"Italy\",\"Italy\",\"Italy\",\"Italy\",\"Italy\",\"Italy\",\"Italy\",\"Italy\",\"France\",\"Italy\",\"Italy\",\"Italy\",\"Italy\",\"Italy\",\"Italy\",\"Italy\",\"Italy\",\"Italy\",\"Italy\",\"Italy\",\"Italy\",\"Italy\",\"Italy\",\"Italy\",\"Italy\",\"Chile\",\"Italy\",\"Italy\",\"Italy\",\"Italy\",\"Italy\",\"Italy\",\"Italy\",\"Italy\",\"Italy\",\"Italy\",\"Italy\",\"Italy\",\"Italy\",\"Italy\",\"Italy\",\"Italy\",\"Italy\",\"Italy\",\"Chile\",\"Italy\",\"Italy\",\"Italy\",\"Italy\",\"Italy\",\"Italy\",\"Chile\",\"Italy\",\"Italy\",\"Italy\",\"Italy\",\"Italy\",\"Italy\",\"Italy\",\"Italy\",\"Italy\",\"Chile\",\"Italy\",\"Italy\",\"Italy\",\"Italy\",\"Italy\",\"Italy\",\"Italy\",\"Italy\",\"Italy\",\"Italy\",\"Italy\",\"Italy\",\"France\",\"Italy\",\"Italy\",\"Italy\",\"France\",\"Italy\",\"Italy\",\"Italy\",\"Italy\",\"Italy\",\"Italy\",\"Italy\",\"Italy\",\"Italy\",\"Italy\",\"Italy\",\"Italy\",\"Italy\",\"Italy\",\"Italy\",\"Italy\",\"Italy\",\"Italy\",\"Italy\",\"Italy\",\"Italy\",\"Italy\",\"Italy\",\"Italy\",\"Italy\",\"Italy\",\"Italy\",\"Italy\",\"Italy\",\"Italy\",\"Italy\",\"Italy\",\"Italy\",\"Italy\",\"Italy\",\"Italy\",\"Italy\",\"Italy\",\"Italy\",\"Italy\",\"Italy\",\"Italy\",\"Italy\",\"France\",\"Italy\",\"Italy\",\"Italy\",\"Italy\",\"Italy\",\"Italy\",\"Italy\",\"Italy\",\"Italy\",\"Italy\",\"Italy\",\"France\",\"Italy\",\"France\",\"France\",\"Italy\",\"Italy\",\"Italy\",\"Italy\",\"Italy\",\"Italy\",\"Italy\",\"Italy\",\"Italy\",\"Italy\",\"Italy\",\"Italy\",\"Italy\",\"Italy\",\"Italy\",\"France\",\"Italy\",\"Italy\",\"Italy\",\"Italy\",\"Italy\",\"Italy\",\"Italy\",\"Italy\",\"Italy\",\"Italy\",\"Italy\",\"Italy\",\"Italy\",\"Italy\",\"Italy\",\"Italy\",\"Italy\",\"Italy\",\"Italy\",\"Italy\",\"Italy\",\"Italy\",\"Italy\",\"Italy\",\"Italy\",\"Italy\",\"Italy\",\"Italy\",\"Italy\",\"Italy\",\"Italy\",\"Italy\",\"Italy\",\"Italy\",\"Italy\",\"Italy\",\"Italy\",\"Italy\",\"Italy\",\"Italy\",\"Italy\",\"Italy\",\"Italy\",\"Italy\",\"France\",\"Italy\",\"Italy\",\"Italy\",\"Italy\",\"Italy\",\"Italy\",\"Italy\",\"Italy\",\"Italy\",\"France\",\"France\",\"Italy\",\"Italy\",\"France\",\"Italy\",\"Italy\",\"Argentina\",\"Italy\",\"Italy\",\"Italy\",\"France\",\"Italy\",\"Italy\",\"France\",\"Italy\",\"Italy\",\"Italy\",\"Italy\",\"Italy\",\"United States\",\"Italy\",\"Italy\",\"Italy\",\"Italy\",\"Italy\",\"Italy\",\"Italy\",\"Italy\",\"Italy\",\"Italy\",\"Italy\",\"Italy\",\"Italy\",\"Italy\",\"Italy\",\"Italy\",\"Italy\",\"Italy\",\"Italy\",\"Italy\",\"Italy\",\"Italy\",\"Italy\",\"France\",\"Italy\",\"Italy\",\"France\",\"Italy\",\"Italy\",\"Italy\",\"Italy\",\"Italy\",\"France\",\"Italy\",\"Italy\",\"Italy\",\"Italy\",\"Italy\",\"Italy\",\"Italy\",\"Italy\",\"Italy\",\"Italy\",\"Italy\",\"Italy\",\"Italy\",\"Italy\",\"Italy\",\"Italy\",\"Italy\",\"Italy\",\"Italy\",\"Italy\",\"Italy\",\"Argentina\",\"Italy\",\"Italy\",\"Italy\",\"Italy\",\"Italy\",\"Italy\",\"Italy\",\"Italy\",\"Italy\",\"Italy\",\"Italy\",\"Italy\",\"Italy\",\"Italy\",\"Italy\",\"Italy\",\"Italy\",\"Italy\",\"Italy\",\"France\",\"Italy\",\"Italy\",\"Italy\",\"France\",\"Italy\",\"Italy\",\"Italy\",\"Italy\",\"Italy\",\"Italy\",\"Italy\",\"Italy\",\"Italy\",\"Italy\",\"Italy\",\"Italy\",\"Italy\",\"Italy\",\"Italy\",\"Italy\",\"Italy\",\"Italy\",\"Italy\",\"Italy\",\"Italy\",\"Italy\",\"Italy\",\"Italy\",\"Italy\",\"Italy\",\"Italy\",\"Italy\",\"Italy\",\"Italy\",\"Italy\",\"Italy\",\"Italy\",\"Italy\",\"Italy\",\"Italy\",\"Italy\",\"Italy\",\"Italy\",\"Italy\",\"Italy\",\"Italy\",\"Italy\",\"Italy\",\"Italy\",\"Italy\",\"Italy\",\"Italy\",\"Italy\",\"Italy\",\"Italy\",\"Italy\",\"Italy\",\"Italy\",\"Italy\",\"Italy\",\"Italy\",\"Italy\",\"Italy\",\"Italy\",\"Italy\",\"Italy\",\"Italy\",\"Italy\",\"Italy\",\"Italy\",\"Italy\",\"Italy\",\"Chile\",\"Italy\",\"Italy\",\"Italy\",\"Italy\",\"Italy\",\"Italy\",\"Italy\",\"Chile\",\"Italy\",\"Italy\",\"Italy\",\"Italy\",\"Italy\",\"Italy\",\"Italy\",\"Italy\",\"Italy\",\"Italy\",\"Italy\",\"Italy\",\"Italy\",\"Italy\",\"Italy\",\"Italy\",\"Italy\",\"Italy\",\"Italy\",\"Italy\",\"Italy\",\"Italy\",\"Italy\",\"France\",\"Italy\",\"Italy\",\"Italy\",\"Italy\",\"Italy\",\"Italy\",\"Italy\",\"Italy\",\"Italy\",\"Italy\",\"Italy\",\"Italy\",\"Italy\",\"Italy\",\"Italy\",\"Italy\",\"Italy\",\"France\",\"Italy\",\"Italy\",\"Italy\",\"Italy\",\"Italy\",\"Italy\",\"Italy\",\"Italy\",\"Italy\",\"Italy\",\"Italy\",\"Italy\",\"New Zealand\",\"Italy\",\"New Zealand\",\"Italy\",\"Italy\",\"Italy\",\"France\",\"Italy\",\"Italy\",\"Italy\",\"Italy\",\"France\",\"France\",\"Italy\",\"Italy\",\"Germany\",\"Italy\",\"Italy\",\"Italy\",\"Italy\",\"Italy\",\"Italy\",\"Italy\",\"Italy\",\"Italy\",\"France\",\"Italy\",\"France\",\"Italy\",\"Italy\",\"France\",\"Italy\",\"Italy\",\"Italy\",\"Italy\",\"Italy\",\"Italy\",\"Italy\",\"France\",\"Italy\",\"Italy\",\"Italy\",\"Italy\",\"France\",\"France\",\"Italy\",\"Italy\",\"Italy\",\"New Zealand\",\"Slovenia\",\"Italy\",\"Italy\",\"Italy\",\"Italy\",\"Italy\",\"Italy\",\"Italy\",\"Italy\",\"France\",\"Italy\",\"Italy\",\"Italy\",\"Italy\",\"Italy\",\"Italy\",\"Italy\",\"Italy\",\"Italy\",\"Italy\",\"France\",\"Germany\",\"Austria\",\"Italy\",\"Germany\",\"Italy\",\"France\",\"Italy\",\"France\",\"Italy\",\"Italy\",\"France\",\"France\",\"Italy\",\"Greece\",\"France\",\"Italy\",\"Italy\",\"Italy\",\"France\",\"Australia\",\"Italy\",\"Italy\",\"Italy\",\"Italy\",\"Italy\",\"Italy\",\"Italy\",\"Italy\",\"Portugal\",\"Hungary\",\"Hungary\",\"Italy\",\"Italy\",\"Italy\",\"Italy\",\"Italy\",\"Italy\",\"Italy\",\"France\",\"Italy\",\"Italy\",\"Italy\",\"Italy\",\"Italy\",\"Italy\",\"Italy\",\"Italy\",\"France\",\"France\",\"Hungary\",\"France\",\"France\",\"Italy\",\"Italy\",\"France\",\"Italy\",\"Italy\",\"Italy\",\"France\",\"Italy\",\"Italy\",\"Italy\",\"Italy\",\"Italy\",\"Argentina\",\"Italy\",\"Italy\",\"Italy\",\"Italy\",\"Italy\",\"Italy\",\"Spain\",\"Germany\",\"Italy\",\"Italy\",\"Germany\",\"Italy\",\"France\",\"France\",\"Italy\",\"Italy\",\"Italy\",\"Italy\",\"Italy\",\"Italy\",\"France\",\"Italy\",\"Italy\",\"Italy\",\"New Zealand\",\"Italy\",\"France\",\"United States\",\"Italy\",\"Italy\",\"Italy\",\"Italy\",\"Italy\",\"Italy\",\"Italy\",\"Italy\",\"Germany\",\"Italy\",\"Austria\",\"Italy\",\"Italy\",\"Italy\",\"Italy\",\"Italy\",\"Italy\",\"Italy\",\"Italy\",\"France\",\"Italy\",\"Italy\",\"Portugal\",\"Italy\",\"Italy\",\"France\",\"Italy\",\"Italy\",\"Italy\",\"Italy\",\"Italy\",\"France\",\"Germany\",\"Germany\",\"France\",\"Germany\",\"Germany\",\"France\",\"Italy\",\"France\",\"Italy\",\"Germany\",\"Italy\",\"France\",\"Italy\",\"Italy\",\"Italy\",\"Italy\",\"Italy\",\"Italy\",\"Italy\",\"Italy\",\"Italy\",\"Italy\",\"Italy\",\"Italy\",\"Italy\",\"Italy\",\"Italy\",\"Italy\",\"Italy\",\"Italy\",\"Italy\",\"Italy\",\"Italy\",\"Italy\",\"Germany\",\"Austria\",\"Spain\",\"France\",\"Germany\",\"Portugal\",\"Australia\",\"Germany\",\"Italy\",\"Italy\",\"France\",\"Italy\",\"Italy\",\"Italy\",\"Italy\",\"Italy\",\"France\",\"Italy\",\"Italy\",\"Greece\",\"Italy\",\"Italy\",\"Spain\",\"Italy\",\"Italy\",\"Italy\",\"Slovenia\",\"Italy\",\"Italy\",\"Italy\",\"Italy\",\"Italy\",\"Spain\",\"Slovenia\",\"Italy\",\"Italy\",\"France\",\"South Africa\",\"Italy\",\"France\",\"Italy\",\"Italy\",\"Germany\",\"South Africa\",\"Spain\",\"Austria\",\"Italy\",\"France\",\"Portugal\",\"Lebanon\",\"Italy\",\"Italy\",\"Italy\",\"Italy\",\"Italy\",\"Italy\",\"Italy\",\"France\",\"Italy\",\"Italy\",\"Italy\",\"Italy\",\"Italy\",\"Italy\",\"Italy\",\"Italy\",\"Italy\",\"Italy\",\"Italy\",\"Italy\",\"Chile\",\"Italy\",\"Italy\",\"Italy\",\"Italy\",\"Italy\",\"France\",\"Italy\",\"France\",\"France\",\"Italy\",\"France\",\"France\",\"France\",\"Italy\",\"Italy\",\"Italy\",\"Italy\",\"France\",\"Italy\",\"Italy\",\"Italy\",\"Italy\",\"Italy\",\"Italy\",\"Italy\",\"Italy\",\"Italy\",\"Italy\",\"Italy\",\"Italy\",\"Italy\",\"Italy\",\"Italy\",\"Italy\",\"Italy\",\"Italy\",\"Italy\",\"Italy\",\"Italy\",\"Italy\",\"Italy\",\"Italy\",\"Italy\",\"Italy\",\"Italy\",\"Italy\",\"Italy\",\"Italy\",\"Italy\",\"Italy\",\"Italy\",\"Italy\",\"Italy\",\"Italy\",\"Italy\",\"Italy\",\"Italy\",\"Italy\",\"Italy\",\"Italy\",\"Italy\",\"Italy\",\"Italy\",\"Italy\",\"Italy\",\"Italy\",\"Italy\",\"Italy\",\"Italy\",\"Italy\",\"Italy\",\"Italy\",\"Italy\",\"Italy\",\"Italy\",\"Italy\",\"Italy\",\"Italy\",\"Italy\",\"Italy\",\"Italy\",\"Italy\",\"Italy\",\"Italy\",\"Italy\",\"Italy\",\"Italy\",\"Italy\",\"Italy\",\"Italy\",\"Italy\",\"Italy\",\"Italy\",\"Italy\",\"New Zealand\",\"Italy\",\"Germany\",\"New Zealand\",\"France\",\"Germany\",\"Italy\",\"Italy\",\"Germany\",\"Italy\",\"Italy\",\"Italy\",\"Italy\",\"Italy\",\"Italy\",\"France\",\"Italy\",\"France\",\"France\",\"France\",\"Italy\",\"Italy\",\"Italy\",\"France\",\"France\",\"France\",\"Italy\",\"Germany\",\"France\",\"France\",\"France\",\"Italy\",\"France\",\"Italy\",\"Chile\",\"Italy\",\"Italy\",\"Italy\",\"Italy\",\"Italy\",\"Italy\",\"Italy\",\"Italy\",\"Italy\",\"South Africa\",\"Italy\",\"Italy\",\"France\",\"Italy\",\"France\",\"Italy\",\"Italy\",\"Italy\",\"France\",\"Italy\",\"Italy\",\"Italy\",\"Italy\",\"Italy\",\"Italy\",\"Italy\",\"Italy\",\"Italy\",\"Italy\",\"Italy\",\"Italy\",\"Italy\",\"Italy\",\"Italy\",\"Italy\",\"Italy\",\"Italy\",\"Italy\",\"Italy\",\"Italy\",\"Italy\",\"Italy\",\"Italy\",\"Italy\",\"Italy\",\"Italy\",\"Italy\",\"Italy\",\"Italy\",\"Italy\",\"Italy\",\"France\",\"Italy\",\"Italy\",\"Italy\",\"Italy\",\"Italy\",\"Italy\",\"Italy\",\"Italy\",\"Italy\",\"Italy\",\"Italy\",\"Italy\",\"Italy\",\"Italy\",\"Italy\",\"Italy\",\"Italy\",\"Italy\",\"Italy\",\"Italy\",\"Italy\",\"Italy\",\"Italy\",\"Italy\",\"Italy\",\"Italy\",\"Italy\",\"Italy\",\"Italy\",\"Italy\",\"France\",\"Italy\",\"Italy\",\"Italy\",\"Italy\",\"Spain\",\"Italy\",\"Italy\",\"Italy\",\"Italy\",\"Italy\",\"Italy\",\"Italy\",\"Italy\",\"Italy\",\"Italy\",\"France\",\"Italy\",\"Italy\",\"Italy\",\"Italy\",\"Italy\",\"Italy\",\"Italy\",\"France\",\"Italy\",\"Italy\",\"France\",\"France\",\"France\",\"Italy\",\"Italy\",\"France\",\"France\",\"France\",\"Italy\",\"France\",\"France\",\"France\",\"France\",\"France\",\"France\",\"France\",\"France\",\"France\",\"France\",\"France\",\"France\",\"France\",\"France\",\"France\",\"France\",\"France\",\"France\",\"France\",\"France\",\"France\",\"France\",\"France\",\"France\",\"France\",\"France\",\"France\",\"France\",\"France\",\"France\",\"France\",\"France\",\"France\",\"France\",\"France\",\"France\",\"France\",\"France\",\"France\",\"France\",\"France\",\"France\",\"France\",\"France\",\"France\",\"France\",\"France\",\"France\",\"Italy\",\"Italy\",\"Italy\",\"Italy\",\"Italy\",\"Italy\",\"France\",\"France\",\"Italy\",\"Italy\",\"France\",\"Italy\",\"Italy\",\"France\",\"France\",\"France\",\"Italy\",\"Portugal\",\"Italy\",\"France\",\"Italy\",\"Italy\",\"Italy\",\"Italy\",\"France\",\"Italy\",\"Italy\",\"France\",\"Italy\",\"Italy\",\"Italy\",\"France\",\"France\",\"Italy\",\"Italy\",\"Italy\",\"Italy\",\"France\",\"Italy\",\"Italy\",\"Italy\",\"Italy\",\"Italy\",\"Lebanon\",\"France\",\"Italy\",\"Italy\",\"Italy\",\"Italy\",\"Italy\",\"France\",\"Italy\",\"Italy\",\"Italy\",\"Italy\",\"Italy\",\"France\",\"Italy\",\"Italy\",\"Italy\",\"Italy\",\"Italy\",\"Italy\",\"Italy\",\"Italy\",\"Italy\",\"South Africa\",\"Italy\",\"Italy\",\"France\",\"Italy\",\"Italy\",\"Italy\",\"Italy\",\"Italy\",\"Italy\",\"Slovenia\",\"Italy\",\"Italy\",\"Italy\",\"Italy\",\"Italy\",\"Spain\",\"Italy\",\"Italy\",\"Italy\",\"Italy\",\"Italy\",\"Italy\",\"France\",\"France\",\"Italy\",\"Italy\",\"Italy\",\"Italy\",\"Italy\",\"Italy\",\"France\",\"Italy\",\"Italy\",\"Italy\",\"Italy\",\"Italy\",\"Italy\",\"Italy\",\"Italy\",\"Italy\",\"Italy\",\"United States\",\"Italy\",\"Italy\",\"Italy\",\"Italy\",\"Italy\",\"Italy\",\"Italy\",\"Italy\",\"Italy\",\"Italy\",\"Italy\",\"Italy\",\"France\",\"France\",\"Italy\",\"Italy\",\"Italy\",\"Italy\",\"France\",\"Italy\",\"Italy\",\"Italy\",\"Italy\",\"Italy\",\"France\",\"Italy\",\"Italy\",\"Italy\",\"Italy\",\"Italy\",\"Italy\",\"Italy\",\"Italy\",\"Italy\",\"Italy\",\"Italy\",\"Italy\",\"Italy\",\"Italy\",\"Italy\",\"Italy\",\"Italy\",\"Italy\",\"Italy\",\"Italy\",\"Italy\",\"Italy\",\"Italy\",\"Italy\",\"Italy\",\"Italy\",\"Italy\",\"Italy\",\"Italy\",\"Italy\",\"France\",\"Italy\",\"Italy\",\"Spain\",\"Spain\",\"Portugal\",\"Portugal\",\"Portugal\",\"Portugal\",\"Italy\",\"France\",\"France\",\"Italy\",\"Italy\",\"Italy\",\"Italy\",\"Italy\",\"Italy\",\"Italy\",\"France\",\"Italy\",\"Italy\",\"Italy\",\"Italy\",\"France\",\"Italy\",\"Italy\",\"Italy\",\"Italy\",\"Italy\",\"Italy\",\"Italy\",\"Italy\",\"Austria\",\"Italy\",\"Italy\",\"Italy\",\"Italy\",\"Italy\",\"Italy\",\"Hungary\",\"Italy\",\"Italy\",\"Italy\",\"Hungary\",\"Italy\",\"Italy\",\"Italy\",\"France\",\"France\",\"Italy\",\"Italy\",\"Italy\",\"France\",\"Italy\",\"France\",\"Austria\",\"Italy\",\"Italy\",\"Italy\",\"France\",\"Italy\",\"Italy\",\"Italy\",\"France\",\"Italy\",\"Italy\",\"Canada\",\"Italy\",\"Hungary\",\"France\",\"France\",\"Italy\",\"Italy\",\"Italy\",\"Italy\",\"Italy\",\"Italy\",\"Italy\",\"Italy\",\"Italy\",\"Italy\",\"Italy\",\"Italy\",\"Italy\",\"Italy\",\"Italy\",\"Chile\",\"Italy\",\"Italy\",\"Italy\",\"Italy\",\"Italy\",\"Italy\",\"Italy\",\"Italy\",\"France\",\"Italy\",\"Italy\",\"Italy\",\"Italy\",\"Italy\",\"Italy\",\"Italy\",\"Italy\",\"Italy\",\"Italy\",\"Italy\",\"Italy\",\"Italy\",\"Italy\",\"Italy\",\"Italy\",\"Italy\",\"Italy\",\"Italy\",\"Italy\",\"Italy\",\"Italy\",\"Italy\",\"Italy\",\"Italy\",\"Italy\",\"Italy\",\"Italy\",\"Italy\",\"Italy\",\"Italy\",\"Italy\",\"Italy\",\"Italy\",\"Italy\",\"Italy\",\"Italy\",\"Italy\",\"Italy\",\"Italy\",\"Italy\",\"Italy\",\"Italy\",\"Italy\",\"Italy\",\"Italy\",\"Italy\",\"Italy\",\"Italy\",\"Italy\",\"Italy\",\"Italy\",\"Italy\",\"Italy\",\"Italy\",\"Italy\",\"Italy\",\"Italy\",\"Italy\",\"Italy\",\"Italy\",\"Italy\",\"France\",\"Italy\",\"Italy\",\"Italy\",\"Italy\",\"Italy\",\"Italy\",\"Italy\",\"Italy\",\"Italy\",\"Italy\",\"Italy\",\"Italy\",\"Italy\",\"Italy\",\"Italy\",\"Italy\",\"Italy\",\"Italy\",\"Italy\",\"Italy\",\"Italy\",\"Italy\",\"Italy\",\"Italy\",\"Italy\",\"Italy\",\"Italy\",\"Italy\",\"Italy\",\"Italy\",\"Italy\",\"Italy\",\"Italy\",\"Italy\",\"New Zealand\",\"Italy\",\"Italy\",\"Italy\",\"France\",\"France\",\"New Zealand\",\"Italy\",\"Italy\",\"Italy\",\"Italy\",\"Italy\",\"Italy\",\"France\",\"Italy\",\"Italy\",\"Italy\",\"France\",\"Italy\",\"Italy\",\"Germany\",\"Italy\",\"Italy\",\"France\",\"France\",\"France\",\"Italy\",\"Italy\",\"Italy\",\"Italy\",\"Italy\",\"Italy\",\"France\",\"Italy\",\"Italy\",\"Italy\",\"Italy\",\"Italy\",\"Italy\",\"Italy\",\"United States\",\"Italy\",\"France\",\"Italy\",\"Italy\",\"Italy\",\"Italy\",\"France\",\"Italy\",\"Italy\",\"Italy\",\"Italy\",\"Italy\",\"Italy\",\"Italy\",\"Italy\",\"Italy\",\"Italy\",\"France\",\"Italy\",\"Italy\",\"Italy\",\"Italy\",\"Italy\",\"Italy\",\"Italy\",\"Italy\",\"Italy\",\"Italy\",\"Italy\",\"Italy\",\"France\",\"Italy\",\"Italy\",\"Italy\",\"Italy\",\"Italy\",\"Italy\",\"United States\",\"Italy\",\"France\",\"Italy\",\"Italy\",\"France\",\"France\",\"Italy\",\"France\",\"Italy\",\"Italy\",\"France\",\"France\",\"Italy\",\"France\",\"France\",\"Italy\",\"Italy\",\"Italy\",\"Italy\",\"Italy\",\"Italy\",\"Italy\",\"Italy\",\"Italy\",\"Italy\",\"Italy\",\"Italy\",\"France\",\"Italy\",\"Italy\",\"France\",\"Italy\",\"Italy\",\"Italy\",\"Italy\",\"Italy\",\"Italy\",\"Italy\",\"Italy\",\"Italy\",\"Armenia\",\"Italy\",\"Italy\",\"Italy\",\"Italy\",\"France\",\"Italy\",\"Italy\",\"Argentina\",\"Italy\",\"Italy\",\"Italy\",\"Italy\",\"Italy\",\"Italy\",\"Italy\",\"Italy\",\"Italy\",\"Italy\",\"Italy\",\"Italy\",\"Italy\",\"Italy\",\"Italy\",\"Italy\",\"Italy\",\"Italy\",\"Italy\",\"France\",\"Italy\",\"Italy\",\"Italy\",\"Italy\",\"Italy\",\"Italy\",\"Italy\"],\"xaxis\":\"x\",\"yaxis\":\"y\",\"type\":\"histogram\"}],                        {\"template\":{\"data\":{\"histogram2dcontour\":[{\"type\":\"histogram2dcontour\",\"colorbar\":{\"outlinewidth\":0,\"ticks\":\"\"},\"colorscale\":[[0.0,\"#0d0887\"],[0.1111111111111111,\"#46039f\"],[0.2222222222222222,\"#7201a8\"],[0.3333333333333333,\"#9c179e\"],[0.4444444444444444,\"#bd3786\"],[0.5555555555555556,\"#d8576b\"],[0.6666666666666666,\"#ed7953\"],[0.7777777777777778,\"#fb9f3a\"],[0.8888888888888888,\"#fdca26\"],[1.0,\"#f0f921\"]]}],\"choropleth\":[{\"type\":\"choropleth\",\"colorbar\":{\"outlinewidth\":0,\"ticks\":\"\"}}],\"histogram2d\":[{\"type\":\"histogram2d\",\"colorbar\":{\"outlinewidth\":0,\"ticks\":\"\"},\"colorscale\":[[0.0,\"#0d0887\"],[0.1111111111111111,\"#46039f\"],[0.2222222222222222,\"#7201a8\"],[0.3333333333333333,\"#9c179e\"],[0.4444444444444444,\"#bd3786\"],[0.5555555555555556,\"#d8576b\"],[0.6666666666666666,\"#ed7953\"],[0.7777777777777778,\"#fb9f3a\"],[0.8888888888888888,\"#fdca26\"],[1.0,\"#f0f921\"]]}],\"heatmap\":[{\"type\":\"heatmap\",\"colorbar\":{\"outlinewidth\":0,\"ticks\":\"\"},\"colorscale\":[[0.0,\"#0d0887\"],[0.1111111111111111,\"#46039f\"],[0.2222222222222222,\"#7201a8\"],[0.3333333333333333,\"#9c179e\"],[0.4444444444444444,\"#bd3786\"],[0.5555555555555556,\"#d8576b\"],[0.6666666666666666,\"#ed7953\"],[0.7777777777777778,\"#fb9f3a\"],[0.8888888888888888,\"#fdca26\"],[1.0,\"#f0f921\"]]}],\"heatmapgl\":[{\"type\":\"heatmapgl\",\"colorbar\":{\"outlinewidth\":0,\"ticks\":\"\"},\"colorscale\":[[0.0,\"#0d0887\"],[0.1111111111111111,\"#46039f\"],[0.2222222222222222,\"#7201a8\"],[0.3333333333333333,\"#9c179e\"],[0.4444444444444444,\"#bd3786\"],[0.5555555555555556,\"#d8576b\"],[0.6666666666666666,\"#ed7953\"],[0.7777777777777778,\"#fb9f3a\"],[0.8888888888888888,\"#fdca26\"],[1.0,\"#f0f921\"]]}],\"contourcarpet\":[{\"type\":\"contourcarpet\",\"colorbar\":{\"outlinewidth\":0,\"ticks\":\"\"}}],\"contour\":[{\"type\":\"contour\",\"colorbar\":{\"outlinewidth\":0,\"ticks\":\"\"},\"colorscale\":[[0.0,\"#0d0887\"],[0.1111111111111111,\"#46039f\"],[0.2222222222222222,\"#7201a8\"],[0.3333333333333333,\"#9c179e\"],[0.4444444444444444,\"#bd3786\"],[0.5555555555555556,\"#d8576b\"],[0.6666666666666666,\"#ed7953\"],[0.7777777777777778,\"#fb9f3a\"],[0.8888888888888888,\"#fdca26\"],[1.0,\"#f0f921\"]]}],\"surface\":[{\"type\":\"surface\",\"colorbar\":{\"outlinewidth\":0,\"ticks\":\"\"},\"colorscale\":[[0.0,\"#0d0887\"],[0.1111111111111111,\"#46039f\"],[0.2222222222222222,\"#7201a8\"],[0.3333333333333333,\"#9c179e\"],[0.4444444444444444,\"#bd3786\"],[0.5555555555555556,\"#d8576b\"],[0.6666666666666666,\"#ed7953\"],[0.7777777777777778,\"#fb9f3a\"],[0.8888888888888888,\"#fdca26\"],[1.0,\"#f0f921\"]]}],\"mesh3d\":[{\"type\":\"mesh3d\",\"colorbar\":{\"outlinewidth\":0,\"ticks\":\"\"}}],\"scatter\":[{\"fillpattern\":{\"fillmode\":\"overlay\",\"size\":10,\"solidity\":0.2},\"type\":\"scatter\"}],\"parcoords\":[{\"type\":\"parcoords\",\"line\":{\"colorbar\":{\"outlinewidth\":0,\"ticks\":\"\"}}}],\"scatterpolargl\":[{\"type\":\"scatterpolargl\",\"marker\":{\"colorbar\":{\"outlinewidth\":0,\"ticks\":\"\"}}}],\"bar\":[{\"error_x\":{\"color\":\"#2a3f5f\"},\"error_y\":{\"color\":\"#2a3f5f\"},\"marker\":{\"line\":{\"color\":\"#E5ECF6\",\"width\":0.5},\"pattern\":{\"fillmode\":\"overlay\",\"size\":10,\"solidity\":0.2}},\"type\":\"bar\"}],\"scattergeo\":[{\"type\":\"scattergeo\",\"marker\":{\"colorbar\":{\"outlinewidth\":0,\"ticks\":\"\"}}}],\"scatterpolar\":[{\"type\":\"scatterpolar\",\"marker\":{\"colorbar\":{\"outlinewidth\":0,\"ticks\":\"\"}}}],\"histogram\":[{\"marker\":{\"pattern\":{\"fillmode\":\"overlay\",\"size\":10,\"solidity\":0.2}},\"type\":\"histogram\"}],\"scattergl\":[{\"type\":\"scattergl\",\"marker\":{\"colorbar\":{\"outlinewidth\":0,\"ticks\":\"\"}}}],\"scatter3d\":[{\"type\":\"scatter3d\",\"line\":{\"colorbar\":{\"outlinewidth\":0,\"ticks\":\"\"}},\"marker\":{\"colorbar\":{\"outlinewidth\":0,\"ticks\":\"\"}}}],\"scattermapbox\":[{\"type\":\"scattermapbox\",\"marker\":{\"colorbar\":{\"outlinewidth\":0,\"ticks\":\"\"}}}],\"scatterternary\":[{\"type\":\"scatterternary\",\"marker\":{\"colorbar\":{\"outlinewidth\":0,\"ticks\":\"\"}}}],\"scattercarpet\":[{\"type\":\"scattercarpet\",\"marker\":{\"colorbar\":{\"outlinewidth\":0,\"ticks\":\"\"}}}],\"carpet\":[{\"aaxis\":{\"endlinecolor\":\"#2a3f5f\",\"gridcolor\":\"white\",\"linecolor\":\"white\",\"minorgridcolor\":\"white\",\"startlinecolor\":\"#2a3f5f\"},\"baxis\":{\"endlinecolor\":\"#2a3f5f\",\"gridcolor\":\"white\",\"linecolor\":\"white\",\"minorgridcolor\":\"white\",\"startlinecolor\":\"#2a3f5f\"},\"type\":\"carpet\"}],\"table\":[{\"cells\":{\"fill\":{\"color\":\"#EBF0F8\"},\"line\":{\"color\":\"white\"}},\"header\":{\"fill\":{\"color\":\"#C8D4E3\"},\"line\":{\"color\":\"white\"}},\"type\":\"table\"}],\"barpolar\":[{\"marker\":{\"line\":{\"color\":\"#E5ECF6\",\"width\":0.5},\"pattern\":{\"fillmode\":\"overlay\",\"size\":10,\"solidity\":0.2}},\"type\":\"barpolar\"}],\"pie\":[{\"automargin\":true,\"type\":\"pie\"}]},\"layout\":{\"autotypenumbers\":\"strict\",\"colorway\":[\"#636efa\",\"#EF553B\",\"#00cc96\",\"#ab63fa\",\"#FFA15A\",\"#19d3f3\",\"#FF6692\",\"#B6E880\",\"#FF97FF\",\"#FECB52\"],\"font\":{\"color\":\"#2a3f5f\"},\"hovermode\":\"closest\",\"hoverlabel\":{\"align\":\"left\"},\"paper_bgcolor\":\"white\",\"plot_bgcolor\":\"#E5ECF6\",\"polar\":{\"bgcolor\":\"#E5ECF6\",\"angularaxis\":{\"gridcolor\":\"white\",\"linecolor\":\"white\",\"ticks\":\"\"},\"radialaxis\":{\"gridcolor\":\"white\",\"linecolor\":\"white\",\"ticks\":\"\"}},\"ternary\":{\"bgcolor\":\"#E5ECF6\",\"aaxis\":{\"gridcolor\":\"white\",\"linecolor\":\"white\",\"ticks\":\"\"},\"baxis\":{\"gridcolor\":\"white\",\"linecolor\":\"white\",\"ticks\":\"\"},\"caxis\":{\"gridcolor\":\"white\",\"linecolor\":\"white\",\"ticks\":\"\"}},\"coloraxis\":{\"colorbar\":{\"outlinewidth\":0,\"ticks\":\"\"}},\"colorscale\":{\"sequential\":[[0.0,\"#0d0887\"],[0.1111111111111111,\"#46039f\"],[0.2222222222222222,\"#7201a8\"],[0.3333333333333333,\"#9c179e\"],[0.4444444444444444,\"#bd3786\"],[0.5555555555555556,\"#d8576b\"],[0.6666666666666666,\"#ed7953\"],[0.7777777777777778,\"#fb9f3a\"],[0.8888888888888888,\"#fdca26\"],[1.0,\"#f0f921\"]],\"sequentialminus\":[[0.0,\"#0d0887\"],[0.1111111111111111,\"#46039f\"],[0.2222222222222222,\"#7201a8\"],[0.3333333333333333,\"#9c179e\"],[0.4444444444444444,\"#bd3786\"],[0.5555555555555556,\"#d8576b\"],[0.6666666666666666,\"#ed7953\"],[0.7777777777777778,\"#fb9f3a\"],[0.8888888888888888,\"#fdca26\"],[1.0,\"#f0f921\"]],\"diverging\":[[0,\"#8e0152\"],[0.1,\"#c51b7d\"],[0.2,\"#de77ae\"],[0.3,\"#f1b6da\"],[0.4,\"#fde0ef\"],[0.5,\"#f7f7f7\"],[0.6,\"#e6f5d0\"],[0.7,\"#b8e186\"],[0.8,\"#7fbc41\"],[0.9,\"#4d9221\"],[1,\"#276419\"]]},\"xaxis\":{\"gridcolor\":\"white\",\"linecolor\":\"white\",\"ticks\":\"\",\"title\":{\"standoff\":15},\"zerolinecolor\":\"white\",\"automargin\":true,\"zerolinewidth\":2},\"yaxis\":{\"gridcolor\":\"white\",\"linecolor\":\"white\",\"ticks\":\"\",\"title\":{\"standoff\":15},\"zerolinecolor\":\"white\",\"automargin\":true,\"zerolinewidth\":2},\"scene\":{\"xaxis\":{\"backgroundcolor\":\"#E5ECF6\",\"gridcolor\":\"white\",\"linecolor\":\"white\",\"showbackground\":true,\"ticks\":\"\",\"zerolinecolor\":\"white\",\"gridwidth\":2},\"yaxis\":{\"backgroundcolor\":\"#E5ECF6\",\"gridcolor\":\"white\",\"linecolor\":\"white\",\"showbackground\":true,\"ticks\":\"\",\"zerolinecolor\":\"white\",\"gridwidth\":2},\"zaxis\":{\"backgroundcolor\":\"#E5ECF6\",\"gridcolor\":\"white\",\"linecolor\":\"white\",\"showbackground\":true,\"ticks\":\"\",\"zerolinecolor\":\"white\",\"gridwidth\":2}},\"shapedefaults\":{\"line\":{\"color\":\"#2a3f5f\"}},\"annotationdefaults\":{\"arrowcolor\":\"#2a3f5f\",\"arrowhead\":0,\"arrowwidth\":1},\"geo\":{\"bgcolor\":\"white\",\"landcolor\":\"#E5ECF6\",\"subunitcolor\":\"white\",\"showland\":true,\"showlakes\":true,\"lakecolor\":\"white\"},\"title\":{\"x\":0.05},\"mapbox\":{\"style\":\"light\"}}},\"xaxis\":{\"anchor\":\"y\",\"domain\":[0.0,1.0],\"title\":{\"text\":\"Country\"}},\"yaxis\":{\"anchor\":\"x\",\"domain\":[0.0,1.0],\"title\":{\"text\":\"count\"}},\"legend\":{\"tracegroupgap\":0},\"margin\":{\"t\":60},\"barmode\":\"relative\",\"width\":600,\"height\":600},                        {\"responsive\": true}                    ).then(function(){\n",
       "                            \n",
       "var gd = document.getElementById('e18bb73b-e80e-473b-b8b9-b147aee5bc76');\n",
       "var x = new MutationObserver(function (mutations, observer) {{\n",
       "        var display = window.getComputedStyle(gd).display;\n",
       "        if (!display || display === 'none') {{\n",
       "            console.log([gd, 'removed!']);\n",
       "            Plotly.purge(gd);\n",
       "            observer.disconnect();\n",
       "        }}\n",
       "}});\n",
       "\n",
       "// Listen for the removal of the full notebook cells\n",
       "var notebookContainer = gd.closest('#notebook-container');\n",
       "if (notebookContainer) {{\n",
       "    x.observe(notebookContainer, {childList: true});\n",
       "}}\n",
       "\n",
       "// Listen for the clearing of the current output cell\n",
       "var outputEl = gd.closest('.output');\n",
       "if (outputEl) {{\n",
       "    x.observe(outputEl, {childList: true});\n",
       "}}\n",
       "\n",
       "                        })                };                });            </script>        </div>"
      ]
     },
     "metadata": {},
     "output_type": "display_data"
    }
   ],
   "source": [
    "fig = px.histogram(df, x='Country')\n",
    "fig.update_layout(width=600, height=600).show()"
   ]
  },
  {
   "cell_type": "code",
   "execution_count": 12,
   "metadata": {
    "collapsed": false
   },
   "outputs": [
    {
     "data": {
      "application/vnd.plotly.v1+json": {
       "config": {
        "plotlyServerURL": "https://plot.ly"
       },
       "data": [
        {
         "alignmentgroup": "True",
         "bingroup": "x",
         "hovertemplate": "Aroma=%{x}<br>count=%{y}<extra></extra>",
         "legendgroup": "",
         "marker": {
          "color": "#636efa",
          "pattern": {
           "shape": ""
          }
         },
         "name": "",
         "offsetgroup": "",
         "orientation": "v",
         "showlegend": false,
         "texttemplate": "%{value}",
         "type": "histogram",
         "x": [
          "Fruity",
          "Fruity",
          "Fruity",
          "Fruity",
          "Fruity",
          "Fruity",
          "Spicy",
          "Fruity",
          "Fruity",
          "Floral",
          "Fruity",
          "Fruity",
          "Fruity",
          "Fruity",
          "Fruity",
          "Fruity",
          "Fruity",
          "Fruity",
          "Fruity",
          "Fruity",
          "Fruity",
          "Fruity",
          "Fruity",
          "Fruity",
          "Fruity",
          "Fruity",
          "Fruity",
          "Fruity",
          "Fruity",
          "Fruity",
          "Fruity",
          "Fruity",
          "Fruity",
          "Fruity",
          "Spicy",
          "Floral",
          "Fruity",
          "Fruity",
          "Fruity",
          "Fruity",
          "Fruity",
          "Fruity",
          "Fruity",
          "Fruity",
          "Fruity",
          "Fruity",
          "Fruity",
          "Spicy",
          "Fruity",
          "Fruity",
          "Fruity",
          "Floral",
          "Spicy",
          "Fruity",
          "Fruity",
          "Fruity",
          "Fruity",
          "Fruity",
          "Fruity",
          "Fruity",
          "Fruity",
          "Fruity",
          "Fruity",
          "Spicy",
          "Fruity",
          "Fruity",
          "Fruity",
          "Fruity",
          "Fruity",
          "Fruity",
          "Fruity",
          "Fruity",
          "Fruity",
          "Fruity",
          "Fruity",
          "Fruity",
          "Fruity",
          "Fruity",
          "Floral",
          "Fruity",
          "Fruity",
          "Fruity",
          "Fruity",
          "Fruity",
          "Spicy",
          "Floral",
          "Floral",
          "Fruity",
          "Fruity",
          "Fruity",
          "Fruity",
          "Floral",
          "Fruity",
          "Fruity",
          "Fruity",
          "Fruity",
          "Fruity",
          "Fruity",
          "Floral",
          "Fruity",
          "Fruity",
          "Fruity",
          "Fruity",
          "Fruity",
          "Toasted",
          "Fruity",
          "Fruity",
          "Fruity",
          "Fruity",
          "Spicy",
          "Fruity",
          "Spicy",
          "Spicy",
          "Fruity",
          "Fruity",
          "Fruity",
          "Fruity",
          "Fruity",
          "Floral",
          "Fruity",
          "Fruity",
          "Fruity",
          "Fruity",
          "Fruity",
          "Fruity",
          "Fruity",
          "Fruity",
          "Fruity",
          "Fruity",
          "Fruity",
          "Fruity",
          "Fruity",
          "Fruity",
          "Fruity",
          "Fruity",
          "Spicy",
          "Fruity",
          "Fruity",
          "Fruity",
          "Fruity",
          "Fruity",
          "Fruity",
          "Spicy",
          "Fruity",
          "Fruity",
          "Fruity",
          "Fruity",
          "Fruity",
          "Fruity",
          "Fruity",
          "Fruity",
          "Fruity",
          "Toasted",
          "Floral",
          "Fruity",
          "Fruity",
          "Fruity",
          "Spicy",
          "Fruity",
          "Floral",
          "Fruity",
          "Fruity",
          "Fruity",
          "Aromatic",
          "Vegetal",
          "Fruity",
          "Fruity",
          "Spicy",
          "Fruity",
          "Fruity",
          "Floral",
          "Fruity",
          "Spicy",
          "Fruity",
          "Fruity",
          "Fruity",
          "Spicy",
          "Fruity",
          "Fruity",
          "Fruity",
          "Floral",
          "Fruity",
          "Fruity",
          "Fruity",
          "Spicy",
          "Fruity",
          "Fruity",
          "Fruity",
          "Fruity",
          "Fruity",
          "Fruity",
          "Floral",
          "Fruity",
          "Fruity",
          "Fruity",
          "Fruity",
          "Fruity",
          "Fruity",
          "Spicy",
          "Fruity",
          "Fruity",
          "Fruity",
          "Fruity",
          "Fruity",
          "Fruity",
          "Fruity",
          "Spicy",
          "Fruity",
          "Fruity",
          "Fruity",
          "Fruity",
          "Floral",
          "Fruity",
          "Fruity",
          "Fruity",
          "Fruity",
          "Floral",
          "Fruity",
          "Fruity",
          "Fruity",
          "Floral",
          "Fruity",
          "Fruity",
          "Floral",
          "Fruity",
          "Fruity",
          "Fruity",
          "Fruity",
          "Fruity",
          "Fruity",
          "Fruity",
          "Fruity",
          "Fruity",
          "Spicy",
          "Fruity",
          "Fruity",
          "Floral",
          "Fruity",
          "Floral",
          "Fruity",
          "Spicy",
          "Fruity",
          "Fruity",
          "Spicy",
          "Fruity",
          "Fruity",
          "Fruity",
          "Fruity",
          "Spicy",
          "Fruity",
          "Fruity",
          "Spicy",
          "Fruity",
          "Fruity",
          "Fruity",
          "Fruity",
          "Fruity",
          "Fruity",
          "Fruity",
          "Fruity",
          "Fruity",
          "Spicy",
          "Spicy",
          "Fruity",
          "Fruity",
          "Spicy",
          "Fruity",
          "Fruity",
          "Fruity",
          "Fruity",
          "Fruity",
          "Spicy",
          "Fruity",
          "Fruity",
          "Fruity",
          "Fruity",
          "Fruity",
          "Fruity",
          "Fruity",
          "Fruity",
          "Fruity",
          "Toasted",
          "Fruity",
          "Fruity",
          "Fruity",
          "Fruity",
          "Spicy",
          "Fruity",
          "Fruity",
          "Fruity",
          "Fruity",
          "Fruity",
          "Fruity",
          "Fruity",
          "Fruity",
          "Fruity",
          "Fruity",
          "Fruity",
          "Fruity",
          "Fruity",
          "Fruity",
          "Fruity",
          "Fruity",
          "Fruity",
          "Fruity",
          "Spicy",
          "Fruity",
          "Floral",
          "Fruity",
          "Floral",
          "Floral",
          "Fruity",
          "Fruity",
          "Fruity",
          "Fruity",
          "Fruity",
          "Fruity",
          "Fruity",
          "Floral",
          "Fruity",
          "Fruity",
          "Fruity",
          "Spicy",
          "Fruity",
          "Fruity",
          "Fruity",
          "Fruity",
          "Fruity",
          "Fruity",
          "Fruity",
          "Fruity",
          "Fruity",
          "Fruity",
          "Fruity",
          "Fruity",
          "Fruity",
          "Fruity",
          "Fruity",
          "Fruity",
          "Fruity",
          "Fruity",
          "Fruity",
          "Fruity",
          "Floral",
          "Spicy",
          "Toasted",
          "Spicy",
          "Spicy",
          "Fruity",
          "Fruity",
          "Fruity",
          "Fruity",
          "Fruity",
          "Spicy",
          "Floral",
          "Fruity",
          "Fruity",
          "Fruity",
          "Fruity",
          "Spicy",
          "Fruity",
          "Fruity",
          "Fruity",
          "Fruity",
          "Fruity",
          "Floral",
          "Spicy",
          "Fruity",
          "Fruity",
          "Vegetal",
          "Fruity",
          "Fruity",
          "Fruity",
          "Fruity",
          "Fruity",
          "Spicy",
          "Fruity",
          "Fruity",
          "Fruity",
          "Floral",
          "Fruity",
          "Spicy",
          "Floral",
          "Fruity",
          "Floral",
          "Fruity",
          "Fruity",
          "Fruity",
          "Fruity",
          "Vegetal",
          "Fruity",
          "Fruity",
          "Toasted",
          "Fruity",
          "Fruity",
          "Fruity",
          "Fruity",
          "Fruity",
          "Fruity",
          "Fruity",
          "Fruity",
          "Floral",
          "Fruity",
          "Fruity",
          "Spicy",
          "Fruity",
          "Fruity",
          "Fruity",
          "Fruity",
          "Fruity",
          "Fruity",
          "Fruity",
          "Fruity",
          "Fruity",
          "Floral",
          "Fruity",
          "Fruity",
          "Fruity",
          "Fruity",
          "Fruity",
          "Fruity",
          "Fruity",
          "Fruity",
          "Spicy",
          "Fruity",
          "Floral",
          "Fruity",
          "Fruity",
          "Fruity",
          "Spicy",
          "Spicy",
          "Fruity",
          "Floral",
          "Fruity",
          "Spicy",
          "Fruity",
          "Fruity",
          "Fruity",
          "Fruity",
          "Fruity",
          "Fruity",
          "Fruity",
          "Fruity",
          "Fruity",
          "Fruity",
          "Fruity",
          "Fruity",
          "Fruity",
          "Fruity",
          "Fruity",
          "Fruity",
          "Fruity",
          "Fruity",
          "Fruity",
          "Fruity",
          "Fruity",
          "Fruity",
          "Fruity",
          "Fruity",
          "Fruity",
          "Fruity",
          "Fruity",
          "Fruity",
          "Fruity",
          "Fruity",
          "Fruity",
          "Fruity",
          "Fruity",
          "Floral",
          "Fruity",
          "Fruity",
          "Fruity",
          "Fruity",
          "Toasted",
          "Fruity",
          "Floral",
          "Fruity",
          "Fruity",
          "Fruity",
          "Fruity",
          "Fruity",
          "Fruity",
          "Fruity",
          "Fruity",
          "Toasted",
          "Fruity",
          "Fruity",
          "Fruity",
          "Floral",
          "Fruity",
          "Fruity",
          "Fruity",
          "Floral",
          "Fruity",
          "Fruity",
          "Fruity",
          "Fruity",
          "Fruity",
          "Spicy",
          "Fruity",
          "Floral",
          "Fruity",
          "Fruity",
          "Fruity",
          "Fruity",
          "Fruity",
          "Fruity",
          "Fruity",
          "Fruity",
          "Fruity",
          "Fruity",
          "Fruity",
          "Fruity",
          "Fruity",
          "Fruity",
          "Fruity",
          "Fruity",
          "Fruity",
          "Fruity",
          "Fruity",
          "Fruity",
          "Fruity",
          "Fruity",
          "Fruity",
          "Aromatic",
          "Floral",
          "Aromatic",
          "Floral",
          "Aromatic",
          "Fruity",
          "Fruity",
          "Vegetal",
          "Fruity",
          "Aromatic",
          "Fruity",
          "Floral",
          "Fruity",
          "Fruity",
          "Fruity",
          "Floral",
          "Fruity",
          "Floral",
          "Fruity",
          "Fruity",
          "Fruity",
          "Fruity",
          "Fruity",
          "Fruity",
          "Fruity",
          "Spicy",
          "Fruity",
          "Aromatic",
          "Floral",
          "Fruity",
          "Fruity",
          "Fruity",
          "Floral",
          "Fruity",
          "Floral",
          "Fruity",
          "Fruity",
          "Fruity",
          "Fruity",
          "Floral",
          "Fruity",
          "Floral",
          "Nutty",
          "Fruity",
          "Floral",
          "Floral",
          "Fruity",
          "Floral",
          "Aromatic",
          "Fruity",
          "Nutty",
          "Fruity",
          "Fruity",
          "Fruity",
          "Aromatic",
          "Floral",
          "Aromatic",
          "Fruity",
          "Fruity",
          "Fruity",
          "Fruity",
          "Aromatic",
          "Floral",
          "Aromatic",
          "Fruity",
          "Fruity",
          "Spicy",
          "Floral",
          "Floral",
          "Fruity",
          "Fruity",
          "Fruity",
          "Fruity",
          "Fruity",
          "Fruity",
          "Fruity",
          "Fruity",
          "Fruity",
          "Aromatic",
          "Fruity",
          "Fruity",
          "Fruity",
          "Fruity",
          "Fruity",
          "Fruity",
          "Fruity",
          "Fruity",
          "Fruity",
          "Fruity",
          "Vegetal",
          "Fruity",
          "Aromatic",
          "Fruity",
          "Fruity",
          "Floral",
          "Fruity",
          "Fruity",
          "Fruity",
          "Fruity",
          "Fruity",
          "Fruity",
          "Floral",
          "Fruity",
          "Fruity",
          "Fruity",
          "Fruity",
          "Fruity",
          "Fruity",
          "Fruity",
          "Fruity",
          "Floral",
          "Fruity",
          "Floral",
          "Fruity",
          "Floral",
          "Fruity",
          "Floral",
          "Fruity",
          "Fruity",
          "Fruity",
          "Fruity",
          "Fruity",
          "Aromatic",
          "Fruity",
          "Fruity",
          "Fruity",
          "Spicy",
          "Floral",
          "Fruity",
          "Fruity",
          "Fruity",
          "Floral",
          "Aromatic",
          "Fruity",
          "Floral",
          "Floral",
          "Fruity",
          "Spicy",
          "Herbal",
          "Fruity",
          "Aromatic",
          "Fruity",
          "Floral",
          "Fruity",
          "Fruity",
          "Fruity",
          "Aromatic",
          "Fruity",
          "Fruity",
          "Fruity",
          "Fruity",
          "Fruity",
          "Floral",
          "Fruity",
          "Fruity",
          "Fruity",
          "Fruity",
          "Spicy",
          "Fruity",
          "Fruity",
          "Fruity",
          "Fruity",
          "Aromatic",
          "Fruity",
          "Fruity",
          "Fruity",
          "Fruity",
          "Floral",
          "Nutty",
          "Fruity",
          "Spicy",
          "Fruity",
          "Fruity",
          "Fruity",
          "Fruity",
          "Fruity",
          "Fruity",
          "Fruity",
          "Fruity",
          "Floral",
          "Spicy",
          "Fruity",
          "Fruity",
          "Floral",
          "Fruity",
          "Fruity",
          "Fruity",
          "Fruity",
          "Fruity",
          "Aromatic",
          "Fruity",
          "Fruity",
          "Fruity",
          "Floral",
          "Floral",
          "Fruity",
          "Fruity",
          "Fruity",
          "Fruity",
          "Floral",
          "Fruity",
          "Aromatic",
          "Spicy",
          "Fruity",
          "Fruity",
          "Fruity",
          "Floral",
          "Fruity",
          "Fruity",
          "Fruity",
          "Fruity",
          "Fruity",
          "Fruity",
          "Fruity",
          "Toasted",
          "Fruity",
          "Fruity",
          "Fruity",
          "Fruity",
          "Fruity",
          "Spicy",
          "Fruity",
          "Floral",
          "Spicy",
          "Fruity",
          "Floral",
          "Fruity",
          "Fruity",
          "Fruity",
          "Fruity",
          "Fruity",
          "Floral",
          "Fruity",
          "Fruity",
          "Fruity",
          "Floral",
          "Fruity",
          "Floral",
          "Fruity",
          "Fruity",
          "Fruity",
          "Fruity",
          "Fruity",
          "Fruity",
          "Fruity",
          "Fruity",
          "Spicy",
          "Fruity",
          "Floral",
          "Fruity",
          "Floral",
          "Fruity",
          "Fruity",
          "Aromatic",
          "Fruity",
          "Fruity",
          "Fruity",
          "Fruity",
          "Fruity",
          "Fruity",
          "Fruity",
          "Fruity",
          "Floral",
          "Fruity",
          "Floral",
          "Fruity",
          "Fruity",
          "Fruity",
          "Fruity",
          "Spicy",
          "Fruity",
          "Fruity",
          "Fruity",
          "Fruity",
          "Fruity",
          "Fruity",
          "Fruity",
          "Fruity",
          "Fruity",
          "Fruity",
          "Fruity",
          "Fruity",
          "Fruity",
          "Toasted",
          "Fruity",
          "Fruity",
          "Spicy",
          "Fruity",
          "Aromatic",
          "Floral",
          "Floral",
          "Floral",
          "Floral",
          "Fruity",
          "Fruity",
          "Fruity",
          "Floral",
          "Fruity",
          "Vegetal",
          "Fruity",
          "Fruity",
          "Fruity",
          "Fruity",
          "Spicy",
          "Floral",
          "Fruity",
          "Spicy",
          "Floral",
          "Fruity",
          "Spicy",
          "Fruity",
          "Fruity",
          "Fruity",
          "Spicy",
          "Fruity",
          "Fruity",
          "Aromatic",
          "Spicy",
          "Fruity",
          "Spicy",
          "Fruity",
          "Fruity",
          "Fruity",
          "Spicy",
          "Fruity",
          "Floral",
          "Fruity",
          "Spicy",
          "Fruity",
          "Fruity",
          "Fruity",
          "Fruity",
          "Spicy",
          "Fruity",
          "Floral",
          "Floral",
          "Fruity",
          "Fruity",
          "Fruity",
          "Floral",
          "Floral",
          "Fruity",
          "Fruity",
          "Fruity",
          "Fruity",
          "Spicy",
          "Fruity",
          "Fruity",
          "Fruity",
          "Fruity",
          "Fruity",
          "Toasted",
          "Floral",
          "Fruity",
          "Fruity",
          "Spicy",
          "Fruity",
          "Floral",
          "Fruity",
          "Fruity",
          "Fruity",
          "Fruity",
          "Fruity",
          "Fruity",
          "Fruity",
          "Fruity",
          "Fruity",
          "Fruity",
          "Toasted",
          "Toasted",
          "Fruity",
          "Fruity",
          "Fruity",
          "Fruity",
          "Fruity",
          "Fruity",
          "Fruity",
          "Fruity",
          "Floral",
          "Fruity",
          "Fruity",
          "Fruity",
          "Fruity",
          "Fruity",
          "Floral",
          "Fruity",
          "Fruity",
          "Floral",
          "Floral",
          "Fruity",
          "Fruity",
          "Fruity",
          "Fruity",
          "Fruity",
          "Fruity",
          "Fruity",
          "Fruity",
          "Spicy",
          "Fruity",
          "Floral",
          "Fruity",
          "Fruity",
          "Fruity",
          "Fruity",
          "Fruity",
          "Spicy",
          "Fruity",
          "Fruity",
          "Floral",
          "Fruity",
          "Floral",
          "Floral",
          "Fruity",
          "Spicy",
          "Fruity",
          "Fruity",
          "Floral",
          "Fruity",
          "Vegetal",
          "Fruity",
          "Aromatic",
          "Fruity",
          "Aromatic",
          "Floral",
          "Fruity",
          "Fruity",
          "Fruity",
          "Fruity",
          "Fruity",
          "Fruity",
          "Fruity",
          "Fruity",
          "Fruity",
          "Fruity",
          "Fruity",
          "Vegetal",
          "Fruity",
          "Aromatic",
          "Fruity",
          "Floral",
          "Fruity",
          "Fruity",
          "Fruity",
          "Fruity",
          "Fruity",
          "Fruity",
          "Fruity",
          "Floral",
          "Fruity",
          "Floral",
          "Fruity",
          "Fruity",
          "Fruity",
          "Fruity",
          "Fruity",
          "Fruity",
          "Spicy",
          "Floral",
          "Fruity",
          "Fruity",
          "Fruity",
          "Aromatic",
          "Fruity",
          "Fruity",
          "Fruity",
          "Fruity",
          "Fruity",
          "Spicy",
          "Floral",
          "Fruity",
          "Fruity",
          "Fruity",
          "Fruity",
          "Fruity",
          "Fruity",
          "Fruity",
          "Fruity",
          "Fruity",
          "Fruity",
          "Fruity",
          "Fruity",
          "Fruity",
          "Fruity",
          "Fruity",
          "Spicy",
          "Floral",
          "Fruity",
          "Fruity",
          "Fruity",
          "Fruity",
          "Fruity",
          "Fruity",
          "Fruity",
          "Fruity",
          "Fruity",
          "Floral",
          "Spicy",
          "Fruity",
          "Fruity",
          "Fruity",
          "Fruity",
          "Fruity",
          "Fruity",
          "Fruity",
          "Fruity",
          "Fruity",
          "Fruity",
          "Spicy",
          "Fruity",
          "Fruity",
          "Fruity",
          "Fruity",
          "Fruity",
          "Fruity",
          "Fruity",
          "Fruity",
          "Fruity",
          "Fruity",
          "Fruity",
          "Floral",
          "Fruity",
          "Fruity",
          "Fruity",
          "Fruity",
          "Fruity",
          "Spicy",
          "Floral",
          "Floral",
          "Fruity",
          "Fruity",
          "Fruity",
          "Floral",
          "Fruity",
          "Fruity",
          "Fruity",
          "Fruity",
          "Fruity",
          "Fruity",
          "Fruity",
          "Toasted",
          "Fruity",
          "Fruity",
          "Fruity",
          "Fruity",
          "Spicy",
          "Fruity",
          "Spicy",
          "Fruity",
          "Fruity",
          "Floral",
          "Fruity",
          "Fruity",
          "Fruity",
          "Fruity",
          "Fruity",
          "Fruity",
          "Fruity",
          "Fruity",
          "Fruity",
          "Fruity",
          "Fruity",
          "Fruity",
          "Fruity",
          "Fruity",
          "Spicy",
          "Fruity",
          "Fruity",
          "Fruity",
          "Fruity",
          "Fruity",
          "Fruity",
          "Fruity",
          "Fruity",
          "Fruity",
          "Fruity",
          "Fruity",
          "Fruity",
          "Floral",
          "Fruity",
          "Spicy",
          "Fruity",
          "Fruity",
          "Fruity",
          "Aromatic",
          "Vegetal",
          "Fruity",
          "Fruity",
          "Floral",
          "Fruity",
          "Spicy",
          "Fruity",
          "Fruity",
          "Fruity",
          "Fruity",
          "Floral",
          "Fruity",
          "Fruity",
          "Fruity",
          "Fruity",
          "Spicy",
          "Fruity",
          "Floral",
          "Fruity",
          "Fruity",
          "Fruity",
          "Fruity",
          "Fruity",
          "Spicy",
          "Fruity",
          "Fruity",
          "Fruity",
          "Fruity",
          "Spicy",
          "Fruity",
          "Fruity",
          "Fruity",
          "Floral",
          "Fruity",
          "Fruity",
          "Fruity",
          "Fruity",
          "Floral",
          "Floral",
          "Fruity",
          "Fruity",
          "Fruity",
          "Fruity",
          "Fruity",
          "Spicy",
          "Fruity",
          "Floral",
          "Fruity",
          "Floral",
          "Spicy",
          "Fruity",
          "Spicy",
          "Fruity",
          "Fruity",
          "Fruity",
          "Spicy",
          "Fruity",
          "Fruity",
          "Spicy",
          "Fruity",
          "Fruity",
          "Fruity",
          "Fruity",
          "Fruity",
          "Fruity",
          "Fruity",
          "Spicy",
          "Fruity",
          "Fruity",
          "Fruity",
          "Fruity",
          "Fruity",
          "Fruity",
          "Fruity",
          "Fruity",
          "Fruity",
          "Fruity",
          "Fruity",
          "Fruity",
          "Fruity",
          "Toasted",
          "Fruity",
          "Fruity",
          "Fruity",
          "Spicy",
          "Fruity",
          "Fruity",
          "Fruity",
          "Fruity",
          "Fruity",
          "Fruity",
          "Fruity",
          "Fruity",
          "Fruity",
          "Fruity",
          "Fruity",
          "Spicy",
          "Fruity",
          "Fruity",
          "Floral",
          "Floral",
          "Fruity",
          "Fruity",
          "Fruity",
          "Fruity",
          "Fruity",
          "Fruity",
          "Floral",
          "Fruity",
          "Fruity",
          "Spicy",
          "Fruity",
          "Fruity",
          "Fruity",
          "Fruity",
          "Fruity",
          "Fruity",
          "Fruity",
          "Fruity",
          "Fruity",
          "Fruity",
          "Fruity",
          "Fruity",
          "Fruity",
          "Fruity",
          "Fruity",
          "Fruity",
          "Fruity",
          "Floral",
          "Spicy",
          "Toasted",
          "Spicy",
          "Spicy",
          "Fruity",
          "Fruity",
          "Fruity",
          "Fruity",
          "Floral",
          "Fruity",
          "Fruity",
          "Fruity",
          "Fruity",
          "Spicy",
          "Fruity",
          "Fruity",
          "Fruity",
          "Spicy",
          "Fruity",
          "Fruity",
          "Vegetal",
          "Fruity",
          "Fruity",
          "Fruity",
          "Fruity",
          "Fruity",
          "Spicy",
          "Fruity",
          "Fruity",
          "Floral",
          "Fruity",
          "Spicy",
          "Floral",
          "Fruity",
          "Floral",
          "Fruity",
          "Fruity",
          "Fruity",
          "Fruity",
          "Vegetal",
          "Fruity",
          "Toasted",
          "Fruity",
          "Aromatic",
          "Aromatic",
          "Floral",
          "Aromatic",
          "Fruity",
          "Fruity",
          "Vegetal",
          "Fruity",
          "Aromatic",
          "Floral",
          "Fruity",
          "Fruity",
          "Floral",
          "Fruity",
          "Fruity",
          "Fruity",
          "Fruity",
          "Aromatic",
          "Fruity",
          "Aromatic",
          "Aromatic",
          "Aromatic",
          "Fruity",
          "Fruity",
          "Vegetal",
          "Fruity",
          "Aromatic",
          "Fruity",
          "Fruity",
          "Fruity",
          "Fruity",
          "Floral",
          "Fruity",
          "Fruity",
          "Fruity",
          "Fruity",
          "Fruity",
          "Aromatic",
          "Fruity",
          "Fruity",
          "Aromatic",
          "Floral",
          "Floral",
          "Fruity",
          "Herbal",
          "Fruity",
          "Aromatic",
          "Fruity",
          "Floral",
          "Fruity",
          "Aromatic",
          "Fruity",
          "Floral",
          "Fruity",
          "Aromatic",
          "Fruity",
          "Floral",
          "Nutty",
          "Fruity",
          "Fruity",
          "Floral",
          "Fruity",
          "Fruity",
          "Fruity",
          "Aromatic",
          "Fruity",
          "Fruity",
          "Floral",
          "Fruity",
          "Fruity",
          "Fruity",
          "Fruity",
          "Fruity",
          "Aromatic",
          "Floral",
          "Floral",
          "Fruity",
          "Fruity",
          "Floral",
          "Floral",
          "Fruity",
          "Fruity",
          "Spicy",
          "Aromatic",
          "Spicy",
          "Fruity",
          "Fruity",
          "Fruity",
          "Fruity",
          "Floral",
          "Fruity",
          "Floral",
          "Fruity",
          "Fruity",
          "Fruity",
          "Fruity",
          "Fruity",
          "Fruity",
          "Fruity",
          "Fruity",
          "Floral",
          "Fruity",
          "Fruity",
          "Spicy",
          "Floral",
          "Fruity",
          "Fruity",
          "Fruity",
          "Fruity",
          "Floral",
          "Fruity",
          "Fruity",
          "Vegetal",
          "Fruity",
          "Fruity",
          "Fruity",
          "Fruity",
          "Fruity",
          "Fruity",
          "Fruity",
          "Floral",
          "Aromatic",
          "Fruity",
          "Floral",
          "Floral",
          "Fruity",
          "Fruity",
          "Fruity",
          "Aromatic",
          "Fruity",
          "Fruity",
          "Floral",
          "Floral",
          "Floral",
          "Fruity",
          "Fruity",
          "Fruity",
          "Fruity",
          "Floral",
          "Fruity",
          "Fruity",
          "Floral",
          "Fruity",
          "Floral",
          "Floral",
          "Fruity",
          "Fruity",
          "Floral",
          "Fruity",
          "Fruity",
          "Floral",
          "Fruity",
          "Floral",
          "Fruity",
          "Vegetal",
          "Aromatic",
          "Fruity",
          "Fruity",
          "Fruity",
          "Fruity",
          "Fruity",
          "Floral",
          "Fruity",
          "Fruity",
          "Fruity",
          "Fruity",
          "Fruity",
          "Fruity",
          "Floral",
          "Fruity",
          "Fruity",
          "Fruity",
          "Fruity",
          "Fruity",
          "Fruity",
          "Fruity",
          "Fruity",
          "Floral",
          "Fruity",
          "Fruity",
          "Fruity",
          "Fruity",
          "Floral",
          "Aromatic",
          "Aromatic",
          "Fruity",
          "Fruity",
          "Fruity",
          "Fruity",
          "Vegetal",
          "Fruity",
          "Fruity",
          "Vegetal",
          "Aromatic",
          "Fruity",
          "Fruity",
          "Floral",
          "Floral",
          "Fruity",
          "Fruity",
          "Fruity",
          "Fruity",
          "Fruity",
          "Floral",
          "Floral",
          "Fruity",
          "Fruity",
          "Fruity",
          "Fruity",
          "Fruity",
          "Floral",
          "Fruity",
          "Fruity",
          "Spicy",
          "Fruity",
          "Fruity",
          "Fruity",
          "Aromatic",
          "Fruity",
          "Fruity",
          "Floral",
          "Fruity",
          "Fruity",
          "Fruity",
          "Fruity",
          "Fruity",
          "Fruity",
          "Fruity",
          "Fruity",
          "Fruity",
          "Fruity",
          "Fruity",
          "Floral",
          "Fruity",
          "Fruity",
          "Fruity",
          "Fruity",
          "Fruity",
          "Floral",
          "Spicy",
          "Fruity",
          "Fruity",
          "Fruity",
          "Fruity",
          "Floral",
          "Fruity",
          "Fruity",
          "Fruity",
          "Fruity",
          "Fruity",
          "Fruity",
          "Floral",
          "Floral",
          "Fruity",
          "Fruity",
          "Fruity",
          "Floral",
          "Fruity",
          "Fruity",
          "Fruity",
          "Floral",
          "Fruity",
          "Fruity",
          "Fruity",
          "Floral",
          "Fruity",
          "Spicy",
          "Fruity",
          "Fruity",
          "Fruity",
          "Fruity",
          "Fruity",
          "Aromatic",
          "Fruity",
          "Fruity",
          "Fruity",
          "Fruity",
          "Floral",
          "Floral",
          "Fruity",
          "Fruity",
          "Fruity",
          "Aromatic",
          "Fruity",
          "Fruity",
          "Floral",
          "Fruity",
          "Floral",
          "Fruity",
          "Fruity",
          "Fruity",
          "Spicy",
          "Fruity",
          "Fruity",
          "Fruity",
          "Fruity",
          "Aromatic",
          "Fruity",
          "Fruity",
          "Floral",
          "Aromatic",
          "Fruity",
          "Spicy",
          "Fruity",
          "Floral",
          "Spicy",
          "Floral",
          "Fruity",
          "Fruity",
          "Aromatic",
          "Aromatic",
          "Floral",
          "Fruity",
          "Fruity",
          "Fruity",
          "Fruity",
          "Floral",
          "Floral",
          "Floral",
          "Floral",
          "Fruity",
          "Fruity",
          "Floral",
          "Vegetal",
          "Floral",
          "Fruity",
          "Vegetal",
          "Vegetal",
          "Fruity",
          "Floral",
          "Fruity",
          "Floral",
          "Fruity",
          "Fruity",
          "Fruity",
          "Floral",
          "Floral",
          "Floral",
          "Fruity",
          "Floral",
          "Fruity",
          "Fruity",
          "Fruity",
          "Fruity",
          "Fruity",
          "Fruity",
          "Floral",
          "Spicy",
          "Floral",
          "Floral",
          "Fruity",
          "Fruity",
          "Fruity",
          "Fruity",
          "Fruity",
          "Fruity",
          "Floral",
          "Fruity",
          "Fruity",
          "Fruity",
          "Fruity",
          "Fruity",
          "Fruity",
          "Fruity",
          "Fruity",
          "Fruity",
          "Fruity",
          "Fruity",
          "Fruity",
          "Fruity",
          "Fruity",
          "Fruity",
          "Fruity",
          "Fruity",
          "Fruity",
          "Fruity",
          "Fruity",
          "Fruity",
          "Floral",
          "Fruity",
          "Fruity",
          "Floral",
          "Fruity",
          "Vegetal",
          "Aromatic",
          "Fruity",
          "Fruity",
          "Fruity",
          "Fruity",
          "Fruity",
          "Fruity",
          "Fruity",
          "Fruity",
          "Fruity",
          "Floral",
          "Nutty",
          "Floral",
          "Floral",
          "Herbal",
          "Fruity",
          "Fruity",
          "Floral",
          "Fruity",
          "Fruity",
          "Fruity",
          "Floral",
          "Fruity",
          "Floral",
          "Fruity",
          "Floral",
          "Nutty",
          "Fruity",
          "Fruity",
          "Floral",
          "Fruity",
          "Fruity",
          "Aromatic",
          "Floral",
          "Fruity",
          "Floral",
          "Fruity",
          "Fruity",
          "Fruity",
          "Fruity",
          "Fruity",
          "Herbal",
          "Fruity",
          "Floral",
          "Floral",
          "Floral",
          "Vegetal",
          "Fruity",
          "Floral",
          "Fruity",
          "Aromatic",
          "Fruity",
          "Fruity",
          "Vegetal",
          "Floral",
          "Floral",
          "Fruity",
          "Fruity",
          "Fruity",
          "Spicy",
          "Fruity",
          "Fruity",
          "Floral",
          "Fruity",
          "Floral",
          "Floral",
          "Floral",
          "Fruity",
          "Fruity",
          "Vegetal",
          "Fruity",
          "Fruity",
          "Fruity",
          "Aromatic",
          "Fruity",
          "Fruity",
          "Fruity",
          "Fruity",
          "Fruity",
          "Floral",
          "Fruity",
          "Fruity",
          "Fruity",
          "Fruity",
          "Floral",
          "Fruity",
          "Fruity",
          "Spicy",
          "Fruity",
          "Fruity",
          "Floral",
          "Fruity",
          "Fruity",
          "Fruity",
          "Floral",
          "Floral",
          "Fruity",
          "Aromatic",
          "Aromatic",
          "Floral",
          "Fruity",
          "Floral",
          "Fruity",
          "Fruity",
          "Fruity",
          "Fruity",
          "Floral",
          "Floral",
          "Fruity",
          "Floral",
          "Fruity",
          "Fruity",
          "Spicy",
          "Floral",
          "Fruity",
          "Floral",
          "Floral",
          "Aromatic",
          "Fruity",
          "Fruity",
          "Fruity",
          "Fruity",
          "Fruity",
          "Fruity",
          "Herbal",
          "Floral",
          "Floral",
          "Fruity",
          "Fruity",
          "Fruity",
          "Fruity",
          "Fruity",
          "Floral",
          "Fruity",
          "Fruity",
          "Floral",
          "Fruity",
          "Fruity",
          "Floral",
          "Floral",
          "Fruity",
          "Fruity",
          "Fruity",
          "Fruity",
          "Floral",
          "Fruity",
          "Fruity",
          "Fruity",
          "Toasted",
          "Spicy",
          "Fruity",
          "Fruity",
          "Floral",
          "Fruity",
          "Fruity",
          "Fruity",
          "Floral",
          "Fruity",
          "Fruity",
          "Fruity",
          "Fruity",
          "Fruity",
          "Fruity",
          "Floral",
          "Fruity",
          "Fruity",
          "Floral",
          "Fruity",
          "Fruity",
          "Floral",
          "Fruity",
          "Floral",
          "Floral",
          "Fruity",
          "Fruity",
          "Floral",
          "Fruity",
          "Fruity",
          "Aromatic",
          "Spicy",
          "Floral",
          "Floral",
          "Fruity",
          "Floral",
          "Fruity",
          "Fruity",
          "Toasted",
          "Fruity",
          "Fruity",
          "Floral",
          "Fruity",
          "Fruity",
          "Floral",
          "Floral",
          "Floral",
          "Fruity",
          "Nutty",
          "Fruity",
          "Floral",
          "Nutty",
          "Fruity",
          "Floral",
          "Fruity",
          "Nutty",
          "Floral",
          "Fruity",
          "Fruity",
          "Fruity",
          "Fruity",
          "Fruity",
          "Fruity",
          "Floral",
          "Floral",
          "Fruity",
          "Nutty",
          "Floral",
          "Floral",
          "Nutty",
          "Fruity",
          "Fruity",
          "Toasted",
          "Fruity",
          "Fruity",
          "Nutty",
          "Fruity",
          "Fruity",
          "Floral",
          "Fruity",
          "Fruity",
          "Floral",
          "Fruity",
          "Floral",
          "Fruity",
          "Fruity",
          "Floral",
          "Fruity",
          "Fruity",
          "Fruity",
          "Fruity",
          "Floral",
          "Fruity",
          "Fruity",
          "Fruity",
          "Fruity",
          "Floral",
          "Fruity",
          "Floral",
          "Fruity",
          "Fruity",
          "Nutty",
          "Fruity",
          "Fruity",
          "Fruity",
          "Fruity",
          "Floral",
          "Fruity",
          "Fruity",
          "Floral",
          "Floral",
          "Fruity",
          "Fruity",
          "Fruity",
          "Fruity",
          "Fruity",
          "Floral",
          "Floral",
          "Spicy",
          "Fruity",
          "Floral",
          "Fruity",
          "Fruity",
          "Fruity",
          "Fruity",
          "Floral",
          "Floral",
          "Fruity",
          "Fruity",
          "Fruity",
          "Floral",
          "Fruity",
          "Fruity",
          "Floral",
          "Floral",
          "Fruity",
          "Fruity",
          "Fruity",
          "Floral",
          "Fruity",
          "Fruity",
          "Fruity",
          "Fruity",
          "Fruity",
          "Fruity",
          "Fruity",
          "Fruity",
          "Fruity",
          "Floral",
          "Nutty",
          "Fruity",
          "Fruity",
          "Floral",
          "Floral",
          "Fruity",
          "Fruity",
          "Fruity",
          "Fruity",
          "Fruity",
          "Fruity",
          "Fruity",
          "Fruity",
          "Fruity",
          "Fruity",
          "Fruity",
          "Fruity",
          "Fruity",
          "Fruity",
          "Fruity",
          "Fruity",
          "Fruity",
          "Fruity",
          "Fruity",
          "Fruity",
          "Spicy",
          "Fruity",
          "Aromatic",
          "Fruity",
          "Fruity",
          "Fruity",
          "Floral",
          "Fruity",
          "Floral",
          "Fruity",
          "Fruity",
          "Floral",
          "Fruity",
          "Floral",
          "Fruity",
          "Fruity",
          "Fruity",
          "Floral",
          "Fruity",
          "Floral",
          "Floral",
          "Fruity",
          "Floral",
          "Floral",
          "Fruity",
          "Fruity",
          "Floral",
          "Fruity",
          "Fruity",
          "Fruity",
          "Fruity",
          "Fruity",
          "Fruity",
          "Fruity",
          "Floral",
          "Fruity",
          "Fruity",
          "Fruity",
          "Floral",
          "Fruity",
          "Fruity",
          "Floral",
          "Fruity",
          "Fruity",
          "Fruity",
          "Fruity",
          "Fruity",
          "Fruity",
          "Fruity",
          "Fruity",
          "Floral",
          "Floral",
          "Fruity",
          "Fruity",
          "Fruity",
          "Fruity",
          "Fruity",
          "Fruity",
          "Floral",
          "Fruity",
          "Fruity",
          "Floral",
          "Floral",
          "Floral",
          "Fruity",
          "Fruity",
          "Fruity",
          "Fruity",
          "Fruity",
          "Fruity",
          "Fruity",
          "Floral",
          "Fruity",
          "Fruity",
          "Fruity",
          "Fruity",
          "Fruity",
          "Floral",
          "Fruity",
          "Fruity",
          "Fruity",
          "Floral",
          "Fruity",
          "Fruity",
          "Fruity",
          "Fruity",
          "Floral",
          "Floral",
          "Fruity",
          "Fruity",
          "Fruity",
          "Fruity",
          "Fruity",
          "Fruity",
          "Fruity",
          "Fruity",
          "Fruity",
          "Floral",
          "Floral",
          "Fruity",
          "Fruity",
          "Fruity",
          "Fruity",
          "Fruity",
          "Fruity",
          "Fruity",
          "Fruity",
          "Floral",
          "Fruity",
          "Floral",
          "Floral",
          "Fruity",
          "Fruity",
          "Fruity",
          "Fruity",
          "Fruity",
          "Fruity",
          "Fruity",
          "Fruity",
          "Fruity",
          "Toasted",
          "Fruity",
          "Floral",
          "Fruity",
          "Fruity",
          "Fruity",
          "Fruity",
          "Fruity",
          "Fruity",
          "Fruity",
          "Fruity",
          "Fruity",
          "Fruity",
          "Fruity",
          "Fruity",
          "Fruity",
          "Fruity",
          "Fruity",
          "Fruity",
          "Fruity",
          "Fruity",
          "Floral",
          "Fruity",
          "Fruity",
          "Fruity",
          "Fruity",
          "Fruity",
          "Fruity",
          "Fruity",
          "Floral",
          "Fruity",
          "Fruity",
          "Fruity",
          "Aromatic",
          "Fruity",
          "Fruity",
          "Fruity",
          "Fruity",
          "Fruity",
          "Fruity",
          "Fruity",
          "Fruity",
          "Fruity",
          "Fruity",
          "Fruity",
          "Nutty",
          "Fruity",
          "Fruity",
          "Fruity",
          "Fruity",
          "Fruity",
          "Fruity",
          "Floral",
          "Fruity",
          "Nutty",
          "Fruity",
          "Floral",
          "Floral",
          "Floral",
          "Fruity",
          "Nutty",
          "Fruity",
          "Fruity",
          "Nutty",
          "Fruity",
          "Nutty",
          "Fruity",
          "Spicy",
          "Nutty",
          "Fruity",
          "Fruity",
          "Nutty",
          "Floral",
          "Aromatic",
          "Vegetal",
          "Fruity",
          "Fruity",
          "Nutty",
          "Aromatic",
          "Aromatic",
          "Spicy",
          "Fruity",
          "Fruity",
          "Fruity",
          "Nutty",
          "Fruity",
          "Spicy",
          "Fruity",
          "Fruity",
          "Fruity",
          "Fruity",
          "Fruity",
          "Floral",
          "Fruity",
          "Fruity",
          "Spicy",
          "Nutty",
          "Fruity",
          "Fruity",
          "Floral",
          "Nutty",
          "Floral",
          "Floral",
          "Fruity",
          "Fruity",
          "Nutty",
          "Fruity",
          "Fruity",
          "Fruity",
          "Fruity",
          "Fruity",
          "Fruity",
          "Fruity",
          "Fruity",
          "Fruity",
          "Fruity",
          "Fruity",
          "Fruity",
          "Floral",
          "Aromatic",
          "Fruity",
          "Spicy",
          "Fruity",
          "Fruity",
          "Floral",
          "Fruity",
          "Fruity",
          "Fruity",
          "Fruity",
          "Fruity",
          "Fruity",
          "Fruity",
          "Fruity",
          "Fruity",
          "Floral",
          "Fruity",
          "Fruity",
          "Fruity",
          "Fruity",
          "Spicy",
          "Fruity",
          "Aromatic",
          "Floral",
          "Floral",
          "Fruity",
          "Fruity",
          "Fruity",
          "Floral",
          "Fruity",
          "Vegetal",
          "Fruity",
          "Fruity",
          "Spicy",
          "Floral",
          "Fruity",
          "Spicy",
          "Floral",
          "Fruity",
          "Fruity",
          "Fruity",
          "Fruity",
          "Spicy",
          "Fruity",
          "Aromatic",
          "Spicy",
          "Spicy",
          "Fruity",
          "Fruity",
          "Spicy",
          "Fruity",
          "Floral",
          "Fruity",
          "Fruity",
          "Fruity",
          "Fruity",
          "Fruity",
          "Floral",
          "Floral",
          "Fruity",
          "Fruity",
          "Fruity",
          "Fruity",
          "Fruity",
          "Fruity",
          "Fruity",
          "Fruity",
          "Fruity",
          "Floral",
          "Fruity",
          "Spicy",
          "Fruity",
          "Fruity",
          "Floral",
          "Fruity",
          "Fruity",
          "Fruity",
          "Fruity",
          "Fruity",
          "Fruity",
          "Fruity",
          "Fruity",
          "Toasted",
          "Fruity",
          "Fruity",
          "Fruity",
          "Fruity",
          "Fruity",
          "Floral",
          "Fruity",
          "Fruity",
          "Fruity",
          "Fruity",
          "Fruity",
          "Fruity",
          "Fruity",
          "Floral",
          "Fruity",
          "Floral",
          "Floral",
          "Fruity",
          "Fruity",
          "Fruity",
          "Fruity",
          "Fruity",
          "Spicy",
          "Floral",
          "Fruity",
          "Fruity",
          "Fruity",
          "Fruity",
          "Fruity",
          "Spicy",
          "Fruity",
          "Fruity",
          "Floral",
          "Fruity",
          "Floral",
          "Floral",
          "Fruity",
          "Spicy",
          "Fruity",
          "Fruity",
          "Fruity",
          "Fruity",
          "Vegetal",
          "Fruity",
          "Fruity",
          "Spicy",
          "Fruity",
          "Fruity",
          "Fruity",
          "Spicy",
          "Fruity",
          "Fruity",
          "Fruity",
          "Floral",
          "Fruity",
          "Fruity",
          "Fruity",
          "Floral",
          "Fruity",
          "Fruity",
          "Floral",
          "Floral",
          "Fruity",
          "Fruity",
          "Fruity",
          "Fruity",
          "Fruity",
          "Aromatic",
          "Fruity",
          "Fruity",
          "Fruity",
          "Floral",
          "Fruity",
          "Fruity",
          "Fruity",
          "Fruity",
          "Fruity",
          "Fruity",
          "Fruity",
          "Fruity",
          "Floral",
          "Fruity",
          "Spicy",
          "Fruity",
          "Floral",
          "Floral",
          "Fruity",
          "Fruity",
          "Floral",
          "Fruity",
          "Fruity",
          "Fruity",
          "Fruity",
          "Toasted",
          "Fruity",
          "Fruity",
          "Fruity",
          "Fruity",
          "Spicy",
          "Floral",
          "Nutty",
          "Fruity",
          "Fruity",
          "Fruity",
          "Fruity",
          "Fruity",
          "Fruity",
          "Fruity",
          "Fruity",
          "Fruity",
          "Fruity",
          "Fruity",
          "Fruity",
          "Fruity",
          "Fruity",
          "Floral",
          "Fruity",
          "Fruity",
          "Fruity",
          "Fruity",
          "Floral",
          "Fruity",
          "Fruity",
          "Spicy",
          "Floral",
          "Floral",
          "Fruity",
          "Fruity",
          "Fruity",
          "Fruity",
          "Fruity",
          "Fruity",
          "Aromatic",
          "Fruity",
          "Nutty",
          "Fruity",
          "Fruity",
          "Spicy",
          "Fruity",
          "Floral",
          "Fruity",
          "Fruity",
          "Floral",
          "Fruity",
          "Fruity",
          "Fruity",
          "Fruity",
          "Fruity",
          "Fruity",
          "Floral",
          "Fruity",
          "Fruity",
          "Fruity",
          "Fruity",
          "Fruity",
          "Fruity",
          "Fruity",
          "Fruity",
          "Fruity",
          "Fruity",
          "Fruity",
          "Fruity",
          "Fruity",
          "Fruity",
          "Fruity",
          "Floral",
          "Spicy",
          "Spicy",
          "Fruity",
          "Fruity",
          "Fruity",
          "Fruity",
          "Fruity",
          "Fruity",
          "Floral",
          "Fruity",
          "Fruity",
          "Spicy",
          "Fruity",
          "Fruity",
          "Fruity",
          "Fruity",
          "Floral",
          "Spicy",
          "Floral",
          "Fruity",
          "Fruity",
          "Floral"
         ],
         "xaxis": "x",
         "yaxis": "y"
        }
       ],
       "layout": {
        "barmode": "relative",
        "height": 600,
        "legend": {
         "tracegroupgap": 0
        },
        "margin": {
         "t": 60
        },
        "template": {
         "data": {
          "bar": [
           {
            "error_x": {
             "color": "#2a3f5f"
            },
            "error_y": {
             "color": "#2a3f5f"
            },
            "marker": {
             "line": {
              "color": "#E5ECF6",
              "width": 0.5
             },
             "pattern": {
              "fillmode": "overlay",
              "size": 10,
              "solidity": 0.2
             }
            },
            "type": "bar"
           }
          ],
          "barpolar": [
           {
            "marker": {
             "line": {
              "color": "#E5ECF6",
              "width": 0.5
             },
             "pattern": {
              "fillmode": "overlay",
              "size": 10,
              "solidity": 0.2
             }
            },
            "type": "barpolar"
           }
          ],
          "carpet": [
           {
            "aaxis": {
             "endlinecolor": "#2a3f5f",
             "gridcolor": "white",
             "linecolor": "white",
             "minorgridcolor": "white",
             "startlinecolor": "#2a3f5f"
            },
            "baxis": {
             "endlinecolor": "#2a3f5f",
             "gridcolor": "white",
             "linecolor": "white",
             "minorgridcolor": "white",
             "startlinecolor": "#2a3f5f"
            },
            "type": "carpet"
           }
          ],
          "choropleth": [
           {
            "colorbar": {
             "outlinewidth": 0,
             "ticks": ""
            },
            "type": "choropleth"
           }
          ],
          "contour": [
           {
            "colorbar": {
             "outlinewidth": 0,
             "ticks": ""
            },
            "colorscale": [
             [
              0,
              "#0d0887"
             ],
             [
              0.1111111111111111,
              "#46039f"
             ],
             [
              0.2222222222222222,
              "#7201a8"
             ],
             [
              0.3333333333333333,
              "#9c179e"
             ],
             [
              0.4444444444444444,
              "#bd3786"
             ],
             [
              0.5555555555555556,
              "#d8576b"
             ],
             [
              0.6666666666666666,
              "#ed7953"
             ],
             [
              0.7777777777777778,
              "#fb9f3a"
             ],
             [
              0.8888888888888888,
              "#fdca26"
             ],
             [
              1,
              "#f0f921"
             ]
            ],
            "type": "contour"
           }
          ],
          "contourcarpet": [
           {
            "colorbar": {
             "outlinewidth": 0,
             "ticks": ""
            },
            "type": "contourcarpet"
           }
          ],
          "heatmap": [
           {
            "colorbar": {
             "outlinewidth": 0,
             "ticks": ""
            },
            "colorscale": [
             [
              0,
              "#0d0887"
             ],
             [
              0.1111111111111111,
              "#46039f"
             ],
             [
              0.2222222222222222,
              "#7201a8"
             ],
             [
              0.3333333333333333,
              "#9c179e"
             ],
             [
              0.4444444444444444,
              "#bd3786"
             ],
             [
              0.5555555555555556,
              "#d8576b"
             ],
             [
              0.6666666666666666,
              "#ed7953"
             ],
             [
              0.7777777777777778,
              "#fb9f3a"
             ],
             [
              0.8888888888888888,
              "#fdca26"
             ],
             [
              1,
              "#f0f921"
             ]
            ],
            "type": "heatmap"
           }
          ],
          "heatmapgl": [
           {
            "colorbar": {
             "outlinewidth": 0,
             "ticks": ""
            },
            "colorscale": [
             [
              0,
              "#0d0887"
             ],
             [
              0.1111111111111111,
              "#46039f"
             ],
             [
              0.2222222222222222,
              "#7201a8"
             ],
             [
              0.3333333333333333,
              "#9c179e"
             ],
             [
              0.4444444444444444,
              "#bd3786"
             ],
             [
              0.5555555555555556,
              "#d8576b"
             ],
             [
              0.6666666666666666,
              "#ed7953"
             ],
             [
              0.7777777777777778,
              "#fb9f3a"
             ],
             [
              0.8888888888888888,
              "#fdca26"
             ],
             [
              1,
              "#f0f921"
             ]
            ],
            "type": "heatmapgl"
           }
          ],
          "histogram": [
           {
            "marker": {
             "pattern": {
              "fillmode": "overlay",
              "size": 10,
              "solidity": 0.2
             }
            },
            "type": "histogram"
           }
          ],
          "histogram2d": [
           {
            "colorbar": {
             "outlinewidth": 0,
             "ticks": ""
            },
            "colorscale": [
             [
              0,
              "#0d0887"
             ],
             [
              0.1111111111111111,
              "#46039f"
             ],
             [
              0.2222222222222222,
              "#7201a8"
             ],
             [
              0.3333333333333333,
              "#9c179e"
             ],
             [
              0.4444444444444444,
              "#bd3786"
             ],
             [
              0.5555555555555556,
              "#d8576b"
             ],
             [
              0.6666666666666666,
              "#ed7953"
             ],
             [
              0.7777777777777778,
              "#fb9f3a"
             ],
             [
              0.8888888888888888,
              "#fdca26"
             ],
             [
              1,
              "#f0f921"
             ]
            ],
            "type": "histogram2d"
           }
          ],
          "histogram2dcontour": [
           {
            "colorbar": {
             "outlinewidth": 0,
             "ticks": ""
            },
            "colorscale": [
             [
              0,
              "#0d0887"
             ],
             [
              0.1111111111111111,
              "#46039f"
             ],
             [
              0.2222222222222222,
              "#7201a8"
             ],
             [
              0.3333333333333333,
              "#9c179e"
             ],
             [
              0.4444444444444444,
              "#bd3786"
             ],
             [
              0.5555555555555556,
              "#d8576b"
             ],
             [
              0.6666666666666666,
              "#ed7953"
             ],
             [
              0.7777777777777778,
              "#fb9f3a"
             ],
             [
              0.8888888888888888,
              "#fdca26"
             ],
             [
              1,
              "#f0f921"
             ]
            ],
            "type": "histogram2dcontour"
           }
          ],
          "mesh3d": [
           {
            "colorbar": {
             "outlinewidth": 0,
             "ticks": ""
            },
            "type": "mesh3d"
           }
          ],
          "parcoords": [
           {
            "line": {
             "colorbar": {
              "outlinewidth": 0,
              "ticks": ""
             }
            },
            "type": "parcoords"
           }
          ],
          "pie": [
           {
            "automargin": true,
            "type": "pie"
           }
          ],
          "scatter": [
           {
            "fillpattern": {
             "fillmode": "overlay",
             "size": 10,
             "solidity": 0.2
            },
            "type": "scatter"
           }
          ],
          "scatter3d": [
           {
            "line": {
             "colorbar": {
              "outlinewidth": 0,
              "ticks": ""
             }
            },
            "marker": {
             "colorbar": {
              "outlinewidth": 0,
              "ticks": ""
             }
            },
            "type": "scatter3d"
           }
          ],
          "scattercarpet": [
           {
            "marker": {
             "colorbar": {
              "outlinewidth": 0,
              "ticks": ""
             }
            },
            "type": "scattercarpet"
           }
          ],
          "scattergeo": [
           {
            "marker": {
             "colorbar": {
              "outlinewidth": 0,
              "ticks": ""
             }
            },
            "type": "scattergeo"
           }
          ],
          "scattergl": [
           {
            "marker": {
             "colorbar": {
              "outlinewidth": 0,
              "ticks": ""
             }
            },
            "type": "scattergl"
           }
          ],
          "scattermapbox": [
           {
            "marker": {
             "colorbar": {
              "outlinewidth": 0,
              "ticks": ""
             }
            },
            "type": "scattermapbox"
           }
          ],
          "scatterpolar": [
           {
            "marker": {
             "colorbar": {
              "outlinewidth": 0,
              "ticks": ""
             }
            },
            "type": "scatterpolar"
           }
          ],
          "scatterpolargl": [
           {
            "marker": {
             "colorbar": {
              "outlinewidth": 0,
              "ticks": ""
             }
            },
            "type": "scatterpolargl"
           }
          ],
          "scatterternary": [
           {
            "marker": {
             "colorbar": {
              "outlinewidth": 0,
              "ticks": ""
             }
            },
            "type": "scatterternary"
           }
          ],
          "surface": [
           {
            "colorbar": {
             "outlinewidth": 0,
             "ticks": ""
            },
            "colorscale": [
             [
              0,
              "#0d0887"
             ],
             [
              0.1111111111111111,
              "#46039f"
             ],
             [
              0.2222222222222222,
              "#7201a8"
             ],
             [
              0.3333333333333333,
              "#9c179e"
             ],
             [
              0.4444444444444444,
              "#bd3786"
             ],
             [
              0.5555555555555556,
              "#d8576b"
             ],
             [
              0.6666666666666666,
              "#ed7953"
             ],
             [
              0.7777777777777778,
              "#fb9f3a"
             ],
             [
              0.8888888888888888,
              "#fdca26"
             ],
             [
              1,
              "#f0f921"
             ]
            ],
            "type": "surface"
           }
          ],
          "table": [
           {
            "cells": {
             "fill": {
              "color": "#EBF0F8"
             },
             "line": {
              "color": "white"
             }
            },
            "header": {
             "fill": {
              "color": "#C8D4E3"
             },
             "line": {
              "color": "white"
             }
            },
            "type": "table"
           }
          ]
         },
         "layout": {
          "annotationdefaults": {
           "arrowcolor": "#2a3f5f",
           "arrowhead": 0,
           "arrowwidth": 1
          },
          "autotypenumbers": "strict",
          "coloraxis": {
           "colorbar": {
            "outlinewidth": 0,
            "ticks": ""
           }
          },
          "colorscale": {
           "diverging": [
            [
             0,
             "#8e0152"
            ],
            [
             0.1,
             "#c51b7d"
            ],
            [
             0.2,
             "#de77ae"
            ],
            [
             0.3,
             "#f1b6da"
            ],
            [
             0.4,
             "#fde0ef"
            ],
            [
             0.5,
             "#f7f7f7"
            ],
            [
             0.6,
             "#e6f5d0"
            ],
            [
             0.7,
             "#b8e186"
            ],
            [
             0.8,
             "#7fbc41"
            ],
            [
             0.9,
             "#4d9221"
            ],
            [
             1,
             "#276419"
            ]
           ],
           "sequential": [
            [
             0,
             "#0d0887"
            ],
            [
             0.1111111111111111,
             "#46039f"
            ],
            [
             0.2222222222222222,
             "#7201a8"
            ],
            [
             0.3333333333333333,
             "#9c179e"
            ],
            [
             0.4444444444444444,
             "#bd3786"
            ],
            [
             0.5555555555555556,
             "#d8576b"
            ],
            [
             0.6666666666666666,
             "#ed7953"
            ],
            [
             0.7777777777777778,
             "#fb9f3a"
            ],
            [
             0.8888888888888888,
             "#fdca26"
            ],
            [
             1,
             "#f0f921"
            ]
           ],
           "sequentialminus": [
            [
             0,
             "#0d0887"
            ],
            [
             0.1111111111111111,
             "#46039f"
            ],
            [
             0.2222222222222222,
             "#7201a8"
            ],
            [
             0.3333333333333333,
             "#9c179e"
            ],
            [
             0.4444444444444444,
             "#bd3786"
            ],
            [
             0.5555555555555556,
             "#d8576b"
            ],
            [
             0.6666666666666666,
             "#ed7953"
            ],
            [
             0.7777777777777778,
             "#fb9f3a"
            ],
            [
             0.8888888888888888,
             "#fdca26"
            ],
            [
             1,
             "#f0f921"
            ]
           ]
          },
          "colorway": [
           "#636efa",
           "#EF553B",
           "#00cc96",
           "#ab63fa",
           "#FFA15A",
           "#19d3f3",
           "#FF6692",
           "#B6E880",
           "#FF97FF",
           "#FECB52"
          ],
          "font": {
           "color": "#2a3f5f"
          },
          "geo": {
           "bgcolor": "white",
           "lakecolor": "white",
           "landcolor": "#E5ECF6",
           "showlakes": true,
           "showland": true,
           "subunitcolor": "white"
          },
          "hoverlabel": {
           "align": "left"
          },
          "hovermode": "closest",
          "mapbox": {
           "style": "light"
          },
          "paper_bgcolor": "white",
          "plot_bgcolor": "#E5ECF6",
          "polar": {
           "angularaxis": {
            "gridcolor": "white",
            "linecolor": "white",
            "ticks": ""
           },
           "bgcolor": "#E5ECF6",
           "radialaxis": {
            "gridcolor": "white",
            "linecolor": "white",
            "ticks": ""
           }
          },
          "scene": {
           "xaxis": {
            "backgroundcolor": "#E5ECF6",
            "gridcolor": "white",
            "gridwidth": 2,
            "linecolor": "white",
            "showbackground": true,
            "ticks": "",
            "zerolinecolor": "white"
           },
           "yaxis": {
            "backgroundcolor": "#E5ECF6",
            "gridcolor": "white",
            "gridwidth": 2,
            "linecolor": "white",
            "showbackground": true,
            "ticks": "",
            "zerolinecolor": "white"
           },
           "zaxis": {
            "backgroundcolor": "#E5ECF6",
            "gridcolor": "white",
            "gridwidth": 2,
            "linecolor": "white",
            "showbackground": true,
            "ticks": "",
            "zerolinecolor": "white"
           }
          },
          "shapedefaults": {
           "line": {
            "color": "#2a3f5f"
           }
          },
          "ternary": {
           "aaxis": {
            "gridcolor": "white",
            "linecolor": "white",
            "ticks": ""
           },
           "baxis": {
            "gridcolor": "white",
            "linecolor": "white",
            "ticks": ""
           },
           "bgcolor": "#E5ECF6",
           "caxis": {
            "gridcolor": "white",
            "linecolor": "white",
            "ticks": ""
           }
          },
          "title": {
           "x": 0.05
          },
          "xaxis": {
           "automargin": true,
           "gridcolor": "white",
           "linecolor": "white",
           "ticks": "",
           "title": {
            "standoff": 15
           },
           "zerolinecolor": "white",
           "zerolinewidth": 2
          },
          "yaxis": {
           "automargin": true,
           "gridcolor": "white",
           "linecolor": "white",
           "ticks": "",
           "title": {
            "standoff": 15
           },
           "zerolinecolor": "white",
           "zerolinewidth": 2
          }
         }
        },
        "width": 600,
        "xaxis": {
         "anchor": "y",
         "autorange": true,
         "domain": [
          0,
          1
         ],
         "range": [
          -0.5,
          7.5
         ],
         "title": {
          "text": "Aroma"
         },
         "type": "category"
        },
        "yaxis": {
         "anchor": "x",
         "autorange": true,
         "domain": [
          0,
          1
         ],
         "range": [
          0,
          1907.3684210526317
         ],
         "title": {
          "text": "count"
         }
        }
       }
      },
      "image/png": "[encoded data removed]",
      "text/html": [
       "<div>                            <div id=\"35518a99-40ec-490a-af7a-fea59849cfdf\" class=\"plotly-graph-div\" style=\"height:600px; width:600px;\"></div>            <script type=\"text/javascript\">                require([\"plotly\"], function(Plotly) {                    window.PLOTLYENV=window.PLOTLYENV || {};                                    if (document.getElementById(\"35518a99-40ec-490a-af7a-fea59849cfdf\")) {                    Plotly.newPlot(                        \"35518a99-40ec-490a-af7a-fea59849cfdf\",                        [{\"alignmentgroup\":\"True\",\"bingroup\":\"x\",\"hovertemplate\":\"Aroma=%{x}\\u003cbr\\u003ecount=%{y}\\u003cextra\\u003e\\u003c\\u002fextra\\u003e\",\"legendgroup\":\"\",\"marker\":{\"color\":\"#636efa\",\"pattern\":{\"shape\":\"\"}},\"name\":\"\",\"offsetgroup\":\"\",\"orientation\":\"v\",\"showlegend\":false,\"texttemplate\":\"%{value}\",\"x\":[\"Fruity\",\"Fruity\",\"Fruity\",\"Fruity\",\"Fruity\",\"Fruity\",\"Spicy\",\"Fruity\",\"Fruity\",\"Floral\",\"Fruity\",\"Fruity\",\"Fruity\",\"Fruity\",\"Fruity\",\"Fruity\",\"Fruity\",\"Fruity\",\"Fruity\",\"Fruity\",\"Fruity\",\"Fruity\",\"Fruity\",\"Fruity\",\"Fruity\",\"Fruity\",\"Fruity\",\"Fruity\",\"Fruity\",\"Fruity\",\"Fruity\",\"Fruity\",\"Fruity\",\"Fruity\",\"Spicy\",\"Floral\",\"Fruity\",\"Fruity\",\"Fruity\",\"Fruity\",\"Fruity\",\"Fruity\",\"Fruity\",\"Fruity\",\"Fruity\",\"Fruity\",\"Fruity\",\"Spicy\",\"Fruity\",\"Fruity\",\"Fruity\",\"Floral\",\"Spicy\",\"Fruity\",\"Fruity\",\"Fruity\",\"Fruity\",\"Fruity\",\"Fruity\",\"Fruity\",\"Fruity\",\"Fruity\",\"Fruity\",\"Spicy\",\"Fruity\",\"Fruity\",\"Fruity\",\"Fruity\",\"Fruity\",\"Fruity\",\"Fruity\",\"Fruity\",\"Fruity\",\"Fruity\",\"Fruity\",\"Fruity\",\"Fruity\",\"Fruity\",\"Floral\",\"Fruity\",\"Fruity\",\"Fruity\",\"Fruity\",\"Fruity\",\"Spicy\",\"Floral\",\"Floral\",\"Fruity\",\"Fruity\",\"Fruity\",\"Fruity\",\"Floral\",\"Fruity\",\"Fruity\",\"Fruity\",\"Fruity\",\"Fruity\",\"Fruity\",\"Floral\",\"Fruity\",\"Fruity\",\"Fruity\",\"Fruity\",\"Fruity\",\"Toasted\",\"Fruity\",\"Fruity\",\"Fruity\",\"Fruity\",\"Spicy\",\"Fruity\",\"Spicy\",\"Spicy\",\"Fruity\",\"Fruity\",\"Fruity\",\"Fruity\",\"Fruity\",\"Floral\",\"Fruity\",\"Fruity\",\"Fruity\",\"Fruity\",\"Fruity\",\"Fruity\",\"Fruity\",\"Fruity\",\"Fruity\",\"Fruity\",\"Fruity\",\"Fruity\",\"Fruity\",\"Fruity\",\"Fruity\",\"Fruity\",\"Spicy\",\"Fruity\",\"Fruity\",\"Fruity\",\"Fruity\",\"Fruity\",\"Fruity\",\"Spicy\",\"Fruity\",\"Fruity\",\"Fruity\",\"Fruity\",\"Fruity\",\"Fruity\",\"Fruity\",\"Fruity\",\"Fruity\",\"Toasted\",\"Floral\",\"Fruity\",\"Fruity\",\"Fruity\",\"Spicy\",\"Fruity\",\"Floral\",\"Fruity\",\"Fruity\",\"Fruity\",\"Aromatic\",\"Vegetal\",\"Fruity\",\"Fruity\",\"Spicy\",\"Fruity\",\"Fruity\",\"Floral\",\"Fruity\",\"Spicy\",\"Fruity\",\"Fruity\",\"Fruity\",\"Spicy\",\"Fruity\",\"Fruity\",\"Fruity\",\"Floral\",\"Fruity\",\"Fruity\",\"Fruity\",\"Spicy\",\"Fruity\",\"Fruity\",\"Fruity\",\"Fruity\",\"Fruity\",\"Fruity\",\"Floral\",\"Fruity\",\"Fruity\",\"Fruity\",\"Fruity\",\"Fruity\",\"Fruity\",\"Spicy\",\"Fruity\",\"Fruity\",\"Fruity\",\"Fruity\",\"Fruity\",\"Fruity\",\"Fruity\",\"Spicy\",\"Fruity\",\"Fruity\",\"Fruity\",\"Fruity\",\"Floral\",\"Fruity\",\"Fruity\",\"Fruity\",\"Fruity\",\"Floral\",\"Fruity\",\"Fruity\",\"Fruity\",\"Floral\",\"Fruity\",\"Fruity\",\"Floral\",\"Fruity\",\"Fruity\",\"Fruity\",\"Fruity\",\"Fruity\",\"Fruity\",\"Fruity\",\"Fruity\",\"Fruity\",\"Spicy\",\"Fruity\",\"Fruity\",\"Floral\",\"Fruity\",\"Floral\",\"Fruity\",\"Spicy\",\"Fruity\",\"Fruity\",\"Spicy\",\"Fruity\",\"Fruity\",\"Fruity\",\"Fruity\",\"Spicy\",\"Fruity\",\"Fruity\",\"Spicy\",\"Fruity\",\"Fruity\",\"Fruity\",\"Fruity\",\"Fruity\",\"Fruity\",\"Fruity\",\"Fruity\",\"Fruity\",\"Spicy\",\"Spicy\",\"Fruity\",\"Fruity\",\"Spicy\",\"Fruity\",\"Fruity\",\"Fruity\",\"Fruity\",\"Fruity\",\"Spicy\",\"Fruity\",\"Fruity\",\"Fruity\",\"Fruity\",\"Fruity\",\"Fruity\",\"Fruity\",\"Fruity\",\"Fruity\",\"Toasted\",\"Fruity\",\"Fruity\",\"Fruity\",\"Fruity\",\"Spicy\",\"Fruity\",\"Fruity\",\"Fruity\",\"Fruity\",\"Fruity\",\"Fruity\",\"Fruity\",\"Fruity\",\"Fruity\",\"Fruity\",\"Fruity\",\"Fruity\",\"Fruity\",\"Fruity\",\"Fruity\",\"Fruity\",\"Fruity\",\"Fruity\",\"Spicy\",\"Fruity\",\"Floral\",\"Fruity\",\"Floral\",\"Floral\",\"Fruity\",\"Fruity\",\"Fruity\",\"Fruity\",\"Fruity\",\"Fruity\",\"Fruity\",\"Floral\",\"Fruity\",\"Fruity\",\"Fruity\",\"Spicy\",\"Fruity\",\"Fruity\",\"Fruity\",\"Fruity\",\"Fruity\",\"Fruity\",\"Fruity\",\"Fruity\",\"Fruity\",\"Fruity\",\"Fruity\",\"Fruity\",\"Fruity\",\"Fruity\",\"Fruity\",\"Fruity\",\"Fruity\",\"Fruity\",\"Fruity\",\"Fruity\",\"Floral\",\"Spicy\",\"Toasted\",\"Spicy\",\"Spicy\",\"Fruity\",\"Fruity\",\"Fruity\",\"Fruity\",\"Fruity\",\"Spicy\",\"Floral\",\"Fruity\",\"Fruity\",\"Fruity\",\"Fruity\",\"Spicy\",\"Fruity\",\"Fruity\",\"Fruity\",\"Fruity\",\"Fruity\",\"Floral\",\"Spicy\",\"Fruity\",\"Fruity\",\"Vegetal\",\"Fruity\",\"Fruity\",\"Fruity\",\"Fruity\",\"Fruity\",\"Spicy\",\"Fruity\",\"Fruity\",\"Fruity\",\"Floral\",\"Fruity\",\"Spicy\",\"Floral\",\"Fruity\",\"Floral\",\"Fruity\",\"Fruity\",\"Fruity\",\"Fruity\",\"Vegetal\",\"Fruity\",\"Fruity\",\"Toasted\",\"Fruity\",\"Fruity\",\"Fruity\",\"Fruity\",\"Fruity\",\"Fruity\",\"Fruity\",\"Fruity\",\"Floral\",\"Fruity\",\"Fruity\",\"Spicy\",\"Fruity\",\"Fruity\",\"Fruity\",\"Fruity\",\"Fruity\",\"Fruity\",\"Fruity\",\"Fruity\",\"Fruity\",\"Floral\",\"Fruity\",\"Fruity\",\"Fruity\",\"Fruity\",\"Fruity\",\"Fruity\",\"Fruity\",\"Fruity\",\"Spicy\",\"Fruity\",\"Floral\",\"Fruity\",\"Fruity\",\"Fruity\",\"Spicy\",\"Spicy\",\"Fruity\",\"Floral\",\"Fruity\",\"Spicy\",\"Fruity\",\"Fruity\",\"Fruity\",\"Fruity\",\"Fruity\",\"Fruity\",\"Fruity\",\"Fruity\",\"Fruity\",\"Fruity\",\"Fruity\",\"Fruity\",\"Fruity\",\"Fruity\",\"Fruity\",\"Fruity\",\"Fruity\",\"Fruity\",\"Fruity\",\"Fruity\",\"Fruity\",\"Fruity\",\"Fruity\",\"Fruity\",\"Fruity\",\"Fruity\",\"Fruity\",\"Fruity\",\"Fruity\",\"Fruity\",\"Fruity\",\"Fruity\",\"Fruity\",\"Floral\",\"Fruity\",\"Fruity\",\"Fruity\",\"Fruity\",\"Toasted\",\"Fruity\",\"Floral\",\"Fruity\",\"Fruity\",\"Fruity\",\"Fruity\",\"Fruity\",\"Fruity\",\"Fruity\",\"Fruity\",\"Toasted\",\"Fruity\",\"Fruity\",\"Fruity\",\"Floral\",\"Fruity\",\"Fruity\",\"Fruity\",\"Floral\",\"Fruity\",\"Fruity\",\"Fruity\",\"Fruity\",\"Fruity\",\"Spicy\",\"Fruity\",\"Floral\",\"Fruity\",\"Fruity\",\"Fruity\",\"Fruity\",\"Fruity\",\"Fruity\",\"Fruity\",\"Fruity\",\"Fruity\",\"Fruity\",\"Fruity\",\"Fruity\",\"Fruity\",\"Fruity\",\"Fruity\",\"Fruity\",\"Fruity\",\"Fruity\",\"Fruity\",\"Fruity\",\"Fruity\",\"Fruity\",\"Fruity\",\"Aromatic\",\"Floral\",\"Aromatic\",\"Floral\",\"Aromatic\",\"Fruity\",\"Fruity\",\"Vegetal\",\"Fruity\",\"Aromatic\",\"Fruity\",\"Floral\",\"Fruity\",\"Fruity\",\"Fruity\",\"Floral\",\"Fruity\",\"Floral\",\"Fruity\",\"Fruity\",\"Fruity\",\"Fruity\",\"Fruity\",\"Fruity\",\"Fruity\",\"Spicy\",\"Fruity\",\"Aromatic\",\"Floral\",\"Fruity\",\"Fruity\",\"Fruity\",\"Floral\",\"Fruity\",\"Floral\",\"Fruity\",\"Fruity\",\"Fruity\",\"Fruity\",\"Floral\",\"Fruity\",\"Floral\",\"Nutty\",\"Fruity\",\"Floral\",\"Floral\",\"Fruity\",\"Floral\",\"Aromatic\",\"Fruity\",\"Nutty\",\"Fruity\",\"Fruity\",\"Fruity\",\"Aromatic\",\"Floral\",\"Aromatic\",\"Fruity\",\"Fruity\",\"Fruity\",\"Fruity\",\"Aromatic\",\"Floral\",\"Aromatic\",\"Fruity\",\"Fruity\",\"Spicy\",\"Floral\",\"Floral\",\"Fruity\",\"Fruity\",\"Fruity\",\"Fruity\",\"Fruity\",\"Fruity\",\"Fruity\",\"Fruity\",\"Fruity\",\"Aromatic\",\"Fruity\",\"Fruity\",\"Fruity\",\"Fruity\",\"Fruity\",\"Fruity\",\"Fruity\",\"Fruity\",\"Fruity\",\"Fruity\",\"Vegetal\",\"Fruity\",\"Aromatic\",\"Fruity\",\"Fruity\",\"Floral\",\"Fruity\",\"Fruity\",\"Fruity\",\"Fruity\",\"Fruity\",\"Fruity\",\"Floral\",\"Fruity\",\"Fruity\",\"Fruity\",\"Fruity\",\"Fruity\",\"Fruity\",\"Fruity\",\"Fruity\",\"Floral\",\"Fruity\",\"Floral\",\"Fruity\",\"Floral\",\"Fruity\",\"Floral\",\"Fruity\",\"Fruity\",\"Fruity\",\"Fruity\",\"Fruity\",\"Aromatic\",\"Fruity\",\"Fruity\",\"Fruity\",\"Spicy\",\"Floral\",\"Fruity\",\"Fruity\",\"Fruity\",\"Floral\",\"Aromatic\",\"Fruity\",\"Floral\",\"Floral\",\"Fruity\",\"Spicy\",\"Herbal\",\"Fruity\",\"Aromatic\",\"Fruity\",\"Floral\",\"Fruity\",\"Fruity\",\"Fruity\",\"Aromatic\",\"Fruity\",\"Fruity\",\"Fruity\",\"Fruity\",\"Fruity\",\"Floral\",\"Fruity\",\"Fruity\",\"Fruity\",\"Fruity\",\"Spicy\",\"Fruity\",\"Fruity\",\"Fruity\",\"Fruity\",\"Aromatic\",\"Fruity\",\"Fruity\",\"Fruity\",\"Fruity\",\"Floral\",\"Nutty\",\"Fruity\",\"Spicy\",\"Fruity\",\"Fruity\",\"Fruity\",\"Fruity\",\"Fruity\",\"Fruity\",\"Fruity\",\"Fruity\",\"Floral\",\"Spicy\",\"Fruity\",\"Fruity\",\"Floral\",\"Fruity\",\"Fruity\",\"Fruity\",\"Fruity\",\"Fruity\",\"Aromatic\",\"Fruity\",\"Fruity\",\"Fruity\",\"Floral\",\"Floral\",\"Fruity\",\"Fruity\",\"Fruity\",\"Fruity\",\"Floral\",\"Fruity\",\"Aromatic\",\"Spicy\",\"Fruity\",\"Fruity\",\"Fruity\",\"Floral\",\"Fruity\",\"Fruity\",\"Fruity\",\"Fruity\",\"Fruity\",\"Fruity\",\"Fruity\",\"Toasted\",\"Fruity\",\"Fruity\",\"Fruity\",\"Fruity\",\"Fruity\",\"Spicy\",\"Fruity\",\"Floral\",\"Spicy\",\"Fruity\",\"Floral\",\"Fruity\",\"Fruity\",\"Fruity\",\"Fruity\",\"Fruity\",\"Floral\",\"Fruity\",\"Fruity\",\"Fruity\",\"Floral\",\"Fruity\",\"Floral\",\"Fruity\",\"Fruity\",\"Fruity\",\"Fruity\",\"Fruity\",\"Fruity\",\"Fruity\",\"Fruity\",\"Spicy\",\"Fruity\",\"Floral\",\"Fruity\",\"Floral\",\"Fruity\",\"Fruity\",\"Aromatic\",\"Fruity\",\"Fruity\",\"Fruity\",\"Fruity\",\"Fruity\",\"Fruity\",\"Fruity\",\"Fruity\",\"Floral\",\"Fruity\",\"Floral\",\"Fruity\",\"Fruity\",\"Fruity\",\"Fruity\",\"Spicy\",\"Fruity\",\"Fruity\",\"Fruity\",\"Fruity\",\"Fruity\",\"Fruity\",\"Fruity\",\"Fruity\",\"Fruity\",\"Fruity\",\"Fruity\",\"Fruity\",\"Fruity\",\"Toasted\",\"Fruity\",\"Fruity\",\"Spicy\",\"Fruity\",\"Aromatic\",\"Floral\",\"Floral\",\"Floral\",\"Floral\",\"Fruity\",\"Fruity\",\"Fruity\",\"Floral\",\"Fruity\",\"Vegetal\",\"Fruity\",\"Fruity\",\"Fruity\",\"Fruity\",\"Spicy\",\"Floral\",\"Fruity\",\"Spicy\",\"Floral\",\"Fruity\",\"Spicy\",\"Fruity\",\"Fruity\",\"Fruity\",\"Spicy\",\"Fruity\",\"Fruity\",\"Aromatic\",\"Spicy\",\"Fruity\",\"Spicy\",\"Fruity\",\"Fruity\",\"Fruity\",\"Spicy\",\"Fruity\",\"Floral\",\"Fruity\",\"Spicy\",\"Fruity\",\"Fruity\",\"Fruity\",\"Fruity\",\"Spicy\",\"Fruity\",\"Floral\",\"Floral\",\"Fruity\",\"Fruity\",\"Fruity\",\"Floral\",\"Floral\",\"Fruity\",\"Fruity\",\"Fruity\",\"Fruity\",\"Spicy\",\"Fruity\",\"Fruity\",\"Fruity\",\"Fruity\",\"Fruity\",\"Toasted\",\"Floral\",\"Fruity\",\"Fruity\",\"Spicy\",\"Fruity\",\"Floral\",\"Fruity\",\"Fruity\",\"Fruity\",\"Fruity\",\"Fruity\",\"Fruity\",\"Fruity\",\"Fruity\",\"Fruity\",\"Fruity\",\"Toasted\",\"Toasted\",\"Fruity\",\"Fruity\",\"Fruity\",\"Fruity\",\"Fruity\",\"Fruity\",\"Fruity\",\"Fruity\",\"Floral\",\"Fruity\",\"Fruity\",\"Fruity\",\"Fruity\",\"Fruity\",\"Floral\",\"Fruity\",\"Fruity\",\"Floral\",\"Floral\",\"Fruity\",\"Fruity\",\"Fruity\",\"Fruity\",\"Fruity\",\"Fruity\",\"Fruity\",\"Fruity\",\"Spicy\",\"Fruity\",\"Floral\",\"Fruity\",\"Fruity\",\"Fruity\",\"Fruity\",\"Fruity\",\"Spicy\",\"Fruity\",\"Fruity\",\"Floral\",\"Fruity\",\"Floral\",\"Floral\",\"Fruity\",\"Spicy\",\"Fruity\",\"Fruity\",\"Floral\",\"Fruity\",\"Vegetal\",\"Fruity\",\"Aromatic\",\"Fruity\",\"Aromatic\",\"Floral\",\"Fruity\",\"Fruity\",\"Fruity\",\"Fruity\",\"Fruity\",\"Fruity\",\"Fruity\",\"Fruity\",\"Fruity\",\"Fruity\",\"Fruity\",\"Vegetal\",\"Fruity\",\"Aromatic\",\"Fruity\",\"Floral\",\"Fruity\",\"Fruity\",\"Fruity\",\"Fruity\",\"Fruity\",\"Fruity\",\"Fruity\",\"Floral\",\"Fruity\",\"Floral\",\"Fruity\",\"Fruity\",\"Fruity\",\"Fruity\",\"Fruity\",\"Fruity\",\"Spicy\",\"Floral\",\"Fruity\",\"Fruity\",\"Fruity\",\"Aromatic\",\"Fruity\",\"Fruity\",\"Fruity\",\"Fruity\",\"Fruity\",\"Spicy\",\"Floral\",\"Fruity\",\"Fruity\",\"Fruity\",\"Fruity\",\"Fruity\",\"Fruity\",\"Fruity\",\"Fruity\",\"Fruity\",\"Fruity\",\"Fruity\",\"Fruity\",\"Fruity\",\"Fruity\",\"Fruity\",\"Spicy\",\"Floral\",\"Fruity\",\"Fruity\",\"Fruity\",\"Fruity\",\"Fruity\",\"Fruity\",\"Fruity\",\"Fruity\",\"Fruity\",\"Floral\",\"Spicy\",\"Fruity\",\"Fruity\",\"Fruity\",\"Fruity\",\"Fruity\",\"Fruity\",\"Fruity\",\"Fruity\",\"Fruity\",\"Fruity\",\"Spicy\",\"Fruity\",\"Fruity\",\"Fruity\",\"Fruity\",\"Fruity\",\"Fruity\",\"Fruity\",\"Fruity\",\"Fruity\",\"Fruity\",\"Fruity\",\"Floral\",\"Fruity\",\"Fruity\",\"Fruity\",\"Fruity\",\"Fruity\",\"Spicy\",\"Floral\",\"Floral\",\"Fruity\",\"Fruity\",\"Fruity\",\"Floral\",\"Fruity\",\"Fruity\",\"Fruity\",\"Fruity\",\"Fruity\",\"Fruity\",\"Fruity\",\"Toasted\",\"Fruity\",\"Fruity\",\"Fruity\",\"Fruity\",\"Spicy\",\"Fruity\",\"Spicy\",\"Fruity\",\"Fruity\",\"Floral\",\"Fruity\",\"Fruity\",\"Fruity\",\"Fruity\",\"Fruity\",\"Fruity\",\"Fruity\",\"Fruity\",\"Fruity\",\"Fruity\",\"Fruity\",\"Fruity\",\"Fruity\",\"Fruity\",\"Spicy\",\"Fruity\",\"Fruity\",\"Fruity\",\"Fruity\",\"Fruity\",\"Fruity\",\"Fruity\",\"Fruity\",\"Fruity\",\"Fruity\",\"Fruity\",\"Fruity\",\"Floral\",\"Fruity\",\"Spicy\",\"Fruity\",\"Fruity\",\"Fruity\",\"Aromatic\",\"Vegetal\",\"Fruity\",\"Fruity\",\"Floral\",\"Fruity\",\"Spicy\",\"Fruity\",\"Fruity\",\"Fruity\",\"Fruity\",\"Floral\",\"Fruity\",\"Fruity\",\"Fruity\",\"Fruity\",\"Spicy\",\"Fruity\",\"Floral\",\"Fruity\",\"Fruity\",\"Fruity\",\"Fruity\",\"Fruity\",\"Spicy\",\"Fruity\",\"Fruity\",\"Fruity\",\"Fruity\",\"Spicy\",\"Fruity\",\"Fruity\",\"Fruity\",\"Floral\",\"Fruity\",\"Fruity\",\"Fruity\",\"Fruity\",\"Floral\",\"Floral\",\"Fruity\",\"Fruity\",\"Fruity\",\"Fruity\",\"Fruity\",\"Spicy\",\"Fruity\",\"Floral\",\"Fruity\",\"Floral\",\"Spicy\",\"Fruity\",\"Spicy\",\"Fruity\",\"Fruity\",\"Fruity\",\"Spicy\",\"Fruity\",\"Fruity\",\"Spicy\",\"Fruity\",\"Fruity\",\"Fruity\",\"Fruity\",\"Fruity\",\"Fruity\",\"Fruity\",\"Spicy\",\"Fruity\",\"Fruity\",\"Fruity\",\"Fruity\",\"Fruity\",\"Fruity\",\"Fruity\",\"Fruity\",\"Fruity\",\"Fruity\",\"Fruity\",\"Fruity\",\"Fruity\",\"Toasted\",\"Fruity\",\"Fruity\",\"Fruity\",\"Spicy\",\"Fruity\",\"Fruity\",\"Fruity\",\"Fruity\",\"Fruity\",\"Fruity\",\"Fruity\",\"Fruity\",\"Fruity\",\"Fruity\",\"Fruity\",\"Spicy\",\"Fruity\",\"Fruity\",\"Floral\",\"Floral\",\"Fruity\",\"Fruity\",\"Fruity\",\"Fruity\",\"Fruity\",\"Fruity\",\"Floral\",\"Fruity\",\"Fruity\",\"Spicy\",\"Fruity\",\"Fruity\",\"Fruity\",\"Fruity\",\"Fruity\",\"Fruity\",\"Fruity\",\"Fruity\",\"Fruity\",\"Fruity\",\"Fruity\",\"Fruity\",\"Fruity\",\"Fruity\",\"Fruity\",\"Fruity\",\"Fruity\",\"Floral\",\"Spicy\",\"Toasted\",\"Spicy\",\"Spicy\",\"Fruity\",\"Fruity\",\"Fruity\",\"Fruity\",\"Floral\",\"Fruity\",\"Fruity\",\"Fruity\",\"Fruity\",\"Spicy\",\"Fruity\",\"Fruity\",\"Fruity\",\"Spicy\",\"Fruity\",\"Fruity\",\"Vegetal\",\"Fruity\",\"Fruity\",\"Fruity\",\"Fruity\",\"Fruity\",\"Spicy\",\"Fruity\",\"Fruity\",\"Floral\",\"Fruity\",\"Spicy\",\"Floral\",\"Fruity\",\"Floral\",\"Fruity\",\"Fruity\",\"Fruity\",\"Fruity\",\"Vegetal\",\"Fruity\",\"Toasted\",\"Fruity\",\"Aromatic\",\"Aromatic\",\"Floral\",\"Aromatic\",\"Fruity\",\"Fruity\",\"Vegetal\",\"Fruity\",\"Aromatic\",\"Floral\",\"Fruity\",\"Fruity\",\"Floral\",\"Fruity\",\"Fruity\",\"Fruity\",\"Fruity\",\"Aromatic\",\"Fruity\",\"Aromatic\",\"Aromatic\",\"Aromatic\",\"Fruity\",\"Fruity\",\"Vegetal\",\"Fruity\",\"Aromatic\",\"Fruity\",\"Fruity\",\"Fruity\",\"Fruity\",\"Floral\",\"Fruity\",\"Fruity\",\"Fruity\",\"Fruity\",\"Fruity\",\"Aromatic\",\"Fruity\",\"Fruity\",\"Aromatic\",\"Floral\",\"Floral\",\"Fruity\",\"Herbal\",\"Fruity\",\"Aromatic\",\"Fruity\",\"Floral\",\"Fruity\",\"Aromatic\",\"Fruity\",\"Floral\",\"Fruity\",\"Aromatic\",\"Fruity\",\"Floral\",\"Nutty\",\"Fruity\",\"Fruity\",\"Floral\",\"Fruity\",\"Fruity\",\"Fruity\",\"Aromatic\",\"Fruity\",\"Fruity\",\"Floral\",\"Fruity\",\"Fruity\",\"Fruity\",\"Fruity\",\"Fruity\",\"Aromatic\",\"Floral\",\"Floral\",\"Fruity\",\"Fruity\",\"Floral\",\"Floral\",\"Fruity\",\"Fruity\",\"Spicy\",\"Aromatic\",\"Spicy\",\"Fruity\",\"Fruity\",\"Fruity\",\"Fruity\",\"Floral\",\"Fruity\",\"Floral\",\"Fruity\",\"Fruity\",\"Fruity\",\"Fruity\",\"Fruity\",\"Fruity\",\"Fruity\",\"Fruity\",\"Floral\",\"Fruity\",\"Fruity\",\"Spicy\",\"Floral\",\"Fruity\",\"Fruity\",\"Fruity\",\"Fruity\",\"Floral\",\"Fruity\",\"Fruity\",\"Vegetal\",\"Fruity\",\"Fruity\",\"Fruity\",\"Fruity\",\"Fruity\",\"Fruity\",\"Fruity\",\"Floral\",\"Aromatic\",\"Fruity\",\"Floral\",\"Floral\",\"Fruity\",\"Fruity\",\"Fruity\",\"Aromatic\",\"Fruity\",\"Fruity\",\"Floral\",\"Floral\",\"Floral\",\"Fruity\",\"Fruity\",\"Fruity\",\"Fruity\",\"Floral\",\"Fruity\",\"Fruity\",\"Floral\",\"Fruity\",\"Floral\",\"Floral\",\"Fruity\",\"Fruity\",\"Floral\",\"Fruity\",\"Fruity\",\"Floral\",\"Fruity\",\"Floral\",\"Fruity\",\"Vegetal\",\"Aromatic\",\"Fruity\",\"Fruity\",\"Fruity\",\"Fruity\",\"Fruity\",\"Floral\",\"Fruity\",\"Fruity\",\"Fruity\",\"Fruity\",\"Fruity\",\"Fruity\",\"Floral\",\"Fruity\",\"Fruity\",\"Fruity\",\"Fruity\",\"Fruity\",\"Fruity\",\"Fruity\",\"Fruity\",\"Floral\",\"Fruity\",\"Fruity\",\"Fruity\",\"Fruity\",\"Floral\",\"Aromatic\",\"Aromatic\",\"Fruity\",\"Fruity\",\"Fruity\",\"Fruity\",\"Vegetal\",\"Fruity\",\"Fruity\",\"Vegetal\",\"Aromatic\",\"Fruity\",\"Fruity\",\"Floral\",\"Floral\",\"Fruity\",\"Fruity\",\"Fruity\",\"Fruity\",\"Fruity\",\"Floral\",\"Floral\",\"Fruity\",\"Fruity\",\"Fruity\",\"Fruity\",\"Fruity\",\"Floral\",\"Fruity\",\"Fruity\",\"Spicy\",\"Fruity\",\"Fruity\",\"Fruity\",\"Aromatic\",\"Fruity\",\"Fruity\",\"Floral\",\"Fruity\",\"Fruity\",\"Fruity\",\"Fruity\",\"Fruity\",\"Fruity\",\"Fruity\",\"Fruity\",\"Fruity\",\"Fruity\",\"Fruity\",\"Floral\",\"Fruity\",\"Fruity\",\"Fruity\",\"Fruity\",\"Fruity\",\"Floral\",\"Spicy\",\"Fruity\",\"Fruity\",\"Fruity\",\"Fruity\",\"Floral\",\"Fruity\",\"Fruity\",\"Fruity\",\"Fruity\",\"Fruity\",\"Fruity\",\"Floral\",\"Floral\",\"Fruity\",\"Fruity\",\"Fruity\",\"Floral\",\"Fruity\",\"Fruity\",\"Fruity\",\"Floral\",\"Fruity\",\"Fruity\",\"Fruity\",\"Floral\",\"Fruity\",\"Spicy\",\"Fruity\",\"Fruity\",\"Fruity\",\"Fruity\",\"Fruity\",\"Aromatic\",\"Fruity\",\"Fruity\",\"Fruity\",\"Fruity\",\"Floral\",\"Floral\",\"Fruity\",\"Fruity\",\"Fruity\",\"Aromatic\",\"Fruity\",\"Fruity\",\"Floral\",\"Fruity\",\"Floral\",\"Fruity\",\"Fruity\",\"Fruity\",\"Spicy\",\"Fruity\",\"Fruity\",\"Fruity\",\"Fruity\",\"Aromatic\",\"Fruity\",\"Fruity\",\"Floral\",\"Aromatic\",\"Fruity\",\"Spicy\",\"Fruity\",\"Floral\",\"Spicy\",\"Floral\",\"Fruity\",\"Fruity\",\"Aromatic\",\"Aromatic\",\"Floral\",\"Fruity\",\"Fruity\",\"Fruity\",\"Fruity\",\"Floral\",\"Floral\",\"Floral\",\"Floral\",\"Fruity\",\"Fruity\",\"Floral\",\"Vegetal\",\"Floral\",\"Fruity\",\"Vegetal\",\"Vegetal\",\"Fruity\",\"Floral\",\"Fruity\",\"Floral\",\"Fruity\",\"Fruity\",\"Fruity\",\"Floral\",\"Floral\",\"Floral\",\"Fruity\",\"Floral\",\"Fruity\",\"Fruity\",\"Fruity\",\"Fruity\",\"Fruity\",\"Fruity\",\"Floral\",\"Spicy\",\"Floral\",\"Floral\",\"Fruity\",\"Fruity\",\"Fruity\",\"Fruity\",\"Fruity\",\"Fruity\",\"Floral\",\"Fruity\",\"Fruity\",\"Fruity\",\"Fruity\",\"Fruity\",\"Fruity\",\"Fruity\",\"Fruity\",\"Fruity\",\"Fruity\",\"Fruity\",\"Fruity\",\"Fruity\",\"Fruity\",\"Fruity\",\"Fruity\",\"Fruity\",\"Fruity\",\"Fruity\",\"Fruity\",\"Fruity\",\"Floral\",\"Fruity\",\"Fruity\",\"Floral\",\"Fruity\",\"Vegetal\",\"Aromatic\",\"Fruity\",\"Fruity\",\"Fruity\",\"Fruity\",\"Fruity\",\"Fruity\",\"Fruity\",\"Fruity\",\"Fruity\",\"Floral\",\"Nutty\",\"Floral\",\"Floral\",\"Herbal\",\"Fruity\",\"Fruity\",\"Floral\",\"Fruity\",\"Fruity\",\"Fruity\",\"Floral\",\"Fruity\",\"Floral\",\"Fruity\",\"Floral\",\"Nutty\",\"Fruity\",\"Fruity\",\"Floral\",\"Fruity\",\"Fruity\",\"Aromatic\",\"Floral\",\"Fruity\",\"Floral\",\"Fruity\",\"Fruity\",\"Fruity\",\"Fruity\",\"Fruity\",\"Herbal\",\"Fruity\",\"Floral\",\"Floral\",\"Floral\",\"Vegetal\",\"Fruity\",\"Floral\",\"Fruity\",\"Aromatic\",\"Fruity\",\"Fruity\",\"Vegetal\",\"Floral\",\"Floral\",\"Fruity\",\"Fruity\",\"Fruity\",\"Spicy\",\"Fruity\",\"Fruity\",\"Floral\",\"Fruity\",\"Floral\",\"Floral\",\"Floral\",\"Fruity\",\"Fruity\",\"Vegetal\",\"Fruity\",\"Fruity\",\"Fruity\",\"Aromatic\",\"Fruity\",\"Fruity\",\"Fruity\",\"Fruity\",\"Fruity\",\"Floral\",\"Fruity\",\"Fruity\",\"Fruity\",\"Fruity\",\"Floral\",\"Fruity\",\"Fruity\",\"Spicy\",\"Fruity\",\"Fruity\",\"Floral\",\"Fruity\",\"Fruity\",\"Fruity\",\"Floral\",\"Floral\",\"Fruity\",\"Aromatic\",\"Aromatic\",\"Floral\",\"Fruity\",\"Floral\",\"Fruity\",\"Fruity\",\"Fruity\",\"Fruity\",\"Floral\",\"Floral\",\"Fruity\",\"Floral\",\"Fruity\",\"Fruity\",\"Spicy\",\"Floral\",\"Fruity\",\"Floral\",\"Floral\",\"Aromatic\",\"Fruity\",\"Fruity\",\"Fruity\",\"Fruity\",\"Fruity\",\"Fruity\",\"Herbal\",\"Floral\",\"Floral\",\"Fruity\",\"Fruity\",\"Fruity\",\"Fruity\",\"Fruity\",\"Floral\",\"Fruity\",\"Fruity\",\"Floral\",\"Fruity\",\"Fruity\",\"Floral\",\"Floral\",\"Fruity\",\"Fruity\",\"Fruity\",\"Fruity\",\"Floral\",\"Fruity\",\"Fruity\",\"Fruity\",\"Toasted\",\"Spicy\",\"Fruity\",\"Fruity\",\"Floral\",\"Fruity\",\"Fruity\",\"Fruity\",\"Floral\",\"Fruity\",\"Fruity\",\"Fruity\",\"Fruity\",\"Fruity\",\"Fruity\",\"Floral\",\"Fruity\",\"Fruity\",\"Floral\",\"Fruity\",\"Fruity\",\"Floral\",\"Fruity\",\"Floral\",\"Floral\",\"Fruity\",\"Fruity\",\"Floral\",\"Fruity\",\"Fruity\",\"Aromatic\",\"Spicy\",\"Floral\",\"Floral\",\"Fruity\",\"Floral\",\"Fruity\",\"Fruity\",\"Toasted\",\"Fruity\",\"Fruity\",\"Floral\",\"Fruity\",\"Fruity\",\"Floral\",\"Floral\",\"Floral\",\"Fruity\",\"Nutty\",\"Fruity\",\"Floral\",\"Nutty\",\"Fruity\",\"Floral\",\"Fruity\",\"Nutty\",\"Floral\",\"Fruity\",\"Fruity\",\"Fruity\",\"Fruity\",\"Fruity\",\"Fruity\",\"Floral\",\"Floral\",\"Fruity\",\"Nutty\",\"Floral\",\"Floral\",\"Nutty\",\"Fruity\",\"Fruity\",\"Toasted\",\"Fruity\",\"Fruity\",\"Nutty\",\"Fruity\",\"Fruity\",\"Floral\",\"Fruity\",\"Fruity\",\"Floral\",\"Fruity\",\"Floral\",\"Fruity\",\"Fruity\",\"Floral\",\"Fruity\",\"Fruity\",\"Fruity\",\"Fruity\",\"Floral\",\"Fruity\",\"Fruity\",\"Fruity\",\"Fruity\",\"Floral\",\"Fruity\",\"Floral\",\"Fruity\",\"Fruity\",\"Nutty\",\"Fruity\",\"Fruity\",\"Fruity\",\"Fruity\",\"Floral\",\"Fruity\",\"Fruity\",\"Floral\",\"Floral\",\"Fruity\",\"Fruity\",\"Fruity\",\"Fruity\",\"Fruity\",\"Floral\",\"Floral\",\"Spicy\",\"Fruity\",\"Floral\",\"Fruity\",\"Fruity\",\"Fruity\",\"Fruity\",\"Floral\",\"Floral\",\"Fruity\",\"Fruity\",\"Fruity\",\"Floral\",\"Fruity\",\"Fruity\",\"Floral\",\"Floral\",\"Fruity\",\"Fruity\",\"Fruity\",\"Floral\",\"Fruity\",\"Fruity\",\"Fruity\",\"Fruity\",\"Fruity\",\"Fruity\",\"Fruity\",\"Fruity\",\"Fruity\",\"Floral\",\"Nutty\",\"Fruity\",\"Fruity\",\"Floral\",\"Floral\",\"Fruity\",\"Fruity\",\"Fruity\",\"Fruity\",\"Fruity\",\"Fruity\",\"Fruity\",\"Fruity\",\"Fruity\",\"Fruity\",\"Fruity\",\"Fruity\",\"Fruity\",\"Fruity\",\"Fruity\",\"Fruity\",\"Fruity\",\"Fruity\",\"Fruity\",\"Fruity\",\"Spicy\",\"Fruity\",\"Aromatic\",\"Fruity\",\"Fruity\",\"Fruity\",\"Floral\",\"Fruity\",\"Floral\",\"Fruity\",\"Fruity\",\"Floral\",\"Fruity\",\"Floral\",\"Fruity\",\"Fruity\",\"Fruity\",\"Floral\",\"Fruity\",\"Floral\",\"Floral\",\"Fruity\",\"Floral\",\"Floral\",\"Fruity\",\"Fruity\",\"Floral\",\"Fruity\",\"Fruity\",\"Fruity\",\"Fruity\",\"Fruity\",\"Fruity\",\"Fruity\",\"Floral\",\"Fruity\",\"Fruity\",\"Fruity\",\"Floral\",\"Fruity\",\"Fruity\",\"Floral\",\"Fruity\",\"Fruity\",\"Fruity\",\"Fruity\",\"Fruity\",\"Fruity\",\"Fruity\",\"Fruity\",\"Floral\",\"Floral\",\"Fruity\",\"Fruity\",\"Fruity\",\"Fruity\",\"Fruity\",\"Fruity\",\"Floral\",\"Fruity\",\"Fruity\",\"Floral\",\"Floral\",\"Floral\",\"Fruity\",\"Fruity\",\"Fruity\",\"Fruity\",\"Fruity\",\"Fruity\",\"Fruity\",\"Floral\",\"Fruity\",\"Fruity\",\"Fruity\",\"Fruity\",\"Fruity\",\"Floral\",\"Fruity\",\"Fruity\",\"Fruity\",\"Floral\",\"Fruity\",\"Fruity\",\"Fruity\",\"Fruity\",\"Floral\",\"Floral\",\"Fruity\",\"Fruity\",\"Fruity\",\"Fruity\",\"Fruity\",\"Fruity\",\"Fruity\",\"Fruity\",\"Fruity\",\"Floral\",\"Floral\",\"Fruity\",\"Fruity\",\"Fruity\",\"Fruity\",\"Fruity\",\"Fruity\",\"Fruity\",\"Fruity\",\"Floral\",\"Fruity\",\"Floral\",\"Floral\",\"Fruity\",\"Fruity\",\"Fruity\",\"Fruity\",\"Fruity\",\"Fruity\",\"Fruity\",\"Fruity\",\"Fruity\",\"Toasted\",\"Fruity\",\"Floral\",\"Fruity\",\"Fruity\",\"Fruity\",\"Fruity\",\"Fruity\",\"Fruity\",\"Fruity\",\"Fruity\",\"Fruity\",\"Fruity\",\"Fruity\",\"Fruity\",\"Fruity\",\"Fruity\",\"Fruity\",\"Fruity\",\"Fruity\",\"Fruity\",\"Floral\",\"Fruity\",\"Fruity\",\"Fruity\",\"Fruity\",\"Fruity\",\"Fruity\",\"Fruity\",\"Floral\",\"Fruity\",\"Fruity\",\"Fruity\",\"Aromatic\",\"Fruity\",\"Fruity\",\"Fruity\",\"Fruity\",\"Fruity\",\"Fruity\",\"Fruity\",\"Fruity\",\"Fruity\",\"Fruity\",\"Fruity\",\"Nutty\",\"Fruity\",\"Fruity\",\"Fruity\",\"Fruity\",\"Fruity\",\"Fruity\",\"Floral\",\"Fruity\",\"Nutty\",\"Fruity\",\"Floral\",\"Floral\",\"Floral\",\"Fruity\",\"Nutty\",\"Fruity\",\"Fruity\",\"Nutty\",\"Fruity\",\"Nutty\",\"Fruity\",\"Spicy\",\"Nutty\",\"Fruity\",\"Fruity\",\"Nutty\",\"Floral\",\"Aromatic\",\"Vegetal\",\"Fruity\",\"Fruity\",\"Nutty\",\"Aromatic\",\"Aromatic\",\"Spicy\",\"Fruity\",\"Fruity\",\"Fruity\",\"Nutty\",\"Fruity\",\"Spicy\",\"Fruity\",\"Fruity\",\"Fruity\",\"Fruity\",\"Fruity\",\"Floral\",\"Fruity\",\"Fruity\",\"Spicy\",\"Nutty\",\"Fruity\",\"Fruity\",\"Floral\",\"Nutty\",\"Floral\",\"Floral\",\"Fruity\",\"Fruity\",\"Nutty\",\"Fruity\",\"Fruity\",\"Fruity\",\"Fruity\",\"Fruity\",\"Fruity\",\"Fruity\",\"Fruity\",\"Fruity\",\"Fruity\",\"Fruity\",\"Fruity\",\"Floral\",\"Aromatic\",\"Fruity\",\"Spicy\",\"Fruity\",\"Fruity\",\"Floral\",\"Fruity\",\"Fruity\",\"Fruity\",\"Fruity\",\"Fruity\",\"Fruity\",\"Fruity\",\"Fruity\",\"Fruity\",\"Floral\",\"Fruity\",\"Fruity\",\"Fruity\",\"Fruity\",\"Spicy\",\"Fruity\",\"Aromatic\",\"Floral\",\"Floral\",\"Fruity\",\"Fruity\",\"Fruity\",\"Floral\",\"Fruity\",\"Vegetal\",\"Fruity\",\"Fruity\",\"Spicy\",\"Floral\",\"Fruity\",\"Spicy\",\"Floral\",\"Fruity\",\"Fruity\",\"Fruity\",\"Fruity\",\"Spicy\",\"Fruity\",\"Aromatic\",\"Spicy\",\"Spicy\",\"Fruity\",\"Fruity\",\"Spicy\",\"Fruity\",\"Floral\",\"Fruity\",\"Fruity\",\"Fruity\",\"Fruity\",\"Fruity\",\"Floral\",\"Floral\",\"Fruity\",\"Fruity\",\"Fruity\",\"Fruity\",\"Fruity\",\"Fruity\",\"Fruity\",\"Fruity\",\"Fruity\",\"Floral\",\"Fruity\",\"Spicy\",\"Fruity\",\"Fruity\",\"Floral\",\"Fruity\",\"Fruity\",\"Fruity\",\"Fruity\",\"Fruity\",\"Fruity\",\"Fruity\",\"Fruity\",\"Toasted\",\"Fruity\",\"Fruity\",\"Fruity\",\"Fruity\",\"Fruity\",\"Floral\",\"Fruity\",\"Fruity\",\"Fruity\",\"Fruity\",\"Fruity\",\"Fruity\",\"Fruity\",\"Floral\",\"Fruity\",\"Floral\",\"Floral\",\"Fruity\",\"Fruity\",\"Fruity\",\"Fruity\",\"Fruity\",\"Spicy\",\"Floral\",\"Fruity\",\"Fruity\",\"Fruity\",\"Fruity\",\"Fruity\",\"Spicy\",\"Fruity\",\"Fruity\",\"Floral\",\"Fruity\",\"Floral\",\"Floral\",\"Fruity\",\"Spicy\",\"Fruity\",\"Fruity\",\"Fruity\",\"Fruity\",\"Vegetal\",\"Fruity\",\"Fruity\",\"Spicy\",\"Fruity\",\"Fruity\",\"Fruity\",\"Spicy\",\"Fruity\",\"Fruity\",\"Fruity\",\"Floral\",\"Fruity\",\"Fruity\",\"Fruity\",\"Floral\",\"Fruity\",\"Fruity\",\"Floral\",\"Floral\",\"Fruity\",\"Fruity\",\"Fruity\",\"Fruity\",\"Fruity\",\"Aromatic\",\"Fruity\",\"Fruity\",\"Fruity\",\"Floral\",\"Fruity\",\"Fruity\",\"Fruity\",\"Fruity\",\"Fruity\",\"Fruity\",\"Fruity\",\"Fruity\",\"Floral\",\"Fruity\",\"Spicy\",\"Fruity\",\"Floral\",\"Floral\",\"Fruity\",\"Fruity\",\"Floral\",\"Fruity\",\"Fruity\",\"Fruity\",\"Fruity\",\"Toasted\",\"Fruity\",\"Fruity\",\"Fruity\",\"Fruity\",\"Spicy\",\"Floral\",\"Nutty\",\"Fruity\",\"Fruity\",\"Fruity\",\"Fruity\",\"Fruity\",\"Fruity\",\"Fruity\",\"Fruity\",\"Fruity\",\"Fruity\",\"Fruity\",\"Fruity\",\"Fruity\",\"Fruity\",\"Floral\",\"Fruity\",\"Fruity\",\"Fruity\",\"Fruity\",\"Floral\",\"Fruity\",\"Fruity\",\"Spicy\",\"Floral\",\"Floral\",\"Fruity\",\"Fruity\",\"Fruity\",\"Fruity\",\"Fruity\",\"Fruity\",\"Aromatic\",\"Fruity\",\"Nutty\",\"Fruity\",\"Fruity\",\"Spicy\",\"Fruity\",\"Floral\",\"Fruity\",\"Fruity\",\"Floral\",\"Fruity\",\"Fruity\",\"Fruity\",\"Fruity\",\"Fruity\",\"Fruity\",\"Floral\",\"Fruity\",\"Fruity\",\"Fruity\",\"Fruity\",\"Fruity\",\"Fruity\",\"Fruity\",\"Fruity\",\"Fruity\",\"Fruity\",\"Fruity\",\"Fruity\",\"Fruity\",\"Fruity\",\"Fruity\",\"Floral\",\"Spicy\",\"Spicy\",\"Fruity\",\"Fruity\",\"Fruity\",\"Fruity\",\"Fruity\",\"Fruity\",\"Floral\",\"Fruity\",\"Fruity\",\"Spicy\",\"Fruity\",\"Fruity\",\"Fruity\",\"Fruity\",\"Floral\",\"Spicy\",\"Floral\",\"Fruity\",\"Fruity\",\"Floral\"],\"xaxis\":\"x\",\"yaxis\":\"y\",\"type\":\"histogram\"}],                        {\"template\":{\"data\":{\"histogram2dcontour\":[{\"type\":\"histogram2dcontour\",\"colorbar\":{\"outlinewidth\":0,\"ticks\":\"\"},\"colorscale\":[[0.0,\"#0d0887\"],[0.1111111111111111,\"#46039f\"],[0.2222222222222222,\"#7201a8\"],[0.3333333333333333,\"#9c179e\"],[0.4444444444444444,\"#bd3786\"],[0.5555555555555556,\"#d8576b\"],[0.6666666666666666,\"#ed7953\"],[0.7777777777777778,\"#fb9f3a\"],[0.8888888888888888,\"#fdca26\"],[1.0,\"#f0f921\"]]}],\"choropleth\":[{\"type\":\"choropleth\",\"colorbar\":{\"outlinewidth\":0,\"ticks\":\"\"}}],\"histogram2d\":[{\"type\":\"histogram2d\",\"colorbar\":{\"outlinewidth\":0,\"ticks\":\"\"},\"colorscale\":[[0.0,\"#0d0887\"],[0.1111111111111111,\"#46039f\"],[0.2222222222222222,\"#7201a8\"],[0.3333333333333333,\"#9c179e\"],[0.4444444444444444,\"#bd3786\"],[0.5555555555555556,\"#d8576b\"],[0.6666666666666666,\"#ed7953\"],[0.7777777777777778,\"#fb9f3a\"],[0.8888888888888888,\"#fdca26\"],[1.0,\"#f0f921\"]]}],\"heatmap\":[{\"type\":\"heatmap\",\"colorbar\":{\"outlinewidth\":0,\"ticks\":\"\"},\"colorscale\":[[0.0,\"#0d0887\"],[0.1111111111111111,\"#46039f\"],[0.2222222222222222,\"#7201a8\"],[0.3333333333333333,\"#9c179e\"],[0.4444444444444444,\"#bd3786\"],[0.5555555555555556,\"#d8576b\"],[0.6666666666666666,\"#ed7953\"],[0.7777777777777778,\"#fb9f3a\"],[0.8888888888888888,\"#fdca26\"],[1.0,\"#f0f921\"]]}],\"heatmapgl\":[{\"type\":\"heatmapgl\",\"colorbar\":{\"outlinewidth\":0,\"ticks\":\"\"},\"colorscale\":[[0.0,\"#0d0887\"],[0.1111111111111111,\"#46039f\"],[0.2222222222222222,\"#7201a8\"],[0.3333333333333333,\"#9c179e\"],[0.4444444444444444,\"#bd3786\"],[0.5555555555555556,\"#d8576b\"],[0.6666666666666666,\"#ed7953\"],[0.7777777777777778,\"#fb9f3a\"],[0.8888888888888888,\"#fdca26\"],[1.0,\"#f0f921\"]]}],\"contourcarpet\":[{\"type\":\"contourcarpet\",\"colorbar\":{\"outlinewidth\":0,\"ticks\":\"\"}}],\"contour\":[{\"type\":\"contour\",\"colorbar\":{\"outlinewidth\":0,\"ticks\":\"\"},\"colorscale\":[[0.0,\"#0d0887\"],[0.1111111111111111,\"#46039f\"],[0.2222222222222222,\"#7201a8\"],[0.3333333333333333,\"#9c179e\"],[0.4444444444444444,\"#bd3786\"],[0.5555555555555556,\"#d8576b\"],[0.6666666666666666,\"#ed7953\"],[0.7777777777777778,\"#fb9f3a\"],[0.8888888888888888,\"#fdca26\"],[1.0,\"#f0f921\"]]}],\"surface\":[{\"type\":\"surface\",\"colorbar\":{\"outlinewidth\":0,\"ticks\":\"\"},\"colorscale\":[[0.0,\"#0d0887\"],[0.1111111111111111,\"#46039f\"],[0.2222222222222222,\"#7201a8\"],[0.3333333333333333,\"#9c179e\"],[0.4444444444444444,\"#bd3786\"],[0.5555555555555556,\"#d8576b\"],[0.6666666666666666,\"#ed7953\"],[0.7777777777777778,\"#fb9f3a\"],[0.8888888888888888,\"#fdca26\"],[1.0,\"#f0f921\"]]}],\"mesh3d\":[{\"type\":\"mesh3d\",\"colorbar\":{\"outlinewidth\":0,\"ticks\":\"\"}}],\"scatter\":[{\"fillpattern\":{\"fillmode\":\"overlay\",\"size\":10,\"solidity\":0.2},\"type\":\"scatter\"}],\"parcoords\":[{\"type\":\"parcoords\",\"line\":{\"colorbar\":{\"outlinewidth\":0,\"ticks\":\"\"}}}],\"scatterpolargl\":[{\"type\":\"scatterpolargl\",\"marker\":{\"colorbar\":{\"outlinewidth\":0,\"ticks\":\"\"}}}],\"bar\":[{\"error_x\":{\"color\":\"#2a3f5f\"},\"error_y\":{\"color\":\"#2a3f5f\"},\"marker\":{\"line\":{\"color\":\"#E5ECF6\",\"width\":0.5},\"pattern\":{\"fillmode\":\"overlay\",\"size\":10,\"solidity\":0.2}},\"type\":\"bar\"}],\"scattergeo\":[{\"type\":\"scattergeo\",\"marker\":{\"colorbar\":{\"outlinewidth\":0,\"ticks\":\"\"}}}],\"scatterpolar\":[{\"type\":\"scatterpolar\",\"marker\":{\"colorbar\":{\"outlinewidth\":0,\"ticks\":\"\"}}}],\"histogram\":[{\"marker\":{\"pattern\":{\"fillmode\":\"overlay\",\"size\":10,\"solidity\":0.2}},\"type\":\"histogram\"}],\"scattergl\":[{\"type\":\"scattergl\",\"marker\":{\"colorbar\":{\"outlinewidth\":0,\"ticks\":\"\"}}}],\"scatter3d\":[{\"type\":\"scatter3d\",\"line\":{\"colorbar\":{\"outlinewidth\":0,\"ticks\":\"\"}},\"marker\":{\"colorbar\":{\"outlinewidth\":0,\"ticks\":\"\"}}}],\"scattermapbox\":[{\"type\":\"scattermapbox\",\"marker\":{\"colorbar\":{\"outlinewidth\":0,\"ticks\":\"\"}}}],\"scatterternary\":[{\"type\":\"scatterternary\",\"marker\":{\"colorbar\":{\"outlinewidth\":0,\"ticks\":\"\"}}}],\"scattercarpet\":[{\"type\":\"scattercarpet\",\"marker\":{\"colorbar\":{\"outlinewidth\":0,\"ticks\":\"\"}}}],\"carpet\":[{\"aaxis\":{\"endlinecolor\":\"#2a3f5f\",\"gridcolor\":\"white\",\"linecolor\":\"white\",\"minorgridcolor\":\"white\",\"startlinecolor\":\"#2a3f5f\"},\"baxis\":{\"endlinecolor\":\"#2a3f5f\",\"gridcolor\":\"white\",\"linecolor\":\"white\",\"minorgridcolor\":\"white\",\"startlinecolor\":\"#2a3f5f\"},\"type\":\"carpet\"}],\"table\":[{\"cells\":{\"fill\":{\"color\":\"#EBF0F8\"},\"line\":{\"color\":\"white\"}},\"header\":{\"fill\":{\"color\":\"#C8D4E3\"},\"line\":{\"color\":\"white\"}},\"type\":\"table\"}],\"barpolar\":[{\"marker\":{\"line\":{\"color\":\"#E5ECF6\",\"width\":0.5},\"pattern\":{\"fillmode\":\"overlay\",\"size\":10,\"solidity\":0.2}},\"type\":\"barpolar\"}],\"pie\":[{\"automargin\":true,\"type\":\"pie\"}]},\"layout\":{\"autotypenumbers\":\"strict\",\"colorway\":[\"#636efa\",\"#EF553B\",\"#00cc96\",\"#ab63fa\",\"#FFA15A\",\"#19d3f3\",\"#FF6692\",\"#B6E880\",\"#FF97FF\",\"#FECB52\"],\"font\":{\"color\":\"#2a3f5f\"},\"hovermode\":\"closest\",\"hoverlabel\":{\"align\":\"left\"},\"paper_bgcolor\":\"white\",\"plot_bgcolor\":\"#E5ECF6\",\"polar\":{\"bgcolor\":\"#E5ECF6\",\"angularaxis\":{\"gridcolor\":\"white\",\"linecolor\":\"white\",\"ticks\":\"\"},\"radialaxis\":{\"gridcolor\":\"white\",\"linecolor\":\"white\",\"ticks\":\"\"}},\"ternary\":{\"bgcolor\":\"#E5ECF6\",\"aaxis\":{\"gridcolor\":\"white\",\"linecolor\":\"white\",\"ticks\":\"\"},\"baxis\":{\"gridcolor\":\"white\",\"linecolor\":\"white\",\"ticks\":\"\"},\"caxis\":{\"gridcolor\":\"white\",\"linecolor\":\"white\",\"ticks\":\"\"}},\"coloraxis\":{\"colorbar\":{\"outlinewidth\":0,\"ticks\":\"\"}},\"colorscale\":{\"sequential\":[[0.0,\"#0d0887\"],[0.1111111111111111,\"#46039f\"],[0.2222222222222222,\"#7201a8\"],[0.3333333333333333,\"#9c179e\"],[0.4444444444444444,\"#bd3786\"],[0.5555555555555556,\"#d8576b\"],[0.6666666666666666,\"#ed7953\"],[0.7777777777777778,\"#fb9f3a\"],[0.8888888888888888,\"#fdca26\"],[1.0,\"#f0f921\"]],\"sequentialminus\":[[0.0,\"#0d0887\"],[0.1111111111111111,\"#46039f\"],[0.2222222222222222,\"#7201a8\"],[0.3333333333333333,\"#9c179e\"],[0.4444444444444444,\"#bd3786\"],[0.5555555555555556,\"#d8576b\"],[0.6666666666666666,\"#ed7953\"],[0.7777777777777778,\"#fb9f3a\"],[0.8888888888888888,\"#fdca26\"],[1.0,\"#f0f921\"]],\"diverging\":[[0,\"#8e0152\"],[0.1,\"#c51b7d\"],[0.2,\"#de77ae\"],[0.3,\"#f1b6da\"],[0.4,\"#fde0ef\"],[0.5,\"#f7f7f7\"],[0.6,\"#e6f5d0\"],[0.7,\"#b8e186\"],[0.8,\"#7fbc41\"],[0.9,\"#4d9221\"],[1,\"#276419\"]]},\"xaxis\":{\"gridcolor\":\"white\",\"linecolor\":\"white\",\"ticks\":\"\",\"title\":{\"standoff\":15},\"zerolinecolor\":\"white\",\"automargin\":true,\"zerolinewidth\":2},\"yaxis\":{\"gridcolor\":\"white\",\"linecolor\":\"white\",\"ticks\":\"\",\"title\":{\"standoff\":15},\"zerolinecolor\":\"white\",\"automargin\":true,\"zerolinewidth\":2},\"scene\":{\"xaxis\":{\"backgroundcolor\":\"#E5ECF6\",\"gridcolor\":\"white\",\"linecolor\":\"white\",\"showbackground\":true,\"ticks\":\"\",\"zerolinecolor\":\"white\",\"gridwidth\":2},\"yaxis\":{\"backgroundcolor\":\"#E5ECF6\",\"gridcolor\":\"white\",\"linecolor\":\"white\",\"showbackground\":true,\"ticks\":\"\",\"zerolinecolor\":\"white\",\"gridwidth\":2},\"zaxis\":{\"backgroundcolor\":\"#E5ECF6\",\"gridcolor\":\"white\",\"linecolor\":\"white\",\"showbackground\":true,\"ticks\":\"\",\"zerolinecolor\":\"white\",\"gridwidth\":2}},\"shapedefaults\":{\"line\":{\"color\":\"#2a3f5f\"}},\"annotationdefaults\":{\"arrowcolor\":\"#2a3f5f\",\"arrowhead\":0,\"arrowwidth\":1},\"geo\":{\"bgcolor\":\"white\",\"landcolor\":\"#E5ECF6\",\"subunitcolor\":\"white\",\"showland\":true,\"showlakes\":true,\"lakecolor\":\"white\"},\"title\":{\"x\":0.05},\"mapbox\":{\"style\":\"light\"}}},\"xaxis\":{\"anchor\":\"y\",\"domain\":[0.0,1.0],\"title\":{\"text\":\"Aroma\"}},\"yaxis\":{\"anchor\":\"x\",\"domain\":[0.0,1.0],\"title\":{\"text\":\"count\"}},\"legend\":{\"tracegroupgap\":0},\"margin\":{\"t\":60},\"barmode\":\"relative\",\"width\":600,\"height\":600},                        {\"responsive\": true}                    ).then(function(){\n",
       "                            \n",
       "var gd = document.getElementById('35518a99-40ec-490a-af7a-fea59849cfdf');\n",
       "var x = new MutationObserver(function (mutations, observer) {{\n",
       "        var display = window.getComputedStyle(gd).display;\n",
       "        if (!display || display === 'none') {{\n",
       "            console.log([gd, 'removed!']);\n",
       "            Plotly.purge(gd);\n",
       "            observer.disconnect();\n",
       "        }}\n",
       "}});\n",
       "\n",
       "// Listen for the removal of the full notebook cells\n",
       "var notebookContainer = gd.closest('#notebook-container');\n",
       "if (notebookContainer) {{\n",
       "    x.observe(notebookContainer, {childList: true});\n",
       "}}\n",
       "\n",
       "// Listen for the clearing of the current output cell\n",
       "var outputEl = gd.closest('.output');\n",
       "if (outputEl) {{\n",
       "    x.observe(outputEl, {childList: true});\n",
       "}}\n",
       "\n",
       "                        })                };                });            </script>        </div>"
      ]
     },
     "metadata": {},
     "output_type": "display_data"
    }
   ],
   "source": [
    "def count_aroma(df=df):\n",
    "    fig = px.histogram(df, x='Aroma', text_auto=True)\n",
    "    fig.update_layout(width=600, height=600).show()\n",
    "count_aroma()"
   ]
  },
  {
   "cell_type": "code",
   "execution_count": 13,
   "metadata": {
    "collapsed": false
   },
   "outputs": [
    {
     "data": {
      "application/vnd.plotly.v1+json": {
       "config": {
        "plotlyServerURL": "https://plot.ly"
       },
       "data": [
        {
         "alignmentgroup": "True",
         "bingroup": "x",
         "histfunc": "sum",
         "hovertemplate": "Vino type=%{x}<br>sum of y=%{y}<extra></extra>",
         "legendgroup": "",
         "marker": {
          "color": "#636efa",
          "pattern": {
           "shape": ""
          }
         },
         "name": "",
         "offsetgroup": "",
         "orientation": "v",
         "showlegend": false,
         "texttemplate": "%{value}",
         "type": "histogram",
         "x": [
          "Sparkling",
          "Fortified",
          "Straw wine",
          "Red",
          "White",
          "Rosé"
         ],
         "xaxis": "x",
         "y": [
          62,
          61,
          46,
          34,
          21,
          14
         ],
         "yaxis": "y"
        }
       ],
       "layout": {
        "barmode": "relative",
        "height": 600,
        "legend": {
         "tracegroupgap": 0
        },
        "margin": {
         "t": 60
        },
        "template": {
         "data": {
          "bar": [
           {
            "error_x": {
             "color": "#2a3f5f"
            },
            "error_y": {
             "color": "#2a3f5f"
            },
            "marker": {
             "line": {
              "color": "#E5ECF6",
              "width": 0.5
             },
             "pattern": {
              "fillmode": "overlay",
              "size": 10,
              "solidity": 0.2
             }
            },
            "type": "bar"
           }
          ],
          "barpolar": [
           {
            "marker": {
             "line": {
              "color": "#E5ECF6",
              "width": 0.5
             },
             "pattern": {
              "fillmode": "overlay",
              "size": 10,
              "solidity": 0.2
             }
            },
            "type": "barpolar"
           }
          ],
          "carpet": [
           {
            "aaxis": {
             "endlinecolor": "#2a3f5f",
             "gridcolor": "white",
             "linecolor": "white",
             "minorgridcolor": "white",
             "startlinecolor": "#2a3f5f"
            },
            "baxis": {
             "endlinecolor": "#2a3f5f",
             "gridcolor": "white",
             "linecolor": "white",
             "minorgridcolor": "white",
             "startlinecolor": "#2a3f5f"
            },
            "type": "carpet"
           }
          ],
          "choropleth": [
           {
            "colorbar": {
             "outlinewidth": 0,
             "ticks": ""
            },
            "type": "choropleth"
           }
          ],
          "contour": [
           {
            "colorbar": {
             "outlinewidth": 0,
             "ticks": ""
            },
            "colorscale": [
             [
              0,
              "#0d0887"
             ],
             [
              0.1111111111111111,
              "#46039f"
             ],
             [
              0.2222222222222222,
              "#7201a8"
             ],
             [
              0.3333333333333333,
              "#9c179e"
             ],
             [
              0.4444444444444444,
              "#bd3786"
             ],
             [
              0.5555555555555556,
              "#d8576b"
             ],
             [
              0.6666666666666666,
              "#ed7953"
             ],
             [
              0.7777777777777778,
              "#fb9f3a"
             ],
             [
              0.8888888888888888,
              "#fdca26"
             ],
             [
              1,
              "#f0f921"
             ]
            ],
            "type": "contour"
           }
          ],
          "contourcarpet": [
           {
            "colorbar": {
             "outlinewidth": 0,
             "ticks": ""
            },
            "type": "contourcarpet"
           }
          ],
          "heatmap": [
           {
            "colorbar": {
             "outlinewidth": 0,
             "ticks": ""
            },
            "colorscale": [
             [
              0,
              "#0d0887"
             ],
             [
              0.1111111111111111,
              "#46039f"
             ],
             [
              0.2222222222222222,
              "#7201a8"
             ],
             [
              0.3333333333333333,
              "#9c179e"
             ],
             [
              0.4444444444444444,
              "#bd3786"
             ],
             [
              0.5555555555555556,
              "#d8576b"
             ],
             [
              0.6666666666666666,
              "#ed7953"
             ],
             [
              0.7777777777777778,
              "#fb9f3a"
             ],
             [
              0.8888888888888888,
              "#fdca26"
             ],
             [
              1,
              "#f0f921"
             ]
            ],
            "type": "heatmap"
           }
          ],
          "heatmapgl": [
           {
            "colorbar": {
             "outlinewidth": 0,
             "ticks": ""
            },
            "colorscale": [
             [
              0,
              "#0d0887"
             ],
             [
              0.1111111111111111,
              "#46039f"
             ],
             [
              0.2222222222222222,
              "#7201a8"
             ],
             [
              0.3333333333333333,
              "#9c179e"
             ],
             [
              0.4444444444444444,
              "#bd3786"
             ],
             [
              0.5555555555555556,
              "#d8576b"
             ],
             [
              0.6666666666666666,
              "#ed7953"
             ],
             [
              0.7777777777777778,
              "#fb9f3a"
             ],
             [
              0.8888888888888888,
              "#fdca26"
             ],
             [
              1,
              "#f0f921"
             ]
            ],
            "type": "heatmapgl"
           }
          ],
          "histogram": [
           {
            "marker": {
             "pattern": {
              "fillmode": "overlay",
              "size": 10,
              "solidity": 0.2
             }
            },
            "type": "histogram"
           }
          ],
          "histogram2d": [
           {
            "colorbar": {
             "outlinewidth": 0,
             "ticks": ""
            },
            "colorscale": [
             [
              0,
              "#0d0887"
             ],
             [
              0.1111111111111111,
              "#46039f"
             ],
             [
              0.2222222222222222,
              "#7201a8"
             ],
             [
              0.3333333333333333,
              "#9c179e"
             ],
             [
              0.4444444444444444,
              "#bd3786"
             ],
             [
              0.5555555555555556,
              "#d8576b"
             ],
             [
              0.6666666666666666,
              "#ed7953"
             ],
             [
              0.7777777777777778,
              "#fb9f3a"
             ],
             [
              0.8888888888888888,
              "#fdca26"
             ],
             [
              1,
              "#f0f921"
             ]
            ],
            "type": "histogram2d"
           }
          ],
          "histogram2dcontour": [
           {
            "colorbar": {
             "outlinewidth": 0,
             "ticks": ""
            },
            "colorscale": [
             [
              0,
              "#0d0887"
             ],
             [
              0.1111111111111111,
              "#46039f"
             ],
             [
              0.2222222222222222,
              "#7201a8"
             ],
             [
              0.3333333333333333,
              "#9c179e"
             ],
             [
              0.4444444444444444,
              "#bd3786"
             ],
             [
              0.5555555555555556,
              "#d8576b"
             ],
             [
              0.6666666666666666,
              "#ed7953"
             ],
             [
              0.7777777777777778,
              "#fb9f3a"
             ],
             [
              0.8888888888888888,
              "#fdca26"
             ],
             [
              1,
              "#f0f921"
             ]
            ],
            "type": "histogram2dcontour"
           }
          ],
          "mesh3d": [
           {
            "colorbar": {
             "outlinewidth": 0,
             "ticks": ""
            },
            "type": "mesh3d"
           }
          ],
          "parcoords": [
           {
            "line": {
             "colorbar": {
              "outlinewidth": 0,
              "ticks": ""
             }
            },
            "type": "parcoords"
           }
          ],
          "pie": [
           {
            "automargin": true,
            "type": "pie"
           }
          ],
          "scatter": [
           {
            "fillpattern": {
             "fillmode": "overlay",
             "size": 10,
             "solidity": 0.2
            },
            "type": "scatter"
           }
          ],
          "scatter3d": [
           {
            "line": {
             "colorbar": {
              "outlinewidth": 0,
              "ticks": ""
             }
            },
            "marker": {
             "colorbar": {
              "outlinewidth": 0,
              "ticks": ""
             }
            },
            "type": "scatter3d"
           }
          ],
          "scattercarpet": [
           {
            "marker": {
             "colorbar": {
              "outlinewidth": 0,
              "ticks": ""
             }
            },
            "type": "scattercarpet"
           }
          ],
          "scattergeo": [
           {
            "marker": {
             "colorbar": {
              "outlinewidth": 0,
              "ticks": ""
             }
            },
            "type": "scattergeo"
           }
          ],
          "scattergl": [
           {
            "marker": {
             "colorbar": {
              "outlinewidth": 0,
              "ticks": ""
             }
            },
            "type": "scattergl"
           }
          ],
          "scattermapbox": [
           {
            "marker": {
             "colorbar": {
              "outlinewidth": 0,
              "ticks": ""
             }
            },
            "type": "scattermapbox"
           }
          ],
          "scatterpolar": [
           {
            "marker": {
             "colorbar": {
              "outlinewidth": 0,
              "ticks": ""
             }
            },
            "type": "scatterpolar"
           }
          ],
          "scatterpolargl": [
           {
            "marker": {
             "colorbar": {
              "outlinewidth": 0,
              "ticks": ""
             }
            },
            "type": "scatterpolargl"
           }
          ],
          "scatterternary": [
           {
            "marker": {
             "colorbar": {
              "outlinewidth": 0,
              "ticks": ""
             }
            },
            "type": "scatterternary"
           }
          ],
          "surface": [
           {
            "colorbar": {
             "outlinewidth": 0,
             "ticks": ""
            },
            "colorscale": [
             [
              0,
              "#0d0887"
             ],
             [
              0.1111111111111111,
              "#46039f"
             ],
             [
              0.2222222222222222,
              "#7201a8"
             ],
             [
              0.3333333333333333,
              "#9c179e"
             ],
             [
              0.4444444444444444,
              "#bd3786"
             ],
             [
              0.5555555555555556,
              "#d8576b"
             ],
             [
              0.6666666666666666,
              "#ed7953"
             ],
             [
              0.7777777777777778,
              "#fb9f3a"
             ],
             [
              0.8888888888888888,
              "#fdca26"
             ],
             [
              1,
              "#f0f921"
             ]
            ],
            "type": "surface"
           }
          ],
          "table": [
           {
            "cells": {
             "fill": {
              "color": "#EBF0F8"
             },
             "line": {
              "color": "white"
             }
            },
            "header": {
             "fill": {
              "color": "#C8D4E3"
             },
             "line": {
              "color": "white"
             }
            },
            "type": "table"
           }
          ]
         },
         "layout": {
          "annotationdefaults": {
           "arrowcolor": "#2a3f5f",
           "arrowhead": 0,
           "arrowwidth": 1
          },
          "autotypenumbers": "strict",
          "coloraxis": {
           "colorbar": {
            "outlinewidth": 0,
            "ticks": ""
           }
          },
          "colorscale": {
           "diverging": [
            [
             0,
             "#8e0152"
            ],
            [
             0.1,
             "#c51b7d"
            ],
            [
             0.2,
             "#de77ae"
            ],
            [
             0.3,
             "#f1b6da"
            ],
            [
             0.4,
             "#fde0ef"
            ],
            [
             0.5,
             "#f7f7f7"
            ],
            [
             0.6,
             "#e6f5d0"
            ],
            [
             0.7,
             "#b8e186"
            ],
            [
             0.8,
             "#7fbc41"
            ],
            [
             0.9,
             "#4d9221"
            ],
            [
             1,
             "#276419"
            ]
           ],
           "sequential": [
            [
             0,
             "#0d0887"
            ],
            [
             0.1111111111111111,
             "#46039f"
            ],
            [
             0.2222222222222222,
             "#7201a8"
            ],
            [
             0.3333333333333333,
             "#9c179e"
            ],
            [
             0.4444444444444444,
             "#bd3786"
            ],
            [
             0.5555555555555556,
             "#d8576b"
            ],
            [
             0.6666666666666666,
             "#ed7953"
            ],
            [
             0.7777777777777778,
             "#fb9f3a"
            ],
            [
             0.8888888888888888,
             "#fdca26"
            ],
            [
             1,
             "#f0f921"
            ]
           ],
           "sequentialminus": [
            [
             0,
             "#0d0887"
            ],
            [
             0.1111111111111111,
             "#46039f"
            ],
            [
             0.2222222222222222,
             "#7201a8"
            ],
            [
             0.3333333333333333,
             "#9c179e"
            ],
            [
             0.4444444444444444,
             "#bd3786"
            ],
            [
             0.5555555555555556,
             "#d8576b"
            ],
            [
             0.6666666666666666,
             "#ed7953"
            ],
            [
             0.7777777777777778,
             "#fb9f3a"
            ],
            [
             0.8888888888888888,
             "#fdca26"
            ],
            [
             1,
             "#f0f921"
            ]
           ]
          },
          "colorway": [
           "#636efa",
           "#EF553B",
           "#00cc96",
           "#ab63fa",
           "#FFA15A",
           "#19d3f3",
           "#FF6692",
           "#B6E880",
           "#FF97FF",
           "#FECB52"
          ],
          "font": {
           "color": "#2a3f5f"
          },
          "geo": {
           "bgcolor": "white",
           "lakecolor": "white",
           "landcolor": "#E5ECF6",
           "showlakes": true,
           "showland": true,
           "subunitcolor": "white"
          },
          "hoverlabel": {
           "align": "left"
          },
          "hovermode": "closest",
          "mapbox": {
           "style": "light"
          },
          "paper_bgcolor": "white",
          "plot_bgcolor": "#E5ECF6",
          "polar": {
           "angularaxis": {
            "gridcolor": "white",
            "linecolor": "white",
            "ticks": ""
           },
           "bgcolor": "#E5ECF6",
           "radialaxis": {
            "gridcolor": "white",
            "linecolor": "white",
            "ticks": ""
           }
          },
          "scene": {
           "xaxis": {
            "backgroundcolor": "#E5ECF6",
            "gridcolor": "white",
            "gridwidth": 2,
            "linecolor": "white",
            "showbackground": true,
            "ticks": "",
            "zerolinecolor": "white"
           },
           "yaxis": {
            "backgroundcolor": "#E5ECF6",
            "gridcolor": "white",
            "gridwidth": 2,
            "linecolor": "white",
            "showbackground": true,
            "ticks": "",
            "zerolinecolor": "white"
           },
           "zaxis": {
            "backgroundcolor": "#E5ECF6",
            "gridcolor": "white",
            "gridwidth": 2,
            "linecolor": "white",
            "showbackground": true,
            "ticks": "",
            "zerolinecolor": "white"
           }
          },
          "shapedefaults": {
           "line": {
            "color": "#2a3f5f"
           }
          },
          "ternary": {
           "aaxis": {
            "gridcolor": "white",
            "linecolor": "white",
            "ticks": ""
           },
           "baxis": {
            "gridcolor": "white",
            "linecolor": "white",
            "ticks": ""
           },
           "bgcolor": "#E5ECF6",
           "caxis": {
            "gridcolor": "white",
            "linecolor": "white",
            "ticks": ""
           }
          },
          "title": {
           "x": 0.05
          },
          "xaxis": {
           "automargin": true,
           "gridcolor": "white",
           "linecolor": "white",
           "ticks": "",
           "title": {
            "standoff": 15
           },
           "zerolinecolor": "white",
           "zerolinewidth": 2
          },
          "yaxis": {
           "automargin": true,
           "gridcolor": "white",
           "linecolor": "white",
           "ticks": "",
           "title": {
            "standoff": 15
           },
           "zerolinecolor": "white",
           "zerolinewidth": 2
          }
         }
        },
        "width": 600,
        "xaxis": {
         "anchor": "y",
         "autorange": true,
         "domain": [
          0,
          1
         ],
         "range": [
          -0.5,
          5.5
         ],
         "title": {
          "text": "Vino type"
         },
         "type": "category"
        },
        "yaxis": {
         "anchor": "x",
         "autorange": true,
         "domain": [
          0,
          1
         ],
         "range": [
          0,
          65.26315789473684
         ],
         "title": {
          "text": "sum of y"
         },
         "type": "linear"
        }
       }
      },
      "image/png": "[encoded data removed]",
      "text/html": [
       "<div>                            <div id=\"a1ef7f16-122c-4ac4-808b-91dba317a076\" class=\"plotly-graph-div\" style=\"height:600px; width:600px;\"></div>            <script type=\"text/javascript\">                require([\"plotly\"], function(Plotly) {                    window.PLOTLYENV=window.PLOTLYENV || {};                                    if (document.getElementById(\"a1ef7f16-122c-4ac4-808b-91dba317a076\")) {                    Plotly.newPlot(                        \"a1ef7f16-122c-4ac4-808b-91dba317a076\",                        [{\"alignmentgroup\":\"True\",\"bingroup\":\"x\",\"histfunc\":\"sum\",\"hovertemplate\":\"Vino type=%{x}\\u003cbr\\u003esum of y=%{y}\\u003cextra\\u003e\\u003c\\u002fextra\\u003e\",\"legendgroup\":\"\",\"marker\":{\"color\":\"#636efa\",\"pattern\":{\"shape\":\"\"}},\"name\":\"\",\"offsetgroup\":\"\",\"orientation\":\"v\",\"showlegend\":false,\"texttemplate\":\"%{value}\",\"x\":[\"Sparkling\",\"Fortified\",\"Straw wine\",\"Red\",\"White\",\"Ros\\u00e9\"],\"xaxis\":\"x\",\"y\":[62.0,61.0,46.0,34.0,21.0,14.0],\"yaxis\":\"y\",\"type\":\"histogram\"}],                        {\"template\":{\"data\":{\"histogram2dcontour\":[{\"type\":\"histogram2dcontour\",\"colorbar\":{\"outlinewidth\":0,\"ticks\":\"\"},\"colorscale\":[[0.0,\"#0d0887\"],[0.1111111111111111,\"#46039f\"],[0.2222222222222222,\"#7201a8\"],[0.3333333333333333,\"#9c179e\"],[0.4444444444444444,\"#bd3786\"],[0.5555555555555556,\"#d8576b\"],[0.6666666666666666,\"#ed7953\"],[0.7777777777777778,\"#fb9f3a\"],[0.8888888888888888,\"#fdca26\"],[1.0,\"#f0f921\"]]}],\"choropleth\":[{\"type\":\"choropleth\",\"colorbar\":{\"outlinewidth\":0,\"ticks\":\"\"}}],\"histogram2d\":[{\"type\":\"histogram2d\",\"colorbar\":{\"outlinewidth\":0,\"ticks\":\"\"},\"colorscale\":[[0.0,\"#0d0887\"],[0.1111111111111111,\"#46039f\"],[0.2222222222222222,\"#7201a8\"],[0.3333333333333333,\"#9c179e\"],[0.4444444444444444,\"#bd3786\"],[0.5555555555555556,\"#d8576b\"],[0.6666666666666666,\"#ed7953\"],[0.7777777777777778,\"#fb9f3a\"],[0.8888888888888888,\"#fdca26\"],[1.0,\"#f0f921\"]]}],\"heatmap\":[{\"type\":\"heatmap\",\"colorbar\":{\"outlinewidth\":0,\"ticks\":\"\"},\"colorscale\":[[0.0,\"#0d0887\"],[0.1111111111111111,\"#46039f\"],[0.2222222222222222,\"#7201a8\"],[0.3333333333333333,\"#9c179e\"],[0.4444444444444444,\"#bd3786\"],[0.5555555555555556,\"#d8576b\"],[0.6666666666666666,\"#ed7953\"],[0.7777777777777778,\"#fb9f3a\"],[0.8888888888888888,\"#fdca26\"],[1.0,\"#f0f921\"]]}],\"heatmapgl\":[{\"type\":\"heatmapgl\",\"colorbar\":{\"outlinewidth\":0,\"ticks\":\"\"},\"colorscale\":[[0.0,\"#0d0887\"],[0.1111111111111111,\"#46039f\"],[0.2222222222222222,\"#7201a8\"],[0.3333333333333333,\"#9c179e\"],[0.4444444444444444,\"#bd3786\"],[0.5555555555555556,\"#d8576b\"],[0.6666666666666666,\"#ed7953\"],[0.7777777777777778,\"#fb9f3a\"],[0.8888888888888888,\"#fdca26\"],[1.0,\"#f0f921\"]]}],\"contourcarpet\":[{\"type\":\"contourcarpet\",\"colorbar\":{\"outlinewidth\":0,\"ticks\":\"\"}}],\"contour\":[{\"type\":\"contour\",\"colorbar\":{\"outlinewidth\":0,\"ticks\":\"\"},\"colorscale\":[[0.0,\"#0d0887\"],[0.1111111111111111,\"#46039f\"],[0.2222222222222222,\"#7201a8\"],[0.3333333333333333,\"#9c179e\"],[0.4444444444444444,\"#bd3786\"],[0.5555555555555556,\"#d8576b\"],[0.6666666666666666,\"#ed7953\"],[0.7777777777777778,\"#fb9f3a\"],[0.8888888888888888,\"#fdca26\"],[1.0,\"#f0f921\"]]}],\"surface\":[{\"type\":\"surface\",\"colorbar\":{\"outlinewidth\":0,\"ticks\":\"\"},\"colorscale\":[[0.0,\"#0d0887\"],[0.1111111111111111,\"#46039f\"],[0.2222222222222222,\"#7201a8\"],[0.3333333333333333,\"#9c179e\"],[0.4444444444444444,\"#bd3786\"],[0.5555555555555556,\"#d8576b\"],[0.6666666666666666,\"#ed7953\"],[0.7777777777777778,\"#fb9f3a\"],[0.8888888888888888,\"#fdca26\"],[1.0,\"#f0f921\"]]}],\"mesh3d\":[{\"type\":\"mesh3d\",\"colorbar\":{\"outlinewidth\":0,\"ticks\":\"\"}}],\"scatter\":[{\"fillpattern\":{\"fillmode\":\"overlay\",\"size\":10,\"solidity\":0.2},\"type\":\"scatter\"}],\"parcoords\":[{\"type\":\"parcoords\",\"line\":{\"colorbar\":{\"outlinewidth\":0,\"ticks\":\"\"}}}],\"scatterpolargl\":[{\"type\":\"scatterpolargl\",\"marker\":{\"colorbar\":{\"outlinewidth\":0,\"ticks\":\"\"}}}],\"bar\":[{\"error_x\":{\"color\":\"#2a3f5f\"},\"error_y\":{\"color\":\"#2a3f5f\"},\"marker\":{\"line\":{\"color\":\"#E5ECF6\",\"width\":0.5},\"pattern\":{\"fillmode\":\"overlay\",\"size\":10,\"solidity\":0.2}},\"type\":\"bar\"}],\"scattergeo\":[{\"type\":\"scattergeo\",\"marker\":{\"colorbar\":{\"outlinewidth\":0,\"ticks\":\"\"}}}],\"scatterpolar\":[{\"type\":\"scatterpolar\",\"marker\":{\"colorbar\":{\"outlinewidth\":0,\"ticks\":\"\"}}}],\"histogram\":[{\"marker\":{\"pattern\":{\"fillmode\":\"overlay\",\"size\":10,\"solidity\":0.2}},\"type\":\"histogram\"}],\"scattergl\":[{\"type\":\"scattergl\",\"marker\":{\"colorbar\":{\"outlinewidth\":0,\"ticks\":\"\"}}}],\"scatter3d\":[{\"type\":\"scatter3d\",\"line\":{\"colorbar\":{\"outlinewidth\":0,\"ticks\":\"\"}},\"marker\":{\"colorbar\":{\"outlinewidth\":0,\"ticks\":\"\"}}}],\"scattermapbox\":[{\"type\":\"scattermapbox\",\"marker\":{\"colorbar\":{\"outlinewidth\":0,\"ticks\":\"\"}}}],\"scatterternary\":[{\"type\":\"scatterternary\",\"marker\":{\"colorbar\":{\"outlinewidth\":0,\"ticks\":\"\"}}}],\"scattercarpet\":[{\"type\":\"scattercarpet\",\"marker\":{\"colorbar\":{\"outlinewidth\":0,\"ticks\":\"\"}}}],\"carpet\":[{\"aaxis\":{\"endlinecolor\":\"#2a3f5f\",\"gridcolor\":\"white\",\"linecolor\":\"white\",\"minorgridcolor\":\"white\",\"startlinecolor\":\"#2a3f5f\"},\"baxis\":{\"endlinecolor\":\"#2a3f5f\",\"gridcolor\":\"white\",\"linecolor\":\"white\",\"minorgridcolor\":\"white\",\"startlinecolor\":\"#2a3f5f\"},\"type\":\"carpet\"}],\"table\":[{\"cells\":{\"fill\":{\"color\":\"#EBF0F8\"},\"line\":{\"color\":\"white\"}},\"header\":{\"fill\":{\"color\":\"#C8D4E3\"},\"line\":{\"color\":\"white\"}},\"type\":\"table\"}],\"barpolar\":[{\"marker\":{\"line\":{\"color\":\"#E5ECF6\",\"width\":0.5},\"pattern\":{\"fillmode\":\"overlay\",\"size\":10,\"solidity\":0.2}},\"type\":\"barpolar\"}],\"pie\":[{\"automargin\":true,\"type\":\"pie\"}]},\"layout\":{\"autotypenumbers\":\"strict\",\"colorway\":[\"#636efa\",\"#EF553B\",\"#00cc96\",\"#ab63fa\",\"#FFA15A\",\"#19d3f3\",\"#FF6692\",\"#B6E880\",\"#FF97FF\",\"#FECB52\"],\"font\":{\"color\":\"#2a3f5f\"},\"hovermode\":\"closest\",\"hoverlabel\":{\"align\":\"left\"},\"paper_bgcolor\":\"white\",\"plot_bgcolor\":\"#E5ECF6\",\"polar\":{\"bgcolor\":\"#E5ECF6\",\"angularaxis\":{\"gridcolor\":\"white\",\"linecolor\":\"white\",\"ticks\":\"\"},\"radialaxis\":{\"gridcolor\":\"white\",\"linecolor\":\"white\",\"ticks\":\"\"}},\"ternary\":{\"bgcolor\":\"#E5ECF6\",\"aaxis\":{\"gridcolor\":\"white\",\"linecolor\":\"white\",\"ticks\":\"\"},\"baxis\":{\"gridcolor\":\"white\",\"linecolor\":\"white\",\"ticks\":\"\"},\"caxis\":{\"gridcolor\":\"white\",\"linecolor\":\"white\",\"ticks\":\"\"}},\"coloraxis\":{\"colorbar\":{\"outlinewidth\":0,\"ticks\":\"\"}},\"colorscale\":{\"sequential\":[[0.0,\"#0d0887\"],[0.1111111111111111,\"#46039f\"],[0.2222222222222222,\"#7201a8\"],[0.3333333333333333,\"#9c179e\"],[0.4444444444444444,\"#bd3786\"],[0.5555555555555556,\"#d8576b\"],[0.6666666666666666,\"#ed7953\"],[0.7777777777777778,\"#fb9f3a\"],[0.8888888888888888,\"#fdca26\"],[1.0,\"#f0f921\"]],\"sequentialminus\":[[0.0,\"#0d0887\"],[0.1111111111111111,\"#46039f\"],[0.2222222222222222,\"#7201a8\"],[0.3333333333333333,\"#9c179e\"],[0.4444444444444444,\"#bd3786\"],[0.5555555555555556,\"#d8576b\"],[0.6666666666666666,\"#ed7953\"],[0.7777777777777778,\"#fb9f3a\"],[0.8888888888888888,\"#fdca26\"],[1.0,\"#f0f921\"]],\"diverging\":[[0,\"#8e0152\"],[0.1,\"#c51b7d\"],[0.2,\"#de77ae\"],[0.3,\"#f1b6da\"],[0.4,\"#fde0ef\"],[0.5,\"#f7f7f7\"],[0.6,\"#e6f5d0\"],[0.7,\"#b8e186\"],[0.8,\"#7fbc41\"],[0.9,\"#4d9221\"],[1,\"#276419\"]]},\"xaxis\":{\"gridcolor\":\"white\",\"linecolor\":\"white\",\"ticks\":\"\",\"title\":{\"standoff\":15},\"zerolinecolor\":\"white\",\"automargin\":true,\"zerolinewidth\":2},\"yaxis\":{\"gridcolor\":\"white\",\"linecolor\":\"white\",\"ticks\":\"\",\"title\":{\"standoff\":15},\"zerolinecolor\":\"white\",\"automargin\":true,\"zerolinewidth\":2},\"scene\":{\"xaxis\":{\"backgroundcolor\":\"#E5ECF6\",\"gridcolor\":\"white\",\"linecolor\":\"white\",\"showbackground\":true,\"ticks\":\"\",\"zerolinecolor\":\"white\",\"gridwidth\":2},\"yaxis\":{\"backgroundcolor\":\"#E5ECF6\",\"gridcolor\":\"white\",\"linecolor\":\"white\",\"showbackground\":true,\"ticks\":\"\",\"zerolinecolor\":\"white\",\"gridwidth\":2},\"zaxis\":{\"backgroundcolor\":\"#E5ECF6\",\"gridcolor\":\"white\",\"linecolor\":\"white\",\"showbackground\":true,\"ticks\":\"\",\"zerolinecolor\":\"white\",\"gridwidth\":2}},\"shapedefaults\":{\"line\":{\"color\":\"#2a3f5f\"}},\"annotationdefaults\":{\"arrowcolor\":\"#2a3f5f\",\"arrowhead\":0,\"arrowwidth\":1},\"geo\":{\"bgcolor\":\"white\",\"landcolor\":\"#E5ECF6\",\"subunitcolor\":\"white\",\"showland\":true,\"showlakes\":true,\"lakecolor\":\"white\"},\"title\":{\"x\":0.05},\"mapbox\":{\"style\":\"light\"}}},\"xaxis\":{\"anchor\":\"y\",\"domain\":[0.0,1.0],\"title\":{\"text\":\"Vino type\"}},\"yaxis\":{\"anchor\":\"x\",\"domain\":[0.0,1.0],\"title\":{\"text\":\"sum of y\"}},\"legend\":{\"tracegroupgap\":0},\"margin\":{\"t\":60},\"barmode\":\"relative\",\"width\":600,\"height\":600},                        {\"responsive\": true}                    ).then(function(){\n",
       "                            \n",
       "var gd = document.getElementById('a1ef7f16-122c-4ac4-808b-91dba317a076');\n",
       "var x = new MutationObserver(function (mutations, observer) {{\n",
       "        var display = window.getComputedStyle(gd).display;\n",
       "        if (!display || display === 'none') {{\n",
       "            console.log([gd, 'removed!']);\n",
       "            Plotly.purge(gd);\n",
       "            observer.disconnect();\n",
       "        }}\n",
       "}});\n",
       "\n",
       "// Listen for the removal of the full notebook cells\n",
       "var notebookContainer = gd.closest('#notebook-container');\n",
       "if (notebookContainer) {{\n",
       "    x.observe(notebookContainer, {childList: true});\n",
       "}}\n",
       "\n",
       "// Listen for the clearing of the current output cell\n",
       "var outputEl = gd.closest('.output');\n",
       "if (outputEl) {{\n",
       "    x.observe(outputEl, {childList: true});\n",
       "}}\n",
       "\n",
       "                        })                };                });            </script>        </div>"
      ]
     },
     "metadata": {},
     "output_type": "display_data"
    }
   ],
   "source": [
    "def exp_wine_type(df=df):\n",
    "    df2 = df.groupby('Vino type')['Price'].mean().sort_values(ascending=False)\n",
    "    fig = px.histogram(df2, x=df2.index, y=df2.values.round(), text_auto=True)\n",
    "    fig.update_layout(width=600, height=600).show()\n",
    "exp_wine_type()"
   ]
  },
  {
   "cell_type": "markdown",
   "metadata": {
    "collapsed": false
   },
   "source": [
    "# Preprossesing"
   ]
  },
  {
   "cell_type": "code",
   "execution_count": 6,
   "metadata": {
    "collapsed": false,
    "ExecuteTime": {
     "end_time": "2024-03-01T12:19:55.288613Z",
     "start_time": "2024-03-01T12:19:55.281373Z"
    }
   },
   "outputs": [],
   "source": [
    "df['All_futures'] = df['Ideal with'] + ' ' + df['Aroma'] + ' ' + df['Country'] + ' ' + df['Grape'] + ' ' + df['Vino type']\n",
    "df['All_futures'] = df['All_futures'].str.lower()"
   ]
  },
  {
   "cell_type": "code",
   "execution_count": 7,
   "metadata": {
    "collapsed": false,
    "ExecuteTime": {
     "end_time": "2024-03-01T12:19:55.797505Z",
     "start_time": "2024-03-01T12:19:55.782341Z"
    }
   },
   "outputs": [
    {
     "data": {
      "text/plain": "                                             Vino photo  Price  Vino type  \\\n0     https://resources.vino.com/data/offertaFileFil...   35.6        Red   \n1     https://resources.vino.com/data/offertaFileFil...   17.0        Red   \n2     https://resources.vino.com/data/offertaFileFil...   30.8        Red   \n3     https://resources.vino.com/data/offertaFileFil...   13.5        Red   \n4     https://resources.vino.com/data/offertaFileFil...    7.9        Red   \n...                                                 ...    ...        ...   \n2491  https://resources.vino.com/data/offertaFileFil...   28.5        Red   \n2492  https://resources.vino.com/data/offertaFileFil...   30.9  Sparkling   \n2493  https://resources.vino.com/data/offertaFileFil...   24.3      White   \n2494  https://resources.vino.com/data/offertaFileFil...   11.3      White   \n2495  https://resources.vino.com/data/offertaFileFil...   20.4  Sparkling   \n\n                                             Ideal with   Aroma  \\\n0                          Aged cheeses. Red meat. Game  Fruity   \n1                    Roasts. Grilled red meat. Red meat  Fruity   \n2                  Game. Roasts. Red meat. Aged cheeses  Fruity   \n3                          Red meat. Aged cheeses. Game  Fruity   \n4                       Red meat. Roasts. First courses  Fruity   \n...                                                 ...     ...   \n2491         Mushrooms. Game birds. Aged cheeses. Stews   Spicy   \n2492                           Aperitifs. Fish. Risotto  Floral   \n2493                       Soups. Aperitifs. Vegetables  Fruity   \n2494  Aperitifs. Raw fish. Cold cuts and cured meats...  Fruity   \n2495                Starters. Red meat. Fish. Aperitifs  Floral   \n\n                                            Description  \\\n0     Amarone Costasera Masi hails from the vineyard...   \n1      Biondi Santi's Toscana Rosso Sassoalloro was ...   \n2      The Brunello di Montalcino of Fattoria dei Ba...   \n3     Pinot Noir from Blumenfeld is a typical red wi...   \n4     Nero d'Avola Inessa is produced with 100 Nero ...   \n...                                                 ...   \n2491   The Barolo Paesi Tuoi of the Vite Colte compa...   \n2492  The Franciacorta Brut Satèn by Castello Bonomi...   \n2493  The Quintessenz line includes the excellent pr...   \n2494  Friulano Sirch is produced in Friuli Venezia G...   \n2495  The Etna Rosé Brut Classic Method of the Sosta...   \n\n                                              Full name Vintage Country  \\\n0     Amarone della Valpolicella Classico DOCG Costa...    2018   Italy   \n1      Toscana IGT Sassoalloro 2022 Jacopo Biondi Santi    2022   Italy   \n2     Brunello di Montalcino DOCG 2018 Fattoria dei ...    2018   Italy   \n3     Südtirol - Alto Adige DOC Pinot Nero 2022 Blum...    2022   Italy   \n4                  Sicilia DOC Nero d'Avola 2022 Inessa    2022   Italy   \n...                                                 ...     ...     ...   \n2491             Barolo DOCG Paesi Tuoi 2019 Vite Colte    2019   Italy   \n2492  Franciacorta Brut Satèn DOCG Millesimato 2019 ...    2019   Italy   \n2493  Südtirol - Alto Adige DOC Quintessenz Sauvigno...    2021   Italy   \n2494     Friuli Colli Orientali DOC Friulano 2022 Sirch    2022   Italy   \n2495  Etna DOC Metodo Classico Rosato Brut Sosta Tre...    2020   Italy   \n\n                     Region                                   Grape  Format  \\\n0                    Veneto  Corvina Veronese. Molinara. Rondinella    0.75   \n1                   Tuscany                              Sangiovese    0.75   \n2                   Tuscany                          Sangiovese 100    0.75   \n3               South Tyrol                          Pinot Noir 100    0.75   \n4                    Sicily                        Nero d'Avola 100    0.75   \n...                     ...                                     ...     ...   \n2491               Piedmont                            Nebbiolo 100    0.75   \n2492               Lombardy                          Chardonnay 100    0.75   \n2493            South Tyrol                     Sauvignon Blanc 100    0.75   \n2494  Friuli Venezia Giulia                            Friulano 100    0.75   \n2495                 Sicily                   Nerello Mascalese 100    0.75   \n\n      Alcohol content                                        All_futures  \n0                15.0  aged cheeses. red meat. game fruity italy corv...  \n1                14.0  roasts. grilled red meat. red meat fruity ital...  \n2                14.5  game. roasts. red meat. aged cheeses fruity it...  \n3                13.0  red meat. aged cheeses. game fruity italy pino...  \n4                14.5  red meat. roasts. first courses fruity italy n...  \n...               ...                                                ...  \n2491             14.0  mushrooms. game birds. aged cheeses. stews spi...  \n2492             12.5  aperitifs. fish. risotto floral italy chardonn...  \n2493             13.5  soups. aperitifs. vegetables fruity italy sauv...  \n2494             13.5  aperitifs. raw fish. cold cuts and cured meats...  \n2495             11.5  starters. red meat. fish. aperitifs floral ita...  \n\n[2496 rows x 14 columns]",
      "text/html": "<div>\n<style scoped>\n    .dataframe tbody tr th:only-of-type {\n        vertical-align: middle;\n    }\n\n    .dataframe tbody tr th {\n        vertical-align: top;\n    }\n\n    .dataframe thead th {\n        text-align: right;\n    }\n</style>\n<table border=\"1\" class=\"dataframe\">\n  <thead>\n    <tr style=\"text-align: right;\">\n      <th></th>\n      <th>Vino photo</th>\n      <th>Price</th>\n      <th>Vino type</th>\n      <th>Ideal with</th>\n      <th>Aroma</th>\n      <th>Description</th>\n      <th>Full name</th>\n      <th>Vintage</th>\n      <th>Country</th>\n      <th>Region</th>\n      <th>Grape</th>\n      <th>Format</th>\n      <th>Alcohol content</th>\n      <th>All_futures</th>\n    </tr>\n  </thead>\n  <tbody>\n    <tr>\n      <th>0</th>\n      <td>https://resources.vino.com/data/offertaFileFil...</td>\n      <td>35.6</td>\n      <td>Red</td>\n      <td>Aged cheeses. Red meat. Game</td>\n      <td>Fruity</td>\n      <td>Amarone Costasera Masi hails from the vineyard...</td>\n      <td>Amarone della Valpolicella Classico DOCG Costa...</td>\n      <td>2018</td>\n      <td>Italy</td>\n      <td>Veneto</td>\n      <td>Corvina Veronese. Molinara. Rondinella</td>\n      <td>0.75</td>\n      <td>15.0</td>\n      <td>aged cheeses. red meat. game fruity italy corv...</td>\n    </tr>\n    <tr>\n      <th>1</th>\n      <td>https://resources.vino.com/data/offertaFileFil...</td>\n      <td>17.0</td>\n      <td>Red</td>\n      <td>Roasts. Grilled red meat. Red meat</td>\n      <td>Fruity</td>\n      <td>Biondi Santi's Toscana Rosso Sassoalloro was ...</td>\n      <td>Toscana IGT Sassoalloro 2022 Jacopo Biondi Santi</td>\n      <td>2022</td>\n      <td>Italy</td>\n      <td>Tuscany</td>\n      <td>Sangiovese</td>\n      <td>0.75</td>\n      <td>14.0</td>\n      <td>roasts. grilled red meat. red meat fruity ital...</td>\n    </tr>\n    <tr>\n      <th>2</th>\n      <td>https://resources.vino.com/data/offertaFileFil...</td>\n      <td>30.8</td>\n      <td>Red</td>\n      <td>Game. Roasts. Red meat. Aged cheeses</td>\n      <td>Fruity</td>\n      <td>The Brunello di Montalcino of Fattoria dei Ba...</td>\n      <td>Brunello di Montalcino DOCG 2018 Fattoria dei ...</td>\n      <td>2018</td>\n      <td>Italy</td>\n      <td>Tuscany</td>\n      <td>Sangiovese 100</td>\n      <td>0.75</td>\n      <td>14.5</td>\n      <td>game. roasts. red meat. aged cheeses fruity it...</td>\n    </tr>\n    <tr>\n      <th>3</th>\n      <td>https://resources.vino.com/data/offertaFileFil...</td>\n      <td>13.5</td>\n      <td>Red</td>\n      <td>Red meat. Aged cheeses. Game</td>\n      <td>Fruity</td>\n      <td>Pinot Noir from Blumenfeld is a typical red wi...</td>\n      <td>Südtirol - Alto Adige DOC Pinot Nero 2022 Blum...</td>\n      <td>2022</td>\n      <td>Italy</td>\n      <td>South Tyrol</td>\n      <td>Pinot Noir 100</td>\n      <td>0.75</td>\n      <td>13.0</td>\n      <td>red meat. aged cheeses. game fruity italy pino...</td>\n    </tr>\n    <tr>\n      <th>4</th>\n      <td>https://resources.vino.com/data/offertaFileFil...</td>\n      <td>7.9</td>\n      <td>Red</td>\n      <td>Red meat. Roasts. First courses</td>\n      <td>Fruity</td>\n      <td>Nero d'Avola Inessa is produced with 100 Nero ...</td>\n      <td>Sicilia DOC Nero d'Avola 2022 Inessa</td>\n      <td>2022</td>\n      <td>Italy</td>\n      <td>Sicily</td>\n      <td>Nero d'Avola 100</td>\n      <td>0.75</td>\n      <td>14.5</td>\n      <td>red meat. roasts. first courses fruity italy n...</td>\n    </tr>\n    <tr>\n      <th>...</th>\n      <td>...</td>\n      <td>...</td>\n      <td>...</td>\n      <td>...</td>\n      <td>...</td>\n      <td>...</td>\n      <td>...</td>\n      <td>...</td>\n      <td>...</td>\n      <td>...</td>\n      <td>...</td>\n      <td>...</td>\n      <td>...</td>\n      <td>...</td>\n    </tr>\n    <tr>\n      <th>2491</th>\n      <td>https://resources.vino.com/data/offertaFileFil...</td>\n      <td>28.5</td>\n      <td>Red</td>\n      <td>Mushrooms. Game birds. Aged cheeses. Stews</td>\n      <td>Spicy</td>\n      <td>The Barolo Paesi Tuoi of the Vite Colte compa...</td>\n      <td>Barolo DOCG Paesi Tuoi 2019 Vite Colte</td>\n      <td>2019</td>\n      <td>Italy</td>\n      <td>Piedmont</td>\n      <td>Nebbiolo 100</td>\n      <td>0.75</td>\n      <td>14.0</td>\n      <td>mushrooms. game birds. aged cheeses. stews spi...</td>\n    </tr>\n    <tr>\n      <th>2492</th>\n      <td>https://resources.vino.com/data/offertaFileFil...</td>\n      <td>30.9</td>\n      <td>Sparkling</td>\n      <td>Aperitifs. Fish. Risotto</td>\n      <td>Floral</td>\n      <td>The Franciacorta Brut Satèn by Castello Bonomi...</td>\n      <td>Franciacorta Brut Satèn DOCG Millesimato 2019 ...</td>\n      <td>2019</td>\n      <td>Italy</td>\n      <td>Lombardy</td>\n      <td>Chardonnay 100</td>\n      <td>0.75</td>\n      <td>12.5</td>\n      <td>aperitifs. fish. risotto floral italy chardonn...</td>\n    </tr>\n    <tr>\n      <th>2493</th>\n      <td>https://resources.vino.com/data/offertaFileFil...</td>\n      <td>24.3</td>\n      <td>White</td>\n      <td>Soups. Aperitifs. Vegetables</td>\n      <td>Fruity</td>\n      <td>The Quintessenz line includes the excellent pr...</td>\n      <td>Südtirol - Alto Adige DOC Quintessenz Sauvigno...</td>\n      <td>2021</td>\n      <td>Italy</td>\n      <td>South Tyrol</td>\n      <td>Sauvignon Blanc 100</td>\n      <td>0.75</td>\n      <td>13.5</td>\n      <td>soups. aperitifs. vegetables fruity italy sauv...</td>\n    </tr>\n    <tr>\n      <th>2494</th>\n      <td>https://resources.vino.com/data/offertaFileFil...</td>\n      <td>11.3</td>\n      <td>White</td>\n      <td>Aperitifs. Raw fish. Cold cuts and cured meats...</td>\n      <td>Fruity</td>\n      <td>Friulano Sirch is produced in Friuli Venezia G...</td>\n      <td>Friuli Colli Orientali DOC Friulano 2022 Sirch</td>\n      <td>2022</td>\n      <td>Italy</td>\n      <td>Friuli Venezia Giulia</td>\n      <td>Friulano 100</td>\n      <td>0.75</td>\n      <td>13.5</td>\n      <td>aperitifs. raw fish. cold cuts and cured meats...</td>\n    </tr>\n    <tr>\n      <th>2495</th>\n      <td>https://resources.vino.com/data/offertaFileFil...</td>\n      <td>20.4</td>\n      <td>Sparkling</td>\n      <td>Starters. Red meat. Fish. Aperitifs</td>\n      <td>Floral</td>\n      <td>The Etna Rosé Brut Classic Method of the Sosta...</td>\n      <td>Etna DOC Metodo Classico Rosato Brut Sosta Tre...</td>\n      <td>2020</td>\n      <td>Italy</td>\n      <td>Sicily</td>\n      <td>Nerello Mascalese 100</td>\n      <td>0.75</td>\n      <td>11.5</td>\n      <td>starters. red meat. fish. aperitifs floral ita...</td>\n    </tr>\n  </tbody>\n</table>\n<p>2496 rows × 14 columns</p>\n</div>"
     },
     "execution_count": 7,
     "metadata": {},
     "output_type": "execute_result"
    }
   ],
   "source": [
    "df"
   ]
  },
  {
   "cell_type": "code",
   "execution_count": 8,
   "metadata": {
    "collapsed": false,
    "ExecuteTime": {
     "end_time": "2024-03-01T12:19:56.668085Z",
     "start_time": "2024-03-01T12:19:56.631672Z"
    }
   },
   "outputs": [],
   "source": [
    "tfidf_model = TfidfVectorizer()\n",
    "tfidf_matrix = tfidf_model.fit_transform(df['All_futures'])"
   ]
  },
  {
   "cell_type": "code",
   "execution_count": 9,
   "metadata": {
    "collapsed": false,
    "ExecuteTime": {
     "end_time": "2024-03-01T12:19:57.439049Z",
     "start_time": "2024-03-01T12:19:57.266926Z"
    }
   },
   "outputs": [
    {
     "data": {
      "text/plain": "array([[1.        , 0.31728135, 0.42549593, ..., 0.03511743, 0.04651779,\n        0.09368691],\n       [0.31728135, 1.        , 0.74867528, ..., 0.04588573, 0.08873675,\n        0.19157045],\n       [0.42549593, 0.74867528, 1.        , ..., 0.09530091, 0.09990645,\n        0.17539311],\n       ...,\n       [0.03511743, 0.04588573, 0.09530091, ..., 1.        , 0.2066244 ,\n        0.14057424],\n       [0.04651779, 0.08873675, 0.09990645, ..., 0.2066244 , 1.        ,\n        0.22273233],\n       [0.09368691, 0.19157045, 0.17539311, ..., 0.14057424, 0.22273233,\n        1.        ]])"
     },
     "execution_count": 9,
     "metadata": {},
     "output_type": "execute_result"
    }
   ],
   "source": [
    "cosine_sim = cosine_similarity(tfidf_matrix, tfidf_matrix)\n",
    "cosine_sim"
   ]
  },
  {
   "cell_type": "code",
   "execution_count": 10,
   "metadata": {
    "collapsed": false,
    "ExecuteTime": {
     "end_time": "2024-03-01T12:19:58.056631Z",
     "start_time": "2024-03-01T12:19:58.052918Z"
    }
   },
   "outputs": [],
   "source": [
    "all = list(enumerate(cosine_sim[444]))\n",
    "all_sorted = sorted(all, key=lambda x: x[1], reverse=True)"
   ]
  },
  {
   "cell_type": "code",
   "execution_count": 11,
   "metadata": {
    "collapsed": false,
    "ExecuteTime": {
     "end_time": "2024-03-01T12:19:59.195059Z",
     "start_time": "2024-03-01T12:19:59.190479Z"
    }
   },
   "outputs": [],
   "source": [
    "def get_recommendations(input_data, cosine_sim=cosine_sim, n=5):\n",
    "    '''gives recommendation according input data'''\n",
    "    input_text = \" \".join(input_data.values())\n",
    "    input_vector = tfidf_model.transform([input_text])\n",
    "    sim_vector = list(cosine_similarity(input_vector, tfidf_matrix)[0])\n",
    "\n",
    "    sorted_vector = sorted([[i, sim_vector[i]] for i in range(len(sim_vector))], key=lambda x: x[1], reverse=True)\n",
    "    top_idxs = [sorted_vector[i][0] for i in range(n)]\n",
    "    df3 = df.iloc[top_idxs][['Vino type', 'Aroma', 'Ideal with', 'Country', 'Grape', 'Vino photo']]\n",
    "    df3['Similarity %'] = [int(i[1] * 100) for i in sorted_vector[: n]]\n",
    "    df3.index = range(1, len(df3) + 1)\n",
    "    df3.index = df3.index.rename('id')\n",
    "    return df3[df3['Similarity %'] >= 60]"
   ]
  },
  {
   "cell_type": "code",
   "execution_count": 13,
   "metadata": {
    "collapsed": false,
    "ExecuteTime": {
     "end_time": "2024-03-01T12:21:17.579137Z",
     "start_time": "2024-03-01T12:21:02.410658Z"
    }
   },
   "outputs": [
    {
     "name": "stdout",
     "output_type": "stream",
     "text": [
      "Hello and welcome to our online wine market. \n",
      "What kind of wine are you searching for? \n",
      "Please answer these questions.\n",
      "Here recommended wines that you searched for:\n"
     ]
    },
    {
     "data": {
      "text/plain": "   Vino type   Aroma                          Ideal with Country  \\\nid                                                                 \n1        Red  Fruity                            Red meat   Italy   \n2        Red  Fruity                            Red meat   Italy   \n3        Red  Fruity                      Game. Red meat   Italy   \n4        Red  Fruity                      Red meat. Game   Italy   \n5        Red  Fruity  Roasts. Grilled red meat. Red meat   Italy   \n\n             Grape  Similarity %  \nid                                \n1   Sangiovese 100            95  \n2   Sangiovese 100            95  \n3   Sangiovese 100            87  \n4   Sangiovese 100            87  \n5       Sangiovese            85  ",
      "text/html": "<div>\n<style scoped>\n    .dataframe tbody tr th:only-of-type {\n        vertical-align: middle;\n    }\n\n    .dataframe tbody tr th {\n        vertical-align: top;\n    }\n\n    .dataframe thead th {\n        text-align: right;\n    }\n</style>\n<table border=\"1\" class=\"dataframe\">\n  <thead>\n    <tr style=\"text-align: right;\">\n      <th></th>\n      <th>Vino type</th>\n      <th>Aroma</th>\n      <th>Ideal with</th>\n      <th>Country</th>\n      <th>Grape</th>\n      <th>Similarity %</th>\n    </tr>\n    <tr>\n      <th>id</th>\n      <th></th>\n      <th></th>\n      <th></th>\n      <th></th>\n      <th></th>\n      <th></th>\n    </tr>\n  </thead>\n  <tbody>\n    <tr>\n      <th>1</th>\n      <td>Red</td>\n      <td>Fruity</td>\n      <td>Red meat</td>\n      <td>Italy</td>\n      <td>Sangiovese 100</td>\n      <td>95</td>\n    </tr>\n    <tr>\n      <th>2</th>\n      <td>Red</td>\n      <td>Fruity</td>\n      <td>Red meat</td>\n      <td>Italy</td>\n      <td>Sangiovese 100</td>\n      <td>95</td>\n    </tr>\n    <tr>\n      <th>3</th>\n      <td>Red</td>\n      <td>Fruity</td>\n      <td>Game. Red meat</td>\n      <td>Italy</td>\n      <td>Sangiovese 100</td>\n      <td>87</td>\n    </tr>\n    <tr>\n      <th>4</th>\n      <td>Red</td>\n      <td>Fruity</td>\n      <td>Red meat. Game</td>\n      <td>Italy</td>\n      <td>Sangiovese 100</td>\n      <td>87</td>\n    </tr>\n    <tr>\n      <th>5</th>\n      <td>Red</td>\n      <td>Fruity</td>\n      <td>Roasts. Grilled red meat. Red meat</td>\n      <td>Italy</td>\n      <td>Sangiovese</td>\n      <td>85</td>\n    </tr>\n  </tbody>\n</table>\n</div>"
     },
     "execution_count": 13,
     "metadata": {},
     "output_type": "execute_result"
    }
   ],
   "source": [
    "def offer():\n",
    "    custom_input = dict()\n",
    "    print('Hello and welcome to our online wine market. \\nWhat kind of wine are you searching for? \\nPlease answer these questions.')\n",
    "    custom_input['Aroma'] = input('How to have a wine aroma (Fruity)?\\n').lower()\n",
    "    custom_input['Ideal with'] = input('What food do you want to eat wine with (Red meat, Aged cheeses)?\\n').lower()\n",
    "    custom_input['Country'] = input('Which country\\'s wine do you want (Italy)?: ').lower()\n",
    "    custom_input['Grape'] = input('What type of grapes do you want wine made from (Sangiovese)?\\n').lower()\n",
    "    custom_input['Vino type'] = input('hat type of wine you want (red)?')\n",
    "    recommendations = get_recommendations(custom_input)\n",
    "    if type(recommendations) != str and recommendations.shape[0] > 0:\n",
    "        print(\"Here recommended wines that you searched for:\")\n",
    "        return recommendations\n",
    "    else:\n",
    "        return 'Sorry, wine that you have searched, not found. Please try again.'\n",
    "recommendation = offer()\n",
    "recommendation.drop('Vino photo', axis=1)"
   ]
  },
  {
   "cell_type": "code",
   "outputs": [],
   "source": [
    "def display_wine(index, df=df):\n",
    "    photo_link = df.iloc[index]['Vino photo']\n",
    "    description = df.iloc[index]['Description']\n",
    "    price = f\"{df.iloc[index]['Price']}€\"\n",
    "    name = df.iloc[index]['Full name']\n",
    "    \n",
    "    response = requests.get(photo_link)\n",
    "    img = Image.open(BytesIO(response.content))\n",
    "\n",
    "    fig, ax = plt.subplots(2, 1, figsize=(8, 10))\n",
    "\n",
    "    ax[0].imshow(img)\n",
    "    ax[0].axis('off')\n",
    "\n",
    "    ax[1].text(0.5, 0.4, f\"Name: {name}\\nPrice: {price}\\nDescription:\\n{description}\", \n",
    "               color='black', fontsize=12, ha='center', va='center', wrap=True, multialignment='left')\n",
    "    ax[1].axis('off')\n",
    "    \n",
    "    return plt.show()\n"
   ],
   "metadata": {
    "collapsed": false,
    "ExecuteTime": {
     "end_time": "2024-03-01T12:22:48.659976Z",
     "start_time": "2024-03-01T12:22:48.655520Z"
    }
   },
   "execution_count": 18
  },
  {
   "cell_type": "code",
   "execution_count": 19,
   "metadata": {
    "collapsed": false,
    "ExecuteTime": {
     "end_time": "2024-03-01T12:22:52.993711Z",
     "start_time": "2024-03-01T12:22:49.048694Z"
    }
   },
   "outputs": [
    {
     "data": {
      "text/plain": "<Figure size 800x1000 with 2 Axes>",
      "image/png": "[encoded data removed]"
     },
     "metadata": {},
     "output_type": "display_data"
    }
   ],
   "source": [
    "def liked_wine(df):\n",
    "    selected_wine_idx = input('Please choose the wine id that you liked: ')\n",
    "    try:\n",
    "        selected_wine_idx = int(selected_wine_idx)\n",
    "        if selected_wine_idx in df.index:\n",
    "            display_wine(selected_wine_idx)\n",
    "        else:\n",
    "         print(\"Wrong Input!!! Try to run again.\")\n",
    "    except:\n",
    "        print(\"Wrong Input!!! Your input should be a number. Try to run again.\")\n",
    "liked_wine(recommendation)"
   ]
  }
 ],
 "metadata": {
  "kernelspec": {
   "display_name": "Python 3 (ipykernel)",
   "language": "python",
   "name": "python3"
  },
  "language_info": {
   "codemirror_mode": {
    "name": "ipython",
    "version": 3
   },
   "file_extension": ".py",
   "mimetype": "text/x-python",
   "name": "python",
   "nbconvert_exporter": "python",
   "pygments_lexer": "ipython3",
   "version": "3.10.4"
  },
  "vscode": {
   "interpreter": {
    "hash": "aee8b7b246df8f9039afb4144a1f6fd8d2ca17a180786b69acc140d282b71a49"
   }
  }
 },
 "nbformat": 4,
 "nbformat_minor": 4
}
